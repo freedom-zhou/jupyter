{
 "cells": [
  {
   "cell_type": "markdown",
   "metadata": {},
   "source": [
    "# [re] 正则表达式"
   ]
  },
  {
   "cell_type": "markdown",
   "metadata": {},
   "source": [
    "## search()  返回正则表达式匹配到的第一个对象"
   ]
  },
  {
   "cell_type": "raw",
   "metadata": {},
   "source": [
    "import re\n",
    "\n",
    "origin = '01zrd_qwerp zrd0 oiuzxmjzrdjzrd012zrd!@#)<<>,.'\n",
    "\n",
    "patt = re.compile('zrd\\d+')\n",
    "print(type(patt))\n",
    "print(patt, end='\\n\\n')\n",
    "\n",
    "# pattern.search\n",
    "match = patt.search(origin)\n",
    "print(type(match))\n",
    "print(match, end='\\n\\n')\n",
    "\n",
    "# re.search\n",
    "match = re.search('zrd\\d+', origin)\n",
    "print(type(match))\n",
    "print(match, end='\\n\\n')"
   ]
  },
  {
   "cell_type": "code",
   "execution_count": 45,
   "metadata": {},
   "outputs": [
    {
     "name": "stdout",
     "output_type": "stream",
     "text": [
      "['findall', 'finditer', 'flags', 'fullmatch', 'groupindex', 'groups', 'match', 'pattern', 'scanner', 'search', 'split', 'sub', 'subn']\n",
      "['A', 'ASCII', 'DEBUG', 'DOTALL', 'I', 'IGNORECASE', 'L', 'LOCALE', 'M', 'MULTILINE', 'Match', 'Pattern', 'RegexFlag', 'S', 'Scanner', 'T', 'TEMPLATE', 'U', 'UNICODE', 'VERBOSE', 'X', 'compile', 'copyreg', 'enum', 'error', 'escape', 'findall', 'finditer', 'fullmatch', 'functools', 'match', 'purge', 'search', 'split', 'sub', 'subn', 'template']\n"
     ]
    }
   ],
   "source": [
    "print([i for i in dir(patt) if '_' not in i])\n",
    "print([i for i in dir(re) if '_' not in i])"
   ]
  },
  {
   "cell_type": "markdown",
   "metadata": {},
   "source": [
    "### Match对象"
   ]
  },
  {
   "cell_type": "markdown",
   "metadata": {},
   "source": [
    "#### group() & groups()"
   ]
  },
  {
   "cell_type": "code",
   "execution_count": 39,
   "metadata": {},
   "outputs": [
    {
     "name": "stdout",
     "output_type": "stream",
     "text": [
      "match.group()\n",
      "zrd01 oiuzxmjzrdjzrd02\n",
      "\n",
      "match.group(0)\n",
      "zrd01 oiuzxmjzrdjzrd02\n",
      "\n",
      "match.group(1)\n",
      "zrd01\n",
      "\n",
      "match.group(2)\n",
      "zrd02\n",
      "\n",
      "match.groups()\n",
      "('zrd01', 'zrd02')\n",
      "\n"
     ]
    }
   ],
   "source": [
    "import re\n",
    "\n",
    "origin = r'01zrd_qwerp zrd01 oiuzxmjzrdjzrd02q1zrd!@#<<>,.'\n",
    "\n",
    "match = re.search('(zrd\\d{2}).*(zrd\\d{2})', origin)\n",
    "\n",
    "# group() 返回查到的匹配文本\n",
    "print('match.group()')\n",
    "x = match.group()\n",
    "print(x, end='\\n\\n')\n",
    "\n",
    "# group(i) 返回指定分组的匹配文本\n",
    "print('match.group(0)') \n",
    "x = match.group(0)\n",
    "print(x, end='\\n\\n')\n",
    "print('match.group(1)') \n",
    "x = match.group(1)\n",
    "print(x, end='\\n\\n')\n",
    "print('match.group(2)') \n",
    "x = match.group(2)\n",
    "print(x, end='\\n\\n')\n",
    "\n",
    "# groups() 返回所有分组的匹配文本\n",
    "print('match.groups()')\n",
    "x = match.groups()\n",
    "print(x, end='\\n\\n')"
   ]
  },
  {
   "cell_type": "markdown",
   "metadata": {},
   "source": [
    "#### 其它：.string, .span(), .re"
   ]
  },
  {
   "cell_type": "code",
   "execution_count": 37,
   "metadata": {},
   "outputs": [
    {
     "name": "stdout",
     "output_type": "stream",
     "text": [
      "<class 're.Match'>\n",
      "<re.Match object; span=(12, 16), match='zrd0'>\n",
      "\n",
      "match.span()\n",
      "<class 'tuple'>\n",
      "(12, 16)\n",
      "\n",
      "match.string\n",
      "<class 'str'>\n",
      "01zrd_qwerp zrd0 oiuzxmjzrdjzrd012zrd!@#)<<>,.\n",
      "\n",
      "match.re\n",
      "<class 're.Pattern'>\n",
      "re.compile('zrd\\\\d+')\n",
      "\n"
     ]
    }
   ],
   "source": [
    "import re\n",
    "\n",
    "origin = '01zrd_qwerp zrd0 oiuzxmjzrdjzrd012zrd!@#)<<>,.'\n",
    "\n",
    "match = re.search('zrd\\d+', origin)\n",
    "print(type(match))\n",
    "print(match, end='\\n\\n')\n",
    "\n",
    "print('match.span()')\n",
    "x = match.span()\n",
    "print(type(x))\n",
    "print(x, end='\\n\\n')\n",
    "\n",
    "print('match.string')\n",
    "x = match.string\n",
    "print(type(x))\n",
    "print(x, end='\\n\\n')\n",
    "\n",
    "print('match.re')\n",
    "x = match.re\n",
    "print(type(x))\n",
    "print(x, end='\\n\\n')"
   ]
  },
  {
   "cell_type": "code",
   "execution_count": 19,
   "metadata": {
    "collapsed": true
   },
   "outputs": [
    {
     "name": "stdout",
     "output_type": "stream",
     "text": [
      "Help on built-in function groups:\n",
      "\n",
      "groups(default=None) method of re.Match instance\n",
      "    Return a tuple containing all the subgroups of the match, from 1.\n",
      "    \n",
      "    default\n",
      "      Is used for groups that did not participate in the match.\n",
      "\n"
     ]
    }
   ],
   "source": [
    "help(match.groups)"
   ]
  },
  {
   "cell_type": "markdown",
   "metadata": {},
   "source": [
    "### 贪婪匹配与非贪婪匹配"
   ]
  },
  {
   "cell_type": "code",
   "execution_count": 36,
   "metadata": {},
   "outputs": [
    {
     "name": "stdout",
     "output_type": "stream",
     "text": [
      "<a>bc>\n",
      "<a>\n"
     ]
    }
   ],
   "source": [
    "# 贪婪匹配\n",
    "m = re.search('<.*>','<a>bc>')\n",
    "print(m.group())\n",
    "\n",
    "# 非贪婪匹配\n",
    "m = re.search('<.*?>','<a>bc>')\n",
    "print(m.group())"
   ]
  },
  {
   "cell_type": "markdown",
   "metadata": {},
   "source": [
    "## match() 和search类似，但只匹配从起始位置开始的字符串"
   ]
  },
  {
   "cell_type": "code",
   "execution_count": 25,
   "metadata": {},
   "outputs": [
    {
     "name": "stdout",
     "output_type": "stream",
     "text": [
      "<class 'NoneType'>\n",
      "None\n",
      "\n"
     ]
    }
   ],
   "source": [
    "import re\n",
    "\n",
    "origin = '01zrd_qwerp 0zrd0 oiuzxmjzrdjzrd012zrd!@#)<<>,.'\n",
    "regex = 'zrd'\n",
    "\n",
    "# re.match\n",
    "match = re.match(regex, origin)\n",
    "print(type(match))\n",
    "print(match, end='\\n\\n')"
   ]
  },
  {
   "cell_type": "markdown",
   "metadata": {},
   "source": [
    "## findall() 返回匹配的对象列表"
   ]
  },
  {
   "cell_type": "code",
   "execution_count": 2,
   "metadata": {},
   "outputs": [
    {
     "name": "stdout",
     "output_type": "stream",
     "text": [
      "<class 'list'>\n",
      "[('a:', '01'), ('b:', '02')]\n",
      "['a:zrd01', 'b:zrd02']\n",
      "\n"
     ]
    }
   ],
   "source": [
    "import re\n",
    "\n",
    "origin = '01zrd_qwerp a:zrd01 oiuzxmjzrdjb:zrd02qzrd!@#)<<>,.'\n",
    "# 有分组时，仅返回分组中的内容\n",
    "regex = r'(\\w:)zrd(\\d+)'\n",
    "# 无分组时，返回所有匹配到的内容\n",
    "regex2 = r'\\w:zrd\\d+'\n",
    "\n",
    "# re.match\n",
    "match_list = re.findall(regex, origin)\n",
    "match_list2 = re.findall(regex2, origin)\n",
    "print(type(match_list))\n",
    "print(match_list)\n",
    "print(match_list2, end='\\n\\n')"
   ]
  },
  {
   "cell_type": "markdown",
   "metadata": {},
   "source": [
    "## sub() 替换字符串"
   ]
  },
  {
   "cell_type": "code",
   "execution_count": 1,
   "metadata": {},
   "outputs": [
    {
     "name": "stdout",
     "output_type": "stream",
     "text": [
      "<class 'str'>\n",
      "01zrd_qwerp 0(zrd num) oiuzxmjzrdj(zrd num)zrd!@#)<<>,.\n",
      "\n"
     ]
    }
   ],
   "source": [
    "import re\n",
    "\n",
    "origin = '01zrd_qwerp 0zrd0 oiuzxmjzrdjzrd012zrd!@#)<<>,.'\n",
    "regex = 'zrd\\d+'\n",
    "\n",
    "# re.match\n",
    "str_sub = re.sub(regex, '(zrd num)', origin)\n",
    "print(type(str_sub))\n",
    "print(str_sub, end='\\n\\n')"
   ]
  },
  {
   "cell_type": "markdown",
   "metadata": {},
   "source": [
    "## split() 分割字符串"
   ]
  },
  {
   "cell_type": "code",
   "execution_count": 6,
   "metadata": {},
   "outputs": [
    {
     "name": "stdout",
     "output_type": "stream",
     "text": [
      "['Name', 'Zhang', 'San']\n"
     ]
    }
   ],
   "source": [
    "import re\n",
    "\n",
    "s = 'Name:Zhang San'\n",
    "reg = r':| ' # 用: 或空格分割\n",
    "print(re.split(reg, s))"
   ]
  }
 ],
 "metadata": {
  "kernelspec": {
   "display_name": "Python 3",
   "language": "python",
   "name": "python3"
  },
  "language_info": {
   "codemirror_mode": {
    "name": "ipython",
    "version": 3
   },
   "file_extension": ".py",
   "mimetype": "text/x-python",
   "name": "python",
   "nbconvert_exporter": "python",
   "pygments_lexer": "ipython3",
   "version": "3.7.9"
  },
  "toc": {
   "base_numbering": 1,
   "nav_menu": {},
   "number_sections": true,
   "sideBar": true,
   "skip_h1_title": false,
   "title_cell": "Table of Contents",
   "title_sidebar": "Contents",
   "toc_cell": false,
   "toc_position": {
    "height": "calc(100% - 180px)",
    "left": "10px",
    "top": "150px",
    "width": "307.513px"
   },
   "toc_section_display": true,
   "toc_window_display": true
  }
 },
 "nbformat": 4,
 "nbformat_minor": 4
}
