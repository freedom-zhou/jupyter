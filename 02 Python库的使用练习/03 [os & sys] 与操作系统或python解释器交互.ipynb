{
 "cells": [
  {
   "cell_type": "markdown",
   "metadata": {},
   "source": [
    "# os\n",
    "os模块负责程序与操作系统的交互，提供了访问操作系统底层的接口"
   ]
  },
  {
   "cell_type": "code",
   "execution_count": 16,
   "metadata": {},
   "outputs": [],
   "source": [
    "import os\n",
    "basepath = 'D:/Workspace/Python/JupyterHome/02 各种Python库的使用练习'"
   ]
  },
  {
   "cell_type": "markdown",
   "metadata": {},
   "source": [
    "## os.path"
   ]
  },
  {
   "cell_type": "markdown",
   "metadata": {},
   "source": [
    "### 是否存在某文件或目录 os.path.exists(path) "
   ]
  },
  {
   "cell_type": "code",
   "execution_count": 22,
   "metadata": {},
   "outputs": [
    {
     "data": {
      "text/plain": [
       "True"
      ]
     },
     "execution_count": 22,
     "metadata": {},
     "output_type": "execute_result"
    }
   ],
   "source": [
    "os.path.exists(basepath)"
   ]
  },
  {
   "cell_type": "code",
   "execution_count": 35,
   "metadata": {},
   "outputs": [
    {
     "data": {
      "text/plain": [
       "True"
      ]
     },
     "execution_count": 35,
     "metadata": {},
     "output_type": "execute_result"
    }
   ],
   "source": [
    "os.path.exists(basepath+'/04 [re] 正则表达式.ipynb')"
   ]
  },
  {
   "cell_type": "markdown",
   "metadata": {},
   "source": [
    "### 是否为目录 os.path.isdir(path)"
   ]
  },
  {
   "cell_type": "code",
   "execution_count": 45,
   "metadata": {},
   "outputs": [
    {
     "data": {
      "text/plain": [
       "True"
      ]
     },
     "execution_count": 45,
     "metadata": {},
     "output_type": "execute_result"
    }
   ],
   "source": [
    "os.path.isdir(basepath)"
   ]
  },
  {
   "cell_type": "markdown",
   "metadata": {},
   "source": [
    "### 是否为文件 os.path.isfile(path)"
   ]
  },
  {
   "cell_type": "code",
   "execution_count": 47,
   "metadata": {},
   "outputs": [
    {
     "data": {
      "text/plain": [
       "True"
      ]
     },
     "execution_count": 47,
     "metadata": {},
     "output_type": "execute_result"
    }
   ],
   "source": [
    "os.path.isfile(basepath+'/04 [re] 正则表达式.ipynb')"
   ]
  },
  {
   "cell_type": "markdown",
   "metadata": {},
   "source": [
    "### 是否为绝对路径 os.path.isabs(path)"
   ]
  },
  {
   "cell_type": "code",
   "execution_count": 48,
   "metadata": {},
   "outputs": [
    {
     "data": {
      "text/plain": [
       "True"
      ]
     },
     "execution_count": 48,
     "metadata": {},
     "output_type": "execute_result"
    }
   ],
   "source": [
    "os.path.isabs(basepath)"
   ]
  },
  {
   "cell_type": "code",
   "execution_count": 49,
   "metadata": {},
   "outputs": [
    {
     "data": {
      "text/plain": [
       "False"
      ]
     },
     "execution_count": 49,
     "metadata": {},
     "output_type": "execute_result"
    }
   ],
   "source": [
    "os.path.isabs('./')"
   ]
  },
  {
   "cell_type": "markdown",
   "metadata": {},
   "source": [
    "### 获取指定文件的大小 os.path.getsize(path)\n",
    "参数传目录也不会报错，但得到的结果和预期不一致"
   ]
  },
  {
   "cell_type": "code",
   "execution_count": 53,
   "metadata": {},
   "outputs": [
    {
     "name": "stdout",
     "output_type": "stream",
     "text": [
      "9243\n"
     ]
    }
   ],
   "source": [
    "p = basepath+'/04 [re] 正则表达式.ipynb'\n",
    "if os.path.isfile(p):\n",
    "    print(os.path.getsize(p))"
   ]
  },
  {
   "cell_type": "markdown",
   "metadata": {},
   "source": [
    "### 返回绝对路径 os.path.abspath(path)"
   ]
  },
  {
   "cell_type": "code",
   "execution_count": 57,
   "metadata": {},
   "outputs": [
    {
     "data": {
      "text/plain": [
       "'D:\\\\Workspace\\\\Python\\\\JupyterHome\\\\02 各种Python库的使用练习\\\\test'"
      ]
     },
     "execution_count": 57,
     "metadata": {},
     "output_type": "execute_result"
    }
   ],
   "source": [
    "os.path.abspath('./')"
   ]
  },
  {
   "cell_type": "markdown",
   "metadata": {},
   "source": [
    "### 返回目录路径，去掉文件名 os.path.dirname(path)"
   ]
  },
  {
   "cell_type": "code",
   "execution_count": 58,
   "metadata": {},
   "outputs": [
    {
     "data": {
      "text/plain": [
       "'D:/Workspace/Python/JupyterHome/02 各种Python库的使用练习/test'"
      ]
     },
     "execution_count": 58,
     "metadata": {},
     "output_type": "execute_result"
    }
   ],
   "source": [
    "os.path.dirname(basepath+'/test/file1')"
   ]
  },
  {
   "cell_type": "markdown",
   "metadata": {},
   "source": [
    "### 返回文件名，去掉目录路径 os.path.basename(path)"
   ]
  },
  {
   "cell_type": "code",
   "execution_count": 61,
   "metadata": {},
   "outputs": [
    {
     "data": {
      "text/plain": [
       "'file1'"
      ]
     },
     "execution_count": 61,
     "metadata": {},
     "output_type": "execute_result"
    }
   ],
   "source": [
    "os.path.basename(basepath+'/test/file1')"
   ]
  },
  {
   "cell_type": "markdown",
   "metadata": {},
   "source": [
    "### 返回(dirname, basename)元组 os.path.split(path)"
   ]
  },
  {
   "cell_type": "code",
   "execution_count": 66,
   "metadata": {},
   "outputs": [
    {
     "data": {
      "text/plain": [
       "('D:/Workspace/Python/JupyterHome/02 各种Python库的使用练习/test', 'test.txt')"
      ]
     },
     "execution_count": 66,
     "metadata": {},
     "output_type": "execute_result"
    }
   ],
   "source": [
    "os.path.split(basepath+'/test/test.txt')"
   ]
  },
  {
   "cell_type": "markdown",
   "metadata": {},
   "source": [
    "### 返回(filename, extension)元组 os.path.splitext(path)"
   ]
  },
  {
   "cell_type": "code",
   "execution_count": 65,
   "metadata": {},
   "outputs": [
    {
     "data": {
      "text/plain": [
       "('D:/Workspace/Python/JupyterHome/02 各种Python库的使用练习/test/test', '.txt')"
      ]
     },
     "execution_count": 65,
     "metadata": {},
     "output_type": "execute_result"
    }
   ],
   "source": [
    "os.path.splitext(basepath+'/test/test.txt')"
   ]
  },
  {
   "cell_type": "markdown",
   "metadata": {},
   "source": [
    "### 获取指定文件的访问/创建/修改时间 (返回时间戳 float型)"
   ]
  },
  {
   "cell_type": "code",
   "execution_count": 77,
   "metadata": {},
   "outputs": [
    {
     "name": "stdout",
     "output_type": "stream",
     "text": [
      "2020/10/15 23:42:45\n",
      "2020/10/15 23:26:39\n",
      "2020/10/15 23:42:45\n"
     ]
    }
   ],
   "source": [
    "import time\n",
    "filepath = basepath+'/test/test.txt'\n",
    "\n",
    "atime = os.path.getatime(filepath)\n",
    "ctime = os.path.getctime(filepath)\n",
    "mtime = os.path.getmtime(filepath)\n",
    "\n",
    "fmt = \"%Y/%m/%d %H:%M:%S\"\n",
    "print(time.strftime(fmt, time.localtime(atime)))\n",
    "print(time.strftime(fmt, time.localtime(ctime)))\n",
    "print(time.strftime(fmt, time.localtime(mtime)))"
   ]
  },
  {
   "cell_type": "markdown",
   "metadata": {},
   "source": [
    "### 将各个部分合成为一个路径 os.path.join(path1[, path2[, ...]]) "
   ]
  },
  {
   "cell_type": "code",
   "execution_count": 78,
   "metadata": {},
   "outputs": [
    {
     "data": {
      "text/plain": [
       "'D:/Workspace/Python/JupyterHome/02 各种Python库的使用练习\\\\test\\\\test.txt'"
      ]
     },
     "execution_count": 78,
     "metadata": {},
     "output_type": "execute_result"
    }
   ],
   "source": [
    "os.path.join(basepath,'test','test.txt')"
   ]
  },
  {
   "cell_type": "markdown",
   "metadata": {},
   "source": [
    "## 执行系统命令 os.system(cmd) \n",
    "每一条system函数执行时，会创建一个子进程在系统上执行命令行，子进程的执行结果无法影响主进程；"
   ]
  },
  {
   "cell_type": "code",
   "execution_count": 3,
   "metadata": {},
   "outputs": [
    {
     "data": {
      "text/plain": [
       "0"
      ]
     },
     "execution_count": 3,
     "metadata": {},
     "output_type": "execute_result"
    }
   ],
   "source": [
    "import os\n",
    "\n",
    "# 一次执行一条命令\n",
    "os.system('dir')\n",
    "\n",
    "# 同时执行多条命令\n"
   ]
  },
  {
   "cell_type": "markdown",
   "metadata": {},
   "source": [
    "## 获取当前工作目录 os.getcwd()"
   ]
  },
  {
   "cell_type": "code",
   "execution_count": 4,
   "metadata": {},
   "outputs": [
    {
     "data": {
      "text/plain": [
       "'D:\\\\Workspace\\\\Python\\\\JupyterHome\\\\02 各种Python库的使用练习'"
      ]
     },
     "execution_count": 4,
     "metadata": {},
     "output_type": "execute_result"
    }
   ],
   "source": [
    "os.getcwd()"
   ]
  },
  {
   "cell_type": "markdown",
   "metadata": {},
   "source": [
    "## 列出指定目录的内容os.listdir(path) "
   ]
  },
  {
   "cell_type": "code",
   "execution_count": 5,
   "metadata": {},
   "outputs": [
    {
     "data": {
      "text/plain": [
       "['.ipynb_checkpoints',\n",
       " '01 [math & random] 数学运算 随机数.ipynb',\n",
       " '02 [datetime & time & calendar] 日期、时间与日历.ipynb',\n",
       " '03 [os & sys] 与操作系统或python解释器交互.ipynb',\n",
       " '04 [re] 正则表达式.ipynb',\n",
       " '05 [socket] 网络编程.ipynb',\n",
       " '06 [numpy] 线性代数_矩阵运算.ipynb',\n",
       " '07 [Scipy] 基于Numpy的科学计算库.ipynb',\n",
       " '08 [pandas] 数据处理_“瑞士军刀”.ipynb',\n",
       " '09 [matplotlib] 数据可视化_绘图库.ipynb',\n",
       " '10 [Seaborn] 数据可视化.ipynb',\n",
       " '11 [PIL] 图像处理库.ipynb',\n",
       " '12 [urllib & requests] 爬虫.ipynb',\n",
       " '13 [BeautifulSoup4] 将html、xml等文档转化成可操作的树形结构.ipynb',\n",
       " '14 [xlwt & xlrd & xlsxwriter & xlwings] Excel读写库.ipynb',\n",
       " '15 [sqlite3] 操作sqlite数据库.ipynb',\n",
       " '16 [mxnet] 深度学习库.ipynb',\n",
       " 'data',\n",
       " 'img']"
      ]
     },
     "execution_count": 5,
     "metadata": {},
     "output_type": "execute_result"
    }
   ],
   "source": [
    "os.listdir('.')"
   ]
  },
  {
   "cell_type": "markdown",
   "metadata": {},
   "source": [
    "## 改变(当前工作)目录 os.chdir(path)"
   ]
  },
  {
   "cell_type": "code",
   "execution_count": 80,
   "metadata": {},
   "outputs": [
    {
     "name": "stdout",
     "output_type": "stream",
     "text": [
      "D:\\Workspace\\Python\\JupyterHome\\02 各种Python库的使用练习\\test\n",
      "D:\\Workspace\\Python\\JupyterHome\\02 各种Python库的使用练习\\test\n"
     ]
    }
   ],
   "source": [
    "print(os.getcwd())\n",
    "os.chdir(basepath+'/test')\n",
    "print(os.getcwd())"
   ]
  },
  {
   "cell_type": "markdown",
   "metadata": {},
   "source": [
    "## 创建目录/多层目录 os.mkdir(path)"
   ]
  },
  {
   "cell_type": "code",
   "execution_count": 89,
   "metadata": {},
   "outputs": [
    {
     "name": "stdout",
     "output_type": "stream",
     "text": [
      "['file1', 'file2', 'test.txt', 'xxx']\n",
      "['file1', 'file2', 'test.txt', 'xxx']\n"
     ]
    }
   ],
   "source": [
    "print(os.listdir())\n",
    "os.mkdir('./xxx/a/c/d')\n",
    "print(os.listdir())"
   ]
  },
  {
   "cell_type": "markdown",
   "metadata": {},
   "source": [
    "## 改变目录权限 os.chmod(path, flag)\n",
    "\n",
    "* path -- 文件名路径或目录路径。 \n",
    "\n",
    "* flags -- 可用以下选项按位或操作生成， 目录的读权限表示可以获取目录里文件名列表， ，执行权限表示可以把工作目录切换到此目录 ，删除添加目录里的文件必须同时有写和执行权限 ，文件权限以用户id->组id->其它顺序检验,最先匹配的允许或禁止权限被应用。 \n",
    "    * stat.S_IXOTH: 其他用户有执行权0o001\n",
    "    * stat.S_IWOTH: 其他用户有写权限0o002\n",
    "    * stat.S_IROTH: 其他用户有读权限0o004\n",
    "    * stat.S_IRWXO: 其他用户有全部权限(权限掩码)0o007\n",
    "    * stat.S_IXGRP: 组用户有执行权限0o010\n",
    "    * stat.S_IWGRP: 组用户有写权限0o020\n",
    "    * stat.S_IRGRP: 组用户有读权限0o040\n",
    "    * stat.S_IRWXG: 组用户有全部权限(权限掩码)0o070\n",
    "    * stat.S_IXUSR: 拥有者具有执行权限0o100\n",
    "    * stat.S_IWUSR: 拥有者具有写权限0o200\n",
    "    * stat.S_IRUSR: 拥有者具有读权限0o400\n",
    "    * stat.S_IRWXU: 拥有者有全部权限(权限掩码)0o700\n",
    "    * stat.S_ISVTX: 目录里文件目录只有拥有者才可删除更改0o1000\n",
    "    * stat.S_ISGID: 执行此文件其进程有效组为文件所在组0o2000\n",
    "    * stat.S_ISUID: 执行此文件其进程有效用户为文件所有者0o4000\n",
    "    * stat.S_IREAD: windows下设为只读\n",
    "    * stat.S_IWRITE: windows下取消只读\n",
    "\n"
   ]
  },
  {
   "cell_type": "code",
   "execution_count": 83,
   "metadata": {},
   "outputs": [],
   "source": [
    "import stat\n",
    "os.chmod(basepath+'/test/file1', stat.S_IREAD)"
   ]
  },
  {
   "cell_type": "markdown",
   "metadata": {},
   "source": [
    "## 删除空目录 os.rmdir(path)\n",
    "若path指定的目录非空则抛出异常"
   ]
  },
  {
   "cell_type": "code",
   "execution_count": 95,
   "metadata": {},
   "outputs": [
    {
     "name": "stdout",
     "output_type": "stream",
     "text": [
      "['file1', 'file2', 'test.txt', 'xxx']\n",
      "['file1', 'file2', 'test.txt']\n"
     ]
    }
   ],
   "source": [
    "print(os.listdir())\n",
    "os.rmdir('./xxx')\n",
    "print(os.listdir())"
   ]
  },
  {
   "cell_type": "markdown",
   "metadata": {},
   "source": [
    "## 删除文件 os.remove(path)"
   ]
  },
  {
   "cell_type": "code",
   "execution_count": 97,
   "metadata": {},
   "outputs": [
    {
     "name": "stdout",
     "output_type": "stream",
     "text": [
      "['file1', 'file2', 'test.txt']\n",
      "['file1', 'test.txt']\n"
     ]
    }
   ],
   "source": [
    "print(os.listdir())\n",
    "os.remove('./file2')\n",
    "print(os.listdir())"
   ]
  },
  {
   "cell_type": "markdown",
   "metadata": {},
   "source": [
    "## 重命名文件 os.rename(old, new)"
   ]
  },
  {
   "cell_type": "code",
   "execution_count": 99,
   "metadata": {},
   "outputs": [
    {
     "name": "stdout",
     "output_type": "stream",
     "text": [
      "['file1', 'test.txt']\n",
      "['file1', 'test1.txt']\n"
     ]
    }
   ],
   "source": [
    "print(os.listdir())\n",
    "os.rename('test.txt', 'test1.txt')\n",
    "print(os.listdir())"
   ]
  },
  {
   "cell_type": "markdown",
   "metadata": {},
   "source": [
    "## 遍历文件夹 os.walk(top[, topdown=True[, onerror=None[, followlinks=False]]])\n",
    "os.walk()可以得到一个三元tupple(dirpath, dirnames, filenames)，\n",
    "\n",
    "1. 第一个为起始路径，\n",
    "\n",
    "2. 第二个为起始路径下的文件夹，\n",
    "\n",
    "3. 第三个是起始路径下的文件。\n",
    "\n",
    "其中,  \n",
    "dirpath是一个string，代表目录的路径  \n",
    "dirnames是一个list，包含了dirpath下所有子目录的名字  \n",
    "filenames是一个list，包含了非目录文件的名字。这些名字不包含路径信息，如果需要得到全路径，需要使用os.path.join(dirpath, filename)"
   ]
  },
  {
   "cell_type": "code",
   "execution_count": 105,
   "metadata": {},
   "outputs": [
    {
     "name": "stdout",
     "output_type": "stream",
     "text": [
      "('D:/Workspace/Python/JupyterHome/02 各种Python库的使用练习/test', ['dir1', 'dir2'], ['file1', 'test1.txt'])\n",
      "('D:/Workspace/Python/JupyterHome/02 各种Python库的使用练习/test\\\\dir1', ['dir'], ['file1'])\n",
      "('D:/Workspace/Python/JupyterHome/02 各种Python库的使用练习/test\\\\dir1\\\\dir', [], ['file1'])\n",
      "('D:/Workspace/Python/JupyterHome/02 各种Python库的使用练习/test\\\\dir2', [], ['file1'])\n"
     ]
    }
   ],
   "source": [
    "for i in os.walk(basepath+'/test'):\n",
    "    print(i)"
   ]
  },
  {
   "cell_type": "markdown",
   "metadata": {},
   "source": [
    "# sys\n",
    "sys模块负责程序与python解释器的交互，使用该模块可访问由解释器使用或维护的变量，使用与解释器进行交互的函数。"
   ]
  },
  {
   "cell_type": "markdown",
   "metadata": {},
   "source": [
    "## Python解释程序的版本值，16进制格式 sys.hexversion"
   ]
  },
  {
   "cell_type": "code",
   "execution_count": 110,
   "metadata": {},
   "outputs": [
    {
     "data": {
      "text/plain": [
       "50792944"
      ]
     },
     "execution_count": 110,
     "metadata": {},
     "output_type": "execute_result"
    }
   ],
   "source": [
    "import sys\n",
    "sys.hexversion"
   ]
  },
  {
   "cell_type": "markdown",
   "metadata": {},
   "source": [
    "## Python解释程序的版本信息 sys.version"
   ]
  },
  {
   "cell_type": "code",
   "execution_count": 111,
   "metadata": {},
   "outputs": [
    {
     "data": {
      "text/plain": [
       "'3.7.9 (default, Aug 31 2020, 17:10:11) [MSC v.1916 64 bit (AMD64)]'"
      ]
     },
     "execution_count": 111,
     "metadata": {},
     "output_type": "execute_result"
    }
   ],
   "source": [
    "sys.version"
   ]
  },
  {
   "cell_type": "markdown",
   "metadata": {},
   "source": [
    "## 命令行参数List sys.argv\n",
    "第一个元素是程序本身路径"
   ]
  },
  {
   "cell_type": "code",
   "execution_count": 113,
   "metadata": {},
   "outputs": [
    {
     "data": {
      "text/plain": [
       "['C:\\\\ProgramFiles\\\\Anaconda3\\\\lib\\\\site-packages\\\\ipykernel_launcher.py',\n",
       " '-f',\n",
       " 'C:\\\\Users\\\\zrand\\\\AppData\\\\Roaming\\\\jupyter\\\\runtime\\\\kernel-9ed17819-4818-4c88-b03b-0a978565c6a4.json']"
      ]
     },
     "execution_count": 113,
     "metadata": {},
     "output_type": "execute_result"
    }
   ],
   "source": [
    "sys.argv"
   ]
  },
  {
   "cell_type": "markdown",
   "metadata": {},
   "source": [
    "## 最大的Int值 sys.maxint"
   ]
  },
  {
   "cell_type": "code",
   "execution_count": 122,
   "metadata": {},
   "outputs": [],
   "source": [
    "# sys.maxint"
   ]
  },
  {
   "cell_type": "markdown",
   "metadata": {},
   "source": [
    "## 系统导入的所有模块的字典 sys.modules\n",
    "key是模块名，value是模块"
   ]
  },
  {
   "cell_type": "code",
   "execution_count": 120,
   "metadata": {
    "collapsed": true
   },
   "outputs": [
    {
     "data": {
      "text/plain": [
       "{'sys': <module 'sys' (built-in)>,\n",
       " 'builtins': <module 'builtins' (built-in)>,\n",
       " '_frozen_importlib': <module 'importlib._bootstrap' (frozen)>,\n",
       " '_imp': <module '_imp' (built-in)>,\n",
       " '_thread': <module '_thread' (built-in)>,\n",
       " '_warnings': <module '_warnings' (built-in)>,\n",
       " '_weakref': <module '_weakref' (built-in)>,\n",
       " 'zipimport': <module 'zipimport' (built-in)>,\n",
       " '_frozen_importlib_external': <module 'importlib._bootstrap_external' (frozen)>,\n",
       " '_io': <module 'io' (built-in)>,\n",
       " 'marshal': <module 'marshal' (built-in)>,\n",
       " 'nt': <module 'nt' (built-in)>,\n",
       " 'winreg': <module 'winreg' (built-in)>,\n",
       " 'encodings': <module 'encodings' from 'C:\\\\ProgramFiles\\\\Anaconda3\\\\lib\\\\encodings\\\\__init__.py'>,\n",
       " 'codecs': <module 'codecs' from 'C:\\\\ProgramFiles\\\\Anaconda3\\\\lib\\\\codecs.py'>,\n",
       " '_codecs': <module '_codecs' (built-in)>,\n",
       " 'encodings.aliases': <module 'encodings.aliases' from 'C:\\\\ProgramFiles\\\\Anaconda3\\\\lib\\\\encodings\\\\aliases.py'>,\n",
       " 'encodings.utf_8': <module 'encodings.utf_8' from 'C:\\\\ProgramFiles\\\\Anaconda3\\\\lib\\\\encodings\\\\utf_8.py'>,\n",
       " '_signal': <module '_signal' (built-in)>,\n",
       " '__main__': <module '__main__'>,\n",
       " 'encodings.latin_1': <module 'encodings.latin_1' from 'C:\\\\ProgramFiles\\\\Anaconda3\\\\lib\\\\encodings\\\\latin_1.py'>,\n",
       " 'io': <module 'io' from 'C:\\\\ProgramFiles\\\\Anaconda3\\\\lib\\\\io.py'>,\n",
       " 'abc': <module 'abc' from 'C:\\\\ProgramFiles\\\\Anaconda3\\\\lib\\\\abc.py'>,\n",
       " '_abc': <module '_abc' (built-in)>,\n",
       " '_bootlocale': <module '_bootlocale' from 'C:\\\\ProgramFiles\\\\Anaconda3\\\\lib\\\\_bootlocale.py'>,\n",
       " '_locale': <module '_locale' (built-in)>,\n",
       " 'encodings.gbk': <module 'encodings.gbk' from 'C:\\\\ProgramFiles\\\\Anaconda3\\\\lib\\\\encodings\\\\gbk.py'>,\n",
       " '_codecs_cn': <module '_codecs_cn' (built-in)>,\n",
       " '_multibytecodec': <module '_multibytecodec' (built-in)>,\n",
       " 'site': <module 'site' from 'C:\\\\ProgramFiles\\\\Anaconda3\\\\lib\\\\site.py'>,\n",
       " 'os': <module 'os' from 'C:\\\\ProgramFiles\\\\Anaconda3\\\\lib\\\\os.py'>,\n",
       " 'stat': <module 'stat' from 'C:\\\\ProgramFiles\\\\Anaconda3\\\\lib\\\\stat.py'>,\n",
       " '_stat': <module '_stat' (built-in)>,\n",
       " '_collections_abc': <module '_collections_abc' from 'C:\\\\ProgramFiles\\\\Anaconda3\\\\lib\\\\_collections_abc.py'>,\n",
       " 'ntpath': <module 'ntpath' from 'C:\\\\ProgramFiles\\\\Anaconda3\\\\lib\\\\ntpath.py'>,\n",
       " 'genericpath': <module 'genericpath' from 'C:\\\\ProgramFiles\\\\Anaconda3\\\\lib\\\\genericpath.py'>,\n",
       " 'os.path': <module 'ntpath' from 'C:\\\\ProgramFiles\\\\Anaconda3\\\\lib\\\\ntpath.py'>,\n",
       " '_sitebuiltins': <module '_sitebuiltins' from 'C:\\\\ProgramFiles\\\\Anaconda3\\\\lib\\\\_sitebuiltins.py'>,\n",
       " 'types': <module 'types' from 'C:\\\\ProgramFiles\\\\Anaconda3\\\\lib\\\\types.py'>,\n",
       " 'importlib': <module 'importlib' from 'C:\\\\ProgramFiles\\\\Anaconda3\\\\lib\\\\importlib\\\\__init__.py'>,\n",
       " 'importlib._bootstrap': <module 'importlib._bootstrap' (frozen)>,\n",
       " 'importlib._bootstrap_external': <module 'importlib._bootstrap_external' (frozen)>,\n",
       " 'warnings': <module 'warnings' from 'C:\\\\ProgramFiles\\\\Anaconda3\\\\lib\\\\warnings.py'>,\n",
       " 'importlib.util': <module 'importlib.util' from 'C:\\\\ProgramFiles\\\\Anaconda3\\\\lib\\\\importlib\\\\util.py'>,\n",
       " 'importlib.abc': <module 'importlib.abc' from 'C:\\\\ProgramFiles\\\\Anaconda3\\\\lib\\\\importlib\\\\abc.py'>,\n",
       " 'importlib.machinery': <module 'importlib.machinery' from 'C:\\\\ProgramFiles\\\\Anaconda3\\\\lib\\\\importlib\\\\machinery.py'>,\n",
       " 'contextlib': <module 'contextlib' from 'C:\\\\ProgramFiles\\\\Anaconda3\\\\lib\\\\contextlib.py'>,\n",
       " 'collections': <module 'collections' from 'C:\\\\ProgramFiles\\\\Anaconda3\\\\lib\\\\collections\\\\__init__.py'>,\n",
       " 'operator': <module 'operator' from 'C:\\\\ProgramFiles\\\\Anaconda3\\\\lib\\\\operator.py'>,\n",
       " '_operator': <module '_operator' (built-in)>,\n",
       " 'keyword': <module 'keyword' from 'C:\\\\ProgramFiles\\\\Anaconda3\\\\lib\\\\keyword.py'>,\n",
       " 'heapq': <module 'heapq' from 'C:\\\\ProgramFiles\\\\Anaconda3\\\\lib\\\\heapq.py'>,\n",
       " '_heapq': <module '_heapq' (built-in)>,\n",
       " 'itertools': <module 'itertools' (built-in)>,\n",
       " 'reprlib': <module 'reprlib' from 'C:\\\\ProgramFiles\\\\Anaconda3\\\\lib\\\\reprlib.py'>,\n",
       " '_collections': <module '_collections' (built-in)>,\n",
       " 'functools': <module 'functools' from 'C:\\\\ProgramFiles\\\\Anaconda3\\\\lib\\\\functools.py'>,\n",
       " '_functools': <module '_functools' (built-in)>,\n",
       " 'mpl_toolkits': <module 'mpl_toolkits' (namespace)>,\n",
       " 'sphinxcontrib': <module 'sphinxcontrib' from 'C:\\\\ProgramFiles\\\\Anaconda3\\\\lib\\\\site-packages\\\\sphinxcontrib\\\\__init__.py'>,\n",
       " 'zope': <module 'zope' from 'C:\\\\ProgramFiles\\\\Anaconda3\\\\lib\\\\site-packages\\\\zope\\\\__init__.py'>,\n",
       " 'runpy': <module 'runpy' from 'C:\\\\ProgramFiles\\\\Anaconda3\\\\lib\\\\runpy.py'>,\n",
       " 'pkgutil': <module 'pkgutil' from 'C:\\\\ProgramFiles\\\\Anaconda3\\\\lib\\\\pkgutil.py'>,\n",
       " 'weakref': <module 'weakref' from 'C:\\\\ProgramFiles\\\\Anaconda3\\\\lib\\\\weakref.py'>,\n",
       " '_weakrefset': <module '_weakrefset' from 'C:\\\\ProgramFiles\\\\Anaconda3\\\\lib\\\\_weakrefset.py'>,\n",
       " 'ipykernel': <module 'ipykernel' from 'C:\\\\ProgramFiles\\\\Anaconda3\\\\lib\\\\site-packages\\\\ipykernel\\\\__init__.py'>,\n",
       " 'ipykernel._version': <module 'ipykernel._version' from 'C:\\\\ProgramFiles\\\\Anaconda3\\\\lib\\\\site-packages\\\\ipykernel\\\\_version.py'>,\n",
       " 'ipykernel.connect': <module 'ipykernel.connect' from 'C:\\\\ProgramFiles\\\\Anaconda3\\\\lib\\\\site-packages\\\\ipykernel\\\\connect.py'>,\n",
       " '__future__': <module '__future__' from 'C:\\\\ProgramFiles\\\\Anaconda3\\\\lib\\\\__future__.py'>,\n",
       " 'json': <module 'json' from 'C:\\\\ProgramFiles\\\\Anaconda3\\\\lib\\\\json\\\\__init__.py'>,\n",
       " 'json.decoder': <module 'json.decoder' from 'C:\\\\ProgramFiles\\\\Anaconda3\\\\lib\\\\json\\\\decoder.py'>,\n",
       " 're': <module 're' from 'C:\\\\ProgramFiles\\\\Anaconda3\\\\lib\\\\re.py'>,\n",
       " 'enum': <module 'enum' from 'C:\\\\ProgramFiles\\\\Anaconda3\\\\lib\\\\enum.py'>,\n",
       " 'sre_compile': <module 'sre_compile' from 'C:\\\\ProgramFiles\\\\Anaconda3\\\\lib\\\\sre_compile.py'>,\n",
       " '_sre': <module '_sre' (built-in)>,\n",
       " 'sre_parse': <module 'sre_parse' from 'C:\\\\ProgramFiles\\\\Anaconda3\\\\lib\\\\sre_parse.py'>,\n",
       " 'sre_constants': <module 'sre_constants' from 'C:\\\\ProgramFiles\\\\Anaconda3\\\\lib\\\\sre_constants.py'>,\n",
       " 'copyreg': <module 'copyreg' from 'C:\\\\ProgramFiles\\\\Anaconda3\\\\lib\\\\copyreg.py'>,\n",
       " 'json.scanner': <module 'json.scanner' from 'C:\\\\ProgramFiles\\\\Anaconda3\\\\lib\\\\json\\\\scanner.py'>,\n",
       " '_json': <module '_json' (built-in)>,\n",
       " 'json.encoder': <module 'json.encoder' from 'C:\\\\ProgramFiles\\\\Anaconda3\\\\lib\\\\json\\\\encoder.py'>,\n",
       " 'subprocess': <module 'subprocess' from 'C:\\\\ProgramFiles\\\\Anaconda3\\\\lib\\\\subprocess.py'>,\n",
       " 'time': <module 'time' (built-in)>,\n",
       " 'signal': <module 'signal' from 'C:\\\\ProgramFiles\\\\Anaconda3\\\\lib\\\\signal.py'>,\n",
       " 'errno': <module 'errno' (built-in)>,\n",
       " 'threading': <module 'threading' from 'C:\\\\ProgramFiles\\\\Anaconda3\\\\lib\\\\threading.py'>,\n",
       " 'traceback': <module 'traceback' from 'C:\\\\ProgramFiles\\\\Anaconda3\\\\lib\\\\traceback.py'>,\n",
       " 'linecache': <module 'linecache' from 'C:\\\\ProgramFiles\\\\Anaconda3\\\\lib\\\\linecache.py'>,\n",
       " 'tokenize': <module 'tokenize' from 'C:\\\\ProgramFiles\\\\Anaconda3\\\\lib\\\\tokenize.py'>,\n",
       " 'token': <module 'token' from 'C:\\\\ProgramFiles\\\\Anaconda3\\\\lib\\\\token.py'>,\n",
       " 'msvcrt': <module 'msvcrt' (built-in)>,\n",
       " '_winapi': <module '_winapi' (built-in)>,\n",
       " 'IPython': <module 'IPython' from 'C:\\\\ProgramFiles\\\\Anaconda3\\\\lib\\\\site-packages\\\\IPython\\\\__init__.py'>,\n",
       " 'IPython.core': <module 'IPython.core' from 'C:\\\\ProgramFiles\\\\Anaconda3\\\\lib\\\\site-packages\\\\IPython\\\\core\\\\__init__.py'>,\n",
       " 'IPython.core.getipython': <module 'IPython.core.getipython' from 'C:\\\\ProgramFiles\\\\Anaconda3\\\\lib\\\\site-packages\\\\IPython\\\\core\\\\getipython.py'>,\n",
       " 'IPython.core.release': <module 'IPython.core.release' from 'C:\\\\ProgramFiles\\\\Anaconda3\\\\lib\\\\site-packages\\\\IPython\\\\core\\\\release.py'>,\n",
       " 'IPython.core.application': <module 'IPython.core.application' from 'C:\\\\ProgramFiles\\\\Anaconda3\\\\lib\\\\site-packages\\\\IPython\\\\core\\\\application.py'>,\n",
       " 'atexit': <module 'atexit' (built-in)>,\n",
       " 'copy': <module 'copy' from 'C:\\\\ProgramFiles\\\\Anaconda3\\\\lib\\\\copy.py'>,\n",
       " 'glob': <module 'glob' from 'C:\\\\ProgramFiles\\\\Anaconda3\\\\lib\\\\glob.py'>,\n",
       " 'fnmatch': <module 'fnmatch' from 'C:\\\\ProgramFiles\\\\Anaconda3\\\\lib\\\\fnmatch.py'>,\n",
       " 'posixpath': <module 'posixpath' from 'C:\\\\ProgramFiles\\\\Anaconda3\\\\lib\\\\posixpath.py'>,\n",
       " 'logging': <module 'logging' from 'C:\\\\ProgramFiles\\\\Anaconda3\\\\lib\\\\logging\\\\__init__.py'>,\n",
       " 'collections.abc': <module 'collections.abc' from 'C:\\\\ProgramFiles\\\\Anaconda3\\\\lib\\\\collections\\\\abc.py'>,\n",
       " 'string': <module 'string' from 'C:\\\\ProgramFiles\\\\Anaconda3\\\\lib\\\\string.py'>,\n",
       " '_string': <module '_string' (built-in)>,\n",
       " 'shutil': <module 'shutil' from 'C:\\\\ProgramFiles\\\\Anaconda3\\\\lib\\\\shutil.py'>,\n",
       " 'zlib': <module 'zlib' (built-in)>,\n",
       " 'bz2': <module 'bz2' from 'C:\\\\ProgramFiles\\\\Anaconda3\\\\lib\\\\bz2.py'>,\n",
       " '_compression': <module '_compression' from 'C:\\\\ProgramFiles\\\\Anaconda3\\\\lib\\\\_compression.py'>,\n",
       " '_bz2': <module '_bz2' from 'C:\\\\ProgramFiles\\\\Anaconda3\\\\DLLs\\\\_bz2.pyd'>,\n",
       " 'lzma': <module 'lzma' from 'C:\\\\ProgramFiles\\\\Anaconda3\\\\lib\\\\lzma.py'>,\n",
       " '_lzma': <module '_lzma' from 'C:\\\\ProgramFiles\\\\Anaconda3\\\\DLLs\\\\_lzma.pyd'>,\n",
       " 'traitlets': <module 'traitlets' from 'C:\\\\ProgramFiles\\\\Anaconda3\\\\lib\\\\site-packages\\\\traitlets\\\\__init__.py'>,\n",
       " 'traitlets.traitlets': <module 'traitlets.traitlets' from 'C:\\\\ProgramFiles\\\\Anaconda3\\\\lib\\\\site-packages\\\\traitlets\\\\traitlets.py'>,\n",
       " 'inspect': <module 'inspect' from 'C:\\\\ProgramFiles\\\\Anaconda3\\\\lib\\\\inspect.py'>,\n",
       " 'dis': <module 'dis' from 'C:\\\\ProgramFiles\\\\Anaconda3\\\\lib\\\\dis.py'>,\n",
       " 'opcode': <module 'opcode' from 'C:\\\\ProgramFiles\\\\Anaconda3\\\\lib\\\\opcode.py'>,\n",
       " '_opcode': <module '_opcode' (built-in)>,\n",
       " 'six': <module 'six' from 'C:\\\\ProgramFiles\\\\Anaconda3\\\\lib\\\\site-packages\\\\six.py'>,\n",
       " 'struct': <module 'struct' from 'C:\\\\ProgramFiles\\\\Anaconda3\\\\lib\\\\struct.py'>,\n",
       " '_struct': <module '_struct' (built-in)>,\n",
       " 'traitlets.utils': <module 'traitlets.utils' from 'C:\\\\ProgramFiles\\\\Anaconda3\\\\lib\\\\site-packages\\\\traitlets\\\\utils\\\\__init__.py'>,\n",
       " 'traitlets.utils.getargspec': <module 'traitlets.utils.getargspec' from 'C:\\\\ProgramFiles\\\\Anaconda3\\\\lib\\\\site-packages\\\\traitlets\\\\utils\\\\getargspec.py'>,\n",
       " 'traitlets.utils.importstring': <module 'traitlets.utils.importstring' from 'C:\\\\ProgramFiles\\\\Anaconda3\\\\lib\\\\site-packages\\\\traitlets\\\\utils\\\\importstring.py'>,\n",
       " 'ipython_genutils': <module 'ipython_genutils' from 'C:\\\\ProgramFiles\\\\Anaconda3\\\\lib\\\\site-packages\\\\ipython_genutils\\\\__init__.py'>,\n",
       " 'ipython_genutils._version': <module 'ipython_genutils._version' from 'C:\\\\ProgramFiles\\\\Anaconda3\\\\lib\\\\site-packages\\\\ipython_genutils\\\\_version.py'>,\n",
       " 'ipython_genutils.py3compat': <module 'ipython_genutils.py3compat' from 'C:\\\\ProgramFiles\\\\Anaconda3\\\\lib\\\\site-packages\\\\ipython_genutils\\\\py3compat.py'>,\n",
       " 'ipython_genutils.encoding': <module 'ipython_genutils.encoding' from 'C:\\\\ProgramFiles\\\\Anaconda3\\\\lib\\\\site-packages\\\\ipython_genutils\\\\encoding.py'>,\n",
       " 'locale': <module 'locale' from 'C:\\\\ProgramFiles\\\\Anaconda3\\\\lib\\\\locale.py'>,\n",
       " 'platform': <module 'platform' from 'C:\\\\ProgramFiles\\\\Anaconda3\\\\lib\\\\platform.py'>,\n",
       " 'traitlets.utils.sentinel': <module 'traitlets.utils.sentinel' from 'C:\\\\ProgramFiles\\\\Anaconda3\\\\lib\\\\site-packages\\\\traitlets\\\\utils\\\\sentinel.py'>,\n",
       " 'traitlets.utils.bunch': <module 'traitlets.utils.bunch' from 'C:\\\\ProgramFiles\\\\Anaconda3\\\\lib\\\\site-packages\\\\traitlets\\\\utils\\\\bunch.py'>,\n",
       " 'traitlets._version': <module 'traitlets._version' from 'C:\\\\ProgramFiles\\\\Anaconda3\\\\lib\\\\site-packages\\\\traitlets\\\\_version.py'>,\n",
       " 'traitlets.config': <module 'traitlets.config' from 'C:\\\\ProgramFiles\\\\Anaconda3\\\\lib\\\\site-packages\\\\traitlets\\\\config\\\\__init__.py'>,\n",
       " 'traitlets.config.application': <module 'traitlets.config.application' from 'C:\\\\ProgramFiles\\\\Anaconda3\\\\lib\\\\site-packages\\\\traitlets\\\\config\\\\application.py'>,\n",
       " 'decorator': <module 'decorator' from 'C:\\\\ProgramFiles\\\\Anaconda3\\\\lib\\\\site-packages\\\\decorator.py'>,\n",
       " 'traitlets.config.configurable': <module 'traitlets.config.configurable' from 'C:\\\\ProgramFiles\\\\Anaconda3\\\\lib\\\\site-packages\\\\traitlets\\\\config\\\\configurable.py'>,\n",
       " 'traitlets.config.loader': <module 'traitlets.config.loader' from 'C:\\\\ProgramFiles\\\\Anaconda3\\\\lib\\\\site-packages\\\\traitlets\\\\config\\\\loader.py'>,\n",
       " 'argparse': <module 'argparse' from 'C:\\\\ProgramFiles\\\\Anaconda3\\\\lib\\\\argparse.py'>,\n",
       " 'gettext': <module 'gettext' from 'C:\\\\ProgramFiles\\\\Anaconda3\\\\lib\\\\gettext.py'>,\n",
       " 'ast': <module 'ast' from 'C:\\\\ProgramFiles\\\\Anaconda3\\\\lib\\\\ast.py'>,\n",
       " '_ast': <module '_ast' (built-in)>,\n",
       " 'ipython_genutils.path': <module 'ipython_genutils.path' from 'C:\\\\ProgramFiles\\\\Anaconda3\\\\lib\\\\site-packages\\\\ipython_genutils\\\\path.py'>,\n",
       " 'random': <module 'random' from 'C:\\\\ProgramFiles\\\\Anaconda3\\\\lib\\\\random.py'>,\n",
       " 'math': <module 'math' (built-in)>,\n",
       " 'hashlib': <module 'hashlib' from 'C:\\\\ProgramFiles\\\\Anaconda3\\\\lib\\\\hashlib.py'>,\n",
       " '_hashlib': <module '_hashlib' from 'C:\\\\ProgramFiles\\\\Anaconda3\\\\DLLs\\\\_hashlib.pyd'>,\n",
       " '_blake2': <module '_blake2' (built-in)>,\n",
       " '_sha3': <module '_sha3' (built-in)>,\n",
       " 'bisect': <module 'bisect' from 'C:\\\\ProgramFiles\\\\Anaconda3\\\\lib\\\\bisect.py'>,\n",
       " '_bisect': <module '_bisect' (built-in)>,\n",
       " '_random': <module '_random' (built-in)>,\n",
       " 'ipython_genutils.text': <module 'ipython_genutils.text' from 'C:\\\\ProgramFiles\\\\Anaconda3\\\\lib\\\\site-packages\\\\ipython_genutils\\\\text.py'>,\n",
       " 'textwrap': <module 'textwrap' from 'C:\\\\ProgramFiles\\\\Anaconda3\\\\lib\\\\textwrap.py'>,\n",
       " 'ipython_genutils.importstring': <module 'ipython_genutils.importstring' from 'C:\\\\ProgramFiles\\\\Anaconda3\\\\lib\\\\site-packages\\\\ipython_genutils\\\\importstring.py'>,\n",
       " 'IPython.core.crashhandler': <module 'IPython.core.crashhandler' from 'C:\\\\ProgramFiles\\\\Anaconda3\\\\lib\\\\site-packages\\\\IPython\\\\core\\\\crashhandler.py'>,\n",
       " 'pprint': <module 'pprint' from 'C:\\\\ProgramFiles\\\\Anaconda3\\\\lib\\\\pprint.py'>,\n",
       " 'IPython.core.ultratb': <module 'IPython.core.ultratb' from 'C:\\\\ProgramFiles\\\\Anaconda3\\\\lib\\\\site-packages\\\\IPython\\\\core\\\\ultratb.py'>,\n",
       " 'pydoc': <module 'pydoc' from 'C:\\\\ProgramFiles\\\\Anaconda3\\\\lib\\\\pydoc.py'>,\n",
       " 'sysconfig': <module 'sysconfig' from 'C:\\\\ProgramFiles\\\\Anaconda3\\\\lib\\\\sysconfig.py'>,\n",
       " 'urllib': <module 'urllib' from 'C:\\\\ProgramFiles\\\\Anaconda3\\\\lib\\\\urllib\\\\__init__.py'>,\n",
       " 'urllib.parse': <module 'urllib.parse' from 'C:\\\\ProgramFiles\\\\Anaconda3\\\\lib\\\\urllib\\\\parse.py'>,\n",
       " 'IPython.core.debugger': <module 'IPython.core.debugger' from 'C:\\\\ProgramFiles\\\\Anaconda3\\\\lib\\\\site-packages\\\\IPython\\\\core\\\\debugger.py'>,\n",
       " 'bdb': <module 'bdb' from 'C:\\\\ProgramFiles\\\\Anaconda3\\\\lib\\\\bdb.py'>,\n",
       " 'IPython.utils': <module 'IPython.utils' from 'C:\\\\ProgramFiles\\\\Anaconda3\\\\lib\\\\site-packages\\\\IPython\\\\utils\\\\__init__.py'>,\n",
       " 'IPython.utils.PyColorize': <module 'IPython.utils.PyColorize' from 'C:\\\\ProgramFiles\\\\Anaconda3\\\\lib\\\\site-packages\\\\IPython\\\\utils\\\\PyColorize.py'>,\n",
       " 'IPython.utils.coloransi': <module 'IPython.utils.coloransi' from 'C:\\\\ProgramFiles\\\\Anaconda3\\\\lib\\\\site-packages\\\\IPython\\\\utils\\\\coloransi.py'>,\n",
       " 'IPython.utils.ipstruct': <module 'IPython.utils.ipstruct' from 'C:\\\\ProgramFiles\\\\Anaconda3\\\\lib\\\\site-packages\\\\IPython\\\\utils\\\\ipstruct.py'>,\n",
       " 'IPython.utils.colorable': <module 'IPython.utils.colorable' from 'C:\\\\ProgramFiles\\\\Anaconda3\\\\lib\\\\site-packages\\\\IPython\\\\utils\\\\colorable.py'>,\n",
       " 'pygments': <module 'pygments' from 'C:\\\\ProgramFiles\\\\Anaconda3\\\\lib\\\\site-packages\\\\pygments\\\\__init__.py'>,\n",
       " 'IPython.utils.py3compat': <module 'IPython.utils.py3compat' from 'C:\\\\ProgramFiles\\\\Anaconda3\\\\lib\\\\site-packages\\\\IPython\\\\utils\\\\py3compat.py'>,\n",
       " 'IPython.utils.encoding': <module 'IPython.utils.encoding' from 'C:\\\\ProgramFiles\\\\Anaconda3\\\\lib\\\\site-packages\\\\IPython\\\\utils\\\\encoding.py'>,\n",
       " 'IPython.core.excolors': <module 'IPython.core.excolors' from 'C:\\\\ProgramFiles\\\\Anaconda3\\\\lib\\\\site-packages\\\\IPython\\\\core\\\\excolors.py'>,\n",
       " 'IPython.testing': <module 'IPython.testing' from 'C:\\\\ProgramFiles\\\\Anaconda3\\\\lib\\\\site-packages\\\\IPython\\\\testing\\\\__init__.py'>,\n",
       " 'IPython.testing.skipdoctest': <module 'IPython.testing.skipdoctest' from 'C:\\\\ProgramFiles\\\\Anaconda3\\\\lib\\\\site-packages\\\\IPython\\\\testing\\\\skipdoctest.py'>,\n",
       " 'pdb': <module 'pdb' from 'C:\\\\ProgramFiles\\\\Anaconda3\\\\lib\\\\pdb.py'>,\n",
       " 'cmd': <module 'cmd' from 'C:\\\\ProgramFiles\\\\Anaconda3\\\\lib\\\\cmd.py'>,\n",
       " 'code': <module 'code' from 'C:\\\\ProgramFiles\\\\Anaconda3\\\\lib\\\\code.py'>,\n",
       " 'codeop': <module 'codeop' from 'C:\\\\ProgramFiles\\\\Anaconda3\\\\lib\\\\codeop.py'>,\n",
       " 'IPython.core.display_trap': <module 'IPython.core.display_trap' from 'C:\\\\ProgramFiles\\\\Anaconda3\\\\lib\\\\site-packages\\\\IPython\\\\core\\\\display_trap.py'>,\n",
       " 'IPython.utils.path': <module 'IPython.utils.path' from 'C:\\\\ProgramFiles\\\\Anaconda3\\\\lib\\\\site-packages\\\\IPython\\\\utils\\\\path.py'>,\n",
       " 'IPython.utils.process': <module 'IPython.utils.process' from 'C:\\\\ProgramFiles\\\\Anaconda3\\\\lib\\\\site-packages\\\\IPython\\\\utils\\\\process.py'>,\n",
       " 'IPython.utils._process_win32': <module 'IPython.utils._process_win32' from 'C:\\\\ProgramFiles\\\\Anaconda3\\\\lib\\\\site-packages\\\\IPython\\\\utils\\\\_process_win32.py'>,\n",
       " 'ctypes': <module 'ctypes' from 'C:\\\\ProgramFiles\\\\Anaconda3\\\\lib\\\\ctypes\\\\__init__.py'>,\n",
       " '_ctypes': <module '_ctypes' from 'C:\\\\ProgramFiles\\\\Anaconda3\\\\DLLs\\\\_ctypes.pyd'>,\n",
       " 'ctypes._endian': <module 'ctypes._endian' from 'C:\\\\ProgramFiles\\\\Anaconda3\\\\lib\\\\ctypes\\\\_endian.py'>,\n",
       " 'ctypes.wintypes': <module 'ctypes.wintypes' from 'C:\\\\ProgramFiles\\\\Anaconda3\\\\lib\\\\ctypes\\\\wintypes.py'>,\n",
       " 'IPython.utils._process_common': <module 'IPython.utils._process_common' from 'C:\\\\ProgramFiles\\\\Anaconda3\\\\lib\\\\site-packages\\\\IPython\\\\utils\\\\_process_common.py'>,\n",
       " 'shlex': <module 'shlex' from 'C:\\\\ProgramFiles\\\\Anaconda3\\\\lib\\\\shlex.py'>,\n",
       " 'IPython.utils.decorators': <module 'IPython.utils.decorators' from 'C:\\\\ProgramFiles\\\\Anaconda3\\\\lib\\\\site-packages\\\\IPython\\\\utils\\\\decorators.py'>,\n",
       " 'IPython.utils.data': <module 'IPython.utils.data' from 'C:\\\\ProgramFiles\\\\Anaconda3\\\\lib\\\\site-packages\\\\IPython\\\\utils\\\\data.py'>,\n",
       " 'IPython.utils.terminal': <module 'IPython.utils.terminal' from 'C:\\\\ProgramFiles\\\\Anaconda3\\\\lib\\\\site-packages\\\\IPython\\\\utils\\\\terminal.py'>,\n",
       " 'IPython.utils.sysinfo': <module 'IPython.utils.sysinfo' from 'C:\\\\ProgramFiles\\\\Anaconda3\\\\lib\\\\site-packages\\\\IPython\\\\utils\\\\sysinfo.py'>,\n",
       " 'IPython.utils._sysinfo': <module 'IPython.utils._sysinfo' from 'C:\\\\ProgramFiles\\\\Anaconda3\\\\lib\\\\site-packages\\\\IPython\\\\utils\\\\_sysinfo.py'>,\n",
       " 'IPython.core.profiledir': <module 'IPython.core.profiledir' from 'C:\\\\ProgramFiles\\\\Anaconda3\\\\lib\\\\site-packages\\\\IPython\\\\core\\\\profiledir.py'>,\n",
       " 'IPython.paths': <module 'IPython.paths' from 'C:\\\\ProgramFiles\\\\Anaconda3\\\\lib\\\\site-packages\\\\IPython\\\\paths.py'>,\n",
       " 'tempfile': <module 'tempfile' from 'C:\\\\ProgramFiles\\\\Anaconda3\\\\lib\\\\tempfile.py'>,\n",
       " 'IPython.utils.importstring': <module 'IPython.utils.importstring' from 'C:\\\\ProgramFiles\\\\Anaconda3\\\\lib\\\\site-packages\\\\IPython\\\\utils\\\\importstring.py'>,\n",
       " 'IPython.terminal': <module 'IPython.terminal' from 'C:\\\\ProgramFiles\\\\Anaconda3\\\\lib\\\\site-packages\\\\IPython\\\\terminal\\\\__init__.py'>,\n",
       " 'IPython.terminal.embed': <module 'IPython.terminal.embed' from 'C:\\\\ProgramFiles\\\\Anaconda3\\\\lib\\\\site-packages\\\\IPython\\\\terminal\\\\embed.py'>,\n",
       " 'IPython.core.compilerop': <module 'IPython.core.compilerop' from 'C:\\\\ProgramFiles\\\\Anaconda3\\\\lib\\\\site-packages\\\\IPython\\\\core\\\\compilerop.py'>,\n",
       " 'IPython.core.magic_arguments': <module 'IPython.core.magic_arguments' from 'C:\\\\ProgramFiles\\\\Anaconda3\\\\lib\\\\site-packages\\\\IPython\\\\core\\\\magic_arguments.py'>,\n",
       " 'IPython.core.error': <module 'IPython.core.error' from 'C:\\\\ProgramFiles\\\\Anaconda3\\\\lib\\\\site-packages\\\\IPython\\\\core\\\\error.py'>,\n",
       " 'IPython.utils.text': <module 'IPython.utils.text' from 'C:\\\\ProgramFiles\\\\Anaconda3\\\\lib\\\\site-packages\\\\IPython\\\\utils\\\\text.py'>,\n",
       " 'pathlib': <module 'pathlib' from 'C:\\\\ProgramFiles\\\\Anaconda3\\\\lib\\\\pathlib.py'>,\n",
       " 'IPython.core.magic': <module 'IPython.core.magic' from 'C:\\\\ProgramFiles\\\\Anaconda3\\\\lib\\\\site-packages\\\\IPython\\\\core\\\\magic.py'>,\n",
       " 'getopt': <module 'getopt' from 'C:\\\\ProgramFiles\\\\Anaconda3\\\\lib\\\\getopt.py'>,\n",
       " 'IPython.core.oinspect': <module 'IPython.core.oinspect' from 'C:\\\\ProgramFiles\\\\Anaconda3\\\\lib\\\\site-packages\\\\IPython\\\\core\\\\oinspect.py'>,\n",
       " 'typing': <module 'typing' from 'C:\\\\ProgramFiles\\\\Anaconda3\\\\lib\\\\typing.py'>,\n",
       " 'typing.io': typing.io,\n",
       " 'typing.re': typing.re,\n",
       " 'IPython.core.page': <module 'IPython.core.page' from 'C:\\\\ProgramFiles\\\\Anaconda3\\\\lib\\\\site-packages\\\\IPython\\\\core\\\\page.py'>,\n",
       " 'IPython.core.display': <module 'IPython.core.display' from 'C:\\\\ProgramFiles\\\\Anaconda3\\\\lib\\\\site-packages\\\\IPython\\\\core\\\\display.py'>,\n",
       " 'binascii': <module 'binascii' (built-in)>,\n",
       " 'mimetypes': <module 'mimetypes' from 'C:\\\\ProgramFiles\\\\Anaconda3\\\\lib\\\\mimetypes.py'>,\n",
       " 'IPython.lib': <module 'IPython.lib' from 'C:\\\\ProgramFiles\\\\Anaconda3\\\\lib\\\\site-packages\\\\IPython\\\\lib\\\\__init__.py'>,\n",
       " 'IPython.lib.security': <module 'IPython.lib.security' from 'C:\\\\ProgramFiles\\\\Anaconda3\\\\lib\\\\site-packages\\\\IPython\\\\lib\\\\security.py'>,\n",
       " 'getpass': <module 'getpass' from 'C:\\\\ProgramFiles\\\\Anaconda3\\\\lib\\\\getpass.py'>,\n",
       " 'IPython.lib.pretty': <module 'IPython.lib.pretty' from 'C:\\\\ProgramFiles\\\\Anaconda3\\\\lib\\\\site-packages\\\\IPython\\\\lib\\\\pretty.py'>,\n",
       " 'datetime': <module 'datetime' from 'C:\\\\ProgramFiles\\\\Anaconda3\\\\lib\\\\datetime.py'>,\n",
       " '_datetime': <module '_datetime' (built-in)>,\n",
       " 'IPython.utils.openpy': <module 'IPython.utils.openpy' from 'C:\\\\ProgramFiles\\\\Anaconda3\\\\lib\\\\site-packages\\\\IPython\\\\utils\\\\openpy.py'>,\n",
       " 'IPython.utils.dir2': <module 'IPython.utils.dir2' from 'C:\\\\ProgramFiles\\\\Anaconda3\\\\lib\\\\site-packages\\\\IPython\\\\utils\\\\dir2.py'>,\n",
       " 'IPython.utils.wildcard': <module 'IPython.utils.wildcard' from 'C:\\\\ProgramFiles\\\\Anaconda3\\\\lib\\\\site-packages\\\\IPython\\\\utils\\\\wildcard.py'>,\n",
       " 'pygments.lexers': <module 'pygments.lexers' from 'C:\\\\ProgramFiles\\\\Anaconda3\\\\lib\\\\site-packages\\\\pygments\\\\lexers\\\\__init__.py'>,\n",
       " 'pygments.lexers._mapping': <module 'pygments.lexers._mapping' from 'C:\\\\ProgramFiles\\\\Anaconda3\\\\lib\\\\site-packages\\\\pygments\\\\lexers\\\\_mapping.py'>,\n",
       " 'pygments.modeline': <module 'pygments.modeline' from 'C:\\\\ProgramFiles\\\\Anaconda3\\\\lib\\\\site-packages\\\\pygments\\\\modeline.py'>,\n",
       " 'pygments.plugin': <module 'pygments.plugin' from 'C:\\\\ProgramFiles\\\\Anaconda3\\\\lib\\\\site-packages\\\\pygments\\\\plugin.py'>,\n",
       " 'pygments.util': <module 'pygments.util' from 'C:\\\\ProgramFiles\\\\Anaconda3\\\\lib\\\\site-packages\\\\pygments\\\\util.py'>,\n",
       " 'pygments.lexers.python': <module 'pygments.lexers.python' from 'C:\\\\ProgramFiles\\\\Anaconda3\\\\lib\\\\site-packages\\\\pygments\\\\lexers\\\\python.py'>,\n",
       " 'pygments.lexer': <module 'pygments.lexer' from 'C:\\\\ProgramFiles\\\\Anaconda3\\\\lib\\\\site-packages\\\\pygments\\\\lexer.py'>,\n",
       " 'pygments.filter': <module 'pygments.filter' from 'C:\\\\ProgramFiles\\\\Anaconda3\\\\lib\\\\site-packages\\\\pygments\\\\filter.py'>,\n",
       " 'pygments.filters': <module 'pygments.filters' from 'C:\\\\ProgramFiles\\\\Anaconda3\\\\lib\\\\site-packages\\\\pygments\\\\filters\\\\__init__.py'>,\n",
       " 'pygments.token': <module 'pygments.token' from 'C:\\\\ProgramFiles\\\\Anaconda3\\\\lib\\\\site-packages\\\\pygments\\\\token.py'>,\n",
       " 'pygments.regexopt': <module 'pygments.regexopt' from 'C:\\\\ProgramFiles\\\\Anaconda3\\\\lib\\\\site-packages\\\\pygments\\\\regexopt.py'>,\n",
       " 'pygments.unistring': <module 'pygments.unistring' from 'C:\\\\ProgramFiles\\\\Anaconda3\\\\lib\\\\site-packages\\\\pygments\\\\unistring.py'>,\n",
       " 'pygments.formatters': <module 'pygments.formatters' from 'C:\\\\ProgramFiles\\\\Anaconda3\\\\lib\\\\site-packages\\\\pygments\\\\formatters\\\\__init__.py'>,\n",
       " 'pygments.formatters._mapping': <module 'pygments.formatters._mapping' from 'C:\\\\ProgramFiles\\\\Anaconda3\\\\lib\\\\site-packages\\\\pygments\\\\formatters\\\\_mapping.py'>,\n",
       " 'pygments.formatters.html': <module 'pygments.formatters.html' from 'C:\\\\ProgramFiles\\\\Anaconda3\\\\lib\\\\site-packages\\\\pygments\\\\formatters\\\\html.py'>,\n",
       " 'pygments.formatter': <module 'pygments.formatter' from 'C:\\\\ProgramFiles\\\\Anaconda3\\\\lib\\\\site-packages\\\\pygments\\\\formatter.py'>,\n",
       " 'pygments.styles': <module 'pygments.styles' from 'C:\\\\ProgramFiles\\\\Anaconda3\\\\lib\\\\site-packages\\\\pygments\\\\styles\\\\__init__.py'>,\n",
       " 'IPython.core.inputtransformer2': <module 'IPython.core.inputtransformer2' from 'C:\\\\ProgramFiles\\\\Anaconda3\\\\lib\\\\site-packages\\\\IPython\\\\core\\\\inputtransformer2.py'>,\n",
       " 'IPython.core.interactiveshell': <module 'IPython.core.interactiveshell' from 'C:\\\\ProgramFiles\\\\Anaconda3\\\\lib\\\\site-packages\\\\IPython\\\\core\\\\interactiveshell.py'>,\n",
       " 'pickleshare': <module 'pickleshare' from 'C:\\\\ProgramFiles\\\\Anaconda3\\\\lib\\\\site-packages\\\\pickleshare.py'>,\n",
       " 'pickle': <module 'pickle' from 'C:\\\\ProgramFiles\\\\Anaconda3\\\\lib\\\\pickle.py'>,\n",
       " '_compat_pickle': <module '_compat_pickle' from 'C:\\\\ProgramFiles\\\\Anaconda3\\\\lib\\\\_compat_pickle.py'>,\n",
       " '_pickle': <module '_pickle' (built-in)>,\n",
       " 'IPython.core.prefilter': <module 'IPython.core.prefilter' from 'C:\\\\ProgramFiles\\\\Anaconda3\\\\lib\\\\site-packages\\\\IPython\\\\core\\\\prefilter.py'>,\n",
       " 'IPython.core.autocall': <module 'IPython.core.autocall' from 'C:\\\\ProgramFiles\\\\Anaconda3\\\\lib\\\\site-packages\\\\IPython\\\\core\\\\autocall.py'>,\n",
       " 'IPython.core.macro': <module 'IPython.core.macro' from 'C:\\\\ProgramFiles\\\\Anaconda3\\\\lib\\\\site-packages\\\\IPython\\\\core\\\\macro.py'>,\n",
       " 'IPython.core.splitinput': <module 'IPython.core.splitinput' from 'C:\\\\ProgramFiles\\\\Anaconda3\\\\lib\\\\site-packages\\\\IPython\\\\core\\\\splitinput.py'>,\n",
       " 'IPython.core.alias': <module 'IPython.core.alias' from 'C:\\\\ProgramFiles\\\\Anaconda3\\\\lib\\\\site-packages\\\\IPython\\\\core\\\\alias.py'>,\n",
       " 'IPython.core.builtin_trap': <module 'IPython.core.builtin_trap' from 'C:\\\\ProgramFiles\\\\Anaconda3\\\\lib\\\\site-packages\\\\IPython\\\\core\\\\builtin_trap.py'>,\n",
       " 'IPython.core.events': <module 'IPython.core.events' from 'C:\\\\ProgramFiles\\\\Anaconda3\\\\lib\\\\site-packages\\\\IPython\\\\core\\\\events.py'>,\n",
       " 'backcall': <module 'backcall' from 'C:\\\\ProgramFiles\\\\Anaconda3\\\\lib\\\\site-packages\\\\backcall\\\\__init__.py'>,\n",
       " 'backcall.backcall': <module 'backcall.backcall' from 'C:\\\\ProgramFiles\\\\Anaconda3\\\\lib\\\\site-packages\\\\backcall\\\\backcall.py'>,\n",
       " 'IPython.core.displayhook': <module 'IPython.core.displayhook' from 'C:\\\\ProgramFiles\\\\Anaconda3\\\\lib\\\\site-packages\\\\IPython\\\\core\\\\displayhook.py'>,\n",
       " 'IPython.core.displaypub': <module 'IPython.core.displaypub' from 'C:\\\\ProgramFiles\\\\Anaconda3\\\\lib\\\\site-packages\\\\IPython\\\\core\\\\displaypub.py'>,\n",
       " 'IPython.core.extensions': <module 'IPython.core.extensions' from 'C:\\\\ProgramFiles\\\\Anaconda3\\\\lib\\\\site-packages\\\\IPython\\\\core\\\\extensions.py'>,\n",
       " 'IPython.core.formatters': <module 'IPython.core.formatters' from 'C:\\\\ProgramFiles\\\\Anaconda3\\\\lib\\\\site-packages\\\\IPython\\\\core\\\\formatters.py'>,\n",
       " 'IPython.utils.sentinel': <module 'IPython.utils.sentinel' from 'C:\\\\ProgramFiles\\\\Anaconda3\\\\lib\\\\site-packages\\\\IPython\\\\utils\\\\sentinel.py'>,\n",
       " 'IPython.core.history': <module 'IPython.core.history' from 'C:\\\\ProgramFiles\\\\Anaconda3\\\\lib\\\\site-packages\\\\IPython\\\\core\\\\history.py'>,\n",
       " 'sqlite3': <module 'sqlite3' from 'C:\\\\ProgramFiles\\\\Anaconda3\\\\lib\\\\sqlite3\\\\__init__.py'>,\n",
       " 'sqlite3.dbapi2': <module 'sqlite3.dbapi2' from 'C:\\\\ProgramFiles\\\\Anaconda3\\\\lib\\\\sqlite3\\\\dbapi2.py'>,\n",
       " '_sqlite3': <module '_sqlite3' from 'C:\\\\ProgramFiles\\\\Anaconda3\\\\DLLs\\\\_sqlite3.pyd'>,\n",
       " 'IPython.core.logger': <module 'IPython.core.logger' from 'C:\\\\ProgramFiles\\\\Anaconda3\\\\lib\\\\site-packages\\\\IPython\\\\core\\\\logger.py'>,\n",
       " 'IPython.core.payload': <module 'IPython.core.payload' from 'C:\\\\ProgramFiles\\\\Anaconda3\\\\lib\\\\site-packages\\\\IPython\\\\core\\\\payload.py'>,\n",
       " 'IPython.core.usage': <module 'IPython.core.usage' from 'C:\\\\ProgramFiles\\\\Anaconda3\\\\lib\\\\site-packages\\\\IPython\\\\core\\\\usage.py'>,\n",
       " 'IPython.display': <module 'IPython.display' from 'C:\\\\ProgramFiles\\\\Anaconda3\\\\lib\\\\site-packages\\\\IPython\\\\display.py'>,\n",
       " 'IPython.lib.display': <module 'IPython.lib.display' from 'C:\\\\ProgramFiles\\\\Anaconda3\\\\lib\\\\site-packages\\\\IPython\\\\lib\\\\display.py'>,\n",
       " 'html': <module 'html' from 'C:\\\\ProgramFiles\\\\Anaconda3\\\\lib\\\\html\\\\__init__.py'>,\n",
       " 'html.entities': <module 'html.entities' from 'C:\\\\ProgramFiles\\\\Anaconda3\\\\lib\\\\html\\\\entities.py'>,\n",
       " 'IPython.utils.io': <module 'IPython.utils.io' from 'C:\\\\ProgramFiles\\\\Anaconda3\\\\lib\\\\site-packages\\\\IPython\\\\utils\\\\io.py'>,\n",
       " 'IPython.utils.capture': <module 'IPython.utils.capture' from 'C:\\\\ProgramFiles\\\\Anaconda3\\\\lib\\\\site-packages\\\\IPython\\\\utils\\\\capture.py'>,\n",
       " 'IPython.utils.strdispatch': <module 'IPython.utils.strdispatch' from 'C:\\\\ProgramFiles\\\\Anaconda3\\\\lib\\\\site-packages\\\\IPython\\\\utils\\\\strdispatch.py'>,\n",
       " 'IPython.core.hooks': <module 'IPython.core.hooks' from 'C:\\\\ProgramFiles\\\\Anaconda3\\\\lib\\\\site-packages\\\\IPython\\\\core\\\\hooks.py'>,\n",
       " 'IPython.utils.syspathcontext': <module 'IPython.utils.syspathcontext' from 'C:\\\\ProgramFiles\\\\Anaconda3\\\\lib\\\\site-packages\\\\IPython\\\\utils\\\\syspathcontext.py'>,\n",
       " 'IPython.utils.tempdir': <module 'IPython.utils.tempdir' from 'C:\\\\ProgramFiles\\\\Anaconda3\\\\lib\\\\site-packages\\\\IPython\\\\utils\\\\tempdir.py'>,\n",
       " 'IPython.utils.contexts': <module 'IPython.utils.contexts' from 'C:\\\\ProgramFiles\\\\Anaconda3\\\\lib\\\\site-packages\\\\IPython\\\\utils\\\\contexts.py'>,\n",
       " 'IPython.core.async_helpers': <module 'IPython.core.async_helpers' from 'C:\\\\ProgramFiles\\\\Anaconda3\\\\lib\\\\site-packages\\\\IPython\\\\core\\\\async_helpers.py'>,\n",
       " 'IPython.terminal.interactiveshell': <module 'IPython.terminal.interactiveshell' from 'C:\\\\ProgramFiles\\\\Anaconda3\\\\lib\\\\site-packages\\\\IPython\\\\terminal\\\\interactiveshell.py'>,\n",
       " 'asyncio': <module 'asyncio' from 'C:\\\\ProgramFiles\\\\Anaconda3\\\\lib\\\\asyncio\\\\__init__.py'>,\n",
       " 'asyncio.base_events': <module 'asyncio.base_events' from 'C:\\\\ProgramFiles\\\\Anaconda3\\\\lib\\\\asyncio\\\\base_events.py'>,\n",
       " 'concurrent': <module 'concurrent' from 'C:\\\\ProgramFiles\\\\Anaconda3\\\\lib\\\\concurrent\\\\__init__.py'>,\n",
       " 'concurrent.futures': <module 'concurrent.futures' from 'C:\\\\ProgramFiles\\\\Anaconda3\\\\lib\\\\concurrent\\\\futures\\\\__init__.py'>,\n",
       " 'concurrent.futures._base': <module 'concurrent.futures._base' from 'C:\\\\ProgramFiles\\\\Anaconda3\\\\lib\\\\concurrent\\\\futures\\\\_base.py'>,\n",
       " 'socket': <module 'socket' from 'C:\\\\ProgramFiles\\\\Anaconda3\\\\lib\\\\socket.py'>,\n",
       " '_socket': <module '_socket' from 'C:\\\\ProgramFiles\\\\Anaconda3\\\\DLLs\\\\_socket.pyd'>,\n",
       " 'selectors': <module 'selectors' from 'C:\\\\ProgramFiles\\\\Anaconda3\\\\lib\\\\selectors.py'>,\n",
       " 'select': <module 'select' from 'C:\\\\ProgramFiles\\\\Anaconda3\\\\DLLs\\\\select.pyd'>,\n",
       " 'ssl': <module 'ssl' from 'C:\\\\ProgramFiles\\\\Anaconda3\\\\lib\\\\ssl.py'>,\n",
       " '_ssl': <module '_ssl' from 'C:\\\\ProgramFiles\\\\Anaconda3\\\\DLLs\\\\_ssl.pyd'>,\n",
       " 'base64': <module 'base64' from 'C:\\\\ProgramFiles\\\\Anaconda3\\\\lib\\\\base64.py'>,\n",
       " 'asyncio.constants': <module 'asyncio.constants' from 'C:\\\\ProgramFiles\\\\Anaconda3\\\\lib\\\\asyncio\\\\constants.py'>,\n",
       " 'asyncio.coroutines': <module 'asyncio.coroutines' from 'C:\\\\ProgramFiles\\\\Anaconda3\\\\lib\\\\asyncio\\\\coroutines.py'>,\n",
       " 'asyncio.base_futures': <module 'asyncio.base_futures' from 'C:\\\\ProgramFiles\\\\Anaconda3\\\\lib\\\\asyncio\\\\base_futures.py'>,\n",
       " 'asyncio.format_helpers': <module 'asyncio.format_helpers' from 'C:\\\\ProgramFiles\\\\Anaconda3\\\\lib\\\\asyncio\\\\format_helpers.py'>,\n",
       " 'asyncio.log': <module 'asyncio.log' from 'C:\\\\ProgramFiles\\\\Anaconda3\\\\lib\\\\asyncio\\\\log.py'>,\n",
       " 'asyncio.events': <module 'asyncio.events' from 'C:\\\\ProgramFiles\\\\Anaconda3\\\\lib\\\\asyncio\\\\events.py'>,\n",
       " 'contextvars': <module 'contextvars' from 'C:\\\\ProgramFiles\\\\Anaconda3\\\\lib\\\\contextvars.py'>,\n",
       " '_contextvars': <module '_contextvars' (built-in)>,\n",
       " 'asyncio.base_tasks': <module 'asyncio.base_tasks' from 'C:\\\\ProgramFiles\\\\Anaconda3\\\\lib\\\\asyncio\\\\base_tasks.py'>,\n",
       " '_asyncio': <module '_asyncio' from 'C:\\\\ProgramFiles\\\\Anaconda3\\\\DLLs\\\\_asyncio.pyd'>,\n",
       " 'asyncio.futures': <module 'asyncio.futures' from 'C:\\\\ProgramFiles\\\\Anaconda3\\\\lib\\\\asyncio\\\\futures.py'>,\n",
       " 'asyncio.protocols': <module 'asyncio.protocols' from 'C:\\\\ProgramFiles\\\\Anaconda3\\\\lib\\\\asyncio\\\\protocols.py'>,\n",
       " 'asyncio.sslproto': <module 'asyncio.sslproto' from 'C:\\\\ProgramFiles\\\\Anaconda3\\\\lib\\\\asyncio\\\\sslproto.py'>,\n",
       " 'asyncio.transports': <module 'asyncio.transports' from 'C:\\\\ProgramFiles\\\\Anaconda3\\\\lib\\\\asyncio\\\\transports.py'>,\n",
       " 'asyncio.tasks': <module 'asyncio.tasks' from 'C:\\\\ProgramFiles\\\\Anaconda3\\\\lib\\\\asyncio\\\\tasks.py'>,\n",
       " 'asyncio.locks': <module 'asyncio.locks' from 'C:\\\\ProgramFiles\\\\Anaconda3\\\\lib\\\\asyncio\\\\locks.py'>,\n",
       " 'asyncio.runners': <module 'asyncio.runners' from 'C:\\\\ProgramFiles\\\\Anaconda3\\\\lib\\\\asyncio\\\\runners.py'>,\n",
       " 'asyncio.queues': <module 'asyncio.queues' from 'C:\\\\ProgramFiles\\\\Anaconda3\\\\lib\\\\asyncio\\\\queues.py'>,\n",
       " 'asyncio.streams': <module 'asyncio.streams' from 'C:\\\\ProgramFiles\\\\Anaconda3\\\\lib\\\\asyncio\\\\streams.py'>,\n",
       " 'asyncio.subprocess': <module 'asyncio.subprocess' from 'C:\\\\ProgramFiles\\\\Anaconda3\\\\lib\\\\asyncio\\\\subprocess.py'>,\n",
       " 'asyncio.windows_events': <module 'asyncio.windows_events' from 'C:\\\\ProgramFiles\\\\Anaconda3\\\\lib\\\\asyncio\\\\windows_events.py'>,\n",
       " '_overlapped': <module '_overlapped' from 'C:\\\\ProgramFiles\\\\Anaconda3\\\\DLLs\\\\_overlapped.pyd'>,\n",
       " 'asyncio.base_subprocess': <module 'asyncio.base_subprocess' from 'C:\\\\ProgramFiles\\\\Anaconda3\\\\lib\\\\asyncio\\\\base_subprocess.py'>,\n",
       " 'asyncio.proactor_events': <module 'asyncio.proactor_events' from 'C:\\\\ProgramFiles\\\\Anaconda3\\\\lib\\\\asyncio\\\\proactor_events.py'>,\n",
       " 'asyncio.selector_events': <module 'asyncio.selector_events' from 'C:\\\\ProgramFiles\\\\Anaconda3\\\\lib\\\\asyncio\\\\selector_events.py'>,\n",
       " 'asyncio.windows_utils': <module 'asyncio.windows_utils' from 'C:\\\\ProgramFiles\\\\Anaconda3\\\\lib\\\\asyncio\\\\windows_utils.py'>,\n",
       " 'prompt_toolkit': <module 'prompt_toolkit' from 'C:\\\\ProgramFiles\\\\Anaconda3\\\\lib\\\\site-packages\\\\prompt_toolkit\\\\__init__.py'>,\n",
       " 'prompt_toolkit.application': <module 'prompt_toolkit.application' from 'C:\\\\ProgramFiles\\\\Anaconda3\\\\lib\\\\site-packages\\\\prompt_toolkit\\\\application\\\\__init__.py'>,\n",
       " 'prompt_toolkit.application.application': <module 'prompt_toolkit.application.application' from 'C:\\\\ProgramFiles\\\\Anaconda3\\\\lib\\\\site-packages\\\\prompt_toolkit\\\\application\\\\application.py'>,\n",
       " 'prompt_toolkit.buffer': <module 'prompt_toolkit.buffer' from 'C:\\\\ProgramFiles\\\\Anaconda3\\\\lib\\\\site-packages\\\\prompt_toolkit\\\\buffer.py'>,\n",
       " 'prompt_toolkit.application.current': <module 'prompt_toolkit.application.current' from 'C:\\\\ProgramFiles\\\\Anaconda3\\\\lib\\\\site-packages\\\\prompt_toolkit\\\\application\\\\current.py'>,\n",
       " 'prompt_toolkit.application.run_in_terminal': <module 'prompt_toolkit.application.run_in_terminal' from 'C:\\\\ProgramFiles\\\\Anaconda3\\\\lib\\\\site-packages\\\\prompt_toolkit\\\\application\\\\run_in_terminal.py'>,\n",
       " 'prompt_toolkit.eventloop': <module 'prompt_toolkit.eventloop' from 'C:\\\\ProgramFiles\\\\Anaconda3\\\\lib\\\\site-packages\\\\prompt_toolkit\\\\eventloop\\\\__init__.py'>,\n",
       " 'prompt_toolkit.eventloop.async_generator': <module 'prompt_toolkit.eventloop.async_generator' from 'C:\\\\ProgramFiles\\\\Anaconda3\\\\lib\\\\site-packages\\\\prompt_toolkit\\\\eventloop\\\\async_generator.py'>,\n",
       " 'prompt_toolkit.eventloop.utils': <module 'prompt_toolkit.eventloop.utils' from 'C:\\\\ProgramFiles\\\\Anaconda3\\\\lib\\\\site-packages\\\\prompt_toolkit\\\\eventloop\\\\utils.py'>,\n",
       " 'prompt_toolkit.eventloop.inputhook': <module 'prompt_toolkit.eventloop.inputhook' from 'C:\\\\ProgramFiles\\\\Anaconda3\\\\lib\\\\site-packages\\\\prompt_toolkit\\\\eventloop\\\\inputhook.py'>,\n",
       " 'prompt_toolkit.utils': <module 'prompt_toolkit.utils' from 'C:\\\\ProgramFiles\\\\Anaconda3\\\\lib\\\\site-packages\\\\prompt_toolkit\\\\utils.py'>,\n",
       " 'wcwidth': <module 'wcwidth' from 'C:\\\\ProgramFiles\\\\Anaconda3\\\\lib\\\\site-packages\\\\wcwidth\\\\__init__.py'>,\n",
       " 'wcwidth.wcwidth': <module 'wcwidth.wcwidth' from 'C:\\\\ProgramFiles\\\\Anaconda3\\\\lib\\\\site-packages\\\\wcwidth\\\\wcwidth.py'>,\n",
       " 'wcwidth.table_wide': <module 'wcwidth.table_wide' from 'C:\\\\ProgramFiles\\\\Anaconda3\\\\lib\\\\site-packages\\\\wcwidth\\\\table_wide.py'>,\n",
       " 'wcwidth.table_zero': <module 'wcwidth.table_zero' from 'C:\\\\ProgramFiles\\\\Anaconda3\\\\lib\\\\site-packages\\\\wcwidth\\\\table_zero.py'>,\n",
       " 'wcwidth.unicode_versions': <module 'wcwidth.unicode_versions' from 'C:\\\\ProgramFiles\\\\Anaconda3\\\\lib\\\\site-packages\\\\wcwidth\\\\unicode_versions.py'>,\n",
       " 'prompt_toolkit.auto_suggest': <module 'prompt_toolkit.auto_suggest' from 'C:\\\\ProgramFiles\\\\Anaconda3\\\\lib\\\\site-packages\\\\prompt_toolkit\\\\auto_suggest.py'>,\n",
       " 'prompt_toolkit.document': <module 'prompt_toolkit.document' from 'C:\\\\ProgramFiles\\\\Anaconda3\\\\lib\\\\site-packages\\\\prompt_toolkit\\\\document.py'>,\n",
       " 'prompt_toolkit.clipboard': <module 'prompt_toolkit.clipboard' from 'C:\\\\ProgramFiles\\\\Anaconda3\\\\lib\\\\site-packages\\\\prompt_toolkit\\\\clipboard\\\\__init__.py'>,\n",
       " 'prompt_toolkit.clipboard.base': <module 'prompt_toolkit.clipboard.base' from 'C:\\\\ProgramFiles\\\\Anaconda3\\\\lib\\\\site-packages\\\\prompt_toolkit\\\\clipboard\\\\base.py'>,\n",
       " 'prompt_toolkit.selection': <module 'prompt_toolkit.selection' from 'C:\\\\ProgramFiles\\\\Anaconda3\\\\lib\\\\site-packages\\\\prompt_toolkit\\\\selection.py'>,\n",
       " 'prompt_toolkit.clipboard.in_memory': <module 'prompt_toolkit.clipboard.in_memory' from 'C:\\\\ProgramFiles\\\\Anaconda3\\\\lib\\\\site-packages\\\\prompt_toolkit\\\\clipboard\\\\in_memory.py'>,\n",
       " 'prompt_toolkit.filters': <module 'prompt_toolkit.filters' from 'C:\\\\ProgramFiles\\\\Anaconda3\\\\lib\\\\site-packages\\\\prompt_toolkit\\\\filters\\\\__init__.py'>,\n",
       " 'prompt_toolkit.filters.app': <module 'prompt_toolkit.filters.app' from 'C:\\\\ProgramFiles\\\\Anaconda3\\\\lib\\\\site-packages\\\\prompt_toolkit\\\\filters\\\\app.py'>,\n",
       " 'prompt_toolkit.cache': <module 'prompt_toolkit.cache' from 'C:\\\\ProgramFiles\\\\Anaconda3\\\\lib\\\\site-packages\\\\prompt_toolkit\\\\cache.py'>,\n",
       " 'prompt_toolkit.enums': <module 'prompt_toolkit.enums' from 'C:\\\\ProgramFiles\\\\Anaconda3\\\\lib\\\\site-packages\\\\prompt_toolkit\\\\enums.py'>,\n",
       " 'prompt_toolkit.filters.base': <module 'prompt_toolkit.filters.base' from 'C:\\\\ProgramFiles\\\\Anaconda3\\\\lib\\\\site-packages\\\\prompt_toolkit\\\\filters\\\\base.py'>,\n",
       " 'prompt_toolkit.filters.cli': <module 'prompt_toolkit.filters.cli' from 'C:\\\\ProgramFiles\\\\Anaconda3\\\\lib\\\\site-packages\\\\prompt_toolkit\\\\filters\\\\cli.py'>,\n",
       " 'prompt_toolkit.filters.utils': <module 'prompt_toolkit.filters.utils' from 'C:\\\\ProgramFiles\\\\Anaconda3\\\\lib\\\\site-packages\\\\prompt_toolkit\\\\filters\\\\utils.py'>,\n",
       " 'prompt_toolkit.completion': <module 'prompt_toolkit.completion' from 'C:\\\\ProgramFiles\\\\Anaconda3\\\\lib\\\\site-packages\\\\prompt_toolkit\\\\completion\\\\__init__.py'>,\n",
       " 'prompt_toolkit.completion.base': <module 'prompt_toolkit.completion.base' from 'C:\\\\ProgramFiles\\\\Anaconda3\\\\lib\\\\site-packages\\\\prompt_toolkit\\\\completion\\\\base.py'>,\n",
       " 'prompt_toolkit.formatted_text': <module 'prompt_toolkit.formatted_text' from 'C:\\\\ProgramFiles\\\\Anaconda3\\\\lib\\\\site-packages\\\\prompt_toolkit\\\\formatted_text\\\\__init__.py'>,\n",
       " 'prompt_toolkit.formatted_text.ansi': <module 'prompt_toolkit.formatted_text.ansi' from 'C:\\\\ProgramFiles\\\\Anaconda3\\\\lib\\\\site-packages\\\\prompt_toolkit\\\\formatted_text\\\\ansi.py'>,\n",
       " 'prompt_toolkit.output': <module 'prompt_toolkit.output' from 'C:\\\\ProgramFiles\\\\Anaconda3\\\\lib\\\\site-packages\\\\prompt_toolkit\\\\output\\\\__init__.py'>,\n",
       " 'prompt_toolkit.output.base': <module 'prompt_toolkit.output.base' from 'C:\\\\ProgramFiles\\\\Anaconda3\\\\lib\\\\site-packages\\\\prompt_toolkit\\\\output\\\\base.py'>,\n",
       " 'prompt_toolkit.data_structures': <module 'prompt_toolkit.data_structures' from 'C:\\\\ProgramFiles\\\\Anaconda3\\\\lib\\\\site-packages\\\\prompt_toolkit\\\\data_structures.py'>,\n",
       " 'prompt_toolkit.styles': <module 'prompt_toolkit.styles' from 'C:\\\\ProgramFiles\\\\Anaconda3\\\\lib\\\\site-packages\\\\prompt_toolkit\\\\styles\\\\__init__.py'>,\n",
       " 'prompt_toolkit.styles.base': <module 'prompt_toolkit.styles.base' from 'C:\\\\ProgramFiles\\\\Anaconda3\\\\lib\\\\site-packages\\\\prompt_toolkit\\\\styles\\\\base.py'>,\n",
       " 'prompt_toolkit.styles.defaults': <module 'prompt_toolkit.styles.defaults' from 'C:\\\\ProgramFiles\\\\Anaconda3\\\\lib\\\\site-packages\\\\prompt_toolkit\\\\styles\\\\defaults.py'>,\n",
       " 'prompt_toolkit.styles.named_colors': <module 'prompt_toolkit.styles.named_colors' from 'C:\\\\ProgramFiles\\\\Anaconda3\\\\lib\\\\site-packages\\\\prompt_toolkit\\\\styles\\\\named_colors.py'>,\n",
       " 'prompt_toolkit.styles.style': <module 'prompt_toolkit.styles.style' from 'C:\\\\ProgramFiles\\\\Anaconda3\\\\lib\\\\site-packages\\\\prompt_toolkit\\\\styles\\\\style.py'>,\n",
       " 'prompt_toolkit.styles.pygments': <module 'prompt_toolkit.styles.pygments' from 'C:\\\\ProgramFiles\\\\Anaconda3\\\\lib\\\\site-packages\\\\prompt_toolkit\\\\styles\\\\pygments.py'>,\n",
       " 'prompt_toolkit.styles.style_transformation': <module 'prompt_toolkit.styles.style_transformation' from 'C:\\\\ProgramFiles\\\\Anaconda3\\\\lib\\\\site-packages\\\\prompt_toolkit\\\\styles\\\\style_transformation.py'>,\n",
       " 'colorsys': <module 'colorsys' from 'C:\\\\ProgramFiles\\\\Anaconda3\\\\lib\\\\colorsys.py'>,\n",
       " 'prompt_toolkit.output.color_depth': <module 'prompt_toolkit.output.color_depth' from 'C:\\\\ProgramFiles\\\\Anaconda3\\\\lib\\\\site-packages\\\\prompt_toolkit\\\\output\\\\color_depth.py'>,\n",
       " 'prompt_toolkit.output.defaults': <module 'prompt_toolkit.output.defaults' from 'C:\\\\ProgramFiles\\\\Anaconda3\\\\lib\\\\site-packages\\\\prompt_toolkit\\\\output\\\\defaults.py'>,\n",
       " 'prompt_toolkit.patch_stdout': <module 'prompt_toolkit.patch_stdout' from 'C:\\\\ProgramFiles\\\\Anaconda3\\\\lib\\\\site-packages\\\\prompt_toolkit\\\\patch_stdout.py'>,\n",
       " 'prompt_toolkit.output.vt100': <module 'prompt_toolkit.output.vt100' from 'C:\\\\ProgramFiles\\\\Anaconda3\\\\lib\\\\site-packages\\\\prompt_toolkit\\\\output\\\\vt100.py'>,\n",
       " 'array': <module 'array' (built-in)>,\n",
       " 'prompt_toolkit.formatted_text.base': <module 'prompt_toolkit.formatted_text.base' from 'C:\\\\ProgramFiles\\\\Anaconda3\\\\lib\\\\site-packages\\\\prompt_toolkit\\\\formatted_text\\\\base.py'>,\n",
       " 'prompt_toolkit.mouse_events': <module 'prompt_toolkit.mouse_events' from 'C:\\\\ProgramFiles\\\\Anaconda3\\\\lib\\\\site-packages\\\\prompt_toolkit\\\\mouse_events.py'>,\n",
       " 'prompt_toolkit.formatted_text.html': <module 'prompt_toolkit.formatted_text.html' from 'C:\\\\ProgramFiles\\\\Anaconda3\\\\lib\\\\site-packages\\\\prompt_toolkit\\\\formatted_text\\\\html.py'>,\n",
       " 'xml': <module 'xml' from 'C:\\\\ProgramFiles\\\\Anaconda3\\\\lib\\\\xml\\\\__init__.py'>,\n",
       " 'xml.dom': <module 'xml.dom' from 'C:\\\\ProgramFiles\\\\Anaconda3\\\\lib\\\\xml\\\\dom\\\\__init__.py'>,\n",
       " 'xml.dom.domreg': <module 'xml.dom.domreg' from 'C:\\\\ProgramFiles\\\\Anaconda3\\\\lib\\\\xml\\\\dom\\\\domreg.py'>,\n",
       " 'xml.dom.minidom': <module 'xml.dom.minidom' from 'C:\\\\ProgramFiles\\\\Anaconda3\\\\lib\\\\xml\\\\dom\\\\minidom.py'>,\n",
       " 'xml.dom.minicompat': <module 'xml.dom.minicompat' from 'C:\\\\ProgramFiles\\\\Anaconda3\\\\lib\\\\xml\\\\dom\\\\minicompat.py'>,\n",
       " 'xml.dom.xmlbuilder': <module 'xml.dom.xmlbuilder' from 'C:\\\\ProgramFiles\\\\Anaconda3\\\\lib\\\\xml\\\\dom\\\\xmlbuilder.py'>,\n",
       " 'xml.dom.NodeFilter': <module 'xml.dom.NodeFilter' from 'C:\\\\ProgramFiles\\\\Anaconda3\\\\lib\\\\xml\\\\dom\\\\NodeFilter.py'>,\n",
       " 'prompt_toolkit.formatted_text.pygments': <module 'prompt_toolkit.formatted_text.pygments' from 'C:\\\\ProgramFiles\\\\Anaconda3\\\\lib\\\\site-packages\\\\prompt_toolkit\\\\formatted_text\\\\pygments.py'>,\n",
       " 'prompt_toolkit.formatted_text.utils': <module 'prompt_toolkit.formatted_text.utils' from 'C:\\\\ProgramFiles\\\\Anaconda3\\\\lib\\\\site-packages\\\\prompt_toolkit\\\\formatted_text\\\\utils.py'>,\n",
       " 'prompt_toolkit.completion.filesystem': <module 'prompt_toolkit.completion.filesystem' from 'C:\\\\ProgramFiles\\\\Anaconda3\\\\lib\\\\site-packages\\\\prompt_toolkit\\\\completion\\\\filesystem.py'>,\n",
       " 'prompt_toolkit.completion.fuzzy_completer': <module 'prompt_toolkit.completion.fuzzy_completer' from 'C:\\\\ProgramFiles\\\\Anaconda3\\\\lib\\\\site-packages\\\\prompt_toolkit\\\\completion\\\\fuzzy_completer.py'>,\n",
       " 'prompt_toolkit.completion.word_completer': <module 'prompt_toolkit.completion.word_completer' from 'C:\\\\ProgramFiles\\\\Anaconda3\\\\lib\\\\site-packages\\\\prompt_toolkit\\\\completion\\\\word_completer.py'>,\n",
       " 'prompt_toolkit.completion.nested': <module 'prompt_toolkit.completion.nested' from 'C:\\\\ProgramFiles\\\\Anaconda3\\\\lib\\\\site-packages\\\\prompt_toolkit\\\\completion\\\\nested.py'>,\n",
       " 'prompt_toolkit.history': <module 'prompt_toolkit.history' from 'C:\\\\ProgramFiles\\\\Anaconda3\\\\lib\\\\site-packages\\\\prompt_toolkit\\\\history.py'>,\n",
       " 'prompt_toolkit.search': <module 'prompt_toolkit.search' from 'C:\\\\ProgramFiles\\\\Anaconda3\\\\lib\\\\site-packages\\\\prompt_toolkit\\\\search.py'>,\n",
       " 'prompt_toolkit.key_binding': <module 'prompt_toolkit.key_binding' from 'C:\\\\ProgramFiles\\\\Anaconda3\\\\lib\\\\site-packages\\\\prompt_toolkit\\\\key_binding\\\\__init__.py'>,\n",
       " 'prompt_toolkit.key_binding.key_bindings': <module 'prompt_toolkit.key_binding.key_bindings' from 'C:\\\\ProgramFiles\\\\Anaconda3\\\\lib\\\\site-packages\\\\prompt_toolkit\\\\key_binding\\\\key_bindings.py'>,\n",
       " 'prompt_toolkit.keys': <module 'prompt_toolkit.keys' from 'C:\\\\ProgramFiles\\\\Anaconda3\\\\lib\\\\site-packages\\\\prompt_toolkit\\\\keys.py'>,\n",
       " 'prompt_toolkit.key_binding.key_processor': <module 'prompt_toolkit.key_binding.key_processor' from 'C:\\\\ProgramFiles\\\\Anaconda3\\\\lib\\\\site-packages\\\\prompt_toolkit\\\\key_binding\\\\key_processor.py'>,\n",
       " 'prompt_toolkit.key_binding.vi_state': <module 'prompt_toolkit.key_binding.vi_state' from 'C:\\\\ProgramFiles\\\\Anaconda3\\\\lib\\\\site-packages\\\\prompt_toolkit\\\\key_binding\\\\vi_state.py'>,\n",
       " 'prompt_toolkit.validation': <module 'prompt_toolkit.validation' from 'C:\\\\ProgramFiles\\\\Anaconda3\\\\lib\\\\site-packages\\\\prompt_toolkit\\\\validation.py'>,\n",
       " 'prompt_toolkit.input': <module 'prompt_toolkit.input' from 'C:\\\\ProgramFiles\\\\Anaconda3\\\\lib\\\\site-packages\\\\prompt_toolkit\\\\input\\\\__init__.py'>,\n",
       " 'prompt_toolkit.input.base': <module 'prompt_toolkit.input.base' from 'C:\\\\ProgramFiles\\\\Anaconda3\\\\lib\\\\site-packages\\\\prompt_toolkit\\\\input\\\\base.py'>,\n",
       " 'prompt_toolkit.input.defaults': <module 'prompt_toolkit.input.defaults' from 'C:\\\\ProgramFiles\\\\Anaconda3\\\\lib\\\\site-packages\\\\prompt_toolkit\\\\input\\\\defaults.py'>,\n",
       " 'prompt_toolkit.input.typeahead': <module 'prompt_toolkit.input.typeahead' from 'C:\\\\ProgramFiles\\\\Anaconda3\\\\lib\\\\site-packages\\\\prompt_toolkit\\\\input\\\\typeahead.py'>,\n",
       " 'prompt_toolkit.key_binding.bindings': <module 'prompt_toolkit.key_binding.bindings' from 'C:\\\\ProgramFiles\\\\Anaconda3\\\\lib\\\\site-packages\\\\prompt_toolkit\\\\key_binding\\\\bindings\\\\__init__.py'>,\n",
       " 'prompt_toolkit.key_binding.bindings.page_navigation': <module 'prompt_toolkit.key_binding.bindings.page_navigation' from 'C:\\\\ProgramFiles\\\\Anaconda3\\\\lib\\\\site-packages\\\\prompt_toolkit\\\\key_binding\\\\bindings\\\\page_navigation.py'>,\n",
       " 'prompt_toolkit.key_binding.bindings.scroll': <module 'prompt_toolkit.key_binding.bindings.scroll' from 'C:\\\\ProgramFiles\\\\Anaconda3\\\\lib\\\\site-packages\\\\prompt_toolkit\\\\key_binding\\\\bindings\\\\scroll.py'>,\n",
       " 'prompt_toolkit.key_binding.defaults': <module 'prompt_toolkit.key_binding.defaults' from 'C:\\\\ProgramFiles\\\\Anaconda3\\\\lib\\\\site-packages\\\\prompt_toolkit\\\\key_binding\\\\defaults.py'>,\n",
       " 'prompt_toolkit.key_binding.bindings.basic': <module 'prompt_toolkit.key_binding.bindings.basic' from 'C:\\\\ProgramFiles\\\\Anaconda3\\\\lib\\\\site-packages\\\\prompt_toolkit\\\\key_binding\\\\bindings\\\\basic.py'>,\n",
       " 'prompt_toolkit.key_binding.bindings.named_commands': <module 'prompt_toolkit.key_binding.bindings.named_commands' from 'C:\\\\ProgramFiles\\\\Anaconda3\\\\lib\\\\site-packages\\\\prompt_toolkit\\\\key_binding\\\\bindings\\\\named_commands.py'>,\n",
       " 'prompt_toolkit.layout': <module 'prompt_toolkit.layout' from 'C:\\\\ProgramFiles\\\\Anaconda3\\\\lib\\\\site-packages\\\\prompt_toolkit\\\\layout\\\\__init__.py'>,\n",
       " 'prompt_toolkit.layout.containers': <module 'prompt_toolkit.layout.containers' from 'C:\\\\ProgramFiles\\\\Anaconda3\\\\lib\\\\site-packages\\\\prompt_toolkit\\\\layout\\\\containers.py'>,\n",
       " 'prompt_toolkit.layout.controls': <module 'prompt_toolkit.layout.controls' from 'C:\\\\ProgramFiles\\\\Anaconda3\\\\lib\\\\site-packages\\\\prompt_toolkit\\\\layout\\\\controls.py'>,\n",
       " 'prompt_toolkit.lexers': <module 'prompt_toolkit.lexers' from 'C:\\\\ProgramFiles\\\\Anaconda3\\\\lib\\\\site-packages\\\\prompt_toolkit\\\\lexers\\\\__init__.py'>,\n",
       " 'prompt_toolkit.lexers.base': <module 'prompt_toolkit.lexers.base' from 'C:\\\\ProgramFiles\\\\Anaconda3\\\\lib\\\\site-packages\\\\prompt_toolkit\\\\lexers\\\\base.py'>,\n",
       " 'prompt_toolkit.lexers.pygments': <module 'prompt_toolkit.lexers.pygments' from 'C:\\\\ProgramFiles\\\\Anaconda3\\\\lib\\\\site-packages\\\\prompt_toolkit\\\\lexers\\\\pygments.py'>,\n",
       " 'prompt_toolkit.layout.processors': <module 'prompt_toolkit.layout.processors' from 'C:\\\\ProgramFiles\\\\Anaconda3\\\\lib\\\\site-packages\\\\prompt_toolkit\\\\layout\\\\processors.py'>,\n",
       " 'prompt_toolkit.layout.utils': <module 'prompt_toolkit.layout.utils' from 'C:\\\\ProgramFiles\\\\Anaconda3\\\\lib\\\\site-packages\\\\prompt_toolkit\\\\layout\\\\utils.py'>,\n",
       " 'prompt_toolkit.layout.dimension': <module 'prompt_toolkit.layout.dimension' from 'C:\\\\ProgramFiles\\\\Anaconda3\\\\lib\\\\site-packages\\\\prompt_toolkit\\\\layout\\\\dimension.py'>,\n",
       " 'prompt_toolkit.layout.margins': <module 'prompt_toolkit.layout.margins' from 'C:\\\\ProgramFiles\\\\Anaconda3\\\\lib\\\\site-packages\\\\prompt_toolkit\\\\layout\\\\margins.py'>,\n",
       " 'prompt_toolkit.layout.mouse_handlers': <module 'prompt_toolkit.layout.mouse_handlers' from 'C:\\\\ProgramFiles\\\\Anaconda3\\\\lib\\\\site-packages\\\\prompt_toolkit\\\\layout\\\\mouse_handlers.py'>,\n",
       " 'prompt_toolkit.layout.screen': <module 'prompt_toolkit.layout.screen' from 'C:\\\\ProgramFiles\\\\Anaconda3\\\\lib\\\\site-packages\\\\prompt_toolkit\\\\layout\\\\screen.py'>,\n",
       " 'prompt_toolkit.layout.layout': <module 'prompt_toolkit.layout.layout' from 'C:\\\\ProgramFiles\\\\Anaconda3\\\\lib\\\\site-packages\\\\prompt_toolkit\\\\layout\\\\layout.py'>,\n",
       " 'prompt_toolkit.layout.menus': <module 'prompt_toolkit.layout.menus' from 'C:\\\\ProgramFiles\\\\Anaconda3\\\\lib\\\\site-packages\\\\prompt_toolkit\\\\layout\\\\menus.py'>,\n",
       " 'prompt_toolkit.key_binding.bindings.completion': <module 'prompt_toolkit.key_binding.bindings.completion' from 'C:\\\\ProgramFiles\\\\Anaconda3\\\\lib\\\\site-packages\\\\prompt_toolkit\\\\key_binding\\\\bindings\\\\completion.py'>,\n",
       " 'prompt_toolkit.key_binding.bindings.cpr': <module 'prompt_toolkit.key_binding.bindings.cpr' from 'C:\\\\ProgramFiles\\\\Anaconda3\\\\lib\\\\site-packages\\\\prompt_toolkit\\\\key_binding\\\\bindings\\\\cpr.py'>,\n",
       " 'prompt_toolkit.key_binding.bindings.emacs': <module 'prompt_toolkit.key_binding.bindings.emacs' from 'C:\\\\ProgramFiles\\\\Anaconda3\\\\lib\\\\site-packages\\\\prompt_toolkit\\\\key_binding\\\\bindings\\\\emacs.py'>,\n",
       " 'prompt_toolkit.key_binding.bindings.mouse': <module 'prompt_toolkit.key_binding.bindings.mouse' from 'C:\\\\ProgramFiles\\\\Anaconda3\\\\lib\\\\site-packages\\\\prompt_toolkit\\\\key_binding\\\\bindings\\\\mouse.py'>,\n",
       " 'prompt_toolkit.key_binding.bindings.vi': <module 'prompt_toolkit.key_binding.bindings.vi' from 'C:\\\\ProgramFiles\\\\Anaconda3\\\\lib\\\\site-packages\\\\prompt_toolkit\\\\key_binding\\\\bindings\\\\vi.py'>,\n",
       " 'prompt_toolkit.input.vt100_parser': <module 'prompt_toolkit.input.vt100_parser' from 'C:\\\\ProgramFiles\\\\Anaconda3\\\\lib\\\\site-packages\\\\prompt_toolkit\\\\input\\\\vt100_parser.py'>,\n",
       " 'prompt_toolkit.input.ansi_escape_sequences': <module 'prompt_toolkit.input.ansi_escape_sequences' from 'C:\\\\ProgramFiles\\\\Anaconda3\\\\lib\\\\site-packages\\\\prompt_toolkit\\\\input\\\\ansi_escape_sequences.py'>,\n",
       " 'prompt_toolkit.key_binding.digraphs': <module 'prompt_toolkit.key_binding.digraphs' from 'C:\\\\ProgramFiles\\\\Anaconda3\\\\lib\\\\site-packages\\\\prompt_toolkit\\\\key_binding\\\\digraphs.py'>,\n",
       " 'prompt_toolkit.key_binding.emacs_state': <module 'prompt_toolkit.key_binding.emacs_state' from 'C:\\\\ProgramFiles\\\\Anaconda3\\\\lib\\\\site-packages\\\\prompt_toolkit\\\\key_binding\\\\emacs_state.py'>,\n",
       " 'prompt_toolkit.layout.dummy': <module 'prompt_toolkit.layout.dummy' from 'C:\\\\ProgramFiles\\\\Anaconda3\\\\lib\\\\site-packages\\\\prompt_toolkit\\\\layout\\\\dummy.py'>,\n",
       " 'prompt_toolkit.renderer': <module 'prompt_toolkit.renderer' from 'C:\\\\ProgramFiles\\\\Anaconda3\\\\lib\\\\site-packages\\\\prompt_toolkit\\\\renderer.py'>,\n",
       " 'prompt_toolkit.application.dummy': <module 'prompt_toolkit.application.dummy' from 'C:\\\\ProgramFiles\\\\Anaconda3\\\\lib\\\\site-packages\\\\prompt_toolkit\\\\application\\\\dummy.py'>,\n",
       " 'prompt_toolkit.shortcuts': <module 'prompt_toolkit.shortcuts' from 'C:\\\\ProgramFiles\\\\Anaconda3\\\\lib\\\\site-packages\\\\prompt_toolkit\\\\shortcuts\\\\__init__.py'>,\n",
       " 'prompt_toolkit.shortcuts.dialogs': <module 'prompt_toolkit.shortcuts.dialogs' from 'C:\\\\ProgramFiles\\\\Anaconda3\\\\lib\\\\site-packages\\\\prompt_toolkit\\\\shortcuts\\\\dialogs.py'>,\n",
       " 'prompt_toolkit.key_binding.bindings.focus': <module 'prompt_toolkit.key_binding.bindings.focus' from 'C:\\\\ProgramFiles\\\\Anaconda3\\\\lib\\\\site-packages\\\\prompt_toolkit\\\\key_binding\\\\bindings\\\\focus.py'>,\n",
       " 'prompt_toolkit.widgets': <module 'prompt_toolkit.widgets' from 'C:\\\\ProgramFiles\\\\Anaconda3\\\\lib\\\\site-packages\\\\prompt_toolkit\\\\widgets\\\\__init__.py'>,\n",
       " 'prompt_toolkit.widgets.base': <module 'prompt_toolkit.widgets.base' from 'C:\\\\ProgramFiles\\\\Anaconda3\\\\lib\\\\site-packages\\\\prompt_toolkit\\\\widgets\\\\base.py'>,\n",
       " 'prompt_toolkit.widgets.toolbars': <module 'prompt_toolkit.widgets.toolbars' from 'C:\\\\ProgramFiles\\\\Anaconda3\\\\lib\\\\site-packages\\\\prompt_toolkit\\\\widgets\\\\toolbars.py'>,\n",
       " 'prompt_toolkit.widgets.dialogs': <module 'prompt_toolkit.widgets.dialogs' from 'C:\\\\ProgramFiles\\\\Anaconda3\\\\lib\\\\site-packages\\\\prompt_toolkit\\\\widgets\\\\dialogs.py'>,\n",
       " 'prompt_toolkit.widgets.menus': <module 'prompt_toolkit.widgets.menus' from 'C:\\\\ProgramFiles\\\\Anaconda3\\\\lib\\\\site-packages\\\\prompt_toolkit\\\\widgets\\\\menus.py'>,\n",
       " 'prompt_toolkit.shortcuts.progress_bar': <module 'prompt_toolkit.shortcuts.progress_bar' from 'C:\\\\ProgramFiles\\\\Anaconda3\\\\lib\\\\site-packages\\\\prompt_toolkit\\\\shortcuts\\\\progress_bar\\\\__init__.py'>,\n",
       " 'prompt_toolkit.shortcuts.progress_bar.base': <module 'prompt_toolkit.shortcuts.progress_bar.base' from 'C:\\\\ProgramFiles\\\\Anaconda3\\\\lib\\\\site-packages\\\\prompt_toolkit\\\\shortcuts\\\\progress_bar\\\\base.py'>,\n",
       " 'prompt_toolkit.shortcuts.progress_bar.formatters': <module 'prompt_toolkit.shortcuts.progress_bar.formatters' from 'C:\\\\ProgramFiles\\\\Anaconda3\\\\lib\\\\site-packages\\\\prompt_toolkit\\\\shortcuts\\\\progress_bar\\\\formatters.py'>,\n",
       " 'prompt_toolkit.shortcuts.prompt': <module 'prompt_toolkit.shortcuts.prompt' from 'C:\\\\ProgramFiles\\\\Anaconda3\\\\lib\\\\site-packages\\\\prompt_toolkit\\\\shortcuts\\\\prompt.py'>,\n",
       " 'prompt_toolkit.key_binding.bindings.auto_suggest': <module 'prompt_toolkit.key_binding.bindings.auto_suggest' from 'C:\\\\ProgramFiles\\\\Anaconda3\\\\lib\\\\site-packages\\\\prompt_toolkit\\\\key_binding\\\\bindings\\\\auto_suggest.py'>,\n",
       " 'prompt_toolkit.key_binding.bindings.open_in_editor': <module 'prompt_toolkit.key_binding.bindings.open_in_editor' from 'C:\\\\ProgramFiles\\\\Anaconda3\\\\lib\\\\site-packages\\\\prompt_toolkit\\\\key_binding\\\\bindings\\\\open_in_editor.py'>,\n",
       " 'prompt_toolkit.shortcuts.utils': <module 'prompt_toolkit.shortcuts.utils' from 'C:\\\\ProgramFiles\\\\Anaconda3\\\\lib\\\\site-packages\\\\prompt_toolkit\\\\shortcuts\\\\utils.py'>,\n",
       " 'pygments.style': <module 'pygments.style' from 'C:\\\\ProgramFiles\\\\Anaconda3\\\\lib\\\\site-packages\\\\pygments\\\\style.py'>,\n",
       " 'IPython.terminal.debugger': <module 'IPython.terminal.debugger' from 'C:\\\\ProgramFiles\\\\Anaconda3\\\\lib\\\\site-packages\\\\IPython\\\\terminal\\\\debugger.py'>,\n",
       " 'IPython.core.completer': <module 'IPython.core.completer' from 'C:\\\\ProgramFiles\\\\Anaconda3\\\\lib\\\\site-packages\\\\IPython\\\\core\\\\completer.py'>,\n",
       " 'unicodedata': <module 'unicodedata' from 'C:\\\\ProgramFiles\\\\Anaconda3\\\\DLLs\\\\unicodedata.pyd'>,\n",
       " 'IPython.core.latex_symbols': <module 'IPython.core.latex_symbols' from 'C:\\\\ProgramFiles\\\\Anaconda3\\\\lib\\\\site-packages\\\\IPython\\\\core\\\\latex_symbols.py'>,\n",
       " 'IPython.utils.generics': <module 'IPython.utils.generics' from 'C:\\\\ProgramFiles\\\\Anaconda3\\\\lib\\\\site-packages\\\\IPython\\\\utils\\\\generics.py'>,\n",
       " 'jedi': <module 'jedi' from 'C:\\\\ProgramFiles\\\\Anaconda3\\\\lib\\\\site-packages\\\\jedi\\\\__init__.py'>,\n",
       " 'jedi.api': <module 'jedi.api' from 'C:\\\\ProgramFiles\\\\Anaconda3\\\\lib\\\\site-packages\\\\jedi\\\\api\\\\__init__.py'>,\n",
       " 'parso': <module 'parso' from 'C:\\\\ProgramFiles\\\\Anaconda3\\\\lib\\\\site-packages\\\\parso\\\\__init__.py'>,\n",
       " 'parso.parser': <module 'parso.parser' from 'C:\\\\ProgramFiles\\\\Anaconda3\\\\lib\\\\site-packages\\\\parso\\\\parser.py'>,\n",
       " 'parso.tree': <module 'parso.tree' from 'C:\\\\ProgramFiles\\\\Anaconda3\\\\lib\\\\site-packages\\\\parso\\\\tree.py'>,\n",
       " 'parso._compatibility': <module 'parso._compatibility' from 'C:\\\\ProgramFiles\\\\Anaconda3\\\\lib\\\\site-packages\\\\parso\\\\_compatibility.py'>,\n",
       " 'parso.utils': <module 'parso.utils' from 'C:\\\\ProgramFiles\\\\Anaconda3\\\\lib\\\\site-packages\\\\parso\\\\utils.py'>,\n",
       " 'parso.pgen2': <module 'parso.pgen2' from 'C:\\\\ProgramFiles\\\\Anaconda3\\\\lib\\\\site-packages\\\\parso\\\\pgen2\\\\__init__.py'>,\n",
       " 'parso.pgen2.generator': <module 'parso.pgen2.generator' from 'C:\\\\ProgramFiles\\\\Anaconda3\\\\lib\\\\site-packages\\\\parso\\\\pgen2\\\\generator.py'>,\n",
       " 'parso.pgen2.grammar_parser': <module 'parso.pgen2.grammar_parser' from 'C:\\\\ProgramFiles\\\\Anaconda3\\\\lib\\\\site-packages\\\\parso\\\\pgen2\\\\grammar_parser.py'>,\n",
       " 'parso.python': <module 'parso.python' from 'C:\\\\ProgramFiles\\\\Anaconda3\\\\lib\\\\site-packages\\\\parso\\\\python\\\\__init__.py'>,\n",
       " 'parso.python.tokenize': <module 'parso.python.tokenize' from 'C:\\\\ProgramFiles\\\\Anaconda3\\\\lib\\\\site-packages\\\\parso\\\\python\\\\tokenize.py'>,\n",
       " 'parso.python.token': <module 'parso.python.token' from 'C:\\\\ProgramFiles\\\\Anaconda3\\\\lib\\\\site-packages\\\\parso\\\\python\\\\token.py'>,\n",
       " 'parso.grammar': <module 'parso.grammar' from 'C:\\\\ProgramFiles\\\\Anaconda3\\\\lib\\\\site-packages\\\\parso\\\\grammar.py'>,\n",
       " 'parso.python.diff': <module 'parso.python.diff' from 'C:\\\\ProgramFiles\\\\Anaconda3\\\\lib\\\\site-packages\\\\parso\\\\python\\\\diff.py'>,\n",
       " 'difflib': <module 'difflib' from 'C:\\\\ProgramFiles\\\\Anaconda3\\\\lib\\\\difflib.py'>,\n",
       " 'parso.python.parser': <module 'parso.python.parser' from 'C:\\\\ProgramFiles\\\\Anaconda3\\\\lib\\\\site-packages\\\\parso\\\\python\\\\parser.py'>,\n",
       " 'parso.python.tree': <module 'parso.python.tree' from 'C:\\\\ProgramFiles\\\\Anaconda3\\\\lib\\\\site-packages\\\\parso\\\\python\\\\tree.py'>,\n",
       " 'parso.python.prefix': <module 'parso.python.prefix' from 'C:\\\\ProgramFiles\\\\Anaconda3\\\\lib\\\\site-packages\\\\parso\\\\python\\\\prefix.py'>,\n",
       " 'parso.cache': <module 'parso.cache' from 'C:\\\\ProgramFiles\\\\Anaconda3\\\\lib\\\\site-packages\\\\parso\\\\cache.py'>,\n",
       " 'gc': <module 'gc' (built-in)>,\n",
       " 'parso.python.errors': <module 'parso.python.errors' from 'C:\\\\ProgramFiles\\\\Anaconda3\\\\lib\\\\site-packages\\\\parso\\\\python\\\\errors.py'>,\n",
       " 'parso.normalizer': <module 'parso.normalizer' from 'C:\\\\ProgramFiles\\\\Anaconda3\\\\lib\\\\site-packages\\\\parso\\\\normalizer.py'>,\n",
       " 'parso.python.pep8': <module 'parso.python.pep8' from 'C:\\\\ProgramFiles\\\\Anaconda3\\\\lib\\\\site-packages\\\\parso\\\\python\\\\pep8.py'>,\n",
       " 'parso.file_io': <module 'parso.file_io' from 'C:\\\\ProgramFiles\\\\Anaconda3\\\\lib\\\\site-packages\\\\parso\\\\file_io.py'>,\n",
       " 'jedi._compatibility': <module 'jedi._compatibility' from 'C:\\\\ProgramFiles\\\\Anaconda3\\\\lib\\\\site-packages\\\\jedi\\\\_compatibility.py'>,\n",
       " 'jedi.file_io': <module 'jedi.file_io' from 'C:\\\\ProgramFiles\\\\Anaconda3\\\\lib\\\\site-packages\\\\jedi\\\\file_io.py'>,\n",
       " 'queue': <module 'queue' from 'C:\\\\ProgramFiles\\\\Anaconda3\\\\lib\\\\queue.py'>,\n",
       " '_queue': <module '_queue' from 'C:\\\\ProgramFiles\\\\Anaconda3\\\\DLLs\\\\_queue.pyd'>,\n",
       " 'jedi.parser_utils': <module 'jedi.parser_utils' from 'C:\\\\ProgramFiles\\\\Anaconda3\\\\lib\\\\site-packages\\\\jedi\\\\parser_utils.py'>,\n",
       " 'jedi.debug': <module 'jedi.debug' from 'C:\\\\ProgramFiles\\\\Anaconda3\\\\lib\\\\site-packages\\\\jedi\\\\debug.py'>,\n",
       " 'jedi.settings': <module 'jedi.settings' from 'C:\\\\ProgramFiles\\\\Anaconda3\\\\lib\\\\site-packages\\\\jedi\\\\settings.py'>,\n",
       " 'jedi.cache': <module 'jedi.cache' from 'C:\\\\ProgramFiles\\\\Anaconda3\\\\lib\\\\site-packages\\\\jedi\\\\cache.py'>,\n",
       " 'jedi.api.classes': <module 'jedi.api.classes' from 'C:\\\\ProgramFiles\\\\Anaconda3\\\\lib\\\\site-packages\\\\jedi\\\\api\\\\classes.py'>,\n",
       " 'jedi.inference': <module 'jedi.inference' from 'C:\\\\ProgramFiles\\\\Anaconda3\\\\lib\\\\site-packages\\\\jedi\\\\inference\\\\__init__.py'>,\n",
       " 'jedi.inference.imports': <module 'jedi.inference.imports' from 'C:\\\\ProgramFiles\\\\Anaconda3\\\\lib\\\\site-packages\\\\jedi\\\\inference\\\\imports.py'>,\n",
       " 'jedi.inference.sys_path': <module 'jedi.inference.sys_path' from 'C:\\\\ProgramFiles\\\\Anaconda3\\\\lib\\\\site-packages\\\\jedi\\\\inference\\\\sys_path.py'>,\n",
       " 'jedi.inference.cache': <module 'jedi.inference.cache' from 'C:\\\\ProgramFiles\\\\Anaconda3\\\\lib\\\\site-packages\\\\jedi\\\\inference\\\\cache.py'>,\n",
       " 'jedi.inference.base_value': <module 'jedi.inference.base_value' from 'C:\\\\ProgramFiles\\\\Anaconda3\\\\lib\\\\site-packages\\\\jedi\\\\inference\\\\base_value.py'>,\n",
       " 'jedi.inference.helpers': <module 'jedi.inference.helpers' from 'C:\\\\ProgramFiles\\\\Anaconda3\\\\lib\\\\site-packages\\\\jedi\\\\inference\\\\helpers.py'>,\n",
       " 'jedi.inference.utils': <module 'jedi.inference.utils' from 'C:\\\\ProgramFiles\\\\Anaconda3\\\\lib\\\\site-packages\\\\jedi\\\\inference\\\\utils.py'>,\n",
       " 'jedi.common': <module 'jedi.common' from 'C:\\\\ProgramFiles\\\\Anaconda3\\\\lib\\\\site-packages\\\\jedi\\\\common.py'>,\n",
       " 'jedi.inference.compiled': <module 'jedi.inference.compiled' from 'C:\\\\ProgramFiles\\\\Anaconda3\\\\lib\\\\site-packages\\\\jedi\\\\inference\\\\compiled\\\\__init__.py'>,\n",
       " 'jedi.inference.compiled.value': <module 'jedi.inference.compiled.value' from 'C:\\\\ProgramFiles\\\\Anaconda3\\\\lib\\\\site-packages\\\\jedi\\\\inference\\\\compiled\\\\value.py'>,\n",
       " 'jedi.inference.filters': <module 'jedi.inference.filters' from 'C:\\\\ProgramFiles\\\\Anaconda3\\\\lib\\\\site-packages\\\\jedi\\\\inference\\\\filters.py'>,\n",
       " 'jedi.inference.flow_analysis': <module 'jedi.inference.flow_analysis' from 'C:\\\\ProgramFiles\\\\Anaconda3\\\\lib\\\\site-packages\\\\jedi\\\\inference\\\\flow_analysis.py'>,\n",
       " 'jedi.inference.recursion': <module 'jedi.inference.recursion' from 'C:\\\\ProgramFiles\\\\Anaconda3\\\\lib\\\\site-packages\\\\jedi\\\\inference\\\\recursion.py'>,\n",
       " 'jedi.inference.names': <module 'jedi.inference.names' from 'C:\\\\ProgramFiles\\\\Anaconda3\\\\lib\\\\site-packages\\\\jedi\\\\inference\\\\names.py'>,\n",
       " 'jedi.inference.docstrings': <module 'jedi.inference.docstrings' from 'C:\\\\ProgramFiles\\\\Anaconda3\\\\lib\\\\site-packages\\\\jedi\\\\inference\\\\docstrings.py'>,\n",
       " 'jedi.inference.lazy_value': <module 'jedi.inference.lazy_value' from 'C:\\\\ProgramFiles\\\\Anaconda3\\\\lib\\\\site-packages\\\\jedi\\\\inference\\\\lazy_value.py'>,\n",
       " 'jedi.plugins': <module 'jedi.plugins' from 'C:\\\\ProgramFiles\\\\Anaconda3\\\\lib\\\\site-packages\\\\jedi\\\\plugins\\\\__init__.py'>,\n",
       " 'jedi.inference.compiled.access': <module 'jedi.inference.compiled.access' from 'C:\\\\ProgramFiles\\\\Anaconda3\\\\lib\\\\site-packages\\\\jedi\\\\inference\\\\compiled\\\\access.py'>,\n",
       " 'jedi.inference.compiled.getattr_static': <module 'jedi.inference.compiled.getattr_static' from 'C:\\\\ProgramFiles\\\\Anaconda3\\\\lib\\\\site-packages\\\\jedi\\\\inference\\\\compiled\\\\getattr_static.py'>,\n",
       " 'jedi.inference.signature': <module 'jedi.inference.signature' from 'C:\\\\ProgramFiles\\\\Anaconda3\\\\lib\\\\site-packages\\\\jedi\\\\inference\\\\signature.py'>,\n",
       " 'jedi.inference.context': <module 'jedi.inference.context' from 'C:\\\\ProgramFiles\\\\Anaconda3\\\\lib\\\\site-packages\\\\jedi\\\\inference\\\\context.py'>,\n",
       " 'jedi.inference.analysis': <module 'jedi.inference.analysis' from 'C:\\\\ProgramFiles\\\\Anaconda3\\\\lib\\\\site-packages\\\\jedi\\\\inference\\\\analysis.py'>,\n",
       " 'jedi.inference.gradual': <module 'jedi.inference.gradual' from 'C:\\\\ProgramFiles\\\\Anaconda3\\\\lib\\\\site-packages\\\\jedi\\\\inference\\\\gradual\\\\__init__.py'>,\n",
       " 'jedi.inference.gradual.typeshed': <module 'jedi.inference.gradual.typeshed' from 'C:\\\\ProgramFiles\\\\Anaconda3\\\\lib\\\\site-packages\\\\jedi\\\\inference\\\\gradual\\\\typeshed.py'>,\n",
       " 'jedi.inference.gradual.stub_value': <module 'jedi.inference.gradual.stub_value' from 'C:\\\\ProgramFiles\\\\Anaconda3\\\\lib\\\\site-packages\\\\jedi\\\\inference\\\\gradual\\\\stub_value.py'>,\n",
       " 'jedi.inference.value': <module 'jedi.inference.value' from 'C:\\\\ProgramFiles\\\\Anaconda3\\\\lib\\\\site-packages\\\\jedi\\\\inference\\\\value\\\\__init__.py'>,\n",
       " 'jedi.inference.value.module': <module 'jedi.inference.value.module' from 'C:\\\\ProgramFiles\\\\Anaconda3\\\\lib\\\\site-packages\\\\jedi\\\\inference\\\\value\\\\module.py'>,\n",
       " 'jedi.inference.value.klass': <module 'jedi.inference.value.klass' from 'C:\\\\ProgramFiles\\\\Anaconda3\\\\lib\\\\site-packages\\\\jedi\\\\inference\\\\value\\\\klass.py'>,\n",
       " 'jedi.inference.arguments': <module 'jedi.inference.arguments' from 'C:\\\\ProgramFiles\\\\Anaconda3\\\\lib\\\\site-packages\\\\jedi\\\\inference\\\\arguments.py'>,\n",
       " 'jedi.inference.value.iterable': <module 'jedi.inference.value.iterable' from 'C:\\\\ProgramFiles\\\\Anaconda3\\\\lib\\\\site-packages\\\\jedi\\\\inference\\\\value\\\\iterable.py'>,\n",
       " 'jedi.inference.value.dynamic_arrays': <module 'jedi.inference.value.dynamic_arrays' from 'C:\\\\ProgramFiles\\\\Anaconda3\\\\lib\\\\site-packages\\\\jedi\\\\inference\\\\value\\\\dynamic_arrays.py'>,\n",
       " 'jedi.inference.value.function': <module 'jedi.inference.value.function' from 'C:\\\\ProgramFiles\\\\Anaconda3\\\\lib\\\\site-packages\\\\jedi\\\\inference\\\\value\\\\function.py'>,\n",
       " 'jedi.inference.parser_cache': <module 'jedi.inference.parser_cache' from 'C:\\\\ProgramFiles\\\\Anaconda3\\\\lib\\\\site-packages\\\\jedi\\\\inference\\\\parser_cache.py'>,\n",
       " 'jedi.inference.gradual.generics': <module 'jedi.inference.gradual.generics' from 'C:\\\\ProgramFiles\\\\Anaconda3\\\\lib\\\\site-packages\\\\jedi\\\\inference\\\\gradual\\\\generics.py'>,\n",
       " 'jedi.inference.value.instance': <module 'jedi.inference.value.instance' from 'C:\\\\ProgramFiles\\\\Anaconda3\\\\lib\\\\site-packages\\\\jedi\\\\inference\\\\value\\\\instance.py'>,\n",
       " 'jedi.inference.gradual.typing': <module 'jedi.inference.gradual.typing' from 'C:\\\\ProgramFiles\\\\Anaconda3\\\\lib\\\\site-packages\\\\jedi\\\\inference\\\\gradual\\\\typing.py'>,\n",
       " 'jedi.inference.gradual.base': <module 'jedi.inference.gradual.base' from 'C:\\\\ProgramFiles\\\\Anaconda3\\\\lib\\\\site-packages\\\\jedi\\\\inference\\\\gradual\\\\base.py'>,\n",
       " 'jedi.inference.gradual.type_var': <module 'jedi.inference.gradual.type_var' from 'C:\\\\ProgramFiles\\\\Anaconda3\\\\lib\\\\site-packages\\\\jedi\\\\inference\\\\gradual\\\\type_var.py'>,\n",
       " 'jedi.inference.syntax_tree': <module 'jedi.inference.syntax_tree' from 'C:\\\\ProgramFiles\\\\Anaconda3\\\\lib\\\\site-packages\\\\jedi\\\\inference\\\\syntax_tree.py'>,\n",
       " 'jedi.inference.gradual.annotation': <module 'jedi.inference.gradual.annotation' from 'C:\\\\ProgramFiles\\\\Anaconda3\\\\lib\\\\site-packages\\\\jedi\\\\inference\\\\gradual\\\\annotation.py'>,\n",
       " 'jedi.inference.param': <module 'jedi.inference.param' from 'C:\\\\ProgramFiles\\\\Anaconda3\\\\lib\\\\site-packages\\\\jedi\\\\inference\\\\param.py'>,\n",
       " 'jedi.inference.value.decorator': <module 'jedi.inference.value.decorator' from 'C:\\\\ProgramFiles\\\\Anaconda3\\\\lib\\\\site-packages\\\\jedi\\\\inference\\\\value\\\\decorator.py'>,\n",
       " 'jedi.inference.compiled.mixed': <module 'jedi.inference.compiled.mixed' from 'C:\\\\ProgramFiles\\\\Anaconda3\\\\lib\\\\site-packages\\\\jedi\\\\inference\\\\compiled\\\\mixed.py'>,\n",
       " 'jedi.inference.gradual.conversion': <module 'jedi.inference.gradual.conversion' from 'C:\\\\ProgramFiles\\\\Anaconda3\\\\lib\\\\site-packages\\\\jedi\\\\inference\\\\gradual\\\\conversion.py'>,\n",
       " 'jedi.api.keywords': <module 'jedi.api.keywords' from 'C:\\\\ProgramFiles\\\\Anaconda3\\\\lib\\\\site-packages\\\\jedi\\\\api\\\\keywords.py'>,\n",
       " 'pydoc_data': <module 'pydoc_data' from 'C:\\\\ProgramFiles\\\\Anaconda3\\\\lib\\\\pydoc_data\\\\__init__.py'>,\n",
       " 'pydoc_data.topics': <module 'pydoc_data.topics' from 'C:\\\\ProgramFiles\\\\Anaconda3\\\\lib\\\\pydoc_data\\\\topics.py'>,\n",
       " 'jedi.api.completion_cache': <module 'jedi.api.completion_cache' from 'C:\\\\ProgramFiles\\\\Anaconda3\\\\lib\\\\site-packages\\\\jedi\\\\api\\\\completion_cache.py'>,\n",
       " 'jedi.api.helpers': <module 'jedi.api.helpers' from 'C:\\\\ProgramFiles\\\\Anaconda3\\\\lib\\\\site-packages\\\\jedi\\\\api\\\\helpers.py'>,\n",
       " 'jedi.api.interpreter': <module 'jedi.api.interpreter' from 'C:\\\\ProgramFiles\\\\Anaconda3\\\\lib\\\\site-packages\\\\jedi\\\\api\\\\interpreter.py'>,\n",
       " 'jedi.api.completion': <module 'jedi.api.completion' from 'C:\\\\ProgramFiles\\\\Anaconda3\\\\lib\\\\site-packages\\\\jedi\\\\api\\\\completion.py'>,\n",
       " 'jedi.api.strings': <module 'jedi.api.strings' from 'C:\\\\ProgramFiles\\\\Anaconda3\\\\lib\\\\site-packages\\\\jedi\\\\api\\\\strings.py'>,\n",
       " 'jedi.api.file_name': <module 'jedi.api.file_name' from 'C:\\\\ProgramFiles\\\\Anaconda3\\\\lib\\\\site-packages\\\\jedi\\\\api\\\\file_name.py'>,\n",
       " 'jedi.api.environment': <module 'jedi.api.environment' from 'C:\\\\ProgramFiles\\\\Anaconda3\\\\lib\\\\site-packages\\\\jedi\\\\api\\\\environment.py'>,\n",
       " 'filecmp': <module 'filecmp' from 'C:\\\\ProgramFiles\\\\Anaconda3\\\\lib\\\\filecmp.py'>,\n",
       " 'jedi.inference.compiled.subprocess': <module 'jedi.inference.compiled.subprocess' from 'C:\\\\ProgramFiles\\\\Anaconda3\\\\lib\\\\site-packages\\\\jedi\\\\inference\\\\compiled\\\\subprocess\\\\__init__.py'>,\n",
       " 'jedi.inference.compiled.subprocess.functions': <module 'jedi.inference.compiled.subprocess.functions' from 'C:\\\\ProgramFiles\\\\Anaconda3\\\\lib\\\\site-packages\\\\jedi\\\\inference\\\\compiled\\\\subprocess\\\\functions.py'>,\n",
       " 'jedi.api.exceptions': <module 'jedi.api.exceptions' from 'C:\\\\ProgramFiles\\\\Anaconda3\\\\lib\\\\site-packages\\\\jedi\\\\api\\\\exceptions.py'>,\n",
       " 'jedi.api.project': <module 'jedi.api.project' from 'C:\\\\ProgramFiles\\\\Anaconda3\\\\lib\\\\site-packages\\\\jedi\\\\api\\\\project.py'>,\n",
       " 'jedi.inference.references': <module 'jedi.inference.references' from 'C:\\\\ProgramFiles\\\\Anaconda3\\\\lib\\\\site-packages\\\\jedi\\\\inference\\\\references.py'>,\n",
       " 'jedi.api.errors': <module 'jedi.api.errors' from 'C:\\\\ProgramFiles\\\\Anaconda3\\\\lib\\\\site-packages\\\\jedi\\\\api\\\\errors.py'>,\n",
       " 'jedi.api.refactoring': <module 'jedi.api.refactoring' from 'C:\\\\ProgramFiles\\\\Anaconda3\\\\lib\\\\site-packages\\\\jedi\\\\api\\\\refactoring\\\\__init__.py'>,\n",
       " 'jedi.api.refactoring.extract': <module 'jedi.api.refactoring.extract' from 'C:\\\\ProgramFiles\\\\Anaconda3\\\\lib\\\\site-packages\\\\jedi\\\\api\\\\refactoring\\\\extract.py'>,\n",
       " 'jedi.inference.gradual.utils': <module 'jedi.inference.gradual.utils' from 'C:\\\\ProgramFiles\\\\Anaconda3\\\\lib\\\\site-packages\\\\jedi\\\\inference\\\\gradual\\\\utils.py'>,\n",
       " 'jedi.plugins.registry': <module 'jedi.plugins.registry' from 'C:\\\\ProgramFiles\\\\Anaconda3\\\\lib\\\\site-packages\\\\jedi\\\\plugins\\\\registry.py'>,\n",
       " 'jedi.plugins.stdlib': <module 'jedi.plugins.stdlib' from 'C:\\\\ProgramFiles\\\\Anaconda3\\\\lib\\\\site-packages\\\\jedi\\\\plugins\\\\stdlib.py'>,\n",
       " 'jedi.plugins.flask': <module 'jedi.plugins.flask' from 'C:\\\\ProgramFiles\\\\Anaconda3\\\\lib\\\\site-packages\\\\jedi\\\\plugins\\\\flask.py'>,\n",
       " 'jedi.plugins.pytest': <module 'jedi.plugins.pytest' from 'C:\\\\ProgramFiles\\\\Anaconda3\\\\lib\\\\site-packages\\\\jedi\\\\plugins\\\\pytest.py'>,\n",
       " 'jedi.plugins.django': <module 'jedi.plugins.django' from 'C:\\\\ProgramFiles\\\\Anaconda3\\\\lib\\\\site-packages\\\\jedi\\\\plugins\\\\django.py'>,\n",
       " 'IPython.terminal.ptutils': <module 'IPython.terminal.ptutils' from 'C:\\\\ProgramFiles\\\\Anaconda3\\\\lib\\\\site-packages\\\\IPython\\\\terminal\\\\ptutils.py'>,\n",
       " 'IPython.terminal.shortcuts': <module 'IPython.terminal.shortcuts' from 'C:\\\\ProgramFiles\\\\Anaconda3\\\\lib\\\\site-packages\\\\IPython\\\\terminal\\\\shortcuts.py'>,\n",
       " 'IPython.lib.clipboard': <module 'IPython.lib.clipboard' from 'C:\\\\ProgramFiles\\\\Anaconda3\\\\lib\\\\site-packages\\\\IPython\\\\lib\\\\clipboard.py'>,\n",
       " 'IPython.terminal.magics': <module 'IPython.terminal.magics' from 'C:\\\\ProgramFiles\\\\Anaconda3\\\\lib\\\\site-packages\\\\IPython\\\\terminal\\\\magics.py'>,\n",
       " 'IPython.terminal.pt_inputhooks': <module 'IPython.terminal.pt_inputhooks' from 'C:\\\\ProgramFiles\\\\Anaconda3\\\\lib\\\\site-packages\\\\IPython\\\\terminal\\\\pt_inputhooks\\\\__init__.py'>,\n",
       " 'IPython.terminal.prompts': <module 'IPython.terminal.prompts' from 'C:\\\\ProgramFiles\\\\Anaconda3\\\\lib\\\\site-packages\\\\IPython\\\\terminal\\\\prompts.py'>,\n",
       " 'IPython.terminal.ipapp': <module 'IPython.terminal.ipapp' from 'C:\\\\ProgramFiles\\\\Anaconda3\\\\lib\\\\site-packages\\\\IPython\\\\terminal\\\\ipapp.py'>,\n",
       " 'IPython.core.magics': <module 'IPython.core.magics' from 'C:\\\\ProgramFiles\\\\Anaconda3\\\\lib\\\\site-packages\\\\IPython\\\\core\\\\magics\\\\__init__.py'>,\n",
       " 'IPython.core.magics.auto': <module 'IPython.core.magics.auto' from 'C:\\\\ProgramFiles\\\\Anaconda3\\\\lib\\\\site-packages\\\\IPython\\\\core\\\\magics\\\\auto.py'>,\n",
       " 'IPython.core.magics.basic': <module 'IPython.core.magics.basic' from 'C:\\\\ProgramFiles\\\\Anaconda3\\\\lib\\\\site-packages\\\\IPython\\\\core\\\\magics\\\\basic.py'>,\n",
       " 'IPython.core.magics.code': <module 'IPython.core.magics.code' from 'C:\\\\ProgramFiles\\\\Anaconda3\\\\lib\\\\site-packages\\\\IPython\\\\core\\\\magics\\\\code.py'>,\n",
       " 'urllib.request': <module 'urllib.request' from 'C:\\\\ProgramFiles\\\\Anaconda3\\\\lib\\\\urllib\\\\request.py'>,\n",
       " 'email': <module 'email' from 'C:\\\\ProgramFiles\\\\Anaconda3\\\\lib\\\\email\\\\__init__.py'>,\n",
       " 'http': <module 'http' from 'C:\\\\ProgramFiles\\\\Anaconda3\\\\lib\\\\http\\\\__init__.py'>,\n",
       " 'http.client': <module 'http.client' from 'C:\\\\ProgramFiles\\\\Anaconda3\\\\lib\\\\http\\\\client.py'>,\n",
       " 'email.parser': <module 'email.parser' from 'C:\\\\ProgramFiles\\\\Anaconda3\\\\lib\\\\email\\\\parser.py'>,\n",
       " 'email.feedparser': <module 'email.feedparser' from 'C:\\\\ProgramFiles\\\\Anaconda3\\\\lib\\\\email\\\\feedparser.py'>,\n",
       " 'email.errors': <module 'email.errors' from 'C:\\\\ProgramFiles\\\\Anaconda3\\\\lib\\\\email\\\\errors.py'>,\n",
       " 'email._policybase': <module 'email._policybase' from 'C:\\\\ProgramFiles\\\\Anaconda3\\\\lib\\\\email\\\\_policybase.py'>,\n",
       " 'email.header': <module 'email.header' from 'C:\\\\ProgramFiles\\\\Anaconda3\\\\lib\\\\email\\\\header.py'>,\n",
       " 'email.quoprimime': <module 'email.quoprimime' from 'C:\\\\ProgramFiles\\\\Anaconda3\\\\lib\\\\email\\\\quoprimime.py'>,\n",
       " 'email.base64mime': <module 'email.base64mime' from 'C:\\\\ProgramFiles\\\\Anaconda3\\\\lib\\\\email\\\\base64mime.py'>,\n",
       " 'email.charset': <module 'email.charset' from 'C:\\\\ProgramFiles\\\\Anaconda3\\\\lib\\\\email\\\\charset.py'>,\n",
       " 'email.encoders': <module 'email.encoders' from 'C:\\\\ProgramFiles\\\\Anaconda3\\\\lib\\\\email\\\\encoders.py'>,\n",
       " 'quopri': <module 'quopri' from 'C:\\\\ProgramFiles\\\\Anaconda3\\\\lib\\\\quopri.py'>,\n",
       " 'email.utils': <module 'email.utils' from 'C:\\\\ProgramFiles\\\\Anaconda3\\\\lib\\\\email\\\\utils.py'>,\n",
       " 'email._parseaddr': <module 'email._parseaddr' from 'C:\\\\ProgramFiles\\\\Anaconda3\\\\lib\\\\email\\\\_parseaddr.py'>,\n",
       " 'calendar': <module 'calendar' from 'C:\\\\ProgramFiles\\\\Anaconda3\\\\lib\\\\calendar.py'>,\n",
       " 'email.message': <module 'email.message' from 'C:\\\\ProgramFiles\\\\Anaconda3\\\\lib\\\\email\\\\message.py'>,\n",
       " 'uu': <module 'uu' from 'C:\\\\ProgramFiles\\\\Anaconda3\\\\lib\\\\uu.py'>,\n",
       " 'email._encoded_words': <module 'email._encoded_words' from 'C:\\\\ProgramFiles\\\\Anaconda3\\\\lib\\\\email\\\\_encoded_words.py'>,\n",
       " 'email.iterators': <module 'email.iterators' from 'C:\\\\ProgramFiles\\\\Anaconda3\\\\lib\\\\email\\\\iterators.py'>,\n",
       " 'urllib.error': <module 'urllib.error' from 'C:\\\\ProgramFiles\\\\Anaconda3\\\\lib\\\\urllib\\\\error.py'>,\n",
       " 'urllib.response': <module 'urllib.response' from 'C:\\\\ProgramFiles\\\\Anaconda3\\\\lib\\\\urllib\\\\response.py'>,\n",
       " 'nturl2path': <module 'nturl2path' from 'C:\\\\ProgramFiles\\\\Anaconda3\\\\lib\\\\nturl2path.py'>,\n",
       " 'IPython.core.magics.config': <module 'IPython.core.magics.config' from 'C:\\\\ProgramFiles\\\\Anaconda3\\\\lib\\\\site-packages\\\\IPython\\\\core\\\\magics\\\\config.py'>,\n",
       " 'IPython.core.magics.display': <module 'IPython.core.magics.display' from 'C:\\\\ProgramFiles\\\\Anaconda3\\\\lib\\\\site-packages\\\\IPython\\\\core\\\\magics\\\\display.py'>,\n",
       " 'IPython.core.magics.execution': <module 'IPython.core.magics.execution' from 'C:\\\\ProgramFiles\\\\Anaconda3\\\\lib\\\\site-packages\\\\IPython\\\\core\\\\magics\\\\execution.py'>,\n",
       " 'timeit': <module 'timeit' from 'C:\\\\ProgramFiles\\\\Anaconda3\\\\lib\\\\timeit.py'>,\n",
       " 'cProfile': <module 'cProfile' from 'C:\\\\ProgramFiles\\\\Anaconda3\\\\lib\\\\cProfile.py'>,\n",
       " '_lsprof': <module '_lsprof' (built-in)>,\n",
       " 'profile': <module 'profile' from 'C:\\\\ProgramFiles\\\\Anaconda3\\\\lib\\\\profile.py'>,\n",
       " 'pstats': <module 'pstats' from 'C:\\\\ProgramFiles\\\\Anaconda3\\\\lib\\\\pstats.py'>,\n",
       " 'IPython.utils.module_paths': <module 'IPython.utils.module_paths' from 'C:\\\\ProgramFiles\\\\Anaconda3\\\\lib\\\\site-packages\\\\IPython\\\\utils\\\\module_paths.py'>,\n",
       " 'IPython.utils.timing': <module 'IPython.utils.timing' from 'C:\\\\ProgramFiles\\\\Anaconda3\\\\lib\\\\site-packages\\\\IPython\\\\utils\\\\timing.py'>,\n",
       " 'IPython.core.magics.extension': <module 'IPython.core.magics.extension' from 'C:\\\\ProgramFiles\\\\Anaconda3\\\\lib\\\\site-packages\\\\IPython\\\\core\\\\magics\\\\extension.py'>,\n",
       " 'IPython.core.magics.history': <module 'IPython.core.magics.history' from 'C:\\\\ProgramFiles\\\\Anaconda3\\\\lib\\\\site-packages\\\\IPython\\\\core\\\\magics\\\\history.py'>,\n",
       " 'IPython.core.magics.logging': <module 'IPython.core.magics.logging' from 'C:\\\\ProgramFiles\\\\Anaconda3\\\\lib\\\\site-packages\\\\IPython\\\\core\\\\magics\\\\logging.py'>,\n",
       " 'IPython.core.magics.namespace': <module 'IPython.core.magics.namespace' from 'C:\\\\ProgramFiles\\\\Anaconda3\\\\lib\\\\site-packages\\\\IPython\\\\core\\\\magics\\\\namespace.py'>,\n",
       " 'IPython.core.magics.osm': <module 'IPython.core.magics.osm' from 'C:\\\\ProgramFiles\\\\Anaconda3\\\\lib\\\\site-packages\\\\IPython\\\\core\\\\magics\\\\osm.py'>,\n",
       " 'IPython.core.magics.packaging': <module 'IPython.core.magics.packaging' from 'C:\\\\ProgramFiles\\\\Anaconda3\\\\lib\\\\site-packages\\\\IPython\\\\core\\\\magics\\\\packaging.py'>,\n",
       " 'IPython.core.magics.pylab': <module 'IPython.core.magics.pylab' from 'C:\\\\ProgramFiles\\\\Anaconda3\\\\lib\\\\site-packages\\\\IPython\\\\core\\\\magics\\\\pylab.py'>,\n",
       " 'IPython.core.pylabtools': <module 'IPython.core.pylabtools' from 'C:\\\\ProgramFiles\\\\Anaconda3\\\\lib\\\\site-packages\\\\IPython\\\\core\\\\pylabtools.py'>,\n",
       " 'IPython.core.magics.script': <module 'IPython.core.magics.script' from 'C:\\\\ProgramFiles\\\\Anaconda3\\\\lib\\\\site-packages\\\\IPython\\\\core\\\\magics\\\\script.py'>,\n",
       " 'IPython.lib.backgroundjobs': <module 'IPython.lib.backgroundjobs' from 'C:\\\\ProgramFiles\\\\Anaconda3\\\\lib\\\\site-packages\\\\IPython\\\\lib\\\\backgroundjobs.py'>,\n",
       " 'IPython.core.shellapp': <module 'IPython.core.shellapp' from 'C:\\\\ProgramFiles\\\\Anaconda3\\\\lib\\\\site-packages\\\\IPython\\\\core\\\\shellapp.py'>,\n",
       " 'IPython.extensions': <module 'IPython.extensions' from 'C:\\\\ProgramFiles\\\\Anaconda3\\\\lib\\\\site-packages\\\\IPython\\\\extensions\\\\__init__.py'>,\n",
       " 'IPython.extensions.storemagic': <module 'IPython.extensions.storemagic' from 'C:\\\\ProgramFiles\\\\Anaconda3\\\\lib\\\\site-packages\\\\IPython\\\\extensions\\\\storemagic.py'>,\n",
       " 'IPython.utils.frame': <module 'IPython.utils.frame' from 'C:\\\\ProgramFiles\\\\Anaconda3\\\\lib\\\\site-packages\\\\IPython\\\\utils\\\\frame.py'>,\n",
       " 'jupyter_client': <module 'jupyter_client' from 'C:\\\\ProgramFiles\\\\Anaconda3\\\\lib\\\\site-packages\\\\jupyter_client\\\\__init__.py'>,\n",
       " 'jupyter_client._version': <module 'jupyter_client._version' from 'C:\\\\ProgramFiles\\\\Anaconda3\\\\lib\\\\site-packages\\\\jupyter_client\\\\_version.py'>,\n",
       " 'jupyter_client.connect': <module 'jupyter_client.connect' from 'C:\\\\ProgramFiles\\\\Anaconda3\\\\lib\\\\site-packages\\\\jupyter_client\\\\connect.py'>,\n",
       " 'zmq': <module 'zmq' from 'C:\\\\ProgramFiles\\\\Anaconda3\\\\lib\\\\site-packages\\\\zmq\\\\__init__.py'>,\n",
       " 'zmq.backend': <module 'zmq.backend' from 'C:\\\\ProgramFiles\\\\Anaconda3\\\\lib\\\\site-packages\\\\zmq\\\\backend\\\\__init__.py'>,\n",
       " 'zmq.backend.select': <module 'zmq.backend.select' from 'C:\\\\ProgramFiles\\\\Anaconda3\\\\lib\\\\site-packages\\\\zmq\\\\backend\\\\select.py'>,\n",
       " 'zmq.backend.cython': <module 'zmq.backend.cython' from 'C:\\\\ProgramFiles\\\\Anaconda3\\\\lib\\\\site-packages\\\\zmq\\\\backend\\\\cython\\\\__init__.py'>,\n",
       " 'zmq.backend.cython.constants': <module 'zmq.backend.cython.constants' from 'C:\\\\ProgramFiles\\\\Anaconda3\\\\lib\\\\site-packages\\\\zmq\\\\backend\\\\cython\\\\constants.cp37-win_amd64.pyd'>,\n",
       " 'cython_runtime': <module 'cython_runtime'>,\n",
       " 'zmq.backend.cython.error': <module 'zmq.backend.cython.error' from 'C:\\\\ProgramFiles\\\\Anaconda3\\\\lib\\\\site-packages\\\\zmq\\\\backend\\\\cython\\\\error.cp37-win_amd64.pyd'>,\n",
       " '_cython_0_29_17': <module '_cython_0_29_17'>,\n",
       " 'zmq.backend.cython.message': <module 'zmq.backend.cython.message' from 'C:\\\\ProgramFiles\\\\Anaconda3\\\\lib\\\\site-packages\\\\zmq\\\\backend\\\\cython\\\\message.cp37-win_amd64.pyd'>,\n",
       " 'zmq.error': <module 'zmq.error' from 'C:\\\\ProgramFiles\\\\Anaconda3\\\\lib\\\\site-packages\\\\zmq\\\\error.py'>,\n",
       " 'zmq.backend.cython.context': <module 'zmq.backend.cython.context' from 'C:\\\\ProgramFiles\\\\Anaconda3\\\\lib\\\\site-packages\\\\zmq\\\\backend\\\\cython\\\\context.cp37-win_amd64.pyd'>,\n",
       " 'zmq.backend.cython.socket': <module 'zmq.backend.cython.socket' from 'C:\\\\ProgramFiles\\\\Anaconda3\\\\lib\\\\site-packages\\\\zmq\\\\backend\\\\cython\\\\socket.cp37-win_amd64.pyd'>,\n",
       " 'zmq.backend.cython.utils': <module 'zmq.backend.cython.utils' from 'C:\\\\ProgramFiles\\\\Anaconda3\\\\lib\\\\site-packages\\\\zmq\\\\backend\\\\cython\\\\utils.cp37-win_amd64.pyd'>,\n",
       " 'zmq.backend.cython._poll': <module 'zmq.backend.cython._poll' from 'C:\\\\ProgramFiles\\\\Anaconda3\\\\lib\\\\site-packages\\\\zmq\\\\backend\\\\cython\\\\_poll.cp37-win_amd64.pyd'>,\n",
       " 'zmq.backend.cython._version': <module 'zmq.backend.cython._version' from 'C:\\\\ProgramFiles\\\\Anaconda3\\\\lib\\\\site-packages\\\\zmq\\\\backend\\\\cython\\\\_version.cp37-win_amd64.pyd'>,\n",
       " 'zmq.backend.cython._device': <module 'zmq.backend.cython._device' from 'C:\\\\ProgramFiles\\\\Anaconda3\\\\lib\\\\site-packages\\\\zmq\\\\backend\\\\cython\\\\_device.cp37-win_amd64.pyd'>,\n",
       " 'zmq.backend.cython._proxy_steerable': <module 'zmq.backend.cython._proxy_steerable' from 'C:\\\\ProgramFiles\\\\Anaconda3\\\\lib\\\\site-packages\\\\zmq\\\\backend\\\\cython\\\\_proxy_steerable.cp37-win_amd64.pyd'>,\n",
       " 'zmq.sugar': <module 'zmq.sugar' from 'C:\\\\ProgramFiles\\\\Anaconda3\\\\lib\\\\site-packages\\\\zmq\\\\sugar\\\\__init__.py'>,\n",
       " 'zmq.sugar.constants': <module 'zmq.sugar.constants' from 'C:\\\\ProgramFiles\\\\Anaconda3\\\\lib\\\\site-packages\\\\zmq\\\\sugar\\\\constants.py'>,\n",
       " 'zmq.utils': <module 'zmq.utils' from 'C:\\\\ProgramFiles\\\\Anaconda3\\\\lib\\\\site-packages\\\\zmq\\\\utils\\\\__init__.py'>,\n",
       " 'zmq.utils.constant_names': <module 'zmq.utils.constant_names' from 'C:\\\\ProgramFiles\\\\Anaconda3\\\\lib\\\\site-packages\\\\zmq\\\\utils\\\\constant_names.py'>,\n",
       " 'zmq.sugar.context': <module 'zmq.sugar.context' from 'C:\\\\ProgramFiles\\\\Anaconda3\\\\lib\\\\site-packages\\\\zmq\\\\sugar\\\\context.py'>,\n",
       " 'zmq.sugar.attrsettr': <module 'zmq.sugar.attrsettr' from 'C:\\\\ProgramFiles\\\\Anaconda3\\\\lib\\\\site-packages\\\\zmq\\\\sugar\\\\attrsettr.py'>,\n",
       " 'zmq.sugar.socket': <module 'zmq.sugar.socket' from 'C:\\\\ProgramFiles\\\\Anaconda3\\\\lib\\\\site-packages\\\\zmq\\\\sugar\\\\socket.py'>,\n",
       " 'zmq.sugar.poll': <module 'zmq.sugar.poll' from 'C:\\\\ProgramFiles\\\\Anaconda3\\\\lib\\\\site-packages\\\\zmq\\\\sugar\\\\poll.py'>,\n",
       " 'zmq.utils.jsonapi': <module 'zmq.utils.jsonapi' from 'C:\\\\ProgramFiles\\\\Anaconda3\\\\lib\\\\site-packages\\\\zmq\\\\utils\\\\jsonapi.py'>,\n",
       " 'zmq.utils.strtypes': <module 'zmq.utils.strtypes' from 'C:\\\\ProgramFiles\\\\Anaconda3\\\\lib\\\\site-packages\\\\zmq\\\\utils\\\\strtypes.py'>,\n",
       " 'zmq.sugar.frame': <module 'zmq.sugar.frame' from 'C:\\\\ProgramFiles\\\\Anaconda3\\\\lib\\\\site-packages\\\\zmq\\\\sugar\\\\frame.py'>,\n",
       " 'zmq.sugar.tracker': <module 'zmq.sugar.tracker' from 'C:\\\\ProgramFiles\\\\Anaconda3\\\\lib\\\\site-packages\\\\zmq\\\\sugar\\\\tracker.py'>,\n",
       " 'zmq.sugar.version': <module 'zmq.sugar.version' from 'C:\\\\ProgramFiles\\\\Anaconda3\\\\lib\\\\site-packages\\\\zmq\\\\sugar\\\\version.py'>,\n",
       " 'zmq.sugar.stopwatch': <module 'zmq.sugar.stopwatch' from 'C:\\\\ProgramFiles\\\\Anaconda3\\\\lib\\\\site-packages\\\\zmq\\\\sugar\\\\stopwatch.py'>,\n",
       " 'jupyter_client.localinterfaces': <module 'jupyter_client.localinterfaces' from 'C:\\\\ProgramFiles\\\\Anaconda3\\\\lib\\\\site-packages\\\\jupyter_client\\\\localinterfaces.py'>,\n",
       " 'jupyter_core': <module 'jupyter_core' from 'C:\\\\ProgramFiles\\\\Anaconda3\\\\lib\\\\site-packages\\\\jupyter_core\\\\__init__.py'>,\n",
       " 'jupyter_core.version': <module 'jupyter_core.version' from 'C:\\\\ProgramFiles\\\\Anaconda3\\\\lib\\\\site-packages\\\\jupyter_core\\\\version.py'>,\n",
       " 'jupyter_core.paths': <module 'jupyter_core.paths' from 'C:\\\\ProgramFiles\\\\Anaconda3\\\\lib\\\\site-packages\\\\jupyter_core\\\\paths.py'>,\n",
       " 'distutils': <module 'distutils' from 'C:\\\\ProgramFiles\\\\Anaconda3\\\\lib\\\\distutils\\\\__init__.py'>,\n",
       " 'distutils.util': <module 'distutils.util' from 'C:\\\\ProgramFiles\\\\Anaconda3\\\\lib\\\\distutils\\\\util.py'>,\n",
       " 'distutils.errors': <module 'distutils.errors' from 'C:\\\\ProgramFiles\\\\Anaconda3\\\\lib\\\\distutils\\\\errors.py'>,\n",
       " 'distutils.dep_util': <module 'distutils.dep_util' from 'C:\\\\ProgramFiles\\\\Anaconda3\\\\lib\\\\distutils\\\\dep_util.py'>,\n",
       " 'distutils.spawn': <module 'distutils.spawn' from 'C:\\\\ProgramFiles\\\\Anaconda3\\\\lib\\\\distutils\\\\spawn.py'>,\n",
       " 'distutils.debug': <module 'distutils.debug' from 'C:\\\\ProgramFiles\\\\Anaconda3\\\\lib\\\\distutils\\\\debug.py'>,\n",
       " 'distutils.log': <module 'distutils.log' from 'C:\\\\ProgramFiles\\\\Anaconda3\\\\lib\\\\distutils\\\\log.py'>,\n",
       " 'jupyter_client.launcher': <module 'jupyter_client.launcher' from 'C:\\\\ProgramFiles\\\\Anaconda3\\\\lib\\\\site-packages\\\\jupyter_client\\\\launcher.py'>,\n",
       " 'traitlets.log': <module 'traitlets.log' from 'C:\\\\ProgramFiles\\\\Anaconda3\\\\lib\\\\site-packages\\\\traitlets\\\\log.py'>,\n",
       " 'jupyter_client.client': <module 'jupyter_client.client' from 'C:\\\\ProgramFiles\\\\Anaconda3\\\\lib\\\\site-packages\\\\jupyter_client\\\\client.py'>,\n",
       " 'jupyter_client.channels': <module 'jupyter_client.channels' from 'C:\\\\ProgramFiles\\\\Anaconda3\\\\lib\\\\site-packages\\\\jupyter_client\\\\channels.py'>,\n",
       " 'jupyter_client.channelsabc': <module 'jupyter_client.channelsabc' from 'C:\\\\ProgramFiles\\\\Anaconda3\\\\lib\\\\site-packages\\\\jupyter_client\\\\channelsabc.py'>,\n",
       " 'jupyter_client.clientabc': <module 'jupyter_client.clientabc' from 'C:\\\\ProgramFiles\\\\Anaconda3\\\\lib\\\\site-packages\\\\jupyter_client\\\\clientabc.py'>,\n",
       " 'jupyter_client.manager': <module 'jupyter_client.manager' from 'C:\\\\ProgramFiles\\\\Anaconda3\\\\lib\\\\site-packages\\\\jupyter_client\\\\manager.py'>,\n",
       " 'jupyter_client.kernelspec': <module 'jupyter_client.kernelspec' from 'C:\\\\ProgramFiles\\\\Anaconda3\\\\lib\\\\site-packages\\\\jupyter_client\\\\kernelspec.py'>,\n",
       " 'jupyter_client.managerabc': <module 'jupyter_client.managerabc' from 'C:\\\\ProgramFiles\\\\Anaconda3\\\\lib\\\\site-packages\\\\jupyter_client\\\\managerabc.py'>,\n",
       " 'jupyter_client.blocking': <module 'jupyter_client.blocking' from 'C:\\\\ProgramFiles\\\\Anaconda3\\\\lib\\\\site-packages\\\\jupyter_client\\\\blocking\\\\__init__.py'>,\n",
       " 'jupyter_client.blocking.client': <module 'jupyter_client.blocking.client' from 'C:\\\\ProgramFiles\\\\Anaconda3\\\\lib\\\\site-packages\\\\jupyter_client\\\\blocking\\\\client.py'>,\n",
       " 'jupyter_client.blocking.channels': <module 'jupyter_client.blocking.channels' from 'C:\\\\ProgramFiles\\\\Anaconda3\\\\lib\\\\site-packages\\\\jupyter_client\\\\blocking\\\\channels.py'>,\n",
       " 'jupyter_client.asynchronous': <module 'jupyter_client.asynchronous' from 'C:\\\\ProgramFiles\\\\Anaconda3\\\\lib\\\\site-packages\\\\jupyter_client\\\\asynchronous\\\\__init__.py'>,\n",
       " 'jupyter_client.asynchronous.client': <module 'jupyter_client.asynchronous.client' from 'C:\\\\ProgramFiles\\\\Anaconda3\\\\lib\\\\site-packages\\\\jupyter_client\\\\asynchronous\\\\client.py'>,\n",
       " 'zmq.asyncio': <module 'zmq.asyncio' from 'C:\\\\ProgramFiles\\\\Anaconda3\\\\lib\\\\site-packages\\\\zmq\\\\asyncio\\\\__init__.py'>,\n",
       " 'zmq._future': <module 'zmq._future' from 'C:\\\\ProgramFiles\\\\Anaconda3\\\\lib\\\\site-packages\\\\zmq\\\\_future.py'>,\n",
       " 'jupyter_client.asynchronous.channels': <module 'jupyter_client.asynchronous.channels' from 'C:\\\\ProgramFiles\\\\Anaconda3\\\\lib\\\\site-packages\\\\jupyter_client\\\\asynchronous\\\\channels.py'>,\n",
       " 'jupyter_client.multikernelmanager': <module 'jupyter_client.multikernelmanager' from 'C:\\\\ProgramFiles\\\\Anaconda3\\\\lib\\\\site-packages\\\\jupyter_client\\\\multikernelmanager.py'>,\n",
       " 'uuid': <module 'uuid' from 'C:\\\\ProgramFiles\\\\Anaconda3\\\\lib\\\\uuid.py'>,\n",
       " 'ipykernel.kernelapp': <module 'ipykernel.kernelapp' from 'C:\\\\ProgramFiles\\\\Anaconda3\\\\lib\\\\site-packages\\\\ipykernel\\\\kernelapp.py'>,\n",
       " 'tornado': <module 'tornado' from 'C:\\\\ProgramFiles\\\\Anaconda3\\\\lib\\\\site-packages\\\\tornado\\\\__init__.py'>,\n",
       " 'tornado.ioloop': <module 'tornado.ioloop' from 'C:\\\\ProgramFiles\\\\Anaconda3\\\\lib\\\\site-packages\\\\tornado\\\\ioloop.py'>,\n",
       " 'numbers': <module 'numbers' from 'C:\\\\ProgramFiles\\\\Anaconda3\\\\lib\\\\numbers.py'>,\n",
       " 'tornado.concurrent': <module 'tornado.concurrent' from 'C:\\\\ProgramFiles\\\\Anaconda3\\\\lib\\\\site-packages\\\\tornado\\\\concurrent.py'>,\n",
       " 'tornado.log': <module 'tornado.log' from 'C:\\\\ProgramFiles\\\\Anaconda3\\\\lib\\\\site-packages\\\\tornado\\\\log.py'>,\n",
       " 'logging.handlers': <module 'logging.handlers' from 'C:\\\\ProgramFiles\\\\Anaconda3\\\\lib\\\\logging\\\\handlers.py'>,\n",
       " 'tornado.escape': <module 'tornado.escape' from 'C:\\\\ProgramFiles\\\\Anaconda3\\\\lib\\\\site-packages\\\\tornado\\\\escape.py'>,\n",
       " 'tornado.util': <module 'tornado.util' from 'C:\\\\ProgramFiles\\\\Anaconda3\\\\lib\\\\site-packages\\\\tornado\\\\util.py'>,\n",
       " 'tornado.speedups': <module 'tornado.speedups' from 'C:\\\\ProgramFiles\\\\Anaconda3\\\\lib\\\\site-packages\\\\tornado\\\\speedups.cp37-win_amd64.pyd'>,\n",
       " 'colorama': <module 'colorama' from 'C:\\\\ProgramFiles\\\\Anaconda3\\\\lib\\\\site-packages\\\\colorama\\\\__init__.py'>,\n",
       " 'colorama.initialise': <module 'colorama.initialise' from 'C:\\\\ProgramFiles\\\\Anaconda3\\\\lib\\\\site-packages\\\\colorama\\\\initialise.py'>,\n",
       " 'colorama.ansitowin32': <module 'colorama.ansitowin32' from 'C:\\\\ProgramFiles\\\\Anaconda3\\\\lib\\\\site-packages\\\\colorama\\\\ansitowin32.py'>,\n",
       " 'colorama.ansi': <module 'colorama.ansi' from 'C:\\\\ProgramFiles\\\\Anaconda3\\\\lib\\\\site-packages\\\\colorama\\\\ansi.py'>,\n",
       " 'colorama.winterm': <module 'colorama.winterm' from 'C:\\\\ProgramFiles\\\\Anaconda3\\\\lib\\\\site-packages\\\\colorama\\\\winterm.py'>,\n",
       " 'colorama.win32': <module 'colorama.win32' from 'C:\\\\ProgramFiles\\\\Anaconda3\\\\lib\\\\site-packages\\\\colorama\\\\win32.py'>,\n",
       " 'zmq.eventloop': <module 'zmq.eventloop' from 'C:\\\\ProgramFiles\\\\Anaconda3\\\\lib\\\\site-packages\\\\zmq\\\\eventloop\\\\__init__.py'>,\n",
       " 'zmq.eventloop.ioloop': <module 'zmq.eventloop.ioloop' from 'C:\\\\ProgramFiles\\\\Anaconda3\\\\lib\\\\site-packages\\\\zmq\\\\eventloop\\\\ioloop.py'>,\n",
       " 'tornado.platform': <module 'tornado.platform' from 'C:\\\\ProgramFiles\\\\Anaconda3\\\\lib\\\\site-packages\\\\tornado\\\\platform\\\\__init__.py'>,\n",
       " 'tornado.platform.asyncio': <module 'tornado.platform.asyncio' from 'C:\\\\ProgramFiles\\\\Anaconda3\\\\lib\\\\site-packages\\\\tornado\\\\platform\\\\asyncio.py'>,\n",
       " 'tornado.gen': <module 'tornado.gen' from 'C:\\\\ProgramFiles\\\\Anaconda3\\\\lib\\\\site-packages\\\\tornado\\\\gen.py'>,\n",
       " 'zmq.eventloop.zmqstream': <module 'zmq.eventloop.zmqstream' from 'C:\\\\ProgramFiles\\\\Anaconda3\\\\lib\\\\site-packages\\\\zmq\\\\eventloop\\\\zmqstream.py'>,\n",
       " 'ipykernel.iostream': <module 'ipykernel.iostream' from 'C:\\\\ProgramFiles\\\\Anaconda3\\\\lib\\\\site-packages\\\\ipykernel\\\\iostream.py'>,\n",
       " 'imp': <module 'imp' from 'C:\\\\ProgramFiles\\\\Anaconda3\\\\lib\\\\imp.py'>,\n",
       " 'jupyter_client.session': <module 'jupyter_client.session' from 'C:\\\\ProgramFiles\\\\Anaconda3\\\\lib\\\\site-packages\\\\jupyter_client\\\\session.py'>,\n",
       " 'hmac': <module 'hmac' from 'C:\\\\ProgramFiles\\\\Anaconda3\\\\lib\\\\hmac.py'>,\n",
       " 'jupyter_client.jsonutil': <module 'jupyter_client.jsonutil' from 'C:\\\\ProgramFiles\\\\Anaconda3\\\\lib\\\\site-packages\\\\jupyter_client\\\\jsonutil.py'>,\n",
       " 'dateutil': <module 'dateutil' from 'C:\\\\ProgramFiles\\\\Anaconda3\\\\lib\\\\site-packages\\\\dateutil\\\\__init__.py'>,\n",
       " 'dateutil._version': <module 'dateutil._version' from 'C:\\\\ProgramFiles\\\\Anaconda3\\\\lib\\\\site-packages\\\\dateutil\\\\_version.py'>,\n",
       " 'dateutil.parser': <module 'dateutil.parser' from 'C:\\\\ProgramFiles\\\\Anaconda3\\\\lib\\\\site-packages\\\\dateutil\\\\parser\\\\__init__.py'>,\n",
       " 'dateutil.parser._parser': <module 'dateutil.parser._parser' from 'C:\\\\ProgramFiles\\\\Anaconda3\\\\lib\\\\site-packages\\\\dateutil\\\\parser\\\\_parser.py'>,\n",
       " 'decimal': <module 'decimal' from 'C:\\\\ProgramFiles\\\\Anaconda3\\\\lib\\\\decimal.py'>,\n",
       " '_decimal': <module '_decimal' from 'C:\\\\ProgramFiles\\\\Anaconda3\\\\DLLs\\\\_decimal.pyd'>,\n",
       " 'dateutil.relativedelta': <module 'dateutil.relativedelta' from 'C:\\\\ProgramFiles\\\\Anaconda3\\\\lib\\\\site-packages\\\\dateutil\\\\relativedelta.py'>,\n",
       " 'dateutil._common': <module 'dateutil._common' from 'C:\\\\ProgramFiles\\\\Anaconda3\\\\lib\\\\site-packages\\\\dateutil\\\\_common.py'>,\n",
       " 'dateutil.tz': <module 'dateutil.tz' from 'C:\\\\ProgramFiles\\\\Anaconda3\\\\lib\\\\site-packages\\\\dateutil\\\\tz\\\\__init__.py'>,\n",
       " 'dateutil.tz.tz': <module 'dateutil.tz.tz' from 'C:\\\\ProgramFiles\\\\Anaconda3\\\\lib\\\\site-packages\\\\dateutil\\\\tz\\\\tz.py'>,\n",
       " 'six.moves': <module 'six.moves' (<six._SixMetaPathImporter object at 0x000002132D709A48>)>,\n",
       " 'dateutil.tz._common': <module 'dateutil.tz._common' from 'C:\\\\ProgramFiles\\\\Anaconda3\\\\lib\\\\site-packages\\\\dateutil\\\\tz\\\\_common.py'>,\n",
       " 'dateutil.tz._factories': <module 'dateutil.tz._factories' from 'C:\\\\ProgramFiles\\\\Anaconda3\\\\lib\\\\site-packages\\\\dateutil\\\\tz\\\\_factories.py'>,\n",
       " 'dateutil.tz.win': <module 'dateutil.tz.win' from 'C:\\\\ProgramFiles\\\\Anaconda3\\\\lib\\\\site-packages\\\\dateutil\\\\tz\\\\win.py'>,\n",
       " 'dateutil.parser.isoparser': <module 'dateutil.parser.isoparser' from 'C:\\\\ProgramFiles\\\\Anaconda3\\\\lib\\\\site-packages\\\\dateutil\\\\parser\\\\isoparser.py'>,\n",
       " '_strptime': <module '_strptime' from 'C:\\\\ProgramFiles\\\\Anaconda3\\\\lib\\\\_strptime.py'>,\n",
       " 'jupyter_client.adapter': <module 'jupyter_client.adapter' from 'C:\\\\ProgramFiles\\\\Anaconda3\\\\lib\\\\site-packages\\\\jupyter_client\\\\adapter.py'>,\n",
       " 'ipykernel.heartbeat': <module 'ipykernel.heartbeat' from 'C:\\\\ProgramFiles\\\\Anaconda3\\\\lib\\\\site-packages\\\\ipykernel\\\\heartbeat.py'>,\n",
       " 'ipykernel.ipkernel': <module 'ipykernel.ipkernel' from 'C:\\\\ProgramFiles\\\\Anaconda3\\\\lib\\\\site-packages\\\\ipykernel\\\\ipkernel.py'>,\n",
       " 'IPython.utils.tokenutil': <module 'IPython.utils.tokenutil' from 'C:\\\\ProgramFiles\\\\Anaconda3\\\\lib\\\\site-packages\\\\IPython\\\\utils\\\\tokenutil.py'>,\n",
       " 'ipykernel.comm': <module 'ipykernel.comm' from 'C:\\\\ProgramFiles\\\\Anaconda3\\\\lib\\\\site-packages\\\\ipykernel\\\\comm\\\\__init__.py'>,\n",
       " 'ipykernel.comm.manager': <module 'ipykernel.comm.manager' from 'C:\\\\ProgramFiles\\\\Anaconda3\\\\lib\\\\site-packages\\\\ipykernel\\\\comm\\\\manager.py'>,\n",
       " 'ipykernel.comm.comm': <module 'ipykernel.comm.comm' from 'C:\\\\ProgramFiles\\\\Anaconda3\\\\lib\\\\site-packages\\\\ipykernel\\\\comm\\\\comm.py'>,\n",
       " 'ipykernel.kernelbase': <module 'ipykernel.kernelbase' from 'C:\\\\ProgramFiles\\\\Anaconda3\\\\lib\\\\site-packages\\\\ipykernel\\\\kernelbase.py'>,\n",
       " 'tornado.queues': <module 'tornado.queues' from 'C:\\\\ProgramFiles\\\\Anaconda3\\\\lib\\\\site-packages\\\\tornado\\\\queues.py'>,\n",
       " 'tornado.locks': <module 'tornado.locks' from 'C:\\\\ProgramFiles\\\\Anaconda3\\\\lib\\\\site-packages\\\\tornado\\\\locks.py'>,\n",
       " 'ipykernel.jsonutil': <module 'ipykernel.jsonutil' from 'C:\\\\ProgramFiles\\\\Anaconda3\\\\lib\\\\site-packages\\\\ipykernel\\\\jsonutil.py'>,\n",
       " 'ipykernel.zmqshell': <module 'ipykernel.zmqshell' from 'C:\\\\ProgramFiles\\\\Anaconda3\\\\lib\\\\site-packages\\\\ipykernel\\\\zmqshell.py'>,\n",
       " 'IPython.core.payloadpage': <module 'IPython.core.payloadpage' from 'C:\\\\ProgramFiles\\\\Anaconda3\\\\lib\\\\site-packages\\\\IPython\\\\core\\\\payloadpage.py'>,\n",
       " 'ipykernel.displayhook': <module 'ipykernel.displayhook' from 'C:\\\\ProgramFiles\\\\Anaconda3\\\\lib\\\\site-packages\\\\ipykernel\\\\displayhook.py'>,\n",
       " 'ipykernel.eventloops': <module 'ipykernel.eventloops' from 'C:\\\\ProgramFiles\\\\Anaconda3\\\\lib\\\\site-packages\\\\ipykernel\\\\eventloops.py'>,\n",
       " 'distutils.version': <module 'distutils.version' from 'C:\\\\ProgramFiles\\\\Anaconda3\\\\lib\\\\distutils\\\\version.py'>,\n",
       " 'ipykernel.parentpoller': <module 'ipykernel.parentpoller' from 'C:\\\\ProgramFiles\\\\Anaconda3\\\\lib\\\\site-packages\\\\ipykernel\\\\parentpoller.py'>,\n",
       " 'win32api': <module 'win32api' from 'C:\\\\ProgramFiles\\\\Anaconda3\\\\lib\\\\site-packages\\\\win32\\\\win32api.pyd'>,\n",
       " 'win32security': <module 'win32security' from 'C:\\\\ProgramFiles\\\\Anaconda3\\\\lib\\\\site-packages\\\\win32\\\\win32security.pyd'>,\n",
       " 'ntsecuritycon': <module 'ntsecuritycon' from 'C:\\\\ProgramFiles\\\\Anaconda3\\\\lib\\\\site-packages\\\\win32\\\\lib\\\\ntsecuritycon.py'>,\n",
       " 'faulthandler': <module 'faulthandler' (built-in)>,\n",
       " 'ipykernel.datapub': <module 'ipykernel.datapub' from 'C:\\\\ProgramFiles\\\\Anaconda3\\\\lib\\\\site-packages\\\\ipykernel\\\\datapub.py'>,\n",
       " 'ipykernel.serialize': <module 'ipykernel.serialize' from 'C:\\\\ProgramFiles\\\\Anaconda3\\\\lib\\\\site-packages\\\\ipykernel\\\\serialize.py'>,\n",
       " 'ipykernel.pickleutil': <module 'ipykernel.pickleutil' from 'C:\\\\ProgramFiles\\\\Anaconda3\\\\lib\\\\site-packages\\\\ipykernel\\\\pickleutil.py'>,\n",
       " 'ipykernel.codeutil': <module 'ipykernel.codeutil' from 'C:\\\\ProgramFiles\\\\Anaconda3\\\\lib\\\\site-packages\\\\ipykernel\\\\codeutil.py'>,\n",
       " 'IPython.core.completerlib': <module 'IPython.core.completerlib' from 'C:\\\\ProgramFiles\\\\Anaconda3\\\\lib\\\\site-packages\\\\IPython\\\\core\\\\completerlib.py'>,\n",
       " 'storemagic': <module 'storemagic' from 'C:\\\\ProgramFiles\\\\Anaconda3\\\\lib\\\\site-packages\\\\IPython\\\\extensions\\\\storemagic.py'>,\n",
       " 'jedi.inference.finder': <module 'jedi.inference.finder' from 'C:\\\\ProgramFiles\\\\Anaconda3\\\\lib\\\\site-packages\\\\jedi\\\\inference\\\\finder.py'>,\n",
       " 'jedi.inference.star_args': <module 'jedi.inference.star_args' from 'C:\\\\ProgramFiles\\\\Anaconda3\\\\lib\\\\site-packages\\\\jedi\\\\inference\\\\star_args.py'>,\n",
       " 'zmq.utils.garbage': <module 'zmq.utils.garbage' from 'C:\\\\ProgramFiles\\\\Anaconda3\\\\lib\\\\site-packages\\\\zmq\\\\utils\\\\garbage.py'>}"
      ]
     },
     "execution_count": 120,
     "metadata": {},
     "output_type": "execute_result"
    }
   ],
   "source": [
    "sys.modules"
   ]
  },
  {
   "cell_type": "code",
   "execution_count": 121,
   "metadata": {
    "collapsed": true
   },
   "outputs": [
    {
     "data": {
      "text/plain": [
       "dict_keys(['sys', 'builtins', '_frozen_importlib', '_imp', '_thread', '_warnings', '_weakref', 'zipimport', '_frozen_importlib_external', '_io', 'marshal', 'nt', 'winreg', 'encodings', 'codecs', '_codecs', 'encodings.aliases', 'encodings.utf_8', '_signal', '__main__', 'encodings.latin_1', 'io', 'abc', '_abc', '_bootlocale', '_locale', 'encodings.gbk', '_codecs_cn', '_multibytecodec', 'site', 'os', 'stat', '_stat', '_collections_abc', 'ntpath', 'genericpath', 'os.path', '_sitebuiltins', 'types', 'importlib', 'importlib._bootstrap', 'importlib._bootstrap_external', 'warnings', 'importlib.util', 'importlib.abc', 'importlib.machinery', 'contextlib', 'collections', 'operator', '_operator', 'keyword', 'heapq', '_heapq', 'itertools', 'reprlib', '_collections', 'functools', '_functools', 'mpl_toolkits', 'sphinxcontrib', 'zope', 'runpy', 'pkgutil', 'weakref', '_weakrefset', 'ipykernel', 'ipykernel._version', 'ipykernel.connect', '__future__', 'json', 'json.decoder', 're', 'enum', 'sre_compile', '_sre', 'sre_parse', 'sre_constants', 'copyreg', 'json.scanner', '_json', 'json.encoder', 'subprocess', 'time', 'signal', 'errno', 'threading', 'traceback', 'linecache', 'tokenize', 'token', 'msvcrt', '_winapi', 'IPython', 'IPython.core', 'IPython.core.getipython', 'IPython.core.release', 'IPython.core.application', 'atexit', 'copy', 'glob', 'fnmatch', 'posixpath', 'logging', 'collections.abc', 'string', '_string', 'shutil', 'zlib', 'bz2', '_compression', '_bz2', 'lzma', '_lzma', 'traitlets', 'traitlets.traitlets', 'inspect', 'dis', 'opcode', '_opcode', 'six', 'struct', '_struct', 'traitlets.utils', 'traitlets.utils.getargspec', 'traitlets.utils.importstring', 'ipython_genutils', 'ipython_genutils._version', 'ipython_genutils.py3compat', 'ipython_genutils.encoding', 'locale', 'platform', 'traitlets.utils.sentinel', 'traitlets.utils.bunch', 'traitlets._version', 'traitlets.config', 'traitlets.config.application', 'decorator', 'traitlets.config.configurable', 'traitlets.config.loader', 'argparse', 'gettext', 'ast', '_ast', 'ipython_genutils.path', 'random', 'math', 'hashlib', '_hashlib', '_blake2', '_sha3', 'bisect', '_bisect', '_random', 'ipython_genutils.text', 'textwrap', 'ipython_genutils.importstring', 'IPython.core.crashhandler', 'pprint', 'IPython.core.ultratb', 'pydoc', 'sysconfig', 'urllib', 'urllib.parse', 'IPython.core.debugger', 'bdb', 'IPython.utils', 'IPython.utils.PyColorize', 'IPython.utils.coloransi', 'IPython.utils.ipstruct', 'IPython.utils.colorable', 'pygments', 'IPython.utils.py3compat', 'IPython.utils.encoding', 'IPython.core.excolors', 'IPython.testing', 'IPython.testing.skipdoctest', 'pdb', 'cmd', 'code', 'codeop', 'IPython.core.display_trap', 'IPython.utils.path', 'IPython.utils.process', 'IPython.utils._process_win32', 'ctypes', '_ctypes', 'ctypes._endian', 'ctypes.wintypes', 'IPython.utils._process_common', 'shlex', 'IPython.utils.decorators', 'IPython.utils.data', 'IPython.utils.terminal', 'IPython.utils.sysinfo', 'IPython.utils._sysinfo', 'IPython.core.profiledir', 'IPython.paths', 'tempfile', 'IPython.utils.importstring', 'IPython.terminal', 'IPython.terminal.embed', 'IPython.core.compilerop', 'IPython.core.magic_arguments', 'IPython.core.error', 'IPython.utils.text', 'pathlib', 'IPython.core.magic', 'getopt', 'IPython.core.oinspect', 'typing', 'typing.io', 'typing.re', 'IPython.core.page', 'IPython.core.display', 'binascii', 'mimetypes', 'IPython.lib', 'IPython.lib.security', 'getpass', 'IPython.lib.pretty', 'datetime', '_datetime', 'IPython.utils.openpy', 'IPython.utils.dir2', 'IPython.utils.wildcard', 'pygments.lexers', 'pygments.lexers._mapping', 'pygments.modeline', 'pygments.plugin', 'pygments.util', 'pygments.lexers.python', 'pygments.lexer', 'pygments.filter', 'pygments.filters', 'pygments.token', 'pygments.regexopt', 'pygments.unistring', 'pygments.formatters', 'pygments.formatters._mapping', 'pygments.formatters.html', 'pygments.formatter', 'pygments.styles', 'IPython.core.inputtransformer2', 'IPython.core.interactiveshell', 'pickleshare', 'pickle', '_compat_pickle', '_pickle', 'IPython.core.prefilter', 'IPython.core.autocall', 'IPython.core.macro', 'IPython.core.splitinput', 'IPython.core.alias', 'IPython.core.builtin_trap', 'IPython.core.events', 'backcall', 'backcall.backcall', 'IPython.core.displayhook', 'IPython.core.displaypub', 'IPython.core.extensions', 'IPython.core.formatters', 'IPython.utils.sentinel', 'IPython.core.history', 'sqlite3', 'sqlite3.dbapi2', '_sqlite3', 'IPython.core.logger', 'IPython.core.payload', 'IPython.core.usage', 'IPython.display', 'IPython.lib.display', 'html', 'html.entities', 'IPython.utils.io', 'IPython.utils.capture', 'IPython.utils.strdispatch', 'IPython.core.hooks', 'IPython.utils.syspathcontext', 'IPython.utils.tempdir', 'IPython.utils.contexts', 'IPython.core.async_helpers', 'IPython.terminal.interactiveshell', 'asyncio', 'asyncio.base_events', 'concurrent', 'concurrent.futures', 'concurrent.futures._base', 'socket', '_socket', 'selectors', 'select', 'ssl', '_ssl', 'base64', 'asyncio.constants', 'asyncio.coroutines', 'asyncio.base_futures', 'asyncio.format_helpers', 'asyncio.log', 'asyncio.events', 'contextvars', '_contextvars', 'asyncio.base_tasks', '_asyncio', 'asyncio.futures', 'asyncio.protocols', 'asyncio.sslproto', 'asyncio.transports', 'asyncio.tasks', 'asyncio.locks', 'asyncio.runners', 'asyncio.queues', 'asyncio.streams', 'asyncio.subprocess', 'asyncio.windows_events', '_overlapped', 'asyncio.base_subprocess', 'asyncio.proactor_events', 'asyncio.selector_events', 'asyncio.windows_utils', 'prompt_toolkit', 'prompt_toolkit.application', 'prompt_toolkit.application.application', 'prompt_toolkit.buffer', 'prompt_toolkit.application.current', 'prompt_toolkit.application.run_in_terminal', 'prompt_toolkit.eventloop', 'prompt_toolkit.eventloop.async_generator', 'prompt_toolkit.eventloop.utils', 'prompt_toolkit.eventloop.inputhook', 'prompt_toolkit.utils', 'wcwidth', 'wcwidth.wcwidth', 'wcwidth.table_wide', 'wcwidth.table_zero', 'wcwidth.unicode_versions', 'prompt_toolkit.auto_suggest', 'prompt_toolkit.document', 'prompt_toolkit.clipboard', 'prompt_toolkit.clipboard.base', 'prompt_toolkit.selection', 'prompt_toolkit.clipboard.in_memory', 'prompt_toolkit.filters', 'prompt_toolkit.filters.app', 'prompt_toolkit.cache', 'prompt_toolkit.enums', 'prompt_toolkit.filters.base', 'prompt_toolkit.filters.cli', 'prompt_toolkit.filters.utils', 'prompt_toolkit.completion', 'prompt_toolkit.completion.base', 'prompt_toolkit.formatted_text', 'prompt_toolkit.formatted_text.ansi', 'prompt_toolkit.output', 'prompt_toolkit.output.base', 'prompt_toolkit.data_structures', 'prompt_toolkit.styles', 'prompt_toolkit.styles.base', 'prompt_toolkit.styles.defaults', 'prompt_toolkit.styles.named_colors', 'prompt_toolkit.styles.style', 'prompt_toolkit.styles.pygments', 'prompt_toolkit.styles.style_transformation', 'colorsys', 'prompt_toolkit.output.color_depth', 'prompt_toolkit.output.defaults', 'prompt_toolkit.patch_stdout', 'prompt_toolkit.output.vt100', 'array', 'prompt_toolkit.formatted_text.base', 'prompt_toolkit.mouse_events', 'prompt_toolkit.formatted_text.html', 'xml', 'xml.dom', 'xml.dom.domreg', 'xml.dom.minidom', 'xml.dom.minicompat', 'xml.dom.xmlbuilder', 'xml.dom.NodeFilter', 'prompt_toolkit.formatted_text.pygments', 'prompt_toolkit.formatted_text.utils', 'prompt_toolkit.completion.filesystem', 'prompt_toolkit.completion.fuzzy_completer', 'prompt_toolkit.completion.word_completer', 'prompt_toolkit.completion.nested', 'prompt_toolkit.history', 'prompt_toolkit.search', 'prompt_toolkit.key_binding', 'prompt_toolkit.key_binding.key_bindings', 'prompt_toolkit.keys', 'prompt_toolkit.key_binding.key_processor', 'prompt_toolkit.key_binding.vi_state', 'prompt_toolkit.validation', 'prompt_toolkit.input', 'prompt_toolkit.input.base', 'prompt_toolkit.input.defaults', 'prompt_toolkit.input.typeahead', 'prompt_toolkit.key_binding.bindings', 'prompt_toolkit.key_binding.bindings.page_navigation', 'prompt_toolkit.key_binding.bindings.scroll', 'prompt_toolkit.key_binding.defaults', 'prompt_toolkit.key_binding.bindings.basic', 'prompt_toolkit.key_binding.bindings.named_commands', 'prompt_toolkit.layout', 'prompt_toolkit.layout.containers', 'prompt_toolkit.layout.controls', 'prompt_toolkit.lexers', 'prompt_toolkit.lexers.base', 'prompt_toolkit.lexers.pygments', 'prompt_toolkit.layout.processors', 'prompt_toolkit.layout.utils', 'prompt_toolkit.layout.dimension', 'prompt_toolkit.layout.margins', 'prompt_toolkit.layout.mouse_handlers', 'prompt_toolkit.layout.screen', 'prompt_toolkit.layout.layout', 'prompt_toolkit.layout.menus', 'prompt_toolkit.key_binding.bindings.completion', 'prompt_toolkit.key_binding.bindings.cpr', 'prompt_toolkit.key_binding.bindings.emacs', 'prompt_toolkit.key_binding.bindings.mouse', 'prompt_toolkit.key_binding.bindings.vi', 'prompt_toolkit.input.vt100_parser', 'prompt_toolkit.input.ansi_escape_sequences', 'prompt_toolkit.key_binding.digraphs', 'prompt_toolkit.key_binding.emacs_state', 'prompt_toolkit.layout.dummy', 'prompt_toolkit.renderer', 'prompt_toolkit.application.dummy', 'prompt_toolkit.shortcuts', 'prompt_toolkit.shortcuts.dialogs', 'prompt_toolkit.key_binding.bindings.focus', 'prompt_toolkit.widgets', 'prompt_toolkit.widgets.base', 'prompt_toolkit.widgets.toolbars', 'prompt_toolkit.widgets.dialogs', 'prompt_toolkit.widgets.menus', 'prompt_toolkit.shortcuts.progress_bar', 'prompt_toolkit.shortcuts.progress_bar.base', 'prompt_toolkit.shortcuts.progress_bar.formatters', 'prompt_toolkit.shortcuts.prompt', 'prompt_toolkit.key_binding.bindings.auto_suggest', 'prompt_toolkit.key_binding.bindings.open_in_editor', 'prompt_toolkit.shortcuts.utils', 'pygments.style', 'IPython.terminal.debugger', 'IPython.core.completer', 'unicodedata', 'IPython.core.latex_symbols', 'IPython.utils.generics', 'jedi', 'jedi.api', 'parso', 'parso.parser', 'parso.tree', 'parso._compatibility', 'parso.utils', 'parso.pgen2', 'parso.pgen2.generator', 'parso.pgen2.grammar_parser', 'parso.python', 'parso.python.tokenize', 'parso.python.token', 'parso.grammar', 'parso.python.diff', 'difflib', 'parso.python.parser', 'parso.python.tree', 'parso.python.prefix', 'parso.cache', 'gc', 'parso.python.errors', 'parso.normalizer', 'parso.python.pep8', 'parso.file_io', 'jedi._compatibility', 'jedi.file_io', 'queue', '_queue', 'jedi.parser_utils', 'jedi.debug', 'jedi.settings', 'jedi.cache', 'jedi.api.classes', 'jedi.inference', 'jedi.inference.imports', 'jedi.inference.sys_path', 'jedi.inference.cache', 'jedi.inference.base_value', 'jedi.inference.helpers', 'jedi.inference.utils', 'jedi.common', 'jedi.inference.compiled', 'jedi.inference.compiled.value', 'jedi.inference.filters', 'jedi.inference.flow_analysis', 'jedi.inference.recursion', 'jedi.inference.names', 'jedi.inference.docstrings', 'jedi.inference.lazy_value', 'jedi.plugins', 'jedi.inference.compiled.access', 'jedi.inference.compiled.getattr_static', 'jedi.inference.signature', 'jedi.inference.context', 'jedi.inference.analysis', 'jedi.inference.gradual', 'jedi.inference.gradual.typeshed', 'jedi.inference.gradual.stub_value', 'jedi.inference.value', 'jedi.inference.value.module', 'jedi.inference.value.klass', 'jedi.inference.arguments', 'jedi.inference.value.iterable', 'jedi.inference.value.dynamic_arrays', 'jedi.inference.value.function', 'jedi.inference.parser_cache', 'jedi.inference.gradual.generics', 'jedi.inference.value.instance', 'jedi.inference.gradual.typing', 'jedi.inference.gradual.base', 'jedi.inference.gradual.type_var', 'jedi.inference.syntax_tree', 'jedi.inference.gradual.annotation', 'jedi.inference.param', 'jedi.inference.value.decorator', 'jedi.inference.compiled.mixed', 'jedi.inference.gradual.conversion', 'jedi.api.keywords', 'pydoc_data', 'pydoc_data.topics', 'jedi.api.completion_cache', 'jedi.api.helpers', 'jedi.api.interpreter', 'jedi.api.completion', 'jedi.api.strings', 'jedi.api.file_name', 'jedi.api.environment', 'filecmp', 'jedi.inference.compiled.subprocess', 'jedi.inference.compiled.subprocess.functions', 'jedi.api.exceptions', 'jedi.api.project', 'jedi.inference.references', 'jedi.api.errors', 'jedi.api.refactoring', 'jedi.api.refactoring.extract', 'jedi.inference.gradual.utils', 'jedi.plugins.registry', 'jedi.plugins.stdlib', 'jedi.plugins.flask', 'jedi.plugins.pytest', 'jedi.plugins.django', 'IPython.terminal.ptutils', 'IPython.terminal.shortcuts', 'IPython.lib.clipboard', 'IPython.terminal.magics', 'IPython.terminal.pt_inputhooks', 'IPython.terminal.prompts', 'IPython.terminal.ipapp', 'IPython.core.magics', 'IPython.core.magics.auto', 'IPython.core.magics.basic', 'IPython.core.magics.code', 'urllib.request', 'email', 'http', 'http.client', 'email.parser', 'email.feedparser', 'email.errors', 'email._policybase', 'email.header', 'email.quoprimime', 'email.base64mime', 'email.charset', 'email.encoders', 'quopri', 'email.utils', 'email._parseaddr', 'calendar', 'email.message', 'uu', 'email._encoded_words', 'email.iterators', 'urllib.error', 'urllib.response', 'nturl2path', 'IPython.core.magics.config', 'IPython.core.magics.display', 'IPython.core.magics.execution', 'timeit', 'cProfile', '_lsprof', 'profile', 'pstats', 'IPython.utils.module_paths', 'IPython.utils.timing', 'IPython.core.magics.extension', 'IPython.core.magics.history', 'IPython.core.magics.logging', 'IPython.core.magics.namespace', 'IPython.core.magics.osm', 'IPython.core.magics.packaging', 'IPython.core.magics.pylab', 'IPython.core.pylabtools', 'IPython.core.magics.script', 'IPython.lib.backgroundjobs', 'IPython.core.shellapp', 'IPython.extensions', 'IPython.extensions.storemagic', 'IPython.utils.frame', 'jupyter_client', 'jupyter_client._version', 'jupyter_client.connect', 'zmq', 'zmq.backend', 'zmq.backend.select', 'zmq.backend.cython', 'zmq.backend.cython.constants', 'cython_runtime', 'zmq.backend.cython.error', '_cython_0_29_17', 'zmq.backend.cython.message', 'zmq.error', 'zmq.backend.cython.context', 'zmq.backend.cython.socket', 'zmq.backend.cython.utils', 'zmq.backend.cython._poll', 'zmq.backend.cython._version', 'zmq.backend.cython._device', 'zmq.backend.cython._proxy_steerable', 'zmq.sugar', 'zmq.sugar.constants', 'zmq.utils', 'zmq.utils.constant_names', 'zmq.sugar.context', 'zmq.sugar.attrsettr', 'zmq.sugar.socket', 'zmq.sugar.poll', 'zmq.utils.jsonapi', 'zmq.utils.strtypes', 'zmq.sugar.frame', 'zmq.sugar.tracker', 'zmq.sugar.version', 'zmq.sugar.stopwatch', 'jupyter_client.localinterfaces', 'jupyter_core', 'jupyter_core.version', 'jupyter_core.paths', 'distutils', 'distutils.util', 'distutils.errors', 'distutils.dep_util', 'distutils.spawn', 'distutils.debug', 'distutils.log', 'jupyter_client.launcher', 'traitlets.log', 'jupyter_client.client', 'jupyter_client.channels', 'jupyter_client.channelsabc', 'jupyter_client.clientabc', 'jupyter_client.manager', 'jupyter_client.kernelspec', 'jupyter_client.managerabc', 'jupyter_client.blocking', 'jupyter_client.blocking.client', 'jupyter_client.blocking.channels', 'jupyter_client.asynchronous', 'jupyter_client.asynchronous.client', 'zmq.asyncio', 'zmq._future', 'jupyter_client.asynchronous.channels', 'jupyter_client.multikernelmanager', 'uuid', 'ipykernel.kernelapp', 'tornado', 'tornado.ioloop', 'numbers', 'tornado.concurrent', 'tornado.log', 'logging.handlers', 'tornado.escape', 'tornado.util', 'tornado.speedups', 'colorama', 'colorama.initialise', 'colorama.ansitowin32', 'colorama.ansi', 'colorama.winterm', 'colorama.win32', 'zmq.eventloop', 'zmq.eventloop.ioloop', 'tornado.platform', 'tornado.platform.asyncio', 'tornado.gen', 'zmq.eventloop.zmqstream', 'ipykernel.iostream', 'imp', 'jupyter_client.session', 'hmac', 'jupyter_client.jsonutil', 'dateutil', 'dateutil._version', 'dateutil.parser', 'dateutil.parser._parser', 'decimal', '_decimal', 'dateutil.relativedelta', 'dateutil._common', 'dateutil.tz', 'dateutil.tz.tz', 'six.moves', 'dateutil.tz._common', 'dateutil.tz._factories', 'dateutil.tz.win', 'dateutil.parser.isoparser', '_strptime', 'jupyter_client.adapter', 'ipykernel.heartbeat', 'ipykernel.ipkernel', 'IPython.utils.tokenutil', 'ipykernel.comm', 'ipykernel.comm.manager', 'ipykernel.comm.comm', 'ipykernel.kernelbase', 'tornado.queues', 'tornado.locks', 'ipykernel.jsonutil', 'ipykernel.zmqshell', 'IPython.core.payloadpage', 'ipykernel.displayhook', 'ipykernel.eventloops', 'distutils.version', 'ipykernel.parentpoller', 'win32api', 'win32security', 'ntsecuritycon', 'faulthandler', 'ipykernel.datapub', 'ipykernel.serialize', 'ipykernel.pickleutil', 'ipykernel.codeutil', 'IPython.core.completerlib', 'storemagic', 'jedi.inference.finder', 'jedi.inference.star_args', 'zmq.utils.garbage'])"
      ]
     },
     "execution_count": 121,
     "metadata": {},
     "output_type": "execute_result"
    }
   ],
   "source": [
    "sys.modules.keys()"
   ]
  },
  {
   "cell_type": "markdown",
   "metadata": {},
   "source": [
    "## 操作系统平台名称 sys.platform"
   ]
  },
  {
   "cell_type": "code",
   "execution_count": 124,
   "metadata": {},
   "outputs": [
    {
     "data": {
      "text/plain": [
       "'win32'"
      ]
     },
     "execution_count": 124,
     "metadata": {},
     "output_type": "execute_result"
    }
   ],
   "source": [
    "sys.platform"
   ]
  },
  {
   "cell_type": "markdown",
   "metadata": {},
   "source": [
    "## 模块搜索路径 sys.path"
   ]
  },
  {
   "cell_type": "code",
   "execution_count": 125,
   "metadata": {},
   "outputs": [
    {
     "data": {
      "text/plain": [
       "['D:\\\\Workspace\\\\Python\\\\JupyterHome\\\\02 各种Python库的使用练习',\n",
       " 'C:\\\\ProgramFiles\\\\Anaconda3\\\\python37.zip',\n",
       " 'C:\\\\ProgramFiles\\\\Anaconda3\\\\DLLs',\n",
       " 'C:\\\\ProgramFiles\\\\Anaconda3\\\\lib',\n",
       " 'C:\\\\ProgramFiles\\\\Anaconda3',\n",
       " '',\n",
       " 'C:\\\\Users\\\\zrand\\\\AppData\\\\Roaming\\\\Python\\\\Python37\\\\site-packages',\n",
       " 'C:\\\\ProgramFiles\\\\Anaconda3\\\\lib\\\\site-packages',\n",
       " 'C:\\\\ProgramFiles\\\\Anaconda3\\\\lib\\\\site-packages\\\\win32',\n",
       " 'C:\\\\ProgramFiles\\\\Anaconda3\\\\lib\\\\site-packages\\\\win32\\\\lib',\n",
       " 'C:\\\\ProgramFiles\\\\Anaconda3\\\\lib\\\\site-packages\\\\Pythonwin',\n",
       " 'C:\\\\ProgramFiles\\\\Anaconda3\\\\lib\\\\site-packages\\\\IPython\\\\extensions',\n",
       " 'C:\\\\Users\\\\zrand\\\\.ipython']"
      ]
     },
     "execution_count": 125,
     "metadata": {},
     "output_type": "execute_result"
    }
   ],
   "source": [
    "sys.path"
   ]
  }
 ],
 "metadata": {
  "kernelspec": {
   "display_name": "Python 3",
   "language": "python",
   "name": "python3"
  },
  "language_info": {
   "codemirror_mode": {
    "name": "ipython",
    "version": 3
   },
   "file_extension": ".py",
   "mimetype": "text/x-python",
   "name": "python",
   "nbconvert_exporter": "python",
   "pygments_lexer": "ipython3",
   "version": "3.7.9"
  },
  "toc": {
   "base_numbering": 1,
   "nav_menu": {},
   "number_sections": true,
   "sideBar": true,
   "skip_h1_title": false,
   "title_cell": "Table of Contents",
   "title_sidebar": "Contents",
   "toc_cell": false,
   "toc_position": {},
   "toc_section_display": true,
   "toc_window_display": true
  }
 },
 "nbformat": 4,
 "nbformat_minor": 4
}
