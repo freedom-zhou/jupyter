{
 "cells": [
  {
   "cell_type": "markdown",
   "metadata": {},
   "source": [
    "## [扫雷游戏](https://leetcode-cn.com/problems/minesweeper/)"
   ]
  },
  {
   "cell_type": "code",
   "execution_count": 14,
   "metadata": {},
   "outputs": [],
   "source": [
    "from itertools import product\n",
    "from typing import List\n",
    "from matplotlib import pyplot as plt\n",
    "from seaborn import heatmap\n",
    "\n",
    "orientations = list(product([0,1,-1], repeat=2))\n",
    "orientations.remove((0,0))\n",
    "\n",
    "def show(board):\n",
    "#         print(*board, sep='\\n',end='\\n\\n')\n",
    "    data = [[ord(i)-ord('0') for i in row] for row in board]\n",
    "    heatmap(data=data, annot=True, cbar=False)\n",
    "    plt.pause(0.5)\n",
    "\n",
    "def updateBoard(board: List[List[str]], click: List[int]) -> List[List[str]]:\n",
    "    w, h = len(board[0]), len(board)\n",
    "    def is_valid(a, b):\n",
    "        return 0 <= a < h and 0 <= b <w\n",
    "\n",
    "    r, c = click\n",
    "    if board[r][c] in 'MX':\n",
    "        board[r][c] = 'X'\n",
    "        show(board)\n",
    "        return board\n",
    "\n",
    "    count_m = 0\n",
    "    for a, b in orientations:\n",
    "        if is_valid(r+a, c+b) and board[r+a][c+b] == 'M':\n",
    "            count_m += 1\n",
    "\n",
    "    if count_m > 0:\n",
    "        board[r][c] = str(count_m)\n",
    "        show(board)\n",
    "    else:\n",
    "        board[r][c] = \"B\"\n",
    "        show(board)\n",
    "        for a, b in orientations:\n",
    "            if is_valid(r+a, c+b) and board[r+a][c+b] == \"E\": \n",
    "                updateBoard(board, [r+a, c+b])\n",
    "\n",
    "        return board"
   ]
  },
  {
   "cell_type": "code",
   "execution_count": 17,
   "metadata": {},
   "outputs": [
    {
     "name": "stdout",
     "output_type": "stream",
     "text": [
      "Using matplotlib backend: Qt5Agg\n",
      "['B', '1', 'E', '1', 'B']\n",
      "['B', '1', 'X', '1', 'B']\n",
      "['B', '1', '1', '1', 'B']\n",
      "['B', 'B', 'B', 'B', 'B']\n",
      "\n"
     ]
    }
   ],
   "source": [
    "%matplotlib auto\n",
    "board =[\n",
    " ['E', 'E', 'E', 'E', 'E'],\n",
    " ['E', 'E', 'M', 'E', 'E'],\n",
    " ['E', 'E', 'E', 'E', 'E'],\n",
    " ['E', 'E', 'E', 'E', 'E']\n",
    "]\n",
    "click = [3,0]\n",
    "\n",
    "plt.figure(figsize=(6,6))\n",
    "show(board)\n",
    "updateBoard(board, click)\n",
    "print(*board2, sep='\\n',end='\\n\\n')"
   ]
  },
  {
   "cell_type": "code",
   "execution_count": 3,
   "metadata": {},
   "outputs": [
    {
     "data": {
      "text/plain": [
       "48"
      ]
     },
     "execution_count": 3,
     "metadata": {},
     "output_type": "execute_result"
    }
   ],
   "source": [
    "ord('0')"
   ]
  }
 ],
 "metadata": {
  "kernelspec": {
   "display_name": "Python 3",
   "language": "python",
   "name": "python3"
  },
  "language_info": {
   "codemirror_mode": {
    "name": "ipython",
    "version": 3
   },
   "file_extension": ".py",
   "mimetype": "text/x-python",
   "name": "python",
   "nbconvert_exporter": "python",
   "pygments_lexer": "ipython3",
   "version": "3.7.9"
  },
  "toc": {
   "base_numbering": 1,
   "nav_menu": {},
   "number_sections": true,
   "sideBar": true,
   "skip_h1_title": false,
   "title_cell": "Table of Contents",
   "title_sidebar": "Contents",
   "toc_cell": false,
   "toc_position": {},
   "toc_section_display": true,
   "toc_window_display": true
  }
 },
 "nbformat": 4,
 "nbformat_minor": 4
}
