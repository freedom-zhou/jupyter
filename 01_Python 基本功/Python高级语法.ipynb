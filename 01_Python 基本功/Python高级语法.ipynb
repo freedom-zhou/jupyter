{
 "cells": [
  {
   "cell_type": "markdown",
   "metadata": {},
   "source": [
    "#    闭包(closure) \n",
    "闭包简单说就是生成函数的函数  \n",
    "作用：使代码更简洁，可读性更强"
   ]
  },
  {
   "cell_type": "code",
   "execution_count": 6,
   "metadata": {},
   "outputs": [
    {
     "name": "stdout",
     "output_type": "stream",
     "text": [
      "4\n",
      "8\n"
     ]
    }
   ],
   "source": [
    "#闭包函数，其中 exponent 称为自由变量\n",
    "def nth_power(exponent):\n",
    "    def exponent_of(base):\n",
    "        return base ** exponent\n",
    "    return exponent_of # 返回值是 exponent_of 函数\n",
    "\n",
    "square = nth_power(2) # 计算一个数的平方\n",
    "cube = nth_power(3) # 计算一个数的立方\n",
    "print(square(2))  # 计算 2 的平方\n",
    "print(cube(2)) # 计算 2 的立方"
   ]
  },
  {
   "cell_type": "code",
   "execution_count": 5,
   "metadata": {},
   "outputs": [
    {
     "name": "stdout",
     "output_type": "stream",
     "text": [
      "got 1.1\n",
      "invoked 1 times\n",
      "got 1.2\n",
      "invoked 2 times\n",
      "got 1.3\n",
      "invoked 3 times\n",
      "got 2.1\n",
      "invoked 1 times\n",
      "got 2.2\n",
      "invoked 2 times\n",
      "got 2.3\n",
      "invoked 3 times\n"
     ]
    }
   ],
   "source": [
    "def fun_gen():\n",
    "    count = 0\n",
    "    def fun(var):\n",
    "        nonlocal count\n",
    "        print(f'got {var}')\n",
    "        count += 1\n",
    "        print(f'invoked {count} times')\n",
    "    return fun\n",
    "\n",
    "fun1 = fun_gen()\n",
    "fun2 = fun_gen()\n",
    "\n",
    "fun1(1.1)\n",
    "fun1(1.2)\n",
    "fun1(1.3)\n",
    "fun2(2.1)\n",
    "fun2(2.2)\n",
    "fun2(2.3)"
   ]
  },
  {
   "cell_type": "markdown",
   "metadata": {},
   "source": [
    "# 装饰器 (decorator)\n",
    "**作用**： 在不改变原函数代码的基础上，给原函数加功能  \n",
    "**存在的问题**：会改变原函数的__name__和__doc__属性  \n",
    "**解决办法**：  \n",
    "* 方法1：使用functools库中的wraps装饰器\n",
    "* 方法2：手动给返回的函数的__name__和__doc__属性赋值为原来函数的相应属性"
   ]
  },
  {
   "cell_type": "markdown",
   "metadata": {},
   "source": [
    "### 示例：用装饰器给方法加上统计运算时间的功能"
   ]
  },
  {
   "cell_type": "code",
   "execution_count": 13,
   "metadata": {},
   "outputs": [
    {
     "name": "stdout",
     "output_type": "stream",
     "text": [
      "test1 function run 0.5007157325744629 second\n",
      "test1\n",
      "test decorator\n",
      "\n",
      "func function run 0.5018458366394043 second\n",
      "func function run 0.5012469291687012 second\n",
      "func function run 0.5011284351348877 second\n",
      "func\n",
      "None\n",
      "\n",
      "test3 function run 0.500777006149292 second\n",
      "test3 function run 0.5007297992706299 second\n",
      "test3 function run 0.5009357929229736 second\n",
      "test3\n",
      "test decorator\n",
      "\n"
     ]
    }
   ],
   "source": [
    "import time\n",
    "import functools\n",
    "\n",
    "# \n",
    "def showRunTimeDec1(func, *args, **kwds): \n",
    "    '''\n",
    "    这样的装饰器虽然不会改变被装饰函数的函数名和函数doc，但原函数并没有变\n",
    "    只在第一次调用被装饰函数时，会显示运行时间\n",
    "    '''\n",
    "    \n",
    "    st = time.time()\n",
    "\n",
    "    func(*args, **kwds)\n",
    "\n",
    "    ed = time.time()\n",
    "    print(f\"{func.__name__} function run {ed-st} second\")\n",
    "    return func\n",
    "\n",
    "def showRunTimeDec2(f):\n",
    "    '''\n",
    "    这是装饰器的正确使用方法\n",
    "    但问题是，被装饰的函数，函数名name和帮助文档doc被改变了\n",
    "    '''\n",
    "\n",
    "    def func(*args, **kwds):\n",
    "        st = time.time()\n",
    "\n",
    "        f(*args, **kwds)\n",
    "\n",
    "        ed = time.time()\n",
    "        print(f\"{func.__name__} function run {ed-st} second\")\n",
    "        \n",
    "    return func\n",
    "\n",
    "def showRunTimeDec3(f):\n",
    "    '''\n",
    "    正确使用装饰器\n",
    "    并保留原有被装饰函数的信息\n",
    "    2种方法：\n",
    "        1. 使用functools.wraps()装饰器 （推荐）\n",
    "        2. 手动为包装函数改name和doc\n",
    "    '''\n",
    "\n",
    "    @functools.wraps(f)\n",
    "    def func(*args, **kwds):\n",
    "        st = time.time()\n",
    "\n",
    "        f(*args, **kwds)\n",
    "\n",
    "        ed = time.time()\n",
    "        print(f\"{func.__name__} function run {ed-st} second\")\n",
    "        \n",
    "    # 手动赋值\n",
    "#     func.__name__ = f.__name__\n",
    "#     func.__doc__ = f.__doc__\n",
    "    return func\n",
    "\n",
    "@showRunTimeDec1\n",
    "def test1():\n",
    "    '''test decorator'''\n",
    "    time.sleep(0.5)\n",
    "\n",
    "@showRunTimeDec2\n",
    "def test2():\n",
    "    '''test decorator'''\n",
    "    time.sleep(0.5)\n",
    "\n",
    "@showRunTimeDec3\n",
    "def test3():\n",
    "    '''test decorator'''\n",
    "    time.sleep(0.5)\n",
    "    \n",
    "test1()\n",
    "test1()\n",
    "test1()\n",
    "print(test1.__name__)\n",
    "print(test1.__doc__)\n",
    "print()\n",
    "\n",
    "test2()\n",
    "test2()\n",
    "test2()\n",
    "print(test2.__name__)\n",
    "print(test2.__doc__)\n",
    "print()\n",
    "\n",
    "test3()\n",
    "test3()\n",
    "test3()\n",
    "print(test3.__name__)\n",
    "print(test3.__doc__)\n",
    "print()"
   ]
  },
  {
   "cell_type": "markdown",
   "metadata": {},
   "source": [
    "# 魔术方法(Magic Method)"
   ]
  },
  {
   "cell_type": "markdown",
   "metadata": {},
   "source": [
    "魔法方法是python内置方法，不需要主动调用，存在的目的是为了给python的解释器进行调用，几乎每个魔法方法都有一个对应的内置函数，或者运算符，当我们对这个对象使用这些函数或者运算符时就会调用类中的对应魔法方法，我们可以重写魔术方法达到想要的目的\n",
    "\n",
    "魔术方法以 **‘__’** 双下划线包起来，例如类的初始化方法 __init__   \n",
    "Python中所有的魔术方法均在官方文档中有相应描述\n",
    "\n",
    "示例：  \n",
    "__new__(cls[, ...])\t1. __new__ 是在一个对象实例化的时候所调用的第一个方法  \n",
    "__init__(self[, ...])\t构造器，当一个实例被创建的时候调用的初始化方法  \n",
    "__del__(self)\t析构器，当一个实例被销毁的时候调用的方法"
   ]
  },
  {
   "cell_type": "markdown",
   "metadata": {},
   "source": [
    "# 迭代器"
   ]
  },
  {
   "cell_type": "markdown",
   "metadata": {},
   "source": [
    "迭代器是一个可以记住遍历的位置的对象。\n",
    "\n",
    "迭代器对象从集合的第一个元素开始访问，直到所有的元素被访问完结束。迭代器只能往前不会后退。\n",
    "\n",
    "迭代器有两个基本的方法：iter() 和 next()。 "
   ]
  },
  {
   "cell_type": "code",
   "execution_count": 4,
   "metadata": {
    "collapsed": true
   },
   "outputs": [
    {
     "name": "stdout",
     "output_type": "stream",
     "text": [
      "2\n",
      "3\n",
      "5\n",
      "7\n",
      "2\n",
      "3\n",
      "5\n",
      "7\n"
     ]
    }
   ],
   "source": [
    "li = [2,3,5,7]\n",
    "\n",
    "# 创建迭代器\n",
    "it = iter(li)\n",
    "\n",
    "# 遍历迭代器 方法1 用next(), 并捕捉StopIteration异常\n",
    "while True:\n",
    "    try:\n",
    "        print(next(it))\n",
    "    except StopIteration:\n",
    "        break\n",
    "        \n",
    "it = iter(li)\n",
    " # 遍历迭代器 方法2 用for循环\n",
    "for i in it:\n",
    "    print(i)"
   ]
  },
  {
   "cell_type": "markdown",
   "metadata": {},
   "source": [
    "# 生成器(Generator)"
   ]
  },
  {
   "cell_type": "markdown",
   "metadata": {},
   "source": [
    "在 Python 中，使用了 yield 的函数被称为生成器（generator）。\n",
    "\n",
    "跟普通函数不同的是，生成器是一个返回迭代器的函数，只能用于迭代操作，更简单点理解生成器就是一个迭代器。 \n",
    "\n",
    "在调用生成器运行的过程中，每次遇到 yield 时函数会暂停并保存当前所有的运行信息，返回 yield 的值, 并在下一次执行 next() 方法时从当前位置继续运行。\n",
    "\n",
    "调用一个生成器函数，返回的是一个迭代器对象。\n",
    "\n",
    "以下实例使用 yield 实现斐波那契数列："
   ]
  },
  {
   "cell_type": "code",
   "execution_count": 1,
   "metadata": {},
   "outputs": [
    {
     "name": "stdout",
     "output_type": "stream",
     "text": [
      "0 1 1 2 3 5 8 13 21 34 55 "
     ]
    }
   ],
   "source": [
    "#!/usr/bin/python3\n",
    " \n",
    "import sys\n",
    " \n",
    "def fibonacci(n): # 生成器函数 - 斐波那契\n",
    "    a, b, counter = 0, 1, 0\n",
    "    while True:\n",
    "        if (counter > n): \n",
    "            return\n",
    "        yield a\n",
    "        a, b = b, a + b\n",
    "        counter += 1\n",
    "f = fibonacci(10) # f 是一个迭代器，由生成器返回生成\n",
    " \n",
    "while True:\n",
    "    try:\n",
    "        print (next(f), end=\" \")\n",
    "    except StopIteration:\n",
    "        break"
   ]
  },
  {
   "cell_type": "code",
   "execution_count": 3,
   "metadata": {},
   "outputs": [
    {
     "data": {
      "text/plain": [
       "[0, 1, 1, 2, 3, 5]"
      ]
     },
     "execution_count": 3,
     "metadata": {},
     "output_type": "execute_result"
    }
   ],
   "source": [
    "# list(fibonacci(10))\n",
    "[i for i in fibonacci(5)]"
   ]
  },
  {
   "cell_type": "markdown",
   "metadata": {},
   "source": [
    "# 异常处理"
   ]
  },
  {
   "cell_type": "code",
   "execution_count": 15,
   "metadata": {},
   "outputs": [
    {
     "name": "stdout",
     "output_type": "stream",
     "text": [
      "<class 'ValueError'>\n",
      "This is a exception\n",
      "('This is a exception',)\n",
      "<FrameSummary file <ipython-input-15-64983c9377b4>, line 8 in <module>>\n",
      "Whether failed or not, this line will be executed\n"
     ]
    }
   ],
   "source": [
    "import traceback\n",
    "import sys\n",
    "a=0\n",
    "b=1\n",
    "try:\n",
    "    c=a/b\n",
    "#     d=a/NotExist\n",
    "    raise ValueError(\"This is a exception\")\n",
    "except ZeroDivisionError as ex:\n",
    "    print(f\"Failed,caused by ZeroDivisionError,details:[{ex}]\")\n",
    "except NameError as ex:\n",
    "    print(f\"Failed,caused by NameError,details:[{ex}]\")\n",
    "except Exception as ex:\n",
    "    ex_type,ex_val,ex_stack = sys.exc_info()\n",
    "    print(ex_type,ex_val,ex.args,sep=\"\\n\")\n",
    "    for stack in traceback.extract_tb(ex_stack):\n",
    "        print(stack)\n",
    "except:\n",
    "    print(\n",
    "'''\n",
    "Failed,but I do not know why!\n",
    "Can't handlethis error,so I decided to raise it again!\n",
    "''')\n",
    "    raise\n",
    "finally:\n",
    "    print('Whether failed or not, this line will be executed')"
   ]
  },
  {
   "cell_type": "markdown",
   "metadata": {},
   "source": [
    "# 文件I/O"
   ]
  },
  {
   "cell_type": "code",
   "execution_count": 20,
   "metadata": {},
   "outputs": [],
   "source": [
    "# 写文件\n",
    "f = open('test.txt',mode='w')\n",
    "f.write('111\\n')\n",
    "f.write('222\\n')\n",
    "f.writelines('333')\n",
    "f.writelines(['5','5','5'])\n",
    "f.close()"
   ]
  },
  {
   "cell_type": "code",
   "execution_count": 29,
   "metadata": {
    "collapsed": true
   },
   "outputs": [
    {
     "name": "stdout",
     "output_type": "stream",
     "text": [
      "['111\\n', '222\\n', '333555']\n",
      "\n",
      "------\n",
      "\n",
      "111\n",
      "222\n",
      "333555\n",
      "\n",
      "------\n",
      "\n",
      "111\n",
      "\n",
      "222\n",
      "\n",
      "333555\n"
     ]
    }
   ],
   "source": [
    "# 读文件\n",
    "\n",
    "# readlines()\n",
    "f = open('test.txt')\n",
    "print(f.readlines())\n",
    "f.close()\n",
    "print('\\n------\\n')\n",
    "\n",
    "# read()\n",
    "f = open('test.txt')\n",
    "print(f.read())\n",
    "f.close()\n",
    "print('\\n------\\n')\n",
    "\n",
    "# 迭代器\n",
    "f = open('test.txt')\n",
    "for l in f:\n",
    "    print(l)"
   ]
  },
  {
   "cell_type": "code",
   "execution_count": 2,
   "metadata": {},
   "outputs": [
    {
     "name": "stdout",
     "output_type": "stream",
     "text": [
      "111\n",
      "222\n",
      "333555\n"
     ]
    }
   ],
   "source": [
    "# with语法 （自动关闭文件）\n",
    "with open('test.txt') as f:\n",
    "    print(f.read())"
   ]
  },
  {
   "cell_type": "markdown",
   "metadata": {},
   "source": [
    "# 上下文管理器(context manager)\n",
    "\n",
    "简单的理解，同时包含 __enter__() 和 __exit__() 方法的对象就是上下文管理器。常见构建上下文管理器的方式有 2 种，分别是基于类实现和基于生成器实现  \n",
    "使用 with as 语句操作上下文管理器（context manager），能够帮助我们自动分配，释放资源，处理异常"
   ]
  },
  {
   "cell_type": "code",
   "execution_count": 8,
   "metadata": {
    "scrolled": true
   },
   "outputs": [
    {
     "name": "stdout",
     "output_type": "stream",
     "text": [
      "TAG: __init__\n",
      "TAG: __enter__\n",
      "TAG: fail\n",
      "Try raise a error\n",
      "TAG: __exit__\n",
      "exc_type: <class 'ValueError'>\n",
      "exc_value: \n",
      "exc_tb: <traceback object at 0x00000274C496FC88>\n",
      "exception <class 'ValueError'> has been handled\n",
      "-----------------------\n",
      "TAG: __init__\n",
      "TAG: __enter__\n",
      "TAG: fail\n",
      "Try raise a error\n",
      "TAG: __exit__\n",
      "exc_type: <class 'ValueError'>\n",
      "exc_value: \n",
      "exc_tb: <traceback object at 0x00000274C496FC88>\n",
      "exception <class 'ValueError'> will be raised\n"
     ]
    },
    {
     "ename": "ValueError",
     "evalue": "",
     "output_type": "error",
     "traceback": [
      "\u001b[1;31m---------------------------------------------------------------------------\u001b[0m",
      "\u001b[1;31mValueError\u001b[0m                                Traceback (most recent call last)",
      "\u001b[1;32m<ipython-input-8-87a6705ac169>\u001b[0m in \u001b[0;36m<module>\u001b[1;34m\u001b[0m\n\u001b[0;32m     30\u001b[0m \u001b[1;33m\u001b[0m\u001b[0m\n\u001b[0;32m     31\u001b[0m \u001b[1;32mwith\u001b[0m \u001b[0mcm_test\u001b[0m\u001b[1;33m(\u001b[0m\u001b[1;33m)\u001b[0m \u001b[1;32mas\u001b[0m \u001b[0mc\u001b[0m\u001b[1;33m:\u001b[0m\u001b[1;33m\u001b[0m\u001b[1;33m\u001b[0m\u001b[0m\n\u001b[1;32m---> 32\u001b[1;33m     \u001b[0mc\u001b[0m\u001b[1;33m.\u001b[0m\u001b[0mfail\u001b[0m\u001b[1;33m(\u001b[0m\u001b[1;33m)\u001b[0m\u001b[1;33m\u001b[0m\u001b[1;33m\u001b[0m\u001b[0m\n\u001b[0m\u001b[0;32m     33\u001b[0m \u001b[1;33m\u001b[0m\u001b[0m\n",
      "\u001b[1;32m<ipython-input-8-87a6705ac169>\u001b[0m in \u001b[0;36mfail\u001b[1;34m(self)\u001b[0m\n\u001b[0;32m      7\u001b[0m         \u001b[0mprint\u001b[0m\u001b[1;33m(\u001b[0m\u001b[1;34m'TAG: fail'\u001b[0m\u001b[1;33m)\u001b[0m\u001b[1;33m\u001b[0m\u001b[1;33m\u001b[0m\u001b[0m\n\u001b[0;32m      8\u001b[0m         \u001b[0mprint\u001b[0m\u001b[1;33m(\u001b[0m\u001b[1;34m'Try raise a error'\u001b[0m\u001b[1;33m)\u001b[0m\u001b[1;33m\u001b[0m\u001b[1;33m\u001b[0m\u001b[0m\n\u001b[1;32m----> 9\u001b[1;33m         \u001b[1;32mraise\u001b[0m \u001b[0mValueError\u001b[0m\u001b[1;33m\u001b[0m\u001b[1;33m\u001b[0m\u001b[0m\n\u001b[0m\u001b[0;32m     10\u001b[0m \u001b[1;33m\u001b[0m\u001b[0m\n\u001b[0;32m     11\u001b[0m     \u001b[1;32mdef\u001b[0m \u001b[0m__enter__\u001b[0m\u001b[1;33m(\u001b[0m\u001b[0mself\u001b[0m\u001b[1;33m)\u001b[0m\u001b[1;33m:\u001b[0m\u001b[1;33m\u001b[0m\u001b[1;33m\u001b[0m\u001b[0m\n",
      "\u001b[1;31mValueError\u001b[0m: "
     ]
    }
   ],
   "source": [
    "class cm_test:\n",
    "    def __init__(self,handle_exception=False):\n",
    "        print('TAG: __init__')\n",
    "        self.handle_exception = handle_exception\n",
    "        \n",
    "    def fail(self):\n",
    "        print('TAG: fail')\n",
    "        print('Try raise a error')\n",
    "        raise ValueError\n",
    "        \n",
    "    def __enter__(self):\n",
    "        print('TAG: __enter__')\n",
    "        return self\n",
    "    \n",
    "    def __exit__(self,exc_type,exc_value,exc_tb):\n",
    "        print('TAG: __exit__')\n",
    "        print(f'exc_type: {exc_type}')\n",
    "        print(f'exc_value: {exc_value}')\n",
    "        print(f'exc_tb: {exc_tb}')\n",
    "        if self.handle_exception:\n",
    "            print(f'exception {exc_type} has been handled')\n",
    "        else:\n",
    "            print(f'exception {exc_type} will be raised')\n",
    "        return self.handle_exception\n",
    "    \n",
    "with cm_test(handle_exception = True) as c:\n",
    "    c.fail()\n",
    "    \n",
    "print('-----------------------')\n",
    "    \n",
    "with cm_test() as c:\n",
    "    c.fail()\n",
    "    "
   ]
  },
  {
   "cell_type": "markdown",
   "metadata": {},
   "source": [
    "# list comprehension,map,filter,reduce"
   ]
  },
  {
   "cell_type": "code",
   "execution_count": 2,
   "metadata": {
    "collapsed": true
   },
   "outputs": [
    {
     "name": "stdout",
     "output_type": "stream",
     "text": [
      "[1, 4, 9, 16, 25, 36, 49, 64]\n"
     ]
    }
   ],
   "source": [
    "l = [1,2,3,4,5,6,7,8]\n",
    "\n",
    "# 列表推导式 (list comphension) 获取列表内容的平方\n",
    "print([e**2 for e in l])"
   ]
  },
  {
   "cell_type": "code",
   "execution_count": 20,
   "metadata": {},
   "outputs": [
    {
     "name": "stdout",
     "output_type": "stream",
     "text": [
      "[1, 4, 9, 16, 25, 36, 49, 64]\n"
     ]
    }
   ],
   "source": [
    "# map 获取列表内容的平方\n",
    "print(list(map(lambda e:e**2,l)))"
   ]
  },
  {
   "cell_type": "code",
   "execution_count": null,
   "metadata": {},
   "outputs": [],
   "source": [
    "# 列表推导式 (list comphension) 获取列表中的偶数\n",
    "print([e for e in l if (e%2==0)])"
   ]
  },
  {
   "cell_type": "code",
   "execution_count": 25,
   "metadata": {},
   "outputs": [
    {
     "name": "stdout",
     "output_type": "stream",
     "text": [
      "[2, 4, 6, 8]\n"
     ]
    }
   ],
   "source": [
    "# filter 获取列表中的偶数\n",
    "print(list(filter(lambda e:e%2==0,l)))"
   ]
  },
  {
   "cell_type": "code",
   "execution_count": 1,
   "metadata": {},
   "outputs": [
    {
     "name": "stdout",
     "output_type": "stream",
     "text": [
      "6\n"
     ]
    }
   ],
   "source": [
    "# reduce 计算列表中所有元素的乘积\n",
    "from functools import reduce\n",
    "l = [1,2,3]\n",
    "print(reduce(lambda x,y:x*y,l))"
   ]
  },
  {
   "cell_type": "code",
   "execution_count": 6,
   "metadata": {},
   "outputs": [
    {
     "name": "stdout",
     "output_type": "stream",
     "text": [
      "<class 'int'>\n",
      "123\n"
     ]
    }
   ],
   "source": [
    "# reduce 不用int()方法将str转换成int\n",
    "s = '123'\n",
    "i = reduce(lambda num,v: num*10+ord(v)-ord('0'), s, 0)\n",
    "print(type(i))\n",
    "print(i)"
   ]
  },
  {
   "cell_type": "markdown",
   "metadata": {},
   "source": [
    "# 多线程，多进程"
   ]
  },
  {
   "cell_type": "markdown",
   "metadata": {},
   "source": [
    "## 全局解释器锁 GIL(global interpreter lock)  "
   ]
  },
  {
   "cell_type": "markdown",
   "metadata": {},
   "source": [
    "## 多线程"
   ]
  },
  {
   "cell_type": "markdown",
   "metadata": {},
   "source": [
    "### multiprocessing 模块实现多线程"
   ]
  },
  {
   "cell_type": "code",
   "execution_count": 2,
   "metadata": {},
   "outputs": [],
   "source": [
    "import time\n",
    "import random\n",
    "\n",
    "# 首先定义一个函数\n",
    "def run_func(num):\n",
    "    #打印开始时间\n",
    "    nowstr = time.strftime('%Y-%m-%d %H:%M:%S',time.localtime(time.time()))\n",
    "    print(f'{nowstr}: start run_func({num} pid: {os.getpid()} ')\n",
    "    \n",
    "    #休眠随机秒数\n",
    "    random_float = random.random().0.3\n",
    "    print(f'sleep {random_float} second ...\\n')\n",
    "    time.sleep(random_int)\n",
    "     \n",
    "    #打印结束时间\n",
    "    nowstr = time.strftime('%Y-%m-%d %H:%M:%S',time.localtime(time.time()))\n",
    "    print(f'{nowstr}: end run_func({num}) pid: {os.getpid()} \\n')\n",
    "    \n",
    "    return f'run_func({num}): sleep {random_int}s'\n"
   ]
  },
  {
   "cell_type": "code",
   "execution_count": null,
   "metadata": {},
   "outputs": [],
   "source": [
    "\n",
    "# 创建线程池\n",
    "from multiprocessing.dummy import Pool as ThreadPool\n",
    "pool = ThreadPool()\n",
    "# 把任务放入线程池\n",
    "results = pool.map(run_func,range(10))\n",
    "# 关闭线程池（关闭就不能再继续放任务了）\n",
    "pool.close()\n",
    "# 等待线程池的所有任务完成（若不等待，由于主线程结束子线程也会被结束）\n",
    "pool.join()\n",
    "# 输出结果\n",
    "print(results)\n"
   ]
  },
  {
   "cell_type": "markdown",
   "metadata": {},
   "source": [
    "### threading.Thread 继承线程基类 -- 自由度更高的方法"
   ]
  },
  {
   "cell_type": "code",
   "execution_count": 1,
   "metadata": {},
   "outputs": [
    {
     "name": "stdout",
     "output_type": "stream",
     "text": [
      "2019-11-17 16:55:12: start myThread \n",
      "sleep 4s\n",
      "\n",
      "is alive: True\n",
      "\n",
      "2019-11-17 16:55:16: end myThread\n",
      "\n",
      "Child process exit\n"
     ]
    }
   ],
   "source": [
    "import time\n",
    "import random\n",
    "from threading import Thread\n",
    "\n",
    "class myThread(Thread):\n",
    "    def run(self):\n",
    "        #打印开始时间\n",
    "        nowstr = time.strftime('%Y-%m-%d %H:%M:%S',time.localtime(time.time()))\n",
    "        print(f'{nowstr}: start myThread ')\n",
    "\n",
    "        #休眠随机秒数\n",
    "        random_int = random.randint(3,8)\n",
    "        print(f'sleep {random_int}s\\n')\n",
    "        time.sleep(random_int)\n",
    "\n",
    "        #打印结束时间\n",
    "        nowstr = time.strftime('%Y-%m-%d %H:%M:%S',time.localtime(time.time()))\n",
    "        print(f'{nowstr}: end myThread\\n')\n",
    "\n",
    "# 创建自定义线程的示例\n",
    "my_thread = myThread()\n",
    "# 注意不是调用run来启动线程，而是调用start\n",
    "my_thread.start()\n",
    "\n",
    "# 打印线程是否还在执行\n",
    "print(f'is alive: {my_thread.is_alive()}\\n')\n",
    "# 等待子线程退出，若不这样做，主线程退出了子线程也会被退出\n",
    "my_thread.join()\n",
    "print('Child process exit')"
   ]
  },
  {
   "cell_type": "markdown",
   "metadata": {},
   "source": [
    "## 多进程"
   ]
  },
  {
   "cell_type": "markdown",
   "metadata": {},
   "source": [
    "### multiprocessing 模块实现多进程"
   ]
  },
  {
   "cell_type": "markdown",
   "metadata": {},
   "source": [
    "#### 进程类 Process"
   ]
  },
  {
   "cell_type": "code",
   "execution_count": null,
   "metadata": {},
   "outputs": [],
   "source": [
    "from multiprocessing import Process\n",
    "import os\n",
    "\n",
    "# 子进程要执行的代码\n",
    "def run_proc(num):\n",
    "    print('Child process start.')\n",
    "    print(f'Child process pid: {os.getpid()}')\n",
    "    print(f'Child process ppid: {os.getppid()}')\n",
    "    \n",
    "    print(f'Sleeping {num} second\\n')\n",
    "    time.sleep(num)\n",
    "    \n",
    "    print('Child process end.')\n",
    "\n",
    "print('Parent process %s.' % os.getpid())\n",
    "p = Process(target=run_proc, args=(3,))\n",
    "p.start()\n",
    "p.join()\n",
    "print('Parent process end.')"
   ]
  },
  {
   "cell_type": "markdown",
   "metadata": {},
   "source": [
    "#### 进程池 Pool 批量创建子进程"
   ]
  },
  {
   "cell_type": "code",
   "execution_count": null,
   "metadata": {},
   "outputs": [],
   "source": [
    "# 把线程换成进程，很简单导包改一下就好\n",
    "\n",
    "# 创建进程池\n",
    "from multiprocessing import Pool as ProcessPool\n",
    "pool = ProcessPool()\n",
    "\n",
    "# 把任务放入进程池\n",
    "results = pool.map(run_func,range(10))\n",
    "\n",
    "# 关闭进程池（关闭就不能再继续放任务了）\n",
    "pool.close()\n",
    "\n",
    "# 等待进程池的所有任务完成（若不等待，由于主进程结束子进程也会被结束）\n",
    "pool.join()\n",
    "\n",
    "# 输出结果\n",
    "print(results)"
   ]
  },
  {
   "cell_type": "markdown",
   "metadata": {},
   "source": [
    "### os.fork() 实现多进程 （仅适用于Linux系统）"
   ]
  },
  {
   "cell_type": "code",
   "execution_count": 2,
   "metadata": {
    "collapsed": true
   },
   "outputs": [
    {
     "name": "stdout",
     "output_type": "stream",
     "text": [
      "Main process start\n",
      "pid: 17616\n"
     ]
    },
    {
     "ename": "AttributeError",
     "evalue": "module 'os' has no attribute 'fork'",
     "output_type": "error",
     "traceback": [
      "\u001b[1;31m---------------------------------------------------------------------------\u001b[0m",
      "\u001b[1;31mAttributeError\u001b[0m                            Traceback (most recent call last)",
      "\u001b[1;32m<ipython-input-2-f66b8a9de26c>\u001b[0m in \u001b[0;36m<module>\u001b[1;34m\u001b[0m\n\u001b[0;32m      9\u001b[0m \u001b[0mprint\u001b[0m\u001b[1;33m(\u001b[0m\u001b[1;34m\"pid:\"\u001b[0m\u001b[1;33m,\u001b[0m \u001b[0mos\u001b[0m\u001b[1;33m.\u001b[0m\u001b[0mgetpid\u001b[0m\u001b[1;33m(\u001b[0m\u001b[1;33m)\u001b[0m\u001b[1;33m)\u001b[0m\u001b[1;33m\u001b[0m\u001b[1;33m\u001b[0m\u001b[0m\n\u001b[0;32m     10\u001b[0m \u001b[1;33m\u001b[0m\u001b[0m\n\u001b[1;32m---> 11\u001b[1;33m \u001b[0mpid\u001b[0m \u001b[1;33m=\u001b[0m \u001b[0mos\u001b[0m\u001b[1;33m.\u001b[0m\u001b[0mfork\u001b[0m\u001b[1;33m(\u001b[0m\u001b[1;33m)\u001b[0m\u001b[1;33m\u001b[0m\u001b[1;33m\u001b[0m\u001b[0m\n\u001b[0m\u001b[0;32m     12\u001b[0m \u001b[1;32mif\u001b[0m \u001b[0mpid\u001b[0m \u001b[1;33m==\u001b[0m \u001b[1;36m0\u001b[0m\u001b[1;33m:\u001b[0m\u001b[1;33m\u001b[0m\u001b[1;33m\u001b[0m\u001b[0m\n\u001b[0;32m     13\u001b[0m     \u001b[1;31m# 这是在子进程中\u001b[0m\u001b[1;33m\u001b[0m\u001b[1;33m\u001b[0m\u001b[1;33m\u001b[0m\u001b[0m\n",
      "\u001b[1;31mAttributeError\u001b[0m: module 'os' has no attribute 'fork'"
     ]
    }
   ],
   "source": [
    "import os\n",
    "import time\n",
    "import random\n",
    "\n",
    "def get_time()->str:\n",
    "    return time.strftime('%H:%M:%S', time.localtime())\n",
    "\n",
    "print(\"Main process start\")\n",
    "print(\"pid:\", os.getpid())\n",
    "\n",
    "pid = os.fork()\n",
    "if pid == 0:\n",
    "    # 这是在子进程中\n",
    "    print(\"Child process start\")\n",
    "    print(\"pid:\", os.getpid())\n",
    "    print(\"ppid:\", os.getppid())\n",
    "    \n",
    "    # 休眠随机1~3秒\n",
    "    t = random.randint(1,3)\n",
    "    print(f\"Sleep {t} second ...\")\n",
    "    time.sleep(t)\n",
    "    \n",
    "    # 子进程结束\n",
    "    print(\"Child process end\")\n",
    "else:\n",
    "    # 这是在父进程中\n",
    "    print(\"Parent process start\")\n",
    "    print(\"pid:\", os.getpid())\n",
    "    \n",
    "    # 等待子进程结束，若父进程先结束，子进程将无法得到原父进程的pid，子进程将被pid为1的进程接管\n",
    "    print(\"Wait for the child process end ...\")\n",
    "    os.wait()\n",
    "    \n",
    "    # 父进程继续运行\n",
    "    print(\"Parent process consume\")\n",
    "    print(\"pid:\", os.getpid())\n",
    "    \n",
    "    # 父进程结束\n",
    "    print(\"Parent process end\")"
   ]
  },
  {
   "cell_type": "markdown",
   "metadata": {},
   "source": [
    "# package和import"
   ]
  },
  {
   "cell_type": "markdown",
   "metadata": {},
   "source": [
    "如果一个目录下包含一个__init__.py的话（即使这个文件是空的），那么这个目录就是一个package"
   ]
  },
  {
   "cell_type": "markdown",
   "metadata": {},
   "source": [
    "# 综合示例"
   ]
  },
  {
   "cell_type": "markdown",
   "metadata": {},
   "source": [
    "### 给定一个目录，计算该目录极其字目录下所有文件的总大小"
   ]
  },
  {
   "cell_type": "markdown",
   "metadata": {},
   "source": [
    "#### 1. 基础版本（递归）"
   ]
  },
  {
   "cell_type": "code",
   "execution_count": 9,
   "metadata": {
    "collapsed": true
   },
   "outputs": [
    {
     "name": "stdout",
     "output_type": "stream",
     "text": [
      "16\n",
      "6094089\n"
     ]
    }
   ],
   "source": [
    "# 基础版本\n",
    "# 仅仅使用递归实现\n",
    "import os\n",
    "def dir_size1(pathStr):\n",
    "    # 如果是文件则直接返回大小\n",
    "    if os.path.isfile(pathStr):\n",
    "        return os.path.getsize(pathStr)\n",
    "    # 读取目录下的文件或子目录\n",
    "    dirlist = os.listdir(pathStr)\n",
    "    # 遍历所有内容,计算大小\n",
    "    allsize = 0\n",
    "    for i in dirlist:\n",
    "        # 为遍历的文件添加目录\n",
    "        file = os.path.join(pathStr,i)\n",
    "        # 判断是否是文件\n",
    "        if os.path.isfile(file):\n",
    "            m = os.path.getsize(file)\n",
    "            allsize += m\n",
    "        # 判断是否是目录\n",
    "        if os.path.isdir(file):\n",
    "            # 递归调用自己\n",
    "            allsize += dir_size1(file)\n",
    "    return allsize\n",
    "\n",
    "print(dir_size1('./test.txt'))\n",
    "print(dir_size1('./人工智能工程师课程'))"
   ]
  },
  {
   "cell_type": "markdown",
   "metadata": {},
   "source": [
    "#### 2. 列表推导式版本（列表推导式+递归）"
   ]
  },
  {
   "cell_type": "code",
   "execution_count": null,
   "metadata": {},
   "outputs": [],
   "source": [
    "def dir_size2(pathStr):\n",
    "    return"
   ]
  },
  {
   "cell_type": "markdown",
   "metadata": {},
   "source": [
    "#### 3. 列表推导式浓缩版本（列表推导式+递归 浓缩成一句）"
   ]
  },
  {
   "cell_type": "code",
   "execution_count": null,
   "metadata": {},
   "outputs": [],
   "source": [
    "def dir_size3(pathStr):\n",
    "    return"
   ]
  },
  {
   "cell_type": "markdown",
   "metadata": {},
   "source": [
    "#### 4. map,filter版本 （map+filter+递归）"
   ]
  },
  {
   "cell_type": "code",
   "execution_count": 12,
   "metadata": {},
   "outputs": [],
   "source": [
    "def dir_size4(pathStr):\n",
    "    return"
   ]
  },
  {
   "cell_type": "markdown",
   "metadata": {},
   "source": [
    "#### 5. 多线程递归版本 （多线程+递归）"
   ]
  },
  {
   "cell_type": "code",
   "execution_count": 13,
   "metadata": {},
   "outputs": [],
   "source": [
    "def dir_size5(pathStr):\n",
    "    return"
   ]
  },
  {
   "cell_type": "markdown",
   "metadata": {},
   "source": [
    "#### 6. walk版本 （walk）"
   ]
  },
  {
   "cell_type": "code",
   "execution_count": 14,
   "metadata": {},
   "outputs": [],
   "source": [
    "def dir_size6(pathStr):\n",
    "    return"
   ]
  }
 ],
 "metadata": {
  "kernelspec": {
   "display_name": "Python 3",
   "language": "python",
   "name": "python3"
  },
  "language_info": {
   "codemirror_mode": {
    "name": "ipython",
    "version": 3
   },
   "file_extension": ".py",
   "mimetype": "text/x-python",
   "name": "python",
   "nbconvert_exporter": "python",
   "pygments_lexer": "ipython3",
   "version": "3.7.9"
  },
  "toc": {
   "base_numbering": 1,
   "nav_menu": {},
   "number_sections": true,
   "sideBar": true,
   "skip_h1_title": false,
   "title_cell": "Table of Contents",
   "title_sidebar": "Contents",
   "toc_cell": false,
   "toc_position": {
    "height": "calc(100% - 180px)",
    "left": "10px",
    "top": "150px",
    "width": "295.675px"
   },
   "toc_section_display": true,
   "toc_window_display": true
  }
 },
 "nbformat": 4,
 "nbformat_minor": 2
}
