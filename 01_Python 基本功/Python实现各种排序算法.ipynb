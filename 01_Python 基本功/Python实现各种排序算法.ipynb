{
 "cells": [
  {
   "cell_type": "markdown",
   "metadata": {},
   "source": [
    "# 准备数据"
   ]
  },
  {
   "cell_type": "code",
   "execution_count": 40,
   "metadata": {},
   "outputs": [],
   "source": [
    "import random\n",
    "\n",
    "N = 10\n",
    "\n",
    "# 1. 随机数据\n",
    "randomData = list(range(N))\n",
    "random.shuffle(randomData)\n",
    "\n",
    "# 2. 倒序数据\n",
    "reversedData = list(range(0,N,-1))\n",
    "\n",
    "# 3. 几乎已经排序好的数据\n",
    "almostSortedData = list(range(N))\n",
    "almostSortedData[1],almostSortedData[-2] = almostSortedData[-2], almostSortedData[1]\n",
    "\n",
    "# 4. 已经排序好的数据\n",
    "sortedData = list(range(N))\n",
    "\n",
    "# 5. 全部重复的数据\n",
    "repeatData = [1] * N"
   ]
  },
  {
   "cell_type": "markdown",
   "metadata": {},
   "source": [
    "# 各种排序算法的代码实现"
   ]
  },
  {
   "cell_type": "code",
   "execution_count": 35,
   "metadata": {},
   "outputs": [],
   "source": [
    "# 所有排序算法要调用的函数\n",
    "def swap(data, i, j) -> None:\n",
    "    data[i], data[j] = data[j], data[i]"
   ]
  },
  {
   "cell_type": "markdown",
   "metadata": {},
   "source": [
    "## 选择排序"
   ]
  },
  {
   "cell_type": "code",
   "execution_count": 31,
   "metadata": {},
   "outputs": [],
   "source": [
    "def select_sort(data, reverse=False) -> bool:\n",
    "    '''选择排序\n",
    "    参数：\n",
    "        data：待排序的列表\n",
    "        reverse: 是否倒序排序，默认False\n",
    "    返回值：\n",
    "        bool类型：是否排序成功\n",
    "    '''\n",
    "    if not all([str(i).isdigit() for i in data]):\n",
    "        return False\n",
    "    \n",
    "    lenData = len(data)\n",
    "    \n",
    "    for i in range(lenData):\n",
    "        minInd = i\n",
    "        for j in range(i+1, lenData):\n",
    "            if data[j] < data[minInd]:\n",
    "                minInd = j \n",
    "        swap(data, i, minInd)\n",
    "    \n",
    "    if reverse:\n",
    "        data = data[::-1]\n",
    "    return True"
   ]
  },
  {
   "cell_type": "code",
   "execution_count": 50,
   "metadata": {},
   "outputs": [
    {
     "data": {
      "text/plain": [
       "(True, [0, 1, 2, 3, 4, 5, 6, 7, 8, 9], [0, 8, 9, 4, 2, 6, 7, 1, 3, 5])"
      ]
     },
     "execution_count": 50,
     "metadata": {},
     "output_type": "execute_result"
    }
   ],
   "source": [
    "import copy\n",
    "\n",
    "data = copy.copy(randomData)\n",
    "res = select_sort(data)\n",
    "res, data, randomData"
   ]
  },
  {
   "cell_type": "markdown",
   "metadata": {},
   "source": [
    "## 插入排序"
   ]
  },
  {
   "cell_type": "code",
   "execution_count": 36,
   "metadata": {},
   "outputs": [],
   "source": [
    "def insert_sort(data, reverse=False) -> bool:\n",
    "    '''插入排序\n",
    "    参数：\n",
    "        data：待排序的列表\n",
    "        reverse: 是否倒序排序，默认False\n",
    "    返回值：\n",
    "        bool类型：是否排序成功\n",
    "    '''\n",
    "    if not all([str(i).isdigit() for i in data]):\n",
    "        return False\n",
    "    \n",
    "    lenData = len(data)\n",
    "    \n",
    "    for i in range(1, lenData):\n",
    "        for j in range(i, 0, -1):\n",
    "            if data[j] < data[j-1]:\n",
    "                swap(data, j, j-1)\n",
    "    \n",
    "    if reverse:\n",
    "        data = data[::-1]\n",
    "    return True"
   ]
  },
  {
   "cell_type": "code",
   "execution_count": 51,
   "metadata": {},
   "outputs": [
    {
     "data": {
      "text/plain": [
       "(True, [0, 1, 2, 3, 4, 5, 6, 7, 8, 9], [0, 8, 9, 4, 2, 6, 7, 1, 3, 5])"
      ]
     },
     "execution_count": 51,
     "metadata": {},
     "output_type": "execute_result"
    }
   ],
   "source": [
    "import copy\n",
    "\n",
    "data = copy.copy(randomData)\n",
    "res = insert_sort(data)\n",
    "res, data, randomData"
   ]
  },
  {
   "cell_type": "markdown",
   "metadata": {},
   "source": [
    "## 冒泡排序"
   ]
  },
  {
   "cell_type": "code",
   "execution_count": 52,
   "metadata": {},
   "outputs": [],
   "source": [
    "def bubble_sort(data, reverse=False) -> bool:\n",
    "    '''冒泡排序\n",
    "    参数：\n",
    "        data：待排序的列表\n",
    "        reverse: 是否倒序排序，默认False\n",
    "    返回值：\n",
    "        bool类型：是否排序成功\n",
    "    '''\n",
    "    if not all([str(i).isdigit() for i in data]):\n",
    "        return False\n",
    "    \n",
    "    lenData = len(data)\n",
    "    \n",
    "    for i in range(lenData-1):\n",
    "        for j in range(lenData-1-i):\n",
    "            if data[j] > data[j+1]:\n",
    "                swap(data, j, j+1)\n",
    "    \n",
    "    if reverse:\n",
    "        data = data[::-1]\n",
    "    return True"
   ]
  },
  {
   "cell_type": "code",
   "execution_count": 53,
   "metadata": {},
   "outputs": [
    {
     "data": {
      "text/plain": [
       "(True, [0, 1, 2, 3, 4, 5, 6, 7, 8, 9], [0, 8, 9, 4, 2, 6, 7, 1, 3, 5])"
      ]
     },
     "execution_count": 53,
     "metadata": {},
     "output_type": "execute_result"
    }
   ],
   "source": [
    "import copy\n",
    "\n",
    "data = copy.copy(randomData)\n",
    "res = bubble_sort(data)\n",
    "res, data, randomData"
   ]
  },
  {
   "cell_type": "markdown",
   "metadata": {},
   "source": [
    "## 快排\n",
    "**基本原理**（分治法思想）  \n",
    "1. 选定Pivot中心轴\n",
    "2. 遍历尚未处理的数据（乱堆），将小于Pivot的数字放在Pivot左边（小堆），大于Pivot的数字放在Pivot右边（大堆）\n",
    "3. 分别对左右子序列重复前两步操作"
   ]
  },
  {
   "cell_type": "code",
   "execution_count": 56,
   "metadata": {},
   "outputs": [],
   "source": [
    "def quick_sort(data, reverse=False) -> bool:\n",
    "    '''快速排序\n",
    "    参数：\n",
    "        data：待排序的列表\n",
    "        reverse: 是否倒序排序，默认False\n",
    "    返回值：\n",
    "        bool类型：是否排序成功\n",
    "    '''\n",
    "    if not all([str(i).isdigit() for i in data]):\n",
    "        return False\n",
    "    \n",
    "    lenData = len(data)\n",
    "    \n",
    "    quickSort(data, 0, lenData-1)\n",
    "    \n",
    "    if reverse:\n",
    "        data = data[::-1]\n",
    "    return True\n",
    "\n",
    "\n",
    "def quickSort(data, l, r):\n",
    "    '''实现快速排序'''\n",
    "    if l < r:\n",
    "        m = get_mid(data, l, r)\n",
    "        quickSort(data, l, m-1)\n",
    "        quickSort(data, m+1, r)\n",
    "\n",
    "        \n",
    "def get_mid(data, l, r):\n",
    "    '''将数据分成小堆和大堆，并返回Pivot的索引'''\n",
    "    pivot = data[l]\n",
    "    \n",
    "    while l < r:\n",
    "        while data[r] > pivot and l < r:\n",
    "            r -= 1\n",
    "        else:\n",
    "            #data[l] = data[r]\n",
    "            swap(data, l, r)\n",
    "        while data[l] < pivot and l < r:\n",
    "            l += 1\n",
    "        else:\n",
    "            #data[r] = data[l]\n",
    "            swap(data, l, r)\n",
    "    data[l] = pivot\n",
    "    return l"
   ]
  },
  {
   "cell_type": "code",
   "execution_count": 57,
   "metadata": {},
   "outputs": [
    {
     "data": {
      "text/plain": [
       "(True, [0, 1, 2, 3, 4, 5, 6, 7, 8, 9], [0, 8, 9, 4, 2, 6, 7, 1, 3, 5])"
      ]
     },
     "execution_count": 57,
     "metadata": {},
     "output_type": "execute_result"
    }
   ],
   "source": [
    "import copy\n",
    "\n",
    "data = copy.copy(randomData)\n",
    "res = quick_sort(data)\n",
    "res, data, randomData"
   ]
  },
  {
   "cell_type": "markdown",
   "metadata": {},
   "source": [
    "## 归并排序"
   ]
  },
  {
   "cell_type": "markdown",
   "metadata": {},
   "source": [
    "## 堆排"
   ]
  },
  {
   "cell_type": "markdown",
   "metadata": {},
   "source": [
    "## 桶排序"
   ]
  },
  {
   "cell_type": "markdown",
   "metadata": {},
   "source": [
    "# 测试各算法的效率"
   ]
  },
  {
   "cell_type": "code",
   "execution_count": null,
   "metadata": {},
   "outputs": [],
   "source": []
  }
 ],
 "metadata": {
  "kernelspec": {
   "display_name": "Python 3",
   "language": "python",
   "name": "python3"
  },
  "language_info": {
   "codemirror_mode": {
    "name": "ipython",
    "version": 3
   },
   "file_extension": ".py",
   "mimetype": "text/x-python",
   "name": "python",
   "nbconvert_exporter": "python",
   "pygments_lexer": "ipython3",
   "version": "3.7.9"
  },
  "toc": {
   "base_numbering": 1,
   "nav_menu": {},
   "number_sections": true,
   "sideBar": true,
   "skip_h1_title": false,
   "title_cell": "Table of Contents",
   "title_sidebar": "Contents",
   "toc_cell": false,
   "toc_position": {},
   "toc_section_display": true,
   "toc_window_display": true
  }
 },
 "nbformat": 4,
 "nbformat_minor": 4
}
