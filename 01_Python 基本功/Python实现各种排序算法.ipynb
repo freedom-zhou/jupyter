{
 "cells": [
  {
   "cell_type": "markdown",
   "metadata": {},
   "source": [
    "# 各种排序算法的代码实现"
   ]
  },
  {
   "cell_type": "code",
   "execution_count": 2,
   "metadata": {},
   "outputs": [],
   "source": [
    "# 所有排序算法要调用的函数\n",
    "def swap(data, i, j) -> None:\n",
    "    data[i], data[j] = data[j], data[i]"
   ]
  },
  {
   "cell_type": "markdown",
   "metadata": {},
   "source": [
    "## 选择排序"
   ]
  },
  {
   "cell_type": "code",
   "execution_count": 3,
   "metadata": {},
   "outputs": [],
   "source": [
    "def select_sort(A, reverse=False):\n",
    "    '''选择排序\n",
    "    参数：\n",
    "        data：待排序的列表\n",
    "        reverse: 是否倒序排序，默认False\n",
    "    返回值：\n",
    "        已排序的列表\n",
    "    '''\n",
    "    data = list(A)\n",
    "    \n",
    "    lenData = len(data)\n",
    "    \n",
    "    for i in range(lenData):\n",
    "        minInd = i\n",
    "        for j in range(i+1, lenData):\n",
    "            if data[j] < data[minInd]:\n",
    "                minInd = j \n",
    "        swap(data, i, minInd)\n",
    "    \n",
    "    if reverse:\n",
    "        data = data[::-1]\n",
    "    return data"
   ]
  },
  {
   "cell_type": "markdown",
   "metadata": {},
   "source": [
    "## 插入排序"
   ]
  },
  {
   "cell_type": "code",
   "execution_count": 4,
   "metadata": {},
   "outputs": [],
   "source": [
    "def insert_sort(A, reverse=False):\n",
    "    '''插入排序\n",
    "    参数：\n",
    "        data：待排序的列表\n",
    "        reverse: 是否倒序排序，默认False\n",
    "    返回值：\n",
    "        已排序的列表\n",
    "    '''\n",
    "    data = list(A)\n",
    "    \n",
    "    lenData = len(data)\n",
    "    \n",
    "    for i in range(1, lenData):\n",
    "        for j in range(i, 0, -1):\n",
    "            if data[j] < data[j-1]:\n",
    "                swap(data, j, j-1)\n",
    "    \n",
    "    if reverse:\n",
    "        data = data[::-1]\n",
    "    return data"
   ]
  },
  {
   "cell_type": "markdown",
   "metadata": {},
   "source": [
    "## 冒泡排序"
   ]
  },
  {
   "cell_type": "code",
   "execution_count": 5,
   "metadata": {},
   "outputs": [],
   "source": [
    "def bubble_sort(A, reverse=False):\n",
    "    '''冒泡排序\n",
    "    参数：\n",
    "        data：待排序的列表\n",
    "        reverse: 是否倒序排序，默认False\n",
    "    返回值：\n",
    "        已排序的列表\n",
    "    '''\n",
    "    data = list(A)\n",
    "    \n",
    "    lenData = len(data)\n",
    "    \n",
    "    for i in range(lenData-1):\n",
    "        for j in range(lenData-1-i):\n",
    "            if data[j] > data[j+1]:\n",
    "                swap(data, j, j+1)\n",
    "    \n",
    "    if reverse:\n",
    "        data = data[::-1]\n",
    "    return data"
   ]
  },
  {
   "cell_type": "markdown",
   "metadata": {},
   "source": [
    "## 快排\n",
    "**基本原理**（分治法思想）  \n",
    "1. 选定Pivot中心轴\n",
    "2. 遍历尚未处理的数据（乱堆），将小于Pivot的数字放在Pivot左边（小堆），大于Pivot的数字放在Pivot右边（大堆）\n",
    "3. 分别对左右子序列重复前两步操作"
   ]
  },
  {
   "cell_type": "markdown",
   "metadata": {},
   "source": [
    "**使用装饰器实现尾递归优化** （避免数据过大时栈溢出）  \n",
    "优化后仍然会栈溢出，尚不清楚原因"
   ]
  },
  {
   "cell_type": "code",
   "execution_count": 6,
   "metadata": {},
   "outputs": [],
   "source": [
    "import sys\n",
    "\n",
    "class TailRecurseException(Exception):\n",
    "    def __init__(self, args, kwargs):\n",
    "        self.args = args\n",
    "        self.kwargs = kwargs\n",
    "\n",
    "def tail_call_optimized(g):\n",
    "    \"\"\"\n",
    "    This function decorates a function with tail call\n",
    "    optimization. It does this by throwing an exception\n",
    "    if it is it's own grandparent, and catching such\n",
    "    exceptions to fake the tail call optimization.\n",
    "\n",
    "    This function fails if the decorated\n",
    "    function recurses in a non-tail context.\n",
    "    \"\"\"\n",
    "    def func(*args, **kwargs):\n",
    "        f = sys._getframe()\n",
    "        if f.f_back and f.f_back.f_back \\\n",
    "            and f.f_back.f_back.f_code == f.f_code:\n",
    "            # 抛出异常\n",
    "            raise TailRecurseException(args, kwargs)\n",
    "        else:\n",
    "            while 1:\n",
    "                try:\n",
    "                    return g(*args, **kwargs)\n",
    "                except TailRecurseException as e:\n",
    "                    args = e.args\n",
    "                    kwargs = e.kwargs\n",
    "    func.__doc__ = g.__doc__\n",
    "    func.__name__ = g.__name__\n",
    "    return func\n"
   ]
  },
  {
   "cell_type": "markdown",
   "metadata": {},
   "source": [
    "**快排的代码实现以及3种优化方式**"
   ]
  },
  {
   "cell_type": "code",
   "execution_count": 7,
   "metadata": {},
   "outputs": [],
   "source": [
    "import random\n",
    "# @tail_call_optimized\n",
    "def quick_sort(A, reverse=False, optimize=0b111):\n",
    "    '''快速排序\n",
    "    参数：\n",
    "        data：待排序的列表\n",
    "        reverse: 是否倒序排序，默认False\n",
    "        optimize: 采取哪些优化方案，默认采取所有优化方案\n",
    "            * 0b100: 优化方案1 随机选取pivot\n",
    "            * 0b010: 优化方案2 减少交换次数\n",
    "            * 0b001: 优化方案3 当待排序区间较小时，改用插入排序\n",
    "    返回值：\n",
    "        已排序的列表\n",
    "    '''\n",
    "    data = list(A)\n",
    "    \n",
    "    lenData = len(data)\n",
    "    quickSort(data, 0, lenData-1, optimize)\n",
    "    \n",
    "    if reverse:\n",
    "        data = data[::-1]\n",
    "    return data\n",
    "\n",
    "\n",
    "def quickSort(data, l, r, opt=0b111):\n",
    "    '''实现快速排序'''\n",
    "    if l >= r: return\n",
    "    \n",
    "    if opt & 0b001 and r - l < 10: # 优化方案3 当待排序区间较小时，改用插入排序\n",
    "        data[l:r+1] = insert_sort(data[l:r+1])\n",
    "        return\n",
    "    \n",
    "    # 选取中心轴pivot\n",
    "    if opt & 0b100: # 优化方案1 随机选取pivot\n",
    "        randInt = random.randint(l, r)\n",
    "        swap(data, l, randInt)\n",
    "    pivot = data[l]\n",
    "\n",
    "    # 以pivot为中轴将数据分成小堆和大堆\n",
    "    i, j = l, r\n",
    "    while i < j:\n",
    "        if opt & 0b010: # 优化方案2 减少交换次数\n",
    "            while data[j] >= pivot and i < j: j -= 1\n",
    "            while data[i] <= pivot and i < j: i += 1\n",
    "            if i<j: swap(data, i, j)\n",
    "            else: swap(data, i, l) \n",
    "        else:\n",
    "            while data[j] >= pivot and i < j: j -= 1\n",
    "            swap(data, i, j) \n",
    "\n",
    "            while data[i] <= pivot and i < j: i += 1\n",
    "            swap(data, i, j) \n",
    "            \n",
    "        \n",
    "    # 对Pivot左边和右边的数据进行同样的操作\n",
    "    m = i\n",
    "    quickSort(data, l, m-1, opt)\n",
    "    quickSort(data, m+1, r, opt)"
   ]
  },
  {
   "cell_type": "markdown",
   "metadata": {},
   "source": [
    "## 归并排序"
   ]
  },
  {
   "cell_type": "code",
   "execution_count": 20,
   "metadata": {},
   "outputs": [],
   "source": [
    "from collections import deque\n",
    "def merge_sort(A, reverse=False):\n",
    "    '''归并排序\n",
    "    参数：\n",
    "        data：待排序的列表\n",
    "        reverse: 是否倒序排序，默认False\n",
    "    返回值：\n",
    "        已排序的列表\n",
    "    '''\n",
    "    data = list(A)\n",
    "    \n",
    "    lenData = len(data)\n",
    "    if lenData <= 1: return data\n",
    "    \n",
    "    m = lenData // 2\n",
    "    L, R = merge_sort(data[:m]), merge_sort(data[m:])\n",
    "    data = merge(L,R)\n",
    "    \n",
    "    if reverse:\n",
    "        data = data[::-1]\n",
    "    return data\n",
    "\n",
    "def merge(L,R):\n",
    "    res = []\n",
    "    L, R = deque(L), deque(R)\n",
    "    \n",
    "    while L and R:\n",
    "        min_v = L.popleft() if L[0] < R[0] else R.popleft()\n",
    "        res.append(min_v)\n",
    "    res += L if L else R\n",
    "    return res"
   ]
  },
  {
   "cell_type": "markdown",
   "metadata": {},
   "source": [
    "## 堆排"
   ]
  },
  {
   "cell_type": "markdown",
   "metadata": {},
   "source": [
    "## 桶排序"
   ]
  },
  {
   "cell_type": "markdown",
   "metadata": {},
   "source": [
    "# 准备数据"
   ]
  },
  {
   "cell_type": "code",
   "execution_count": 14,
   "metadata": {},
   "outputs": [],
   "source": [
    "import random\n",
    "\n",
    "def getData(N=5):\n",
    "    # 1. 随机数据\n",
    "    randomData = list(range(N))\n",
    "    random.shuffle(randomData)\n",
    "\n",
    "    # 2. 倒序数据\n",
    "    reversedData = list(range(N-1,-1,-1))\n",
    "\n",
    "    # 3. 几乎已经排序好的数据\n",
    "    almostSortedData = list(range(N))\n",
    "    almostSortedData[1],almostSortedData[-2] = almostSortedData[-2], almostSortedData[1]\n",
    "\n",
    "    # 4. 已经排序好的数据\n",
    "    sortedData = list(range(N))\n",
    "\n",
    "    # 5. 全部重复的数据\n",
    "    repeatData = [1] * N\n",
    "    \n",
    "    dataDict = {\n",
    "        'random data': randomData,\n",
    "        'reversed data': reversedData,\n",
    "        'almost sorted data': almostSortedData,\n",
    "        'sorted data': sortedData,\n",
    "        'repeat data': repeatData\n",
    "    }\n",
    "    return dataDict"
   ]
  },
  {
   "cell_type": "markdown",
   "metadata": {},
   "source": [
    "# 测试各算法的效率 （用多进程分别实现）"
   ]
  },
  {
   "cell_type": "code",
   "execution_count": 21,
   "metadata": {},
   "outputs": [
    {
     "name": "stdout",
     "output_type": "stream",
     "text": [
      "random data        select_sort 执行完毕，用时0.12163115秒,\n",
      "random data        insert_sort 执行完毕，用时0.38197947秒,\n",
      "random data        bubble_sort 执行完毕，用时0.34807086秒,\n",
      "random data        quick_sort  执行完毕，用时0.00598192秒,\n",
      "random data        merge_sort  执行完毕，用时0.00698185秒,\n",
      "reversed data      select_sort 执行完毕，用时0.11772633秒,\n",
      "reversed data      insert_sort 执行完毕，用时0.59736300秒,\n",
      "reversed data      bubble_sort 执行完毕，用时0.50070477秒,\n",
      "reversed data      quick_sort  执行完毕，用时0.00298834秒,\n",
      "reversed data      merge_sort  执行完毕，用时0.00398946秒,\n",
      "almost sorted data select_sort 执行完毕，用时0.10675883秒,\n",
      "almost sorted data insert_sort 执行完毕，用时0.13758922秒,\n",
      "almost sorted data bubble_sort 执行完毕，用时0.14261770秒,\n",
      "almost sorted data quick_sort  执行完毕，用时0.00299215秒,\n",
      "almost sorted data merge_sort  执行完毕，用时0.00498629秒,\n",
      "sorted data        select_sort 执行完毕，用时0.10871029秒,\n",
      "sorted data        insert_sort 执行完毕，用时0.14169836秒,\n",
      "sorted data        bubble_sort 执行完毕，用时0.14453578秒,\n",
      "sorted data        quick_sort  执行完毕，用时0.00299239秒,\n",
      "sorted data        merge_sort  执行完毕，用时0.00498652秒,\n",
      "repeat data        select_sort 执行完毕，用时0.10272551秒,\n",
      "repeat data        insert_sort 执行完毕，用时0.13463998秒,\n",
      "repeat data        bubble_sort 执行完毕，用时0.14166737秒,\n",
      "repeat data        quick_sort  执行完毕，用时0.14955783秒,\n",
      "repeat data        merge_sort  执行完毕，用时0.00498676秒,\n",
      "end\n"
     ]
    }
   ],
   "source": [
    "from multiprocessing import Pool,Lock\n",
    "from itertools import product\n",
    "import time\n",
    "\n",
    "dataDict = getData(2000)\n",
    "\n",
    "sort_funcs = (select_sort,\n",
    "                insert_sort,\n",
    "                bubble_sort,\n",
    "                quick_sort,\n",
    "                merge_sort\n",
    "             )\n",
    "\n",
    "def worker(args):\n",
    "    data, func = args\n",
    "    \n",
    "    st = time.time()\n",
    "    res = func(dataDict[data])\n",
    "    ed = time.time()\n",
    "    \n",
    "    t = (ed-st)\n",
    "#     print(data.ljust(18),func.__name__.ljust(11), f\"执行完毕，用时{t:.8f}秒,\", \"返回结果：\", dataDict[data], res)\n",
    "    print(data.ljust(18),func.__name__.ljust(11), f\"执行完毕，用时{t:.8f}秒,\")\n",
    "    return res,t\n",
    "    \n",
    "it = product(dataDict.keys(), sort_funcs)\n",
    "\n",
    "# with Pool() as pool:\n",
    "#     pool.map(func=worker, iterable=it)\n",
    "\n",
    "for args in it:\n",
    "    worker(args)\n",
    "    \n",
    "# pool.join()\n",
    "print(\"end\")"
   ]
  }
 ],
 "metadata": {
  "kernelspec": {
   "display_name": "Python 3",
   "language": "python",
   "name": "python3"
  },
  "language_info": {
   "codemirror_mode": {
    "name": "ipython",
    "version": 3
   },
   "file_extension": ".py",
   "mimetype": "text/x-python",
   "name": "python",
   "nbconvert_exporter": "python",
   "pygments_lexer": "ipython3",
   "version": "3.7.9"
  },
  "toc": {
   "base_numbering": 1,
   "nav_menu": {},
   "number_sections": true,
   "sideBar": true,
   "skip_h1_title": false,
   "title_cell": "Table of Contents",
   "title_sidebar": "Contents",
   "toc_cell": false,
   "toc_position": {
    "height": "calc(100% - 180px)",
    "left": "10px",
    "top": "150px",
    "width": "294.399px"
   },
   "toc_section_display": true,
   "toc_window_display": true
  }
 },
 "nbformat": 4,
 "nbformat_minor": 4
}
