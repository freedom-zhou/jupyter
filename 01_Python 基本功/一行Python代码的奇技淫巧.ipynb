{
 "cells": [
  {
   "cell_type": "markdown",
   "metadata": {},
   "source": [
    "# 一行Python代码的奇技淫巧"
   ]
  },
  {
   "cell_type": "markdown",
   "metadata": {},
   "source": [
    "### 1. 一行代码打印九九乘法表"
   ]
  },
  {
   "cell_type": "code",
   "execution_count": 7,
   "metadata": {},
   "outputs": [
    {
     "name": "stdout",
     "output_type": "stream",
     "text": [
      "1*1=1 \n",
      "1*2=2  2*2=4 \n",
      "1*3=3  2*3=6  3*3=9 \n",
      "1*4=4  2*4=8  3*4=12 4*4=16\n",
      "1*5=5  2*5=10 3*5=15 4*5=20 5*5=25\n",
      "1*6=6  2*6=12 3*6=18 4*6=24 5*6=30 6*6=36\n",
      "1*7=7  2*7=14 3*7=21 4*7=28 5*7=35 6*7=42 7*7=49\n",
      "1*8=8  2*8=16 3*8=24 4*8=32 5*8=40 6*8=48 7*8=56 8*8=64\n",
      "1*9=9  2*9=18 3*9=27 4*9=36 5*9=45 6*9=54 7*9=63 8*9=72 9*9=81\n"
     ]
    }
   ],
   "source": [
    "print('\\n'.join([' '.join(['%s*%s=%-2s' % (y,x,x*y) for y in range(1,x+1)]) for x in range(1,10)]))"
   ]
  },
  {
   "cell_type": "markdown",
   "metadata": {},
   "source": [
    "### 2. 一行代码实现求解2的1000次方的各位数之和"
   ]
  },
  {
   "cell_type": "code",
   "execution_count": 16,
   "metadata": {},
   "outputs": [
    {
     "name": "stdout",
     "output_type": "stream",
     "text": [
      "1366\n"
     ]
    }
   ],
   "source": [
    "print(sum(map(int, str(2**1000))))"
   ]
  },
  {
   "cell_type": "markdown",
   "metadata": {},
   "source": [
    "### 3. 一行代码实现变量值互换"
   ]
  },
  {
   "cell_type": "code",
   "execution_count": 18,
   "metadata": {},
   "outputs": [],
   "source": [
    "a, b = 1, 2; a, b = b, a"
   ]
  },
  {
   "cell_type": "markdown",
   "metadata": {},
   "source": [
    "### 4. 一行代码打印迷宫"
   ]
  },
  {
   "cell_type": "code",
   "execution_count": 30,
   "metadata": {},
   "outputs": [
    {
     "name": "stdout",
     "output_type": "stream",
     "text": [
      "<generator object <genexpr> at 0x000001C196E5CB10>\n"
     ]
    }
   ],
   "source": [
    "print('\\n'.join(''.join(__import__('random').choice('\\u2571\\u2572') for column in range(8)))  for row in range(8))"
   ]
  },
  {
   "cell_type": "code",
   "execution_count": 3,
   "metadata": {},
   "outputs": [
    {
     "data": {
      "text/plain": [
       "'╱╲╱╲╲╲╲╲╱╲╲╲╱╲╱╲╲╲╱╱╲╲╲╲╱╱╱╱╲╱╱╲╲╱╱╱╲╲╲╱╱╱╱╱╱╱╱╲╲╱╲╲╲╲╲╱╱╲╲╲╲╱╲╱'"
      ]
     },
     "execution_count": 3,
     "metadata": {},
     "output_type": "execute_result"
    }
   ],
   "source": [
    "''.join(__import__('random').choice('\\u2571\\u2572') for column in range(8) for row in range(8))"
   ]
  },
  {
   "cell_type": "code",
   "execution_count": 2,
   "metadata": {},
   "outputs": [
    {
     "name": "stdout",
     "output_type": "stream",
     "text": [
      "╲╲╲╱╲╲╲╱╲╲╱╱╲╱╱╲╱╱╱╲╱╱╲╲╱╲╱╱╲╱╱╲╱╱╲╱╲╱╲╲╱╲╱╲╱╱╲╲╲╲╲╱╲╲╱╱╱╱╱╱╱╲╲╲╱╱╲╱╱╱╲╲╱╲╲╱╱╲╱╲╲╲╲╱╲╱╲╱╲╲╱╲╱╱╱╲╱╲╱╱╱╲╱╲╲╱╱╱╱╲╲╲╱╱╱╲╲╲╲╲╲╲╱╱╱╲╲╱╲╱╱╲╱╱╲╱╱╲╱╱╱╲╱╱╲╲╱╲╱╱╲╲╲╱╱╱╲╱╲╲╱╱╱╲╲╲╱╲╲╲╱╱╲╲╱╲╲╲╱╲╱╲╲╲╲╱╱╱╱╱╲╱╲╲╲╱╲╱╱╱╱╱╲╲╲╲╲╲╱╲╲╱╱╱╲╲╲╱╲╲╱╲╲╱╱╲╲╱╲╲╱╲╲╲╱╲╱╱╱╱╱╱╲╱╲╲╱╱╱╱╲╱╱╱╲╲╲╲╲╲╲╱╱╱╱╱╲╲╲╲╲╱╱╱╱╲╲╲╱╱╲╲╲╲╱╱╱╲╲╲╲╲╲╲╲╱╱╲╱╲╱╱╱╱╲╱╱╱╱╱╲╱╲╱╱╱╱╱╱╲╱╲╲╱╲╱╲╱╲╱╲╲╲╱╲╱╲╲╲╱╲╱╲╲╱╲╲╲╱╱╱╲╱╲╲╱╲╲╲╱╱╲╲╱╱╲╱╲╱╲╱╲╱╲╱╲╲╱╲╲╲╲╲╱╲╲╱╲╲╲╱╲╱╱╲╲╲╲╲╱╲╲╱╱╲╱╲╲╱╱╲╱╱╲╱╲╲╲╱╱╱╲╱╲╲╲╱╲╱╲╱╲╱╱╲╲╱╲╱╲╲╱╱╱╱╱╱╱╲╲╱╲╲╱╲╲╲╲╱╲╱╲╱╲╲╱╱╲╱╲╱╱╲╲╲╱╲╲╲╱╱╲╲╲╱╱╱╲╱╱╲╲╱╲╲╱╱╲╱╲╲╱╲╲╱╲╱╱╲╱╲╲╱╱╱╱╱╲╲╲╱╲╲╲╲╲╱╱╱╲╱╱╱╱╲╱╲╱╱╲╲╲╱╲╱╲╲╲╲╱╱╱╱╲╱╲╱╲╲╱╲╲╲╱╲╱╱╱╱╲╲╲╱╲╱╲╱╲╲╲╲╲╲╱╱╱╲╱╲╱╲╲╲╱╲╱╱╲╲╱╲╲╲╱╱╲╲╱╱╱╲╲╲╱╱╲╱╱╲╱╲╱╲╲╲╱╱╲╱╲╲╲╲╲╱╲╲╱╲╱╱╱╲╱╱╱╱╱╲╱╱╲╲╲╲╱╲╲╲╲╲╲╱╲╲╱╱╱╱╲╲╱╱╱╲╲╲╱╱╲╱╲╱╱╲╲╱╲╱╱╲╲╲╱╱╱╲╱╱╱╲╱╱╱╱╱╱╲╱╲╱╲╱╱╱╱╱╱╱╱╲╲╲╲╱╲╱╲╲╲╲╱╲╲╲╲╲╲╱╱╲╱╲╲╲╲╲╱╲╲╲╱╲╱╲╲╱╲╱╱╲╱╲╱╱╱╱╱╱╲╱╱╲╲╲╲╲╲╲╱╱╲╱╲╲╱╱╱╱╲╲╲╱╲╱╱╱╲╱╱╱╱╱╱╱╱╱╱╲╱╲╱╲╱╱╲╲╱╲╱╱╲╲╱╱╱╱╲╱╱╱╲╲╲╲╱╱╱╲╲╲╲╲╲╲╱╱╱╱╲╲╱╲╱╱╲╲╲╱╲╱╱╱╲╱╲╲╱╲╲╱╱╲╱╲╲╱╱╲╲╲╲╲╲╲╱╲╱╲╱╲╱╱╲╱╲╱╲╱╱╲╱╱╱╱╲╲╲╲╱╱╲╱╲╲╱╱╲╲╱╱╱╱╱╲╲╲╱╱╲╲╱╱╲╲╱╲╲╱╱╲╲╲╲╲╲╲╲╲╲╲╲╱╲╱╲╱╲╲╱╲╱╲╲╲╲╲╲╲╱╱╱╲╱╱╲╱╲╱╲╲╲╱╲╲╲╲╲╲╱╱╱╲╲╲╱╱╱╲╲╱╱╱╲╱╲╲╱╲╱╲╱╲╲╲╱╲╲╲╲╱╱╱╲╱╲╲╲╱╱╲╲╱╲╱╱╱╱╲╲╲╱╱╱╲╲╱╲╱╲╲╱╲╲╱╲╱╱╱╲╱╲╱╱╲╲╲╱╲╱╲╱╲╲╱╱╱╱╱╱╲╱╱╱╲╲╱╱╱╱╲╲╱╲╲╲╲╲╲╱╱╲╱╲╲╲╱╱╱╲╲╲╱╱╲╲╲╲╱╲╲╲╲╱╱╲╲╱╲╱╲╲╱╲╲╱╱╱╱╱╱╲╱╲╲╱╲╲╱╲╲╱╲╱╲╲╲╱╱╲╲╲╲╲╲╲╲╲╱╱╲╱╲╱╲╱╲╲╲╲╱╲╲╱╲╱╱╱╲╱╲╱╱╱╲╱╱╲╲╱\n"
     ]
    }
   ],
   "source": [
    "print(''.join(__import__('random').choice('\\u2571\\u2572') for i in range(50*24)))"
   ]
  },
  {
   "cell_type": "markdown",
   "metadata": {},
   "source": [
    "### 5. 一行代码打印爱心"
   ]
  },
  {
   "cell_type": "code",
   "execution_count": 1,
   "metadata": {
    "collapsed": true
   },
   "outputs": [
    {
     "name": "stdout",
     "output_type": "stream",
     "text": [
      "                                                            \n",
      "                                                            \n",
      "                                                            \n",
      "                                                            \n",
      "                                                            \n",
      "                                                            \n",
      "                                                            \n",
      "                                                            \n",
      "                                                            \n",
      "                                                            \n",
      "                                                            \n",
      "                                                            \n",
      "                                                            \n",
      "                                                            \n",
      "                                                            \n",
      "                                                            \n",
      "                                                            \n",
      "                                                            \n",
      "                veLoveLov           veLoveLov               \n",
      "            eLoveLoveLoveLove   eLoveLoveLoveLove           \n",
      "          veLoveLoveLoveLoveLoveLoveLoveLoveLoveLov         \n",
      "         veLoveLoveLoveLoveLoveLoveLoveLoveLoveLoveL        \n",
      "        veLoveLoveLoveLoveLoveLoveLoveLoveLoveLoveLov       \n",
      "        eLoveLoveLoveLoveLoveLoveLoveLoveLoveLoveLove       \n",
      "        LoveLoveLoveLoveLoveLoveLoveLoveLoveLoveLoveL       \n",
      "        oveLoveLoveLoveLoveLoveLoveLoveLoveLoveLoveLo       \n",
      "        veLoveLoveLoveLoveLoveLoveLoveLoveLoveLoveLov       \n",
      "        eLoveLoveLoveLoveLoveLoveLoveLoveLoveLoveLove       \n",
      "         oveLoveLoveLoveLoveLoveLoveLoveLoveLoveLove        \n",
      "          eLoveLoveLoveLoveLoveLoveLoveLoveLoveLove         \n",
      "          LoveLoveLoveLoveLoveLoveLoveLoveLoveLoveL         \n",
      "            eLoveLoveLoveLoveLoveLoveLoveLoveLove           \n",
      "             oveLoveLoveLoveLoveLoveLoveLoveLove            \n",
      "              eLoveLoveLoveLoveLoveLoveLoveLove             \n",
      "                veLoveLoveLoveLoveLoveLoveLov               \n",
      "                  oveLoveLoveLoveLoveLoveLo                 \n",
      "                    LoveLoveLoveLoveLoveL                   \n",
      "                       LoveLoveLoveLov                      \n",
      "                          LoveLoveL                         \n",
      "                             Lov                            \n",
      "                              v                             \n",
      "                                                            \n",
      "                                                            \n",
      "                                                            \n",
      "                                                            \n",
      "                                                            \n",
      "                                                            \n",
      "                                                            \n",
      "                                                            \n",
      "                                                            \n",
      "                                                            \n",
      "                                                            \n",
      "                                                            \n",
      "                                                            \n",
      "                                                            \n",
      "                                                            \n",
      "                                                            \n",
      "                                                            \n",
      "                                                            \n",
      "                                                            \n"
     ]
    }
   ],
   "source": [
    "print('\\n'.join([''.join([('Love'[(x-y) % len('Love')] if ((x*0.05)**2+(y*0.1)**2-1)**3-(x*0.05)**2*(y*0.1)**3 <= 0 else ' ') for x in range(-30, 30)]) for y in range(30, -30, -1)]))"
   ]
  }
 ],
 "metadata": {
  "kernelspec": {
   "display_name": "Python 3",
   "language": "python",
   "name": "python3"
  },
  "language_info": {
   "codemirror_mode": {
    "name": "ipython",
    "version": 3
   },
   "file_extension": ".py",
   "mimetype": "text/x-python",
   "name": "python",
   "nbconvert_exporter": "python",
   "pygments_lexer": "ipython3",
   "version": "3.7.3"
  },
  "toc": {
   "base_numbering": 1,
   "nav_menu": {},
   "number_sections": true,
   "sideBar": true,
   "skip_h1_title": false,
   "title_cell": "Table of Contents",
   "title_sidebar": "Contents",
   "toc_cell": false,
   "toc_position": {},
   "toc_section_display": true,
   "toc_window_display": false
  }
 },
 "nbformat": 4,
 "nbformat_minor": 2
}
