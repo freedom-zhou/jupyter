{
 "cells": [
  {
   "cell_type": "markdown",
   "metadata": {},
   "source": [
    "#    闭包(closure) \n",
    "闭包简单说就是生成函数的函数  \n",
    "作用：使代码更简洁，可读性更强"
   ]
  },
  {
   "cell_type": "code",
   "execution_count": 6,
   "metadata": {},
   "outputs": [
    {
     "name": "stdout",
     "output_type": "stream",
     "text": [
      "4\n",
      "8\n"
     ]
    }
   ],
   "source": [
    "#闭包函数，其中 exponent 称为自由变量\n",
    "def nth_power(exponent):\n",
    "    def exponent_of(base):\n",
    "        return base ** exponent\n",
    "    return exponent_of # 返回值是 exponent_of 函数\n",
    "\n",
    "square = nth_power(2) # 计算一个数的平方\n",
    "cube = nth_power(3) # 计算一个数的立方\n",
    "print(square(2))  # 计算 2 的平方\n",
    "print(cube(2)) # 计算 2 的立方"
   ]
  },
  {
   "cell_type": "code",
   "execution_count": 5,
   "metadata": {},
   "outputs": [
    {
     "name": "stdout",
     "output_type": "stream",
     "text": [
      "got 1.1\n",
      "invoked 1 times\n",
      "got 1.2\n",
      "invoked 2 times\n",
      "got 1.3\n",
      "invoked 3 times\n",
      "got 2.1\n",
      "invoked 1 times\n",
      "got 2.2\n",
      "invoked 2 times\n",
      "got 2.3\n",
      "invoked 3 times\n"
     ]
    }
   ],
   "source": [
    "def fun_gen():\n",
    "    count = 0\n",
    "    def fun(var):\n",
    "        nonlocal count\n",
    "        print(f'got {var}')\n",
    "        count += 1\n",
    "        print(f'invoked {count} times')\n",
    "    return fun\n",
    "\n",
    "fun1 = fun_gen()\n",
    "fun2 = fun_gen()\n",
    "\n",
    "fun1(1.1)\n",
    "fun1(1.2)\n",
    "fun1(1.3)\n",
    "fun2(2.1)\n",
    "fun2(2.2)\n",
    "fun2(2.3)"
   ]
  },
  {
   "cell_type": "markdown",
   "metadata": {},
   "source": [
    "# 装饰器 (decorator)\n",
    "**作用**： 在不改变原函数代码的基础上，给原函数加功能  \n",
    "**存在的问题**：会改变原函数的__name__和__doc__属性  \n",
    "**解决办法**：  \n",
    "* 方法1：使用functools库中的wraps装饰器\n",
    "* 方法2：手动给返回的函数的__name__和__doc__属性赋值为原来函数的相应属性"
   ]
  },
  {
   "cell_type": "markdown",
   "metadata": {},
   "source": [
    "### 示例：用装饰器给方法加上统计运算时间的功能"
   ]
  },
  {
   "cell_type": "code",
   "execution_count": 1,
   "metadata": {},
   "outputs": [
    {
     "name": "stdout",
     "output_type": "stream",
     "text": [
      "test1 function run 0.5006442070007324 second\n",
      "I'm test1\n",
      "I'm test1\n",
      "I'm test1\n",
      "test1\n",
      "test decorator1\n",
      "\n",
      "func function run 0.5014512538909912 second\n",
      "I'm test2\n",
      "func function run 0.5005552768707275 second\n",
      "I'm test2\n",
      "func function run 0.5004100799560547 second\n",
      "I'm test2\n",
      "func\n",
      "None\n",
      "\n",
      "test3 function run 0.5002791881561279 second\n",
      "I'm test3\n",
      "test3 function run 0.5000565052032471 second\n",
      "I'm test3\n",
      "test3 function run 0.5011756420135498 second\n",
      "I'm test3\n",
      "test3\n",
      "test decorator3\n",
      "\n"
     ]
    }
   ],
   "source": [
    "import time\n",
    "import functools\n",
    "\n",
    "# \n",
    "def showRunTimeDec1(func, *args, **kwds): \n",
    "    '''\n",
    "    这样的装饰器虽然不会改变被装饰函数的函数名和函数doc，但原函数并没有变\n",
    "    只在第一次调用被装饰函数时，会显示运行时间\n",
    "    '''\n",
    "    \n",
    "    st = time.time()\n",
    "\n",
    "    func(*args, **kwds)\n",
    "\n",
    "    ed = time.time()\n",
    "    print(f\"{func.__name__} function run {ed-st} second\")\n",
    "    return func\n",
    "\n",
    "def showRunTimeDec2(f):\n",
    "    '''\n",
    "    这是装饰器的正确使用方法\n",
    "    但问题是，被装饰的函数，函数名name和帮助文档doc被改变了\n",
    "    '''\n",
    "\n",
    "    def func(*args, **kwds):\n",
    "        st = time.time()\n",
    "        res = f(*args, **kwds)\n",
    "        ed = time.time()\n",
    "        \n",
    "        print(f\"{func.__name__} function run {ed-st} second\")\n",
    "        return res\n",
    "        \n",
    "    return func\n",
    "\n",
    "def showRunTimeDec3(f):\n",
    "    '''\n",
    "    正确使用装饰器\n",
    "    并保留原有被装饰函数的信息\n",
    "    2种方法：\n",
    "        1. 使用functools.wraps()装饰器 （推荐）\n",
    "        2. 手动为包装函数改name和doc\n",
    "    '''\n",
    "\n",
    "    @functools.wraps(f)\n",
    "    def func(*args, **kwds):\n",
    "        st = time.time()\n",
    "        res = f(*args, **kwds)\n",
    "        ed = time.time()\n",
    "        \n",
    "        print(f\"{func.__name__} function run {ed-st} second\")\n",
    "        return res\n",
    "        \n",
    "    # 手动赋值\n",
    "#     func.__name__ = f.__name__\n",
    "#     func.__doc__ = f.__doc__\n",
    "    return func\n",
    "\n",
    "@showRunTimeDec1\n",
    "def test1():\n",
    "    '''test decorator1'''\n",
    "    time.sleep(0.5)\n",
    "    return \"I'm test1\"\n",
    "\n",
    "@showRunTimeDec2\n",
    "def test2():\n",
    "    '''test decorator2'''\n",
    "    time.sleep(0.5)\n",
    "    return \"I'm test2\"\n",
    "\n",
    "@showRunTimeDec3\n",
    "def test3():\n",
    "    '''test decorator3'''\n",
    "    time.sleep(0.5)\n",
    "    return \"I'm test3\"\n",
    "    \n",
    "print(test1())\n",
    "print(test1())\n",
    "print(test1())\n",
    "print(test1.__name__)\n",
    "print(test1.__doc__)\n",
    "print()\n",
    "\n",
    "print(test2())\n",
    "print(test2())\n",
    "print(test2())\n",
    "print(test2.__name__)\n",
    "print(test2.__doc__)\n",
    "print()\n",
    "\n",
    "print(test3())\n",
    "print(test3())\n",
    "print(test3())\n",
    "print(test3.__name__)\n",
    "print(test3.__doc__)\n",
    "print()"
   ]
  },
  {
   "cell_type": "markdown",
   "metadata": {},
   "source": [
    "# 魔术方法(Magic Method)"
   ]
  },
  {
   "cell_type": "markdown",
   "metadata": {},
   "source": [
    "魔法方法是python内置方法，不需要主动调用，存在的目的是为了给python的解释器进行调用，几乎每个魔法方法都有一个对应的内置函数，或者运算符，当我们对这个对象使用这些函数或者运算符时就会调用类中的对应魔法方法，我们可以重写魔术方法达到想要的目的\n",
    "\n",
    "魔术方法以 **‘__’** 双下划线包起来，例如类的初始化方法 __init__   \n",
    "Python中所有的魔术方法均在官方文档中有相应描述\n",
    "\n",
    "示例：  \n",
    "__new__(cls[, ...])\t1. __new__ 是在一个对象实例化的时候所调用的第一个方法  \n",
    "__init__(self[, ...])\t构造器，当一个实例被创建的时候调用的初始化方法  \n",
    "__del__(self)\t析构器，当一个实例被销毁的时候调用的方法"
   ]
  },
  {
   "cell_type": "markdown",
   "metadata": {},
   "source": [
    "# 迭代器"
   ]
  },
  {
   "cell_type": "markdown",
   "metadata": {},
   "source": [
    "迭代器是一个可以记住遍历的位置的对象。\n",
    "\n",
    "迭代器对象从集合的第一个元素开始访问，直到所有的元素被访问完结束。迭代器只能往前不会后退。\n",
    "\n",
    "迭代器有两个基本的方法：iter() 和 next()。 "
   ]
  },
  {
   "cell_type": "code",
   "execution_count": 4,
   "metadata": {
    "collapsed": true
   },
   "outputs": [
    {
     "name": "stdout",
     "output_type": "stream",
     "text": [
      "2\n",
      "3\n",
      "5\n",
      "7\n",
      "2\n",
      "3\n",
      "5\n",
      "7\n"
     ]
    }
   ],
   "source": [
    "li = [2,3,5,7]\n",
    "\n",
    "# 创建迭代器\n",
    "it = iter(li)\n",
    "\n",
    "# 遍历迭代器 方法1 用next(), 并捕捉StopIteration异常\n",
    "while True:\n",
    "    try:\n",
    "        print(next(it))\n",
    "    except StopIteration:\n",
    "        break\n",
    "        \n",
    "it = iter(li)\n",
    " # 遍历迭代器 方法2 用for循环\n",
    "for i in it:\n",
    "    print(i)"
   ]
  },
  {
   "cell_type": "markdown",
   "metadata": {},
   "source": [
    "# **生成器**(Generator)"
   ]
  },
  {
   "cell_type": "markdown",
   "metadata": {},
   "source": [
    "## 简介\n",
    "在 Python 中，使用了 yield 的函数被称为生成器（generator）。\n",
    "\n",
    "跟普通函数不同的是，生成器是一个返回迭代器的函数，只能用于迭代操作，更简单点理解生成器就是一个迭代器。 \n",
    "\n",
    "在调用生成器运行的过程中，每次遇到 yield 时函数会暂停并保存当前所有的运行信息，返回 yield 的值, 并在下一次执行 next() 方法时从当前位置继续运行。\n",
    "\n",
    "调用一个生成器函数，返回的是一个可迭代的generator对象。"
   ]
  },
  {
   "cell_type": "markdown",
   "metadata": {},
   "source": [
    "## 用next()和用for遍历生成器的区别\n",
    "用for循环遍历Generator时，不用担心抛出StopIteration异常，因为for循环内部捕获并处理了异常但是用for遍历Generator无法获得return的返回值  \n",
    "用next遍历Generator，可在捕获到异常时，用e.value获得return的值\n",
    "\n",
    "以下实例使用 yield 实现斐波那契数列："
   ]
  },
  {
   "cell_type": "code",
   "execution_count": 1,
   "metadata": {},
   "outputs": [
    {
     "name": "stdout",
     "output_type": "stream",
     "text": [
      "0 1 1 2 3 5 8 13 21 34 55 Done\n"
     ]
    }
   ],
   "source": [
    "#!/usr/bin/python3\n",
    " \n",
    "import sys\n",
    " \n",
    "def fibonacci(n): # 生成器函数 - 斐波那契\n",
    "    a, b, counter = 0, 1, 0\n",
    "    while True:\n",
    "        if (counter > n): \n",
    "            return \"Done\"\n",
    "        yield a\n",
    "        a, b = b, a + b\n",
    "        counter += 1\n",
    "f = fibonacci(10) # f 是一个迭代器，由生成器返回生成\n",
    " \n",
    "while True:\n",
    "    try:\n",
    "        print(next(f), end=\" \")\n",
    "    except StopIteration as e:\n",
    "        print(e.value)\n",
    "        break"
   ]
  },
  {
   "cell_type": "code",
   "execution_count": 3,
   "metadata": {},
   "outputs": [
    {
     "name": "stdout",
     "output_type": "stream",
     "text": [
      "[0, 1, 1, 2, 3, 5]\n",
      "<generator object fibonacci at 0x7fc75823f7b0>\n"
     ]
    }
   ],
   "source": [
    "# list(fibonacci(10))\n",
    "print([i for i in fibonacci(5)])\n",
    "print(fibonacci(5))"
   ]
  },
  {
   "cell_type": "markdown",
   "metadata": {},
   "source": [
    "## next() 和 send()\n",
    "next(generator) 和 generator.send(x) 都能从生成器获取值，不同的是send方法还能够传参数到生成器中"
   ]
  },
  {
   "cell_type": "code",
   "execution_count": 8,
   "metadata": {},
   "outputs": [
    {
     "name": "stdout",
     "output_type": "stream",
     "text": [
      "starting...\n",
      "4\n",
      "********************\n",
      "res: 7\n",
      "4\n"
     ]
    }
   ],
   "source": [
    "def foo():\n",
    "    print(\"starting...\")\n",
    "    while True:\n",
    "        res = yield 4\n",
    "        print(\"res:\",res)\n",
    "        \n",
    "g = foo()\n",
    "print(next(g))\n",
    "print(\"*\"*20)\n",
    "print(g.send(7))"
   ]
  },
  {
   "cell_type": "markdown",
   "metadata": {},
   "source": [
    "## yield from\n",
    "在生成器中使用yield from subgen()时，subgen会获得控制权，把产出的值传给生成器的调用方，即调用方可以直接控制subgen。与此同时，gen会阻塞，等待subgen终止  \n",
    "\n",
    "yield from x表达式对x对象所做的第一件事是，调用iter(x)，从中获取迭代器。因此，x可以是任何可迭代的对象"
   ]
  },
  {
   "cell_type": "markdown",
   "metadata": {},
   "source": [
    "### 【简单应用】简化代码\n",
    "**使用yield**\n",
    "``` python\n",
    "def gen():\n",
    "    for c in 'AB':\n",
    "        yield c\n",
    "\n",
    "    for i in range(1,3):\n",
    "        yield i\n",
    "\n",
    "print(list(gen()))\n",
    "```\n",
    "\n",
    "**作为对比，用yield from代码就简洁多了**\n",
    "``` python\n",
    "def gen():\n",
    "    yield from 'AB'\n",
    "    yield from range(1,3)\n",
    "    \n",
    "print(list(gen()))\n",
    "```"
   ]
  },
  {
   "cell_type": "markdown",
   "metadata": {},
   "source": [
    "### 【进阶应用】委派生成器\n",
    "yield from 的主要功能是打开双向通道，把最外层的调用方与最内层的子生成器连接起来，这样二者可以直接发送和产出值，还可以直接传入异常，而不用在位于中间的协程中添加大量处理异常的样板代码。通过这个结构，协程可以把功能委托给子生成器。\n",
    "\n",
    "**几个要注意的点：**  \n",
    "\n",
    "* 如果子生成器不终止，委派生成器会在yield from处永远暂停。\n",
    "\n",
    "* 因为委派生成器相当于管道，所以可以把任意数量个委派生成器连接在一起：一个委派生成器使用yield from调用一个子生成器，而那个子生成器本身也是委派生成器，使用yield from调用另一个子生成器，以此类推。最终，这个链条要以一个只使用yield表达式的简单生成器结束；不过，也能以任何可迭代的对象结束。\n",
    "\n",
    "* 子生成器产出的值都直接传给委派生成器的调用方（即客户端代码）。\n",
    "\n",
    "* 使用send()方法发给委派生成器的值都直接传给子生成器。如果发送的值是None，那么会调用子生成器的next()方法。否则调用子生成器的send()方法。"
   ]
  },
  {
   "cell_type": "code",
   "execution_count": null,
   "metadata": {},
   "outputs": [],
   "source": [
    "from collections import namedtuple\n",
    "\n",
    "Result = namedtuple('Result','count average')\n",
    "\n",
    "# 子生成器\n",
    "def averager():\n",
    "    total = 0.0\n",
    "    count = 0\n",
    "    average = None\n",
    "\n",
    "    while True:\n",
    "        # main 方法中发送的各种值，会绑定到term变量上\n",
    "        term = yield\n",
    "        \n",
    "        # 子生成器终止的条件\n",
    "        if term is None:\n",
    "            break\n",
    "\n",
    "        total += term\n",
    "        count += 1\n",
    "        average = total / count\n",
    "    \n",
    "    # 返回值会成为grouper中 yield from表达式的值\n",
    "    return Result(count,average)\n",
    "\n",
    "# 委派生成器\n",
    "def grouper(results,key):\n",
    "    while True:\n",
    "        # 每次迭代都会生成一个averager实例。每个生成器都是本协程（grouper）使用的生成器对象。\n",
    "        results[key] = yield from averager()\n",
    "\n",
    "# 客户端代码\n",
    "def main(data):\n",
    "    results = {}\n",
    "    for key,values in data.items():\n",
    "        # results 用来存储结果\n",
    "        group = grouper(results, key)\n",
    "        # 预激活协程\n",
    "        next(group)\n",
    "        for value in values:\n",
    "            # 发送的每个值都会经由grouper的yield from处理，通过管道传给averager实例。同时，当前的grouper实例，会在yield from 处暂停。\n",
    "            group.send(value)\n",
    "        # 把None值传入grouper，导致当前的averager实例终止，并让grouper继续运行，再创建一个aveager实例，处理下一组值。\n",
    "        group.send(None)\n",
    "    print(results)\n",
    "\n",
    "data = {\n",
    "    'girls;kg':[40.9,38.5,44.3,42.2,45.2,41.7,44.5,38.0,40.6,44.5],\n",
    "    'girls;m':[1.6,1.51,1.4,1.3,1.41,1.39,1.33,1.46,1.45,1.43],\n",
    "    'boys;kg':[39.0,40.8,43.2,40.8,43.1,38.6,41.4,40.6,36.3],\n",
    "    'boys;m':[1.38,1.5,1.32,1.25,1.37,1.48,1.25,1.49,1.46]\n",
    "}\n",
    "\n",
    "\n",
    "main(data)"
   ]
  },
  {
   "cell_type": "markdown",
   "metadata": {},
   "source": [
    "# 异常处理"
   ]
  },
  {
   "cell_type": "code",
   "execution_count": 15,
   "metadata": {},
   "outputs": [
    {
     "name": "stdout",
     "output_type": "stream",
     "text": [
      "<class 'ValueError'>\n",
      "This is a exception\n",
      "('This is a exception',)\n",
      "<FrameSummary file <ipython-input-15-64983c9377b4>, line 8 in <module>>\n",
      "Whether failed or not, this line will be executed\n"
     ]
    }
   ],
   "source": [
    "import traceback\n",
    "import sys\n",
    "a=0\n",
    "b=1\n",
    "try:\n",
    "    c=a/b\n",
    "#     d=a/NotExist\n",
    "    raise ValueError(\"This is a exception\")\n",
    "except ZeroDivisionError as ex:\n",
    "    print(f\"Failed,caused by ZeroDivisionError,details:[{ex}]\")\n",
    "except NameError as ex:\n",
    "    print(f\"Failed,caused by NameError,details:[{ex}]\")\n",
    "except Exception as ex:\n",
    "    ex_type,ex_val,ex_stack = sys.exc_info()\n",
    "    print(ex_type,ex_val,ex.args,sep=\"\\n\")\n",
    "    for stack in traceback.extract_tb(ex_stack):\n",
    "        print(stack)\n",
    "except:\n",
    "    print(\n",
    "'''\n",
    "Failed,but I do not know why!\n",
    "Can't handlethis error,so I decided to raise it again!\n",
    "''')\n",
    "    raise\n",
    "finally:\n",
    "    print('Whether failed or not, this line will be executed')"
   ]
  },
  {
   "cell_type": "markdown",
   "metadata": {},
   "source": [
    "# 文件I/O"
   ]
  },
  {
   "cell_type": "code",
   "execution_count": 20,
   "metadata": {},
   "outputs": [],
   "source": [
    "# 写文件\n",
    "f = open('test.txt',mode='w')\n",
    "f.write('111\\n')\n",
    "f.write('222\\n')\n",
    "f.writelines('333')\n",
    "f.writelines(['5','5','5'])\n",
    "f.close()"
   ]
  },
  {
   "cell_type": "code",
   "execution_count": 29,
   "metadata": {
    "collapsed": true
   },
   "outputs": [
    {
     "name": "stdout",
     "output_type": "stream",
     "text": [
      "['111\\n', '222\\n', '333555']\n",
      "\n",
      "------\n",
      "\n",
      "111\n",
      "222\n",
      "333555\n",
      "\n",
      "------\n",
      "\n",
      "111\n",
      "\n",
      "222\n",
      "\n",
      "333555\n"
     ]
    }
   ],
   "source": [
    "# 读文件\n",
    "\n",
    "# readlines()\n",
    "f = open('test.txt')\n",
    "print(f.readlines())\n",
    "f.close()\n",
    "print('\\n------\\n')\n",
    "\n",
    "# read()\n",
    "f = open('test.txt')\n",
    "print(f.read())\n",
    "f.close()\n",
    "print('\\n------\\n')\n",
    "\n",
    "# 迭代器\n",
    "f = open('test.txt')\n",
    "for l in f:\n",
    "    print(l)"
   ]
  },
  {
   "cell_type": "code",
   "execution_count": 2,
   "metadata": {},
   "outputs": [
    {
     "name": "stdout",
     "output_type": "stream",
     "text": [
      "111\n",
      "222\n",
      "333555\n"
     ]
    }
   ],
   "source": [
    "# with语法 （自动关闭文件）\n",
    "with open('test.txt') as f:\n",
    "    print(f.read())"
   ]
  },
  {
   "cell_type": "markdown",
   "metadata": {},
   "source": [
    "# 上下文管理器(context manager)\n",
    "\n",
    "简单的理解，同时包含 __enter__() 和 __exit__() 方法的对象就是上下文管理器。常见构建上下文管理器的方式有 2 种，分别是基于类实现和基于生成器实现  \n",
    "使用 with as 语句操作上下文管理器（context manager），能够帮助我们自动分配，释放资源，处理异常"
   ]
  },
  {
   "cell_type": "code",
   "execution_count": 8,
   "metadata": {
    "scrolled": true
   },
   "outputs": [
    {
     "name": "stdout",
     "output_type": "stream",
     "text": [
      "TAG: __init__\n",
      "TAG: __enter__\n",
      "TAG: fail\n",
      "Try raise a error\n",
      "TAG: __exit__\n",
      "exc_type: <class 'ValueError'>\n",
      "exc_value: \n",
      "exc_tb: <traceback object at 0x00000274C496FC88>\n",
      "exception <class 'ValueError'> has been handled\n",
      "-----------------------\n",
      "TAG: __init__\n",
      "TAG: __enter__\n",
      "TAG: fail\n",
      "Try raise a error\n",
      "TAG: __exit__\n",
      "exc_type: <class 'ValueError'>\n",
      "exc_value: \n",
      "exc_tb: <traceback object at 0x00000274C496FC88>\n",
      "exception <class 'ValueError'> will be raised\n"
     ]
    },
    {
     "ename": "ValueError",
     "evalue": "",
     "output_type": "error",
     "traceback": [
      "\u001b[1;31m---------------------------------------------------------------------------\u001b[0m",
      "\u001b[1;31mValueError\u001b[0m                                Traceback (most recent call last)",
      "\u001b[1;32m<ipython-input-8-87a6705ac169>\u001b[0m in \u001b[0;36m<module>\u001b[1;34m\u001b[0m\n\u001b[0;32m     30\u001b[0m \u001b[1;33m\u001b[0m\u001b[0m\n\u001b[0;32m     31\u001b[0m \u001b[1;32mwith\u001b[0m \u001b[0mcm_test\u001b[0m\u001b[1;33m(\u001b[0m\u001b[1;33m)\u001b[0m \u001b[1;32mas\u001b[0m \u001b[0mc\u001b[0m\u001b[1;33m:\u001b[0m\u001b[1;33m\u001b[0m\u001b[1;33m\u001b[0m\u001b[0m\n\u001b[1;32m---> 32\u001b[1;33m     \u001b[0mc\u001b[0m\u001b[1;33m.\u001b[0m\u001b[0mfail\u001b[0m\u001b[1;33m(\u001b[0m\u001b[1;33m)\u001b[0m\u001b[1;33m\u001b[0m\u001b[1;33m\u001b[0m\u001b[0m\n\u001b[0m\u001b[0;32m     33\u001b[0m \u001b[1;33m\u001b[0m\u001b[0m\n",
      "\u001b[1;32m<ipython-input-8-87a6705ac169>\u001b[0m in \u001b[0;36mfail\u001b[1;34m(self)\u001b[0m\n\u001b[0;32m      7\u001b[0m         \u001b[0mprint\u001b[0m\u001b[1;33m(\u001b[0m\u001b[1;34m'TAG: fail'\u001b[0m\u001b[1;33m)\u001b[0m\u001b[1;33m\u001b[0m\u001b[1;33m\u001b[0m\u001b[0m\n\u001b[0;32m      8\u001b[0m         \u001b[0mprint\u001b[0m\u001b[1;33m(\u001b[0m\u001b[1;34m'Try raise a error'\u001b[0m\u001b[1;33m)\u001b[0m\u001b[1;33m\u001b[0m\u001b[1;33m\u001b[0m\u001b[0m\n\u001b[1;32m----> 9\u001b[1;33m         \u001b[1;32mraise\u001b[0m \u001b[0mValueError\u001b[0m\u001b[1;33m\u001b[0m\u001b[1;33m\u001b[0m\u001b[0m\n\u001b[0m\u001b[0;32m     10\u001b[0m \u001b[1;33m\u001b[0m\u001b[0m\n\u001b[0;32m     11\u001b[0m     \u001b[1;32mdef\u001b[0m \u001b[0m__enter__\u001b[0m\u001b[1;33m(\u001b[0m\u001b[0mself\u001b[0m\u001b[1;33m)\u001b[0m\u001b[1;33m:\u001b[0m\u001b[1;33m\u001b[0m\u001b[1;33m\u001b[0m\u001b[0m\n",
      "\u001b[1;31mValueError\u001b[0m: "
     ]
    }
   ],
   "source": [
    "class cm_test:\n",
    "    def __init__(self,handle_exception=False):\n",
    "        print('TAG: __init__')\n",
    "        self.handle_exception = handle_exception\n",
    "        \n",
    "    def fail(self):\n",
    "        print('TAG: fail')\n",
    "        print('Try raise a error')\n",
    "        raise ValueError\n",
    "        \n",
    "    def __enter__(self):\n",
    "        print('TAG: __enter__')\n",
    "        return self\n",
    "    \n",
    "    def __exit__(self,exc_type,exc_value,exc_tb):\n",
    "        print('TAG: __exit__')\n",
    "        print(f'exc_type: {exc_type}')\n",
    "        print(f'exc_value: {exc_value}')\n",
    "        print(f'exc_tb: {exc_tb}')\n",
    "        if self.handle_exception:\n",
    "            print(f'exception {exc_type} has been handled')\n",
    "        else:\n",
    "            print(f'exception {exc_type} will be raised')\n",
    "        return self.handle_exception\n",
    "    \n",
    "with cm_test(handle_exception = True) as c:\n",
    "    c.fail()\n",
    "    \n",
    "print('-----------------------')\n",
    "    \n",
    "with cm_test() as c:\n",
    "    c.fail()\n",
    "    "
   ]
  },
  {
   "cell_type": "markdown",
   "metadata": {},
   "source": [
    "# list comprehension,map,filter,reduce"
   ]
  },
  {
   "cell_type": "code",
   "execution_count": 2,
   "metadata": {
    "collapsed": true
   },
   "outputs": [
    {
     "name": "stdout",
     "output_type": "stream",
     "text": [
      "[1, 4, 9, 16, 25, 36, 49, 64]\n"
     ]
    }
   ],
   "source": [
    "l = [1,2,3,4,5,6,7,8]\n",
    "\n",
    "# 列表推导式 (list comphension) 获取列表内容的平方\n",
    "print([e**2 for e in l])"
   ]
  },
  {
   "cell_type": "code",
   "execution_count": 20,
   "metadata": {},
   "outputs": [
    {
     "name": "stdout",
     "output_type": "stream",
     "text": [
      "[1, 4, 9, 16, 25, 36, 49, 64]\n"
     ]
    }
   ],
   "source": [
    "# map 获取列表内容的平方\n",
    "print(list(map(lambda e:e**2,l)))"
   ]
  },
  {
   "cell_type": "code",
   "execution_count": null,
   "metadata": {},
   "outputs": [],
   "source": [
    "# 列表推导式 (list comphension) 获取列表中的偶数\n",
    "print([e for e in l if (e%2==0)])"
   ]
  },
  {
   "cell_type": "code",
   "execution_count": 25,
   "metadata": {},
   "outputs": [
    {
     "name": "stdout",
     "output_type": "stream",
     "text": [
      "[2, 4, 6, 8]\n"
     ]
    }
   ],
   "source": [
    "# filter 获取列表中的偶数\n",
    "print(list(filter(lambda e:e%2==0,l)))"
   ]
  },
  {
   "cell_type": "code",
   "execution_count": 1,
   "metadata": {},
   "outputs": [
    {
     "name": "stdout",
     "output_type": "stream",
     "text": [
      "6\n"
     ]
    }
   ],
   "source": [
    "# reduce 计算列表中所有元素的乘积\n",
    "from functools import reduce\n",
    "l = [1,2,3]\n",
    "print(reduce(lambda x,y:x*y,l))"
   ]
  },
  {
   "cell_type": "code",
   "execution_count": 6,
   "metadata": {},
   "outputs": [
    {
     "name": "stdout",
     "output_type": "stream",
     "text": [
      "<class 'int'>\n",
      "123\n"
     ]
    }
   ],
   "source": [
    "# reduce 不用int()方法将str转换成int\n",
    "s = '123'\n",
    "i = reduce(lambda num,v: num*10+ord(v)-ord('0'), s, 0)\n",
    "print(type(i))\n",
    "print(i)"
   ]
  },
  {
   "cell_type": "markdown",
   "metadata": {},
   "source": [
    "# 多线程，多进程"
   ]
  },
  {
   "cell_type": "markdown",
   "metadata": {},
   "source": [
    "## 全局解释器锁 GIL(global interpreter lock)  "
   ]
  },
  {
   "cell_type": "markdown",
   "metadata": {},
   "source": [
    "## CPU密集型任务 vs IO密集型任务\n",
    "**CPU密集型任务**：特点是要进行大量的计算，消耗CPU资源，比如计算圆周率、对视频进行高清解码等等，全靠CPU的运算能力。这种计算密集型任务虽然也可以用多任务完成，但是任务越多，花在任务切换的时间就越多，CPU执行任务的效率就越低，所以，要最高效地利用CPU，计算密集型任务同时进行的数量应当等于CPU的核心数。\n",
    "\n",
    "**IO密集型任务**：涉及到网络、磁盘IO的任务都是IO密集型任务，这类任务的特点是CPU消耗很少，任务的大部分时间都在等待IO操作完成（因为IO的速度远远低于CPU和内存的速度）。对于IO密集型任务，任务越多，CPU效率越高，但也有一个限度。常见的大部分任务都是IO密集型任务，比如Web应用。"
   ]
  },
  {
   "cell_type": "markdown",
   "metadata": {},
   "source": [
    "## 线程 vs 进程\n",
    "进程：\n",
    "* 操作系统分配内存的基本单位\n",
    "* 一个进程可以包含一个或多个线程\n",
    "\n",
    "线程：\n",
    "* 操作系统分配CPU的基本单位。\n",
    "* 进程中用来执行程序的一个实体，一个进程中有多个线程。"
   ]
  },
  {
   "cell_type": "markdown",
   "metadata": {},
   "source": [
    "## 多线程"
   ]
  },
  {
   "cell_type": "markdown",
   "metadata": {},
   "source": [
    "### multiprocessing 模块实现多线程"
   ]
  },
  {
   "cell_type": "code",
   "execution_count": 2,
   "metadata": {},
   "outputs": [],
   "source": [
    "import time\n",
    "import random\n",
    "\n",
    "# 首先定义一个函数\n",
    "def run_func(num):\n",
    "    #打印开始时间\n",
    "    nowstr = time.strftime('%Y-%m-%d %H:%M:%S',time.localtime(time.time()))\n",
    "    print(f'{nowstr}: start run_func({num} pid: {os.getpid()} ')\n",
    "    \n",
    "    #休眠随机秒数\n",
    "    random_float = random.random().0.3\n",
    "    print(f'sleep {random_float} second ...\\n')\n",
    "    time.sleep(random_int)\n",
    "     \n",
    "    #打印结束时间\n",
    "    nowstr = time.strftime('%Y-%m-%d %H:%M:%S',time.localtime(time.time()))\n",
    "    print(f'{nowstr}: end run_func({num}) pid: {os.getpid()} \\n')\n",
    "    \n",
    "    return f'run_func({num}): sleep {random_int}s'\n"
   ]
  },
  {
   "cell_type": "code",
   "execution_count": null,
   "metadata": {},
   "outputs": [],
   "source": [
    "\n",
    "# 创建线程池\n",
    "from multiprocessing.dummy import Pool as ThreadPool\n",
    "pool = ThreadPool()\n",
    "# 把任务放入线程池\n",
    "results = pool.map(run_func,range(10))\n",
    "# 关闭线程池（关闭就不能再继续放任务了）\n",
    "pool.close()\n",
    "# 等待线程池的所有任务完成（若不等待，由于主线程结束子线程也会被结束）\n",
    "pool.join()\n",
    "# 输出结果\n",
    "print(results)\n"
   ]
  },
  {
   "cell_type": "markdown",
   "metadata": {},
   "source": [
    "### threading.Thread 继承线程基类 -- 自由度更高的方法"
   ]
  },
  {
   "cell_type": "code",
   "execution_count": 1,
   "metadata": {},
   "outputs": [
    {
     "name": "stdout",
     "output_type": "stream",
     "text": [
      "2019-11-17 16:55:12: start myThread \n",
      "sleep 4s\n",
      "\n",
      "is alive: True\n",
      "\n",
      "2019-11-17 16:55:16: end myThread\n",
      "\n",
      "Child process exit\n"
     ]
    }
   ],
   "source": [
    "import time\n",
    "import random\n",
    "from threading import Thread\n",
    "\n",
    "class myThread(Thread):\n",
    "    def run(self):\n",
    "        #打印开始时间\n",
    "        nowstr = time.strftime('%Y-%m-%d %H:%M:%S',time.localtime(time.time()))\n",
    "        print(f'{nowstr}: start myThread ')\n",
    "\n",
    "        #休眠随机秒数\n",
    "        random_int = random.randint(3,8)\n",
    "        print(f'sleep {random_int}s\\n')\n",
    "        time.sleep(random_int)\n",
    "\n",
    "        #打印结束时间\n",
    "        nowstr = time.strftime('%Y-%m-%d %H:%M:%S',time.localtime(time.time()))\n",
    "        print(f'{nowstr}: end myThread\\n')\n",
    "\n",
    "# 创建自定义线程的示例\n",
    "my_thread = myThread()\n",
    "# 注意不是调用run来启动线程，而是调用start\n",
    "my_thread.start()\n",
    "\n",
    "# 打印线程是否还在执行\n",
    "print(f'is alive: {my_thread.is_alive()}\\n')\n",
    "# 等待子线程退出，若不这样做，主线程退出了子线程也会被退出\n",
    "my_thread.join()\n",
    "print('Child process exit')"
   ]
  },
  {
   "cell_type": "markdown",
   "metadata": {},
   "source": [
    "## 多进程"
   ]
  },
  {
   "cell_type": "markdown",
   "metadata": {},
   "source": [
    "### multiprocessing 模块实现多进程"
   ]
  },
  {
   "cell_type": "markdown",
   "metadata": {},
   "source": [
    "#### 进程类 Process"
   ]
  },
  {
   "cell_type": "code",
   "execution_count": null,
   "metadata": {},
   "outputs": [],
   "source": [
    "from multiprocessing import Process\n",
    "import os\n",
    "\n",
    "# 子进程要执行的代码\n",
    "def run_proc(num):\n",
    "    print('Child process start.')\n",
    "    print(f'Child process pid: {os.getpid()}')\n",
    "    print(f'Child process ppid: {os.getppid()}')\n",
    "    \n",
    "    print(f'Sleeping {num} second\\n')\n",
    "    time.sleep(num)\n",
    "    \n",
    "    print('Child process end.')\n",
    "\n",
    "print('Parent process %s.' % os.getpid())\n",
    "p = Process(target=run_proc, args=(3,))\n",
    "p.start()\n",
    "p.join()\n",
    "print('Parent process end.')"
   ]
  },
  {
   "cell_type": "markdown",
   "metadata": {},
   "source": [
    "#### 进程池 Pool 批量创建子进程"
   ]
  },
  {
   "cell_type": "code",
   "execution_count": null,
   "metadata": {},
   "outputs": [],
   "source": [
    "# 把线程换成进程，很简单导包改一下就好\n",
    "\n",
    "# 创建进程池\n",
    "from multiprocessing import Pool as ProcessPool\n",
    "pool = ProcessPool()\n",
    "\n",
    "# 把任务放入进程池\n",
    "results = pool.map(run_func,range(10))\n",
    "\n",
    "# 关闭进程池（关闭就不能再继续放任务了）\n",
    "pool.close()\n",
    "\n",
    "# 等待进程池的所有任务完成（若不等待，由于主进程结束子进程也会被结束）\n",
    "pool.join()\n",
    "\n",
    "# 输出结果\n",
    "print(results)"
   ]
  },
  {
   "cell_type": "markdown",
   "metadata": {},
   "source": [
    "### os.fork() 实现多进程 （仅适用于Linux系统）"
   ]
  },
  {
   "cell_type": "code",
   "execution_count": 2,
   "metadata": {
    "collapsed": true
   },
   "outputs": [
    {
     "name": "stdout",
     "output_type": "stream",
     "text": [
      "Main process start\n",
      "pid: 17616\n"
     ]
    },
    {
     "ename": "AttributeError",
     "evalue": "module 'os' has no attribute 'fork'",
     "output_type": "error",
     "traceback": [
      "\u001b[1;31m---------------------------------------------------------------------------\u001b[0m",
      "\u001b[1;31mAttributeError\u001b[0m                            Traceback (most recent call last)",
      "\u001b[1;32m<ipython-input-2-f66b8a9de26c>\u001b[0m in \u001b[0;36m<module>\u001b[1;34m\u001b[0m\n\u001b[0;32m      9\u001b[0m \u001b[0mprint\u001b[0m\u001b[1;33m(\u001b[0m\u001b[1;34m\"pid:\"\u001b[0m\u001b[1;33m,\u001b[0m \u001b[0mos\u001b[0m\u001b[1;33m.\u001b[0m\u001b[0mgetpid\u001b[0m\u001b[1;33m(\u001b[0m\u001b[1;33m)\u001b[0m\u001b[1;33m)\u001b[0m\u001b[1;33m\u001b[0m\u001b[1;33m\u001b[0m\u001b[0m\n\u001b[0;32m     10\u001b[0m \u001b[1;33m\u001b[0m\u001b[0m\n\u001b[1;32m---> 11\u001b[1;33m \u001b[0mpid\u001b[0m \u001b[1;33m=\u001b[0m \u001b[0mos\u001b[0m\u001b[1;33m.\u001b[0m\u001b[0mfork\u001b[0m\u001b[1;33m(\u001b[0m\u001b[1;33m)\u001b[0m\u001b[1;33m\u001b[0m\u001b[1;33m\u001b[0m\u001b[0m\n\u001b[0m\u001b[0;32m     12\u001b[0m \u001b[1;32mif\u001b[0m \u001b[0mpid\u001b[0m \u001b[1;33m==\u001b[0m \u001b[1;36m0\u001b[0m\u001b[1;33m:\u001b[0m\u001b[1;33m\u001b[0m\u001b[1;33m\u001b[0m\u001b[0m\n\u001b[0;32m     13\u001b[0m     \u001b[1;31m# 这是在子进程中\u001b[0m\u001b[1;33m\u001b[0m\u001b[1;33m\u001b[0m\u001b[1;33m\u001b[0m\u001b[0m\n",
      "\u001b[1;31mAttributeError\u001b[0m: module 'os' has no attribute 'fork'"
     ]
    }
   ],
   "source": [
    "import os\n",
    "import time\n",
    "import random\n",
    "\n",
    "def get_time()->str:\n",
    "    return time.strftime('%H:%M:%S', time.localtime())\n",
    "\n",
    "print(\"Main process start\")\n",
    "print(\"pid:\", os.getpid())\n",
    "\n",
    "pid = os.fork()\n",
    "if pid == 0:\n",
    "    # 这是在子进程中\n",
    "    print(\"Child process start\")\n",
    "    print(\"pid:\", os.getpid())\n",
    "    print(\"ppid:\", os.getppid())\n",
    "    \n",
    "    # 休眠随机1~3秒\n",
    "    t = random.randint(1,3)\n",
    "    print(f\"Sleep {t} second ...\")\n",
    "    time.sleep(t)\n",
    "    \n",
    "    # 子进程结束\n",
    "    print(\"Child process end\")\n",
    "else:\n",
    "    # 这是在父进程中\n",
    "    print(\"Parent process start\")\n",
    "    print(\"pid:\", os.getpid())\n",
    "    \n",
    "    # 等待子进程结束，若父进程先结束，子进程将无法得到原父进程的pid，子进程将被pid为1的进程接管\n",
    "    print(\"Wait for the child process end ...\")\n",
    "    os.wait()\n",
    "    \n",
    "    # 父进程继续运行\n",
    "    print(\"Parent process consume\")\n",
    "    print(\"pid:\", os.getpid())\n",
    "    \n",
    "    # 父进程结束\n",
    "    print(\"Parent process end\")"
   ]
  },
  {
   "cell_type": "markdown",
   "metadata": {},
   "source": [
    "# **协程**(Coroutine)\n",
    "\n",
    "## 协程是什么\n",
    "协程，又称微线程。英文名Coroutine。  \n",
    "\n",
    "子程序，或者称为函数，在所有语言中都是层级调用，比如A调用B，B在执行过程中又调用了C，C执行完毕返回，B执行完毕返回，最后是A执行完毕。  \n",
    "所以子程序调用是通过栈实现的，一个线程就是执行一个子程序。  \n",
    "子程序调用总是一个入口，一次返回，调用顺序是明确的。而协程的调用和子程序不同。  \n",
    "\n",
    "协程看上去也是子程序，但执行过程中，在子程序内部可中断，然后转而执行别的子程序，在适当的时候再返回来接着执行。  \n",
    "\n",
    "## 协程的优势\n",
    "\n",
    "**协程 vs 线程**  \n",
    "线程是抢占式多任务，由于抢占式调度执行顺序无法确定的特点，使用线程时需要非常小心地处理同步问题，而协程完全不存在这个问题   \n",
    "\n",
    "协程是协作式多任务，是用户自己来编写调度逻辑的，对CPU来说，协程其实是单线程，省去了CPU的切换开销，且不需要多线程的锁机制，因为只有一个线程，也不存在同时写变量冲突\n",
    "\n",
    "**和多线程比，协程的优势**  \n",
    "最大的优势就是协程极高的执行效率。因为子程序切换不是线程切换，而是由程序自身控制，因此，没有线程切换的开销，和多线程比，线程数量越多，协程的性能优势就越明显。\n",
    "\n",
    "第二大优势就是不需要多线程的锁机制，因为只有一个线程，也不存在同时写变量冲突，在协程中控制共享资源不加锁，只需要判断状态就好了，所以执行效率比多线程高很多。\n",
    "\n",
    "因为协程是一个线程执行，那怎么利用多核CPU呢？最简单的方法是多进程+协程，既充分利用多核，又充分发挥协程的高效率，可获得极高的性能。"
   ]
  },
  {
   "cell_type": "markdown",
   "metadata": {},
   "source": [
    "## 协程的实现\n",
    "Python对协程的支持是通过generator实现的  "
   ]
  },
  {
   "cell_type": "markdown",
   "metadata": {},
   "source": [
    "### 生产者-消费者模型的协程实现\n",
    "\n",
    "传统的生产者-消费者模型是一个线程写消息，一个线程取消息，通过锁机制控制队列和等待，但一不小心就可能死锁。  \n",
    "如果改用协程，生产者生产消息后，直接通过yield跳转到消费者开始执行，待消费者执行完毕后，切换回生产者继续生产，效率极高"
   ]
  },
  {
   "cell_type": "code",
   "execution_count": 4,
   "metadata": {},
   "outputs": [
    {
     "name": "stdout",
     "output_type": "stream",
     "text": [
      "[PRODUCER] Producing 1...\n",
      "[CONSUMER] Consuming 1...\n",
      "[PRODUCER] Consumer return: 200 OK\n",
      "[PRODUCER] Producing 2...\n",
      "[CONSUMER] Consuming 2...\n",
      "[PRODUCER] Consumer return: 200 OK\n",
      "[PRODUCER] Producing 3...\n",
      "[CONSUMER] Consuming 3...\n",
      "[PRODUCER] Consumer return: 200 OK\n",
      "[PRODUCER] Producing 4...\n",
      "[CONSUMER] Consuming 4...\n",
      "[PRODUCER] Consumer return: 200 OK\n",
      "[PRODUCER] Producing 5...\n",
      "[CONSUMER] Consuming 5...\n",
      "[PRODUCER] Consumer return: 200 OK\n"
     ]
    }
   ],
   "source": [
    "def consumer():\n",
    "    r = ''\n",
    "    while True:\n",
    "        n = yield r\n",
    "        if not n:\n",
    "            return\n",
    "        print('[CONSUMER] Consuming %s...' % n)\n",
    "        r = '200 OK'\n",
    "\n",
    "def produce(c):\n",
    "    c.send(None)\n",
    "    n = 0\n",
    "    while n < 5:\n",
    "        n = n + 1\n",
    "        print('[PRODUCER] Producing %s...' % n)\n",
    "        r = c.send(n)\n",
    "        print('[PRODUCER] Consumer return: %s' % r)\n",
    "    c.close()\n",
    "\n",
    "c = consumer()\n",
    "produce(c)"
   ]
  },
  {
   "cell_type": "markdown",
   "metadata": {},
   "source": [
    "注意consumer函数是一个generator，把一个consumer传入produce后：\n",
    "\n",
    "    首先调用c.send(None)启动生成器；\n",
    "\n",
    "    然后，一旦生产了东西，通过c.send(n)切换到consumer执行；\n",
    "\n",
    "    consumer通过yield拿到消息，处理，又通过yield把结果传回；\n",
    "\n",
    "    produce拿到consumer处理的结果，继续生产下一条消息；\n",
    "\n",
    "    produce决定不生产了，通过c.close()关闭consumer，整个过程结束。\n",
    "\n",
    "整个流程无锁，由一个线程执行，produce和consumer协作完成任务，所以称为“协程”，而非线程的抢占式多任务"
   ]
  },
  {
   "cell_type": "markdown",
   "metadata": {},
   "source": [
    "### asyncio 通过协程实现异步io\n",
    "asyncio是Python 3.4版本引入的标准库  \n",
    "\n",
    "asyncio的编程模型就是一个事件循环。我们从asyncio模块中直接获取一个EventLoop的引用，然后把需要执行的协程扔到EventLoop中执行，就实现了异步IO  \n",
    "asyncio可以实现单线程并发IO操作。如果仅用在客户端，发挥的威力不大。如果把asyncio用在服务器端，例如Web服务器，由于HTTP连接就是IO操作，因此可以用单线程+coroutine实现多用户的高并发支持 \n",
    "\n",
    "**asyncio实现并发的原理**  （注意并发和并行的区别）  \n",
    "当一个coroutine遇到IO操作时，比如访问网络，就自动切换到其他的coroutine，等到IO操作完成，再在适当的时候切换回来继续执行。由于IO操作非常耗时，经常使程序处于等待状态，所以遇到IO操作自动切换到其他协程，就能保证总有coroutine在运行\n",
    "\n",
    "**asyncio实现并发的步骤**  \n",
    "* 用@asyncio.coroutine装饰器把一个generator标记为coroutine类型\n",
    "* 异步操作需要在coroutine中通过yield from完成；\n",
    "* 多个coroutine封装成一组Task，然后放到EventLoop（事件循环）中并发执行"
   ]
  },
  {
   "cell_type": "code",
   "execution_count": 1,
   "metadata": {
    "collapsed": true
   },
   "outputs": [
    {
     "name": "stderr",
     "output_type": "stream",
     "text": [
      "<ipython-input-1-8d0d676e4dd1>:5: DeprecationWarning: \"@coroutine\" decorator is deprecated since Python 3.8, use \"async def\" instead\n",
      "  def wget(host):\n"
     ]
    },
    {
     "ename": "RuntimeError",
     "evalue": "This event loop is already running",
     "output_type": "error",
     "traceback": [
      "\u001b[0;31m---------------------------------------------------------------------------\u001b[0m",
      "\u001b[0;31mRuntimeError\u001b[0m                              Traceback (most recent call last)",
      "\u001b[0;32m<ipython-input-1-8d0d676e4dd1>\u001b[0m in \u001b[0;36m<module>\u001b[0;34m\u001b[0m\n\u001b[1;32m     23\u001b[0m \u001b[0mloop\u001b[0m \u001b[0;34m=\u001b[0m \u001b[0masyncio\u001b[0m\u001b[0;34m.\u001b[0m\u001b[0mget_event_loop\u001b[0m\u001b[0;34m(\u001b[0m\u001b[0;34m)\u001b[0m\u001b[0;34m\u001b[0m\u001b[0;34m\u001b[0m\u001b[0m\n\u001b[1;32m     24\u001b[0m \u001b[0mtasks\u001b[0m \u001b[0;34m=\u001b[0m \u001b[0;34m[\u001b[0m\u001b[0mwget\u001b[0m\u001b[0;34m(\u001b[0m\u001b[0mhost\u001b[0m\u001b[0;34m)\u001b[0m \u001b[0;32mfor\u001b[0m \u001b[0mhost\u001b[0m \u001b[0;32min\u001b[0m \u001b[0;34m[\u001b[0m\u001b[0;34m'www.sina.com.cn'\u001b[0m\u001b[0;34m,\u001b[0m \u001b[0;34m'www.sohu.com'\u001b[0m\u001b[0;34m,\u001b[0m \u001b[0;34m'www.163.com'\u001b[0m\u001b[0;34m]\u001b[0m\u001b[0;34m]\u001b[0m\u001b[0;34m\u001b[0m\u001b[0;34m\u001b[0m\u001b[0m\n\u001b[0;32m---> 25\u001b[0;31m \u001b[0mloop\u001b[0m\u001b[0;34m.\u001b[0m\u001b[0mrun_until_complete\u001b[0m\u001b[0;34m(\u001b[0m\u001b[0masyncio\u001b[0m\u001b[0;34m.\u001b[0m\u001b[0mwait\u001b[0m\u001b[0;34m(\u001b[0m\u001b[0mtasks\u001b[0m\u001b[0;34m)\u001b[0m\u001b[0;34m)\u001b[0m\u001b[0;34m\u001b[0m\u001b[0;34m\u001b[0m\u001b[0m\n\u001b[0m\u001b[1;32m     26\u001b[0m \u001b[0mloop\u001b[0m\u001b[0;34m.\u001b[0m\u001b[0mclose\u001b[0m\u001b[0;34m(\u001b[0m\u001b[0;34m)\u001b[0m\u001b[0;34m\u001b[0m\u001b[0;34m\u001b[0m\u001b[0m\n",
      "\u001b[0;32m~/anaconda3/lib/python3.8/asyncio/base_events.py\u001b[0m in \u001b[0;36mrun_until_complete\u001b[0;34m(self, future)\u001b[0m\n\u001b[1;32m    590\u001b[0m         \"\"\"\n\u001b[1;32m    591\u001b[0m         \u001b[0mself\u001b[0m\u001b[0;34m.\u001b[0m\u001b[0m_check_closed\u001b[0m\u001b[0;34m(\u001b[0m\u001b[0;34m)\u001b[0m\u001b[0;34m\u001b[0m\u001b[0;34m\u001b[0m\u001b[0m\n\u001b[0;32m--> 592\u001b[0;31m         \u001b[0mself\u001b[0m\u001b[0;34m.\u001b[0m\u001b[0m_check_running\u001b[0m\u001b[0;34m(\u001b[0m\u001b[0;34m)\u001b[0m\u001b[0;34m\u001b[0m\u001b[0;34m\u001b[0m\u001b[0m\n\u001b[0m\u001b[1;32m    593\u001b[0m \u001b[0;34m\u001b[0m\u001b[0m\n\u001b[1;32m    594\u001b[0m         \u001b[0mnew_task\u001b[0m \u001b[0;34m=\u001b[0m \u001b[0;32mnot\u001b[0m \u001b[0mfutures\u001b[0m\u001b[0;34m.\u001b[0m\u001b[0misfuture\u001b[0m\u001b[0;34m(\u001b[0m\u001b[0mfuture\u001b[0m\u001b[0;34m)\u001b[0m\u001b[0;34m\u001b[0m\u001b[0;34m\u001b[0m\u001b[0m\n",
      "\u001b[0;32m~/anaconda3/lib/python3.8/asyncio/base_events.py\u001b[0m in \u001b[0;36m_check_running\u001b[0;34m(self)\u001b[0m\n\u001b[1;32m    550\u001b[0m     \u001b[0;32mdef\u001b[0m \u001b[0m_check_running\u001b[0m\u001b[0;34m(\u001b[0m\u001b[0mself\u001b[0m\u001b[0;34m)\u001b[0m\u001b[0;34m:\u001b[0m\u001b[0;34m\u001b[0m\u001b[0;34m\u001b[0m\u001b[0m\n\u001b[1;32m    551\u001b[0m         \u001b[0;32mif\u001b[0m \u001b[0mself\u001b[0m\u001b[0;34m.\u001b[0m\u001b[0mis_running\u001b[0m\u001b[0;34m(\u001b[0m\u001b[0;34m)\u001b[0m\u001b[0;34m:\u001b[0m\u001b[0;34m\u001b[0m\u001b[0;34m\u001b[0m\u001b[0m\n\u001b[0;32m--> 552\u001b[0;31m             \u001b[0;32mraise\u001b[0m \u001b[0mRuntimeError\u001b[0m\u001b[0;34m(\u001b[0m\u001b[0;34m'This event loop is already running'\u001b[0m\u001b[0;34m)\u001b[0m\u001b[0;34m\u001b[0m\u001b[0;34m\u001b[0m\u001b[0m\n\u001b[0m\u001b[1;32m    553\u001b[0m         \u001b[0;32mif\u001b[0m \u001b[0mevents\u001b[0m\u001b[0;34m.\u001b[0m\u001b[0m_get_running_loop\u001b[0m\u001b[0;34m(\u001b[0m\u001b[0;34m)\u001b[0m \u001b[0;32mis\u001b[0m \u001b[0;32mnot\u001b[0m \u001b[0;32mNone\u001b[0m\u001b[0;34m:\u001b[0m\u001b[0;34m\u001b[0m\u001b[0;34m\u001b[0m\u001b[0m\n\u001b[1;32m    554\u001b[0m             raise RuntimeError(\n",
      "\u001b[0;31mRuntimeError\u001b[0m: This event loop is already running"
     ]
    }
   ],
   "source": [
    "# 用asyncio的异步网络连接来获取sina、sohu和163的网站首页\n",
    "import asyncio\n",
    "\n",
    "@asyncio.coroutine\n",
    "def wget(host):\n",
    "    print('wget %s...' % host)\n",
    "    connect = asyncio.open_connection(host, 80)\n",
    "    reader, writer = yield from connect\n",
    "    \n",
    "    header = 'GET / HTTP/1.0\\r\\nHost: %s\\r\\n\\r\\n' % host\n",
    "    writer.write(header.encode('utf-8'))\n",
    "    yield from writer.drain()\n",
    "    \n",
    "    while True:\n",
    "        line = yield from reader.readline()\n",
    "        \n",
    "        if line == b'\\r\\n':\n",
    "            break\n",
    "        print('%s header > %s' % (host, line.decode('utf-8').rstrip()))\n",
    "    # Ignore the body, close the socket\n",
    "    writer.close()\n",
    "\n",
    "loop = asyncio.get_event_loop()\n",
    "tasks = [wget(host) for host in ['www.sina.com.cn', 'www.sohu.com', 'www.163.com']]\n",
    "loop.run_until_complete(asyncio.wait(tasks))\n",
    "loop.close()"
   ]
  },
  {
   "cell_type": "markdown",
   "metadata": {},
   "source": [
    "### async/await 针对协程的语法糖\n",
    "为了简化并更好地标识异步IO，从Python 3.5开始引入了新的语法async和await，可以让coroutine的代码更简洁易读。\n",
    "\n",
    "请注意，async和await是针对coroutine的新语法，要使用新的语法，只需要做两步简单的替换：\n",
    "\n",
    "    1. 把@asyncio.coroutine替换为async；\n",
    "    2. 把yield from替换为await。\n",
    "\n",
    "对比代码：\n",
    "``` python\n",
    "@asyncio.coroutine\n",
    "def hello():\n",
    "    print(\"Hello world!\")\n",
    "    r = yield from asyncio.sleep(1)\n",
    "    print(\"Hello again!\")\n",
    "```\n",
    "\n",
    "用新语法重新编写如下：\n",
    "\n",
    "``` python\n",
    "async def hello():\n",
    "    print(\"Hello world!\")\n",
    "    r = await asyncio.sleep(1)\n",
    "    print(\"Hello again!\")\n",
    "```\n",
    "\n",
    "剩下的代码保持不变。"
   ]
  },
  {
   "cell_type": "code",
   "execution_count": 6,
   "metadata": {
    "collapsed": true
   },
   "outputs": [
    {
     "name": "stderr",
     "output_type": "stream",
     "text": [
      "<ipython-input-6-f4e46c863b21>:8: RuntimeWarning: coroutine 'f' was never awaited\n",
      "  coroutine_list = [f(i) for i in range(10)]\n",
      "RuntimeWarning: Enable tracemalloc to get the object allocation traceback\n"
     ]
    },
    {
     "ename": "RuntimeError",
     "evalue": "asyncio.run() cannot be called from a running event loop",
     "output_type": "error",
     "traceback": [
      "\u001b[0;31m---------------------------------------------------------------------------\u001b[0m",
      "\u001b[0;31mRuntimeError\u001b[0m                              Traceback (most recent call last)",
      "\u001b[0;32m<ipython-input-6-f4e46c863b21>\u001b[0m in \u001b[0;36m<module>\u001b[0;34m\u001b[0m\n\u001b[1;32m     19\u001b[0m \u001b[0;34m\u001b[0m\u001b[0m\n\u001b[1;32m     20\u001b[0m \u001b[0;31m# 以上代码等效于一句代码(python3.7以后新加的run方法):\u001b[0m\u001b[0;34m\u001b[0m\u001b[0;34m\u001b[0m\u001b[0;34m\u001b[0m\u001b[0m\n\u001b[0;32m---> 21\u001b[0;31m \u001b[0masyncio\u001b[0m\u001b[0;34m.\u001b[0m\u001b[0mrun\u001b[0m\u001b[0;34m(\u001b[0m\u001b[0mcoroutines\u001b[0m\u001b[0;34m)\u001b[0m\u001b[0;34m\u001b[0m\u001b[0;34m\u001b[0m\u001b[0m\n\u001b[0m",
      "\u001b[0;32m~/anaconda3/lib/python3.8/asyncio/runners.py\u001b[0m in \u001b[0;36mrun\u001b[0;34m(main, debug)\u001b[0m\n\u001b[1;32m     31\u001b[0m     \"\"\"\n\u001b[1;32m     32\u001b[0m     \u001b[0;32mif\u001b[0m \u001b[0mevents\u001b[0m\u001b[0;34m.\u001b[0m\u001b[0m_get_running_loop\u001b[0m\u001b[0;34m(\u001b[0m\u001b[0;34m)\u001b[0m \u001b[0;32mis\u001b[0m \u001b[0;32mnot\u001b[0m \u001b[0;32mNone\u001b[0m\u001b[0;34m:\u001b[0m\u001b[0;34m\u001b[0m\u001b[0;34m\u001b[0m\u001b[0m\n\u001b[0;32m---> 33\u001b[0;31m         raise RuntimeError(\n\u001b[0m\u001b[1;32m     34\u001b[0m             \"asyncio.run() cannot be called from a running event loop\")\n\u001b[1;32m     35\u001b[0m \u001b[0;34m\u001b[0m\u001b[0m\n",
      "\u001b[0;31mRuntimeError\u001b[0m: asyncio.run() cannot be called from a running event loop"
     ]
    }
   ],
   "source": [
    "import asyncio \n",
    "\n",
    "async def f(n):\n",
    "    await asyncio.sleep(1)\n",
    "    print(n)\n",
    "\n",
    "# 创建10个协程\n",
    "coroutine_list = [f(i) for i in range(10)]\n",
    "\n",
    "# 将多个协程放一个协程中\n",
    "coroutines = asyncio.wait(coroutines)\n",
    "\n",
    "# # 创建事件循环\n",
    "# loop = asyncio.get_event_loop()\n",
    "# # 将协程放到事件循环中\n",
    "# loop.run_until_complete(tasks)\n",
    "# # 关闭事件循环\n",
    "# loop.close()\n",
    "\n",
    "# 以上代码等效于一句代码(python3.7以后新加的run方法):\n",
    "asyncio.run(coroutines)"
   ]
  },
  {
   "cell_type": "markdown",
   "metadata": {},
   "source": [
    "### aiohttp 基于asyncio实现的HTTP框架\n",
    "asyncio实现了TCP、UDP、SSL等协议，aiohttp则是基于asyncio实现的HTTP框架。\n",
    "\n",
    "#### aiohttp 使用示例\n",
    "编写一个HTTP服务器，分别处理以下URL：\n",
    "\n",
    "* / - 返回首页```b'<h1>Index</h1>'```\n",
    "\n",
    "* /hello/{name} - 根据URL参数返回文本 ```hello, %s!```\n",
    "\n",
    "代码如下：  \n",
    "注意aiohttp的初始化函数init()也是一个coroutine，loop.create_server()则利用asyncio创建TCP服务"
   ]
  },
  {
   "cell_type": "code",
   "execution_count": 3,
   "metadata": {
    "collapsed": true
   },
   "outputs": [
    {
     "name": "stderr",
     "output_type": "stream",
     "text": [
      "/home/zrd/anaconda3/lib/python3.8/mimetypes.py:228: RuntimeWarning: coroutine 'wait' was never awaited\n",
      "  for suff in suffixes:\n",
      "RuntimeWarning: Enable tracemalloc to get the object allocation traceback\n"
     ]
    },
    {
     "ename": "RuntimeError",
     "evalue": "This event loop is already running",
     "output_type": "error",
     "traceback": [
      "\u001b[0;31m---------------------------------------------------------------------------\u001b[0m",
      "\u001b[0;31mRuntimeError\u001b[0m                              Traceback (most recent call last)",
      "\u001b[0;32m<ipython-input-3-08c0f096cb26>\u001b[0m in \u001b[0;36m<module>\u001b[0;34m\u001b[0m\n\u001b[1;32m     21\u001b[0m \u001b[0;34m\u001b[0m\u001b[0m\n\u001b[1;32m     22\u001b[0m \u001b[0mloop\u001b[0m \u001b[0;34m=\u001b[0m \u001b[0masyncio\u001b[0m\u001b[0;34m.\u001b[0m\u001b[0mget_event_loop\u001b[0m\u001b[0;34m(\u001b[0m\u001b[0;34m)\u001b[0m\u001b[0;34m\u001b[0m\u001b[0;34m\u001b[0m\u001b[0m\n\u001b[0;32m---> 23\u001b[0;31m \u001b[0mloop\u001b[0m\u001b[0;34m.\u001b[0m\u001b[0mrun_until_complete\u001b[0m\u001b[0;34m(\u001b[0m\u001b[0minit\u001b[0m\u001b[0;34m(\u001b[0m\u001b[0mloop\u001b[0m\u001b[0;34m)\u001b[0m\u001b[0;34m)\u001b[0m\u001b[0;34m\u001b[0m\u001b[0;34m\u001b[0m\u001b[0m\n\u001b[0m\u001b[1;32m     24\u001b[0m \u001b[0mloop\u001b[0m\u001b[0;34m.\u001b[0m\u001b[0mrun_forever\u001b[0m\u001b[0;34m(\u001b[0m\u001b[0;34m)\u001b[0m\u001b[0;34m\u001b[0m\u001b[0;34m\u001b[0m\u001b[0m\n",
      "\u001b[0;32m~/anaconda3/lib/python3.8/asyncio/base_events.py\u001b[0m in \u001b[0;36mrun_until_complete\u001b[0;34m(self, future)\u001b[0m\n\u001b[1;32m    590\u001b[0m         \"\"\"\n\u001b[1;32m    591\u001b[0m         \u001b[0mself\u001b[0m\u001b[0;34m.\u001b[0m\u001b[0m_check_closed\u001b[0m\u001b[0;34m(\u001b[0m\u001b[0;34m)\u001b[0m\u001b[0;34m\u001b[0m\u001b[0;34m\u001b[0m\u001b[0m\n\u001b[0;32m--> 592\u001b[0;31m         \u001b[0mself\u001b[0m\u001b[0;34m.\u001b[0m\u001b[0m_check_running\u001b[0m\u001b[0;34m(\u001b[0m\u001b[0;34m)\u001b[0m\u001b[0;34m\u001b[0m\u001b[0;34m\u001b[0m\u001b[0m\n\u001b[0m\u001b[1;32m    593\u001b[0m \u001b[0;34m\u001b[0m\u001b[0m\n\u001b[1;32m    594\u001b[0m         \u001b[0mnew_task\u001b[0m \u001b[0;34m=\u001b[0m \u001b[0;32mnot\u001b[0m \u001b[0mfutures\u001b[0m\u001b[0;34m.\u001b[0m\u001b[0misfuture\u001b[0m\u001b[0;34m(\u001b[0m\u001b[0mfuture\u001b[0m\u001b[0;34m)\u001b[0m\u001b[0;34m\u001b[0m\u001b[0;34m\u001b[0m\u001b[0m\n",
      "\u001b[0;32m~/anaconda3/lib/python3.8/asyncio/base_events.py\u001b[0m in \u001b[0;36m_check_running\u001b[0;34m(self)\u001b[0m\n\u001b[1;32m    550\u001b[0m     \u001b[0;32mdef\u001b[0m \u001b[0m_check_running\u001b[0m\u001b[0;34m(\u001b[0m\u001b[0mself\u001b[0m\u001b[0;34m)\u001b[0m\u001b[0;34m:\u001b[0m\u001b[0;34m\u001b[0m\u001b[0;34m\u001b[0m\u001b[0m\n\u001b[1;32m    551\u001b[0m         \u001b[0;32mif\u001b[0m \u001b[0mself\u001b[0m\u001b[0;34m.\u001b[0m\u001b[0mis_running\u001b[0m\u001b[0;34m(\u001b[0m\u001b[0;34m)\u001b[0m\u001b[0;34m:\u001b[0m\u001b[0;34m\u001b[0m\u001b[0;34m\u001b[0m\u001b[0m\n\u001b[0;32m--> 552\u001b[0;31m             \u001b[0;32mraise\u001b[0m \u001b[0mRuntimeError\u001b[0m\u001b[0;34m(\u001b[0m\u001b[0;34m'This event loop is already running'\u001b[0m\u001b[0;34m)\u001b[0m\u001b[0;34m\u001b[0m\u001b[0;34m\u001b[0m\u001b[0m\n\u001b[0m\u001b[1;32m    553\u001b[0m         \u001b[0;32mif\u001b[0m \u001b[0mevents\u001b[0m\u001b[0;34m.\u001b[0m\u001b[0m_get_running_loop\u001b[0m\u001b[0;34m(\u001b[0m\u001b[0;34m)\u001b[0m \u001b[0;32mis\u001b[0m \u001b[0;32mnot\u001b[0m \u001b[0;32mNone\u001b[0m\u001b[0;34m:\u001b[0m\u001b[0;34m\u001b[0m\u001b[0;34m\u001b[0m\u001b[0m\n\u001b[1;32m    554\u001b[0m             raise RuntimeError(\n",
      "\u001b[0;31mRuntimeError\u001b[0m: This event loop is already running"
     ]
    }
   ],
   "source": [
    "import asyncio\n",
    "\n",
    "from aiohttp import web\n",
    "\n",
    "async def index(request):\n",
    "    await asyncio.sleep(0.5)\n",
    "    return web.Response(body=b'<h1>Index</h1>')\n",
    "\n",
    "async def hello(request):\n",
    "    await asyncio.sleep(0.5)\n",
    "    text = '<h1>hello, %s!</h1>' % request.match_info['name']\n",
    "    return web.Response(body=text.encode('utf-8'))\n",
    "\n",
    "async def init(loop):\n",
    "    app = web.Application(loop=loop)\n",
    "    app.router.add_route('GET', '/', index)\n",
    "    app.router.add_route('GET', '/hello/{name}', hello)\n",
    "    srv = await loop.create_server(app.make_handler(), '127.0.0.1', 8000)\n",
    "    print('Server started at http://127.0.0.1:8000...')\n",
    "    return srv\n",
    "\n",
    "loop = asyncio.get_event_loop()\n",
    "loop.run_until_complete(init(loop))\n",
    "loop.run_forever()"
   ]
  },
  {
   "cell_type": "markdown",
   "metadata": {},
   "source": [
    "# 进程、线程与协程的比较\n",
    "https://blog.csdn.net/blateyang/article/details/78088851"
   ]
  },
  {
   "cell_type": "markdown",
   "metadata": {},
   "source": [
    "# package和import"
   ]
  },
  {
   "cell_type": "markdown",
   "metadata": {},
   "source": [
    "如果一个目录下包含一个__init__.py的话（即使这个文件是空的），那么这个目录就是一个package"
   ]
  },
  {
   "cell_type": "markdown",
   "metadata": {},
   "source": [
    "# 综合示例"
   ]
  },
  {
   "cell_type": "markdown",
   "metadata": {},
   "source": [
    "### 给定一个目录，计算该目录极其字目录下所有文件的总大小"
   ]
  },
  {
   "cell_type": "markdown",
   "metadata": {},
   "source": [
    "#### 1. 基础版本（递归）"
   ]
  },
  {
   "cell_type": "code",
   "execution_count": 9,
   "metadata": {
    "collapsed": true
   },
   "outputs": [
    {
     "name": "stdout",
     "output_type": "stream",
     "text": [
      "16\n",
      "6094089\n"
     ]
    }
   ],
   "source": [
    "# 基础版本\n",
    "# 仅仅使用递归实现\n",
    "import os\n",
    "def dir_size1(pathStr):\n",
    "    # 如果是文件则直接返回大小\n",
    "    if os.path.isfile(pathStr):\n",
    "        return os.path.getsize(pathStr)\n",
    "    # 读取目录下的文件或子目录\n",
    "    dirlist = os.listdir(pathStr)\n",
    "    # 遍历所有内容,计算大小\n",
    "    allsize = 0\n",
    "    for i in dirlist:\n",
    "        # 为遍历的文件添加目录\n",
    "        file = os.path.join(pathStr,i)\n",
    "        # 判断是否是文件\n",
    "        if os.path.isfile(file):\n",
    "            m = os.path.getsize(file)\n",
    "            allsize += m\n",
    "        # 判断是否是目录\n",
    "        if os.path.isdir(file):\n",
    "            # 递归调用自己\n",
    "            allsize += dir_size1(file)\n",
    "    return allsize\n",
    "\n",
    "print(dir_size1('./test.txt'))\n",
    "print(dir_size1('./人工智能工程师课程'))"
   ]
  },
  {
   "cell_type": "markdown",
   "metadata": {},
   "source": [
    "#### 2. 列表推导式版本（列表推导式+递归）"
   ]
  },
  {
   "cell_type": "code",
   "execution_count": null,
   "metadata": {},
   "outputs": [],
   "source": [
    "def dir_size2(pathStr):\n",
    "    return"
   ]
  },
  {
   "cell_type": "markdown",
   "metadata": {},
   "source": [
    "#### 3. 列表推导式浓缩版本（列表推导式+递归 浓缩成一句）"
   ]
  },
  {
   "cell_type": "code",
   "execution_count": null,
   "metadata": {},
   "outputs": [],
   "source": [
    "def dir_size3(pathStr):\n",
    "    return"
   ]
  },
  {
   "cell_type": "markdown",
   "metadata": {},
   "source": [
    "#### 4. map,filter版本 （map+filter+递归）"
   ]
  },
  {
   "cell_type": "code",
   "execution_count": 12,
   "metadata": {},
   "outputs": [],
   "source": [
    "def dir_size4(pathStr):\n",
    "    return"
   ]
  },
  {
   "cell_type": "markdown",
   "metadata": {},
   "source": [
    "#### 5. 多线程递归版本 （多线程+递归）"
   ]
  },
  {
   "cell_type": "code",
   "execution_count": 13,
   "metadata": {},
   "outputs": [],
   "source": [
    "def dir_size5(pathStr):\n",
    "    return"
   ]
  },
  {
   "cell_type": "markdown",
   "metadata": {},
   "source": [
    "#### 6. walk版本 （walk）"
   ]
  },
  {
   "cell_type": "code",
   "execution_count": 14,
   "metadata": {},
   "outputs": [],
   "source": [
    "def dir_size6(pathStr):\n",
    "    return"
   ]
  }
 ],
 "metadata": {
  "kernelspec": {
   "display_name": "Python 3",
   "language": "python",
   "name": "python3"
  },
  "language_info": {
   "codemirror_mode": {
    "name": "ipython",
    "version": 3
   },
   "file_extension": ".py",
   "mimetype": "text/x-python",
   "name": "python",
   "nbconvert_exporter": "python",
   "pygments_lexer": "ipython3",
   "version": "3.7.9"
  },
  "toc": {
   "base_numbering": 1,
   "nav_menu": {},
   "number_sections": true,
   "sideBar": true,
   "skip_h1_title": false,
   "title_cell": "Table of Contents",
   "title_sidebar": "Contents",
   "toc_cell": false,
   "toc_position": {
    "height": "calc(100% - 180px)",
    "left": "10px",
    "top": "150px",
    "width": "295.683px"
   },
   "toc_section_display": true,
   "toc_window_display": true
  }
 },
 "nbformat": 4,
 "nbformat_minor": 2
}
