{
 "cells": [
  {
   "cell_type": "markdown",
   "metadata": {},
   "source": [
    "# 类"
   ]
  },
  {
   "cell_type": "markdown",
   "metadata": {
    "heading_collapsed": true
   },
   "source": [
    "## 四种作用域"
   ]
  },
  {
   "cell_type": "markdown",
   "metadata": {
    "hidden": true
   },
   "source": [
    "### Built-in"
   ]
  },
  {
   "cell_type": "markdown",
   "metadata": {
    "hidden": true
   },
   "source": [
    "### Global"
   ]
  },
  {
   "cell_type": "markdown",
   "metadata": {
    "hidden": true
   },
   "source": [
    "### Enclosing"
   ]
  },
  {
   "cell_type": "markdown",
   "metadata": {
    "hidden": true
   },
   "source": [
    "### Local"
   ]
  },
  {
   "cell_type": "markdown",
   "metadata": {},
   "source": [
    "## 类与对象"
   ]
  },
  {
   "cell_type": "markdown",
   "metadata": {},
   "source": [
    "### 重要概念及代码示例"
   ]
  },
  {
   "cell_type": "markdown",
   "metadata": {},
   "source": [
    "* 类变量：类变量在整个实例化的对象中是公用的。类变量定义在类中且在函数体之外。类变量通常不作为实例变量使用。\n",
    "* 局部变量：定义在方法中的变量，只作用于当前实例的类。\n",
    "* 实例变量：在类的声明中，属性是用变量来表示的，这种变量就称为实例变量，实例变量就是一个用 self 修饰的变量。\n",
    "\n",
    "* 继承：即一个派生类（derived class）继承基类（base class）的字段和方法。继承也允许把一个派生类的对象作为一个基类对象对待。\n",
    "* 多继承\n",
    "* 方法重写：如果从父类继承的方法不能满足子类的需求，可以对其进行改写，这个过程叫方法的覆盖（override），也称为方法的重写。\n",
    "* 类的私有属性与私有方法\n",
    "* 类的专有方法 （魔术方法）\n",
    "    * 构造函数与解析函数\n",
    "        * \\_\\_init\\_\\_ : 构造函数，在生成对象时调用\n",
    "        * \\_\\_del\\_\\_ : 析构函数，释放对象时使用\n",
    "    * 运算符重载\n",
    "        * \\_\\_add\\_\\_: 加运算\n",
    "        * \\_\\_sub\\_\\_: 减运算\n",
    "        * \\_\\_mul\\_\\_: 乘运算\n",
    "        * \\_\\_truediv\\_\\_: 除运算\n",
    "        * \\_\\_mod\\_\\_: 求余运算\n",
    "        * \\_\\_pow\\_\\_: 乘方\n"
   ]
  },
  {
   "cell_type": "code",
   "execution_count": 42,
   "metadata": {},
   "outputs": [
    {
     "name": "stdout",
     "output_type": "stream",
     "text": [
      "皮特说:\n",
      "我叫皮特\n",
      "性别男\n",
      "今年5岁\n",
      "-------------------\n",
      "Mary speak:\n",
      "My name is Mary\n",
      "I'm female\n",
      "I'm 9 years old\n",
      "-------------------\n",
      "匿名说:\n",
      "我叫匿名\n",
      "性别女\n",
      "今年18岁\n",
      "-------------------\n",
      "匿名说:\n",
      "\n",
      "-------------------\n",
      "匿名说:\n",
      "\n",
      "-------------------\n",
      "匿名说:\n",
      "\n",
      "-------------------\n",
      "张三说:\n",
      "我叫张三\n",
      "性别男\n",
      "今年26岁\n",
      "我的妻子是李红\n",
      "我的孩子是皮特\n",
      "-------------------\n",
      "匿名说:\n",
      "我叫匿名\n",
      "性别男\n",
      "今年36岁\n",
      "我的妻子是匿名\n",
      "我的孩子是匿名\n",
      "-------------------\n"
     ]
    }
   ],
   "source": [
    "# 类的定义\n",
    "\n",
    "# 定义‘人’类\n",
    "class Person:\n",
    "    # 定义基本属性\n",
    "    name = 'name'\n",
    "    lan = 'lan'\n",
    "    # 定义私有属性,私有属性在类外部无法直接进行访问\n",
    "    __sex = 'sex'\n",
    "    __age = 1\n",
    "    \n",
    "    # 构造函数\n",
    "    def __init__(self, name='匿名', sex='女', age=18, lan='zh'):\n",
    "        self.name = name\n",
    "        self.lan = lan\n",
    "        self.__sex = sex\n",
    "        self.__age = age\n",
    "        \n",
    "    def speak(self, endline=True, who=True, *sentence): # *表示sentence是不定长参数，传过来后自动转为元组\n",
    "        if self.lan == 'zh' and who:\n",
    "            print(f'{self.name}说:')\n",
    "        elif who:\n",
    "            print(f'{self.name} speak:')\n",
    "        print(*sentence, sep='\\n')\n",
    "        if endline:\n",
    "            print('-------------------')\n",
    "    \n",
    "    def self_introduction(self, endline=True, who=True):\n",
    "        if self.lan == 'zh':\n",
    "            self.speak(endline,who,f'我叫{self.name}',\n",
    "                               f'性别{self.__sex}',\n",
    "                               f'今年{self.__age}岁')\n",
    "        else:\n",
    "            self.speak(endline,who,f'My name is {self.name}',\n",
    "                               f'I\\'m {self.__sex}',\n",
    "                               f'I\\'m {self.__age} years old')\n",
    "        \n",
    "        \n",
    "# 定义 Father 类，父类为 Person 类\n",
    "class Father(Person):\n",
    "    wife = None\n",
    "    child = None\n",
    "    \n",
    "    # 构造函数\n",
    "    def __init__(self, name='匿名', age=36, lan='zh', wife=Person(sex='女'), child=Person()):\n",
    "        # 调用父类的构造函数\n",
    "        Person.__init__(self, name,'男',age,lan) # 不要忘了这里也要加self，把子类的实例传过去\n",
    "        self.wife = wife\n",
    "        self.child = child\n",
    "              \n",
    "    # 重写父类的方法\n",
    "    def self_introduction(self, endline=True, who=True):\n",
    "        Person.self_introduction(self, False, who) # 子类无法调用父类的私有属性，只能通过父类间接赋值\n",
    "        if self.lan == 'zh':\n",
    "            self.speak(endline,False,\n",
    "                       f'我的妻子是{self.wife.name}',\n",
    "                       f'我的孩子是{self.child.name}')\n",
    "        else:\n",
    "            self.speak(endline,False,\n",
    "                       f'my wife is {self.wife.name}',\n",
    "                       f'my child is {self.child.name}')\n",
    "        \n",
    "        \n",
    "peter = Person('皮特','男',5)\n",
    "mary = Person('Mary','female',9,'en')\n",
    "annoy = Person()\n",
    "\n",
    "peter.self_introduction()\n",
    "mary.self_introduction()\n",
    "annoy.self_introduction()\n",
    "annoy.speak('我是谁？我来自哪里？我什么都不记得！')\n",
    "annoy.speak(857857857)\n",
    "annoy.speak([1,2,3,'a','b','c'])\n",
    "\n",
    "fa = Father(name='张三',age=26,wife=Person('李红','女',25), child=peter)\n",
    "fa.self_introduction()\n",
    "\n",
    "fa_ano = Father()\n",
    "fa_ano.self_introduction()"
   ]
  },
  {
   "cell_type": "markdown",
   "metadata": {},
   "source": [
    "## 错误与异常"
   ]
  }
 ],
 "metadata": {
  "kernelspec": {
   "display_name": "Python 3",
   "language": "python",
   "name": "python3"
  },
  "language_info": {
   "codemirror_mode": {
    "name": "ipython",
    "version": 3
   },
   "file_extension": ".py",
   "mimetype": "text/x-python",
   "name": "python",
   "nbconvert_exporter": "python",
   "pygments_lexer": "ipython3",
   "version": "3.7.9"
  },
  "toc": {
   "base_numbering": 1,
   "nav_menu": {},
   "number_sections": true,
   "sideBar": true,
   "skip_h1_title": false,
   "title_cell": "Table of Contents",
   "title_sidebar": "Contents",
   "toc_cell": false,
   "toc_position": {},
   "toc_section_display": true,
   "toc_window_display": true
  }
 },
 "nbformat": 4,
 "nbformat_minor": 2
}
