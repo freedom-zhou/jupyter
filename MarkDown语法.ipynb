{
 "cells": [
  {
   "cell_type": "markdown",
   "metadata": {},
   "source": [
    "# 简介"
   ]
  },
  {
   "cell_type": "markdown",
   "metadata": {},
   "source": [
    "* Markdown 是一种轻量级标记语言，它允许人们使用易读易写的纯文本格式编写文档。\n",
    "\n",
    "* Markdown 语言在 2004 由约翰·格鲁伯（英语：John Gruber）创建。\n",
    "\n",
    "* Markdown 编写的文档可以导出 HTML 、Word、图像、PDF、Epub 等多种格式的文档。\n",
    "\n",
    "* Markdown 编写的文档后缀为 .md, .markdown。"
   ]
  },
  {
   "cell_type": "markdown",
   "metadata": {},
   "source": [
    "# 标题"
   ]
  },
  {
   "cell_type": "markdown",
   "metadata": {},
   "source": [
    " `# 一级标题`  \n",
    " `## 二级标题`  \n",
    " `### 三级标题`  \n",
    " `#### 四级标题`  \n",
    " `##### 五级标题`  \n",
    " `###### 六级标题`"
   ]
  },
  {
   "cell_type": "markdown",
   "metadata": {},
   "source": [
    "# 段落、字体、格式"
   ]
  },
  {
   "cell_type": "markdown",
   "metadata": {},
   "source": [
    "## 换行 （两个以上的空格加回车）"
   ]
  },
  {
   "cell_type": "markdown",
   "metadata": {},
   "source": [
    "第一行  \n",
    "第二行"
   ]
  },
  {
   "cell_type": "markdown",
   "metadata": {},
   "source": [
    "## 开始新段落 （两个回车）"
   ]
  },
  {
   "cell_type": "markdown",
   "metadata": {},
   "source": [
    "第一段第一行  \n",
    "第一段第二行\n",
    "\n",
    "第二段第一行  \n",
    "第二段第二行"
   ]
  },
  {
   "cell_type": "markdown",
   "metadata": {},
   "source": [
    "## 字体：粗体、斜体、粗斜体、字体大小"
   ]
  },
  {
   "cell_type": "markdown",
   "metadata": {},
   "source": [
    "**粗体文本**  \n",
    "__粗体文本__  \n",
    "*斜体文本*  \n",
    "_斜体文本_  \n",
    "***粗斜体文本***  \n",
    "___粗斜体文本___\n",
    "\n",
    "普通字体大小  \n",
    "<font size=1>size=1 字体大小 </font>  \n",
    "<font size=2>size=2 字体大小 </font>  \n",
    "<font size=3>size=3 字体大小 </font>  \n",
    "<font size=5>size=5 字体大小 </font>  \n",
    "<small>small 字体大小 </small>  \n",
    "<big>big 字体大小 </big>  "
   ]
  },
  {
   "cell_type": "markdown",
   "metadata": {},
   "source": [
    "## 分隔线、下划线、删除线"
   ]
  },
  {
   "cell_type": "markdown",
   "metadata": {},
   "source": [
    "**分隔线**  \n",
    "在一行中用三个以上的星号、减号、底线来建立一个分隔线，行内不能有其他东西。你也可以在星号或是减号中间插入空格  \n",
    "星号  \n",
    "***\n",
    "减号  \n",
    "- - -\n",
    "底线  \n",
    "_ _ _\n",
    "\n",
    "**下划线**  \n",
    "<u>下划线</u>\n",
    "\n",
    "**删除线**  \n",
    "在文字的两端加上两个波浪线即可  \n",
    "~~删除线~~"
   ]
  },
  {
   "cell_type": "markdown",
   "metadata": {},
   "source": [
    "## 脚注"
   ]
  },
  {
   "cell_type": "markdown",
   "metadata": {},
   "source": [
    "脚注是对文本的补充说明  \n",
    "\n",
    "**定义脚注**  \n",
    " [^显示文本]: 补充说明  \n",
    "**调用脚注**  \n",
    "将鼠标移到此文本 -> [^显示文本]\n",
    "\n",
    "jupyter的Markdown似乎不支持脚注"
   ]
  },
  {
   "cell_type": "markdown",
   "metadata": {},
   "source": [
    "# 列表"
   ]
  },
  {
   "cell_type": "markdown",
   "metadata": {},
   "source": [
    "## 有序列表与无序列表"
   ]
  },
  {
   "cell_type": "markdown",
   "metadata": {},
   "source": [
    "**有序列表**  \n",
    "有序列表使用数字并加上 . 号来表示\n",
    "1. aaa\n",
    "2. bbb\n",
    "3. ccc\n",
    "\n",
    "**无序列表**  \n",
    "无序列表使用星号(*)、加号(+)或是减号(-)作为列表标记，这些标记后面要添加一个空格，然后再填写内容\n",
    "* ooo\n",
    "* ppp\n",
    "* qqq\n",
    "+ ooo\n",
    "+ ppp\n",
    "+ qqq\n",
    "- ooo\n",
    "- ppp\n",
    "- qqq"
   ]
  },
  {
   "cell_type": "markdown",
   "metadata": {},
   "source": [
    "## 嵌套列表"
   ]
  },
  {
   "cell_type": "markdown",
   "metadata": {},
   "source": [
    "列表嵌套只需在子列表中的选项前面添加四个空格即可  \n",
    "\n",
    "1. abc\n",
    "    * a\n",
    "    * b\n",
    "    * c\n",
    "2. xyz\n",
    "    - x\n",
    "    - y\n",
    "    - z"
   ]
  },
  {
   "cell_type": "markdown",
   "metadata": {},
   "source": [
    "# 区块  (使用> 符号) "
   ]
  },
  {
   "cell_type": "markdown",
   "metadata": {},
   "source": [
    "在段落开头使用 > 符号 ，然后后面紧跟一个空格符号  \n",
    "\n",
    "> aaa\n",
    "> bbb\n",
    "\n",
    "> ccc\n",
    "> ddd\n",
    "> eee\n",
    "\n",
    "**区块嵌套**\n",
    "> 外层  \n",
    "> 外层 \n",
    ">> 内层  \n",
    ">> 内层  \n",
    ">> 内层  "
   ]
  },
  {
   "cell_type": "markdown",
   "metadata": {},
   "source": [
    "# 代码  (使用`符号包裹) "
   ]
  },
  {
   "cell_type": "markdown",
   "metadata": {},
   "source": [
    "如果是段落上的一个函数或片段的代码可以用反引号把它包起来：  \n",
    "这是一段代码：`print('Hello MarkDown')`\n",
    "\n",
    "也可以用 三个反引号包裹一段代码，并指定一种语言（也可以不指定）  \n",
    "```javascript\n",
    "$(document).ready(function () {\n",
    "    alert('RUNOOB');\n",
    "});\n",
    "```\n",
    "\n",
    "```python\n",
    "print('RUNOOB')\n",
    "```"
   ]
  },
  {
   "cell_type": "markdown",
   "metadata": {},
   "source": [
    "# 链接"
   ]
  },
  {
   "cell_type": "markdown",
   "metadata": {},
   "source": [
    "```\n",
    "链接使用方法如下：  \n",
    "[链接名称](链接地址)\n",
    "\n",
    "或者  \n",
    "<链接地址>\n",
    "```\n",
    "\n",
    "例如：  \n",
    "这是一个链接： [菜鸟教程](https://www.runoob.com)  \n",
    "这是一个链接： <https://www.runoob.com>  \n",
    "\n",
    "[菜鸟教程]\n",
    "\n",
    "https://www.runoob.com  "
   ]
  },
  {
   "cell_type": "markdown",
   "metadata": {},
   "source": [
    "# 图片"
   ]
  },
  {
   "cell_type": "markdown",
   "metadata": {},
   "source": [
    "Markdown 图片语法格式如下：  \n",
    "```\n",
    "![alt 属性文本](图片地址)\n",
    "\n",
    "![alt 属性文本](图片地址 \"可选标题\")\n",
    "\n",
    "*开头一个感叹号 !\n",
    "*接着一个方括号，里面放上图片的替代文字\n",
    "*接着一个普通括号，里面放上图片的网址，最后还可以用引号包住并加上选择性的 'title' 属性的文字。\n",
    "```\n",
    "\n",
    "使用实例：\n",
    "![RUNOOB 图标](http://static.runoob.com/images/runoob-logo.png)\n",
    "\n",
    "![RUNOOB 图标](http://static.runoob.com/images/runoob-logo.png \"RUNOOB\")\n",
    "\n",
    "![RUNOOB 图标](http://static.runoob.com/images/runoob-logo1.png)\n",
    "\n",
    "![RUNOOB 图标](http://static.runoob.com/images/runoob-logo1.png \"RUNOOB\")"
   ]
  },
  {
   "cell_type": "markdown",
   "metadata": {},
   "source": [
    "# 表格"
   ]
  },
  {
   "cell_type": "markdown",
   "metadata": {},
   "source": [
    "Markdown 制作表格使用 | 来分隔不同的单元格，使用 - 来分隔表头和其他行。\n",
    "\n",
    "语法格式如下：  \n",
    "```\n",
    "|表头|表头|\n",
    "|----|----|\n",
    "|单元格|单元格|\n",
    "|单元格|单元格|\n",
    "```\n",
    "\n",
    "以上代码显示结果如下：  "
   ]
  },
  {
   "cell_type": "markdown",
   "metadata": {},
   "source": [
    "|表头|表头|\n",
    "|----|----|\n",
    "|单元格|单元格|\n",
    "|单元格|单元格|"
   ]
  },
  {
   "cell_type": "markdown",
   "metadata": {},
   "source": [
    "## 对齐方式"
   ]
  },
  {
   "cell_type": "markdown",
   "metadata": {},
   "source": [
    "**我们可以设置表格的对齐方式：**  \n",
    "* -: 设置内容和标题栏居右对齐。\n",
    "* :- 设置内容和标题栏居左对齐。\n",
    "* :-: 设置内容和标题栏居中对齐。\n",
    "\n",
    "实例如下：  \n",
    "```\n",
    "|左对齐|右对齐| 居中对齐|\n",
    "|:-----|----: | :----: |\n",
    "|单元格|单元格| 单元格 |\n",
    "|单元格|单元格| 单元格 |\n",
    "|啦啦啦啦啦啦啦啦|啦啦啦啦啦啦啦啦|啦啦啦啦啦啦啦啦|\n",
    "```\n",
    "\n",
    "以上代码显示结果如下：  \n"
   ]
  },
  {
   "cell_type": "markdown",
   "metadata": {},
   "source": [
    "|左对齐|右对齐| 居中对齐|\n",
    "|:-----|----: | :----: |\n",
    "|单元格|单元格| 单元格 |\n",
    "|单元格|单元格| 单元格 |\n",
    "|啦啦啦啦啦啦啦啦|啦啦啦啦啦啦啦啦|啦啦啦啦啦啦啦啦|"
   ]
  }
 ],
 "metadata": {
  "kernelspec": {
   "display_name": "Python 3",
   "language": "python",
   "name": "python3"
  },
  "language_info": {
   "codemirror_mode": {
    "name": "ipython",
    "version": 3
   },
   "file_extension": ".py",
   "mimetype": "text/x-python",
   "name": "python",
   "nbconvert_exporter": "python",
   "pygments_lexer": "ipython3",
   "version": "3.7.9"
  },
  "toc": {
   "base_numbering": 1,
   "nav_menu": {},
   "number_sections": true,
   "sideBar": true,
   "skip_h1_title": false,
   "title_cell": "Table of Contents",
   "title_sidebar": "Contents",
   "toc_cell": false,
   "toc_position": {
    "height": "calc(100% - 180px)",
    "left": "10px",
    "top": "150px",
    "width": "295.685px"
   },
   "toc_section_display": true,
   "toc_window_display": true
  }
 },
 "nbformat": 4,
 "nbformat_minor": 4
}
