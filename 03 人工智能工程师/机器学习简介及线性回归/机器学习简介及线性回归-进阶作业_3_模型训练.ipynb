{
 "cells": [
  {
   "cell_type": "markdown",
   "metadata": {},
   "source": [
    "# 共享单车数据集上的线性回归分析"
   ]
  },
  {
   "cell_type": "markdown",
   "metadata": {},
   "source": [
    "## 导入必要的工具包"
   ]
  },
  {
   "cell_type": "code",
   "execution_count": 1,
   "metadata": {},
   "outputs": [],
   "source": [
    "import numpy as np\n",
    "import pandas as pd\n",
    "from sklearn.metrics import mean_squared_error\n",
    "from sklearn.metrics import r2_score\n",
    "from sklearn.linear_model import LinearRegression\n",
    "from sklearn.linear_model import RidgeCV\n",
    "from sklearn.linear_model import LassoCV\n",
    "from sklearn.preprocessing import MinMaxScaler\n",
    "from sklearn.model_selection import train_test_split"
   ]
  },
  {
   "cell_type": "markdown",
   "metadata": {},
   "source": [
    "## 读取数据并进行分割 (随机选择80%作为训练数据，剩下20%作为测试数据)"
   ]
  },
  {
   "cell_type": "code",
   "execution_count": 2,
   "metadata": {},
   "outputs": [
    {
     "name": "stdout",
     "output_type": "stream",
     "text": [
      "(584, 33) (147, 33)\n"
     ]
    }
   ],
   "source": [
    "# 从文件读取数据\n",
    "df = pd.read_csv('data/FE_day.csv')\n",
    "\n",
    "# 从做好特征工程的数据中分割出X，y\n",
    "X = df.drop(columns=['cnt','instant'])\n",
    "# X = df.drop(columns=['cnt'])\n",
    "y = df['cnt']\n",
    "\n",
    "# 进一步分割出训练集和校验集\n",
    "X_train, X_test, y_train, y_test = train_test_split(X, y, test_size=0.2, random_state=23)\n",
    "print(X_train.shape, X_test.shape)"
   ]
  },
  {
   "cell_type": "markdown",
   "metadata": {},
   "source": [
    "## 训练最小二乘线性回归"
   ]
  },
  {
   "cell_type": "code",
   "execution_count": 3,
   "metadata": {},
   "outputs": [],
   "source": [
    "# 创建实例\n",
    "lr = LinearRegression()\n",
    "\n",
    "# 训练模型\n",
    "lr.fit(X_train, y_train)\n",
    "\n",
    "# 分别在校验集和训练集上进行预测\n",
    "y_lr_test_pred = lr.predict(X_test)\n",
    "# y_lr_train_pred = lr.predict(X_train)"
   ]
  },
  {
   "cell_type": "markdown",
   "metadata": {},
   "source": [
    "## 训练岭回归和Lasso"
   ]
  },
  {
   "cell_type": "markdown",
   "metadata": {},
   "source": [
    "### 用默认alpha进行训练"
   ]
  },
  {
   "cell_type": "code",
   "execution_count": 4,
   "metadata": {},
   "outputs": [
    {
     "name": "stdout",
     "output_type": "stream",
     "text": [
      "1.0\n",
      "1.5146214263573146\n"
     ]
    }
   ],
   "source": [
    "# 创建实例\n",
    "rc = RidgeCV() # RidgeCV的alphas默认设为[ 0.1  1.  10. ]\n",
    "ls = LassoCV() # LassoCV的alphas默认设为None，模型会自动设置alpha\n",
    "\n",
    "# 训练模型\n",
    "rc.fit(X_train, y_train)\n",
    "ls.fit(X_train, y_train)\n",
    "\n",
    "# 输出拟合模型后得出的最优参数\n",
    "print(rc.alpha_)\n",
    "print(ls.alpha_)"
   ]
  },
  {
   "cell_type": "markdown",
   "metadata": {},
   "source": [
    "使用默认alphas参数，岭回归模型和Lasso模型得出的最优alpha分别是1.0和1.5，下一步则在它们附近进一步找更精确的值"
   ]
  },
  {
   "cell_type": "markdown",
   "metadata": {},
   "source": [
    "### 超参数alpha调优\n",
    "根据默认alphas参数得出的结果，在它们附近进一步找更精确的alpha值"
   ]
  },
  {
   "cell_type": "code",
   "execution_count": 5,
   "metadata": {},
   "outputs": [
    {
     "name": "stdout",
     "output_type": "stream",
     "text": [
      "RidgeCV调优后的alpha结果：0.987\n",
      "LassoCV调优后的alpha结果：1.543\n"
     ]
    }
   ],
   "source": [
    "# 将岭回归的alphas设在1.0附近\n",
    "rc_alphas = np.arange(0.5, 1.5, 0.001)\n",
    "# 将Lasso的alphas设在1.5附近\n",
    "ls_alphas = np.arange(1.0, 2.0, 0.001)\n",
    "\n",
    "# 创建实例\n",
    "rc = RidgeCV(alphas=rc_alphas, store_cv_values=True) # store_cv_values参数设为True时将保存每个alphas对应的一组误差到cv_values_属性中\n",
    "ls = LassoCV(alphas=ls_alphas)\n",
    "\n",
    "# 训练模型\n",
    "rc.fit(X_train, y_train)\n",
    "ls.fit(X_train, y_train)\n",
    "\n",
    "# 分别在校验集和训练集上进行预测\n",
    "y_rc_test_pred = rc.predict(X_test)\n",
    "# y_rc_train_pred = rc.predict(X_train)\n",
    "y_ls_test_pred = ls.predict(X_test)\n",
    "# y_ls_train_pred = ls.predict(X_train)\n",
    "\n",
    "print(f'RidgeCV调优后的alpha结果：{rc.alpha_:.3f}')\n",
    "print(f'LassoCV调优后的alpha结果：{ls.alpha_:.3f}')"
   ]
  },
  {
   "cell_type": "markdown",
   "metadata": {},
   "source": [
    "#### 可视化岭回归中不同alpha的误差"
   ]
  },
  {
   "cell_type": "code",
   "execution_count": 6,
   "metadata": {},
   "outputs": [
    {
     "data": {
      "text/plain": [
       "Text(0.8870000000000005, 599917.0369487497, 'optimal alpha: 0.987')"
      ]
     },
     "execution_count": 6,
     "metadata": {},
     "output_type": "execute_result"
    },
    {
     "data": {
      "image/png": "[encoded data removed]",
      "text/plain": [
       "<Figure size 360x360 with 1 Axes>"
      ]
     },
     "metadata": {
      "needs_background": "light"
     },
     "output_type": "display_data"
    }
   ],
   "source": [
    "import matplotlib.pyplot as plt\n",
    "%matplotlib inline\n",
    "\n",
    "# 画图\n",
    "errors = rc.cv_values_.mean(axis=0)\n",
    "plt.figure(figsize=(5,5))\n",
    "plt.grid(ls='--')\n",
    "plt.plot(rc_alphas, errors)\n",
    "\n",
    "\n",
    "# 标注最小alpha的位置\n",
    "min_error_idx = errors.argmin()\n",
    "optimal_alpha = rc_alphas[min_error_idx]\n",
    "min_error = errors[min_error_idx]\n",
    "# plt.text(optimal_alpha, min_error, f'alpha: {rc_alphas[min_error_idx]:.3f}')\n",
    "plt.annotate(f'optimal alpha: {optimal_alpha:.3f}', \n",
    "             xy=(optimal_alpha, min_error), \n",
    "             xytext=(optimal_alpha-0.1, min_error+300),\n",
    "             arrowprops=dict(facecolor='blue', shrink=0, width=0))"
   ]
  },
  {
   "cell_type": "code",
   "execution_count": 7,
   "metadata": {},
   "outputs": [
    {
     "data": {
      "text/plain": [
       "array([1200974.85666336, 1201039.24893512, 1201103.64413847])"
      ]
     },
     "execution_count": 7,
     "metadata": {},
     "output_type": "execute_result"
    }
   ],
   "source": [
    "rc.cv_values_[0,0:3]"
   ]
  },
  {
   "cell_type": "markdown",
   "metadata": {},
   "source": [
    "## 模型性能评估\n",
    "用RMSE对模型进行性能评估"
   ]
  },
  {
   "cell_type": "code",
   "execution_count": 8,
   "metadata": {},
   "outputs": [
    {
     "name": "stdout",
     "output_type": "stream",
     "text": [
      "最小二乘线性回归对应的RMSE为857.293\n",
      "岭回归对应的RMSE为855.053\n",
      "LASSO对应的RMSE为859.009\n"
     ]
    }
   ],
   "source": [
    "# 计算各个模型的RMSE\n",
    "rmse_lr = np.sqrt(mean_squared_error(y_test, y_lr_test_pred))\n",
    "rmse_rc = np.sqrt(mean_squared_error(y_test, y_rc_test_pred))\n",
    "rmse_ls = np.sqrt(mean_squared_error(y_test, y_ls_test_pred))\n",
    "\n",
    "print(f'最小二乘线性回归对应的RMSE为{rmse_lr:.3f}')\n",
    "print(f'岭回归对应的RMSE为{rmse_rc:.3f}')\n",
    "print(f'LASSO对应的RMSE为{rmse_ls:.3f}')"
   ]
  },
  {
   "cell_type": "markdown",
   "metadata": {},
   "source": [
    "对比三种模型得到的各个特征的系数"
   ]
  },
  {
   "cell_type": "code",
   "execution_count": 10,
   "metadata": {},
   "outputs": [
    {
     "data": {
      "text/html": [
       "<div>\n",
       "<style scoped>\n",
       "    .dataframe tbody tr th:only-of-type {\n",
       "        vertical-align: middle;\n",
       "    }\n",
       "\n",
       "    .dataframe tbody tr th {\n",
       "        vertical-align: top;\n",
       "    }\n",
       "\n",
       "    .dataframe thead th {\n",
       "        text-align: right;\n",
       "    }\n",
       "</style>\n",
       "<table border=\"1\" class=\"dataframe\">\n",
       "  <thead>\n",
       "    <tr style=\"text-align: right;\">\n",
       "      <th></th>\n",
       "      <th>column</th>\n",
       "      <th>lr_coef</th>\n",
       "      <th>rc_coef</th>\n",
       "      <th>ls_coef</th>\n",
       "    </tr>\n",
       "  </thead>\n",
       "  <tbody>\n",
       "    <tr>\n",
       "      <th>0</th>\n",
       "      <td>yr</td>\n",
       "      <td>2.053785e+03</td>\n",
       "      <td>2058.645163</td>\n",
       "      <td>2056.973815</td>\n",
       "    </tr>\n",
       "    <tr>\n",
       "      <th>1</th>\n",
       "      <td>season_1</td>\n",
       "      <td>-4.542393e+16</td>\n",
       "      <td>-958.614189</td>\n",
       "      <td>-1169.754693</td>\n",
       "    </tr>\n",
       "    <tr>\n",
       "      <th>2</th>\n",
       "      <td>season_2</td>\n",
       "      <td>-4.542393e+16</td>\n",
       "      <td>138.323349</td>\n",
       "      <td>0.000000</td>\n",
       "    </tr>\n",
       "    <tr>\n",
       "      <th>3</th>\n",
       "      <td>season_3</td>\n",
       "      <td>-4.542393e+16</td>\n",
       "      <td>86.315408</td>\n",
       "      <td>-54.961105</td>\n",
       "    </tr>\n",
       "    <tr>\n",
       "      <th>4</th>\n",
       "      <td>season_4</td>\n",
       "      <td>-4.542393e+16</td>\n",
       "      <td>733.975432</td>\n",
       "      <td>542.294062</td>\n",
       "    </tr>\n",
       "    <tr>\n",
       "      <th>5</th>\n",
       "      <td>mnth_1</td>\n",
       "      <td>-1.823947e+16</td>\n",
       "      <td>-319.821241</td>\n",
       "      <td>-166.992083</td>\n",
       "    </tr>\n",
       "    <tr>\n",
       "      <th>6</th>\n",
       "      <td>mnth_2</td>\n",
       "      <td>-1.823947e+16</td>\n",
       "      <td>-137.420627</td>\n",
       "      <td>-0.000000</td>\n",
       "    </tr>\n",
       "    <tr>\n",
       "      <th>7</th>\n",
       "      <td>mnth_3</td>\n",
       "      <td>-1.823947e+16</td>\n",
       "      <td>183.663785</td>\n",
       "      <td>226.256787</td>\n",
       "    </tr>\n",
       "    <tr>\n",
       "      <th>8</th>\n",
       "      <td>mnth_4</td>\n",
       "      <td>-1.823947e+16</td>\n",
       "      <td>17.661463</td>\n",
       "      <td>-0.000000</td>\n",
       "    </tr>\n",
       "    <tr>\n",
       "      <th>9</th>\n",
       "      <td>mnth_5</td>\n",
       "      <td>-1.823947e+16</td>\n",
       "      <td>289.506526</td>\n",
       "      <td>212.331202</td>\n",
       "    </tr>\n",
       "    <tr>\n",
       "      <th>10</th>\n",
       "      <td>mnth_6</td>\n",
       "      <td>-1.823947e+16</td>\n",
       "      <td>178.245855</td>\n",
       "      <td>46.166155</td>\n",
       "    </tr>\n",
       "    <tr>\n",
       "      <th>11</th>\n",
       "      <td>mnth_7</td>\n",
       "      <td>-1.823947e+16</td>\n",
       "      <td>-336.825142</td>\n",
       "      <td>-466.190690</td>\n",
       "    </tr>\n",
       "    <tr>\n",
       "      <th>12</th>\n",
       "      <td>mnth_8</td>\n",
       "      <td>-1.823947e+16</td>\n",
       "      <td>125.718031</td>\n",
       "      <td>0.000000</td>\n",
       "    </tr>\n",
       "    <tr>\n",
       "      <th>13</th>\n",
       "      <td>mnth_9</td>\n",
       "      <td>-1.823947e+16</td>\n",
       "      <td>697.464905</td>\n",
       "      <td>635.025890</td>\n",
       "    </tr>\n",
       "    <tr>\n",
       "      <th>14</th>\n",
       "      <td>mnth_10</td>\n",
       "      <td>-1.823947e+16</td>\n",
       "      <td>149.385841</td>\n",
       "      <td>167.251377</td>\n",
       "    </tr>\n",
       "    <tr>\n",
       "      <th>15</th>\n",
       "      <td>mnth_11</td>\n",
       "      <td>-1.823947e+16</td>\n",
       "      <td>-382.071224</td>\n",
       "      <td>-291.418262</td>\n",
       "    </tr>\n",
       "    <tr>\n",
       "      <th>16</th>\n",
       "      <td>mnth_12</td>\n",
       "      <td>-1.823947e+16</td>\n",
       "      <td>-465.508171</td>\n",
       "      <td>-348.224929</td>\n",
       "    </tr>\n",
       "    <tr>\n",
       "      <th>17</th>\n",
       "      <td>weathersit_1</td>\n",
       "      <td>-4.049715e+16</td>\n",
       "      <td>860.056963</td>\n",
       "      <td>518.176964</td>\n",
       "    </tr>\n",
       "    <tr>\n",
       "      <th>18</th>\n",
       "      <td>weathersit_2</td>\n",
       "      <td>-4.049715e+16</td>\n",
       "      <td>313.180766</td>\n",
       "      <td>-0.000000</td>\n",
       "    </tr>\n",
       "    <tr>\n",
       "      <th>19</th>\n",
       "      <td>weathersit_3</td>\n",
       "      <td>-4.049715e+16</td>\n",
       "      <td>-1173.237729</td>\n",
       "      <td>-1497.712180</td>\n",
       "    </tr>\n",
       "    <tr>\n",
       "      <th>20</th>\n",
       "      <td>weekday_0</td>\n",
       "      <td>9.651054e+15</td>\n",
       "      <td>-99.444479</td>\n",
       "      <td>-283.955791</td>\n",
       "    </tr>\n",
       "    <tr>\n",
       "      <th>21</th>\n",
       "      <td>weekday_1</td>\n",
       "      <td>3.766759e+16</td>\n",
       "      <td>-170.650754</td>\n",
       "      <td>-138.509538</td>\n",
       "    </tr>\n",
       "    <tr>\n",
       "      <th>22</th>\n",
       "      <td>weekday_2</td>\n",
       "      <td>3.766759e+16</td>\n",
       "      <td>-87.185003</td>\n",
       "      <td>-56.300294</td>\n",
       "    </tr>\n",
       "    <tr>\n",
       "      <th>23</th>\n",
       "      <td>weekday_3</td>\n",
       "      <td>3.766759e+16</td>\n",
       "      <td>-12.447451</td>\n",
       "      <td>0.000000</td>\n",
       "    </tr>\n",
       "    <tr>\n",
       "      <th>24</th>\n",
       "      <td>weekday_4</td>\n",
       "      <td>3.766759e+16</td>\n",
       "      <td>-11.309801</td>\n",
       "      <td>0.000000</td>\n",
       "    </tr>\n",
       "    <tr>\n",
       "      <th>25</th>\n",
       "      <td>weekday_5</td>\n",
       "      <td>3.766759e+16</td>\n",
       "      <td>16.224018</td>\n",
       "      <td>23.627144</td>\n",
       "    </tr>\n",
       "    <tr>\n",
       "      <th>26</th>\n",
       "      <td>weekday_6</td>\n",
       "      <td>9.651054e+15</td>\n",
       "      <td>364.813470</td>\n",
       "      <td>164.554837</td>\n",
       "    </tr>\n",
       "    <tr>\n",
       "      <th>27</th>\n",
       "      <td>temp</td>\n",
       "      <td>2.862395e+03</td>\n",
       "      <td>1805.193903</td>\n",
       "      <td>2710.168009</td>\n",
       "    </tr>\n",
       "    <tr>\n",
       "      <th>28</th>\n",
       "      <td>atemp</td>\n",
       "      <td>7.862455e+02</td>\n",
       "      <td>1534.930045</td>\n",
       "      <td>932.436858</td>\n",
       "    </tr>\n",
       "    <tr>\n",
       "      <th>29</th>\n",
       "      <td>hum</td>\n",
       "      <td>-1.552559e+03</td>\n",
       "      <td>-1307.067839</td>\n",
       "      <td>-1438.506903</td>\n",
       "    </tr>\n",
       "    <tr>\n",
       "      <th>30</th>\n",
       "      <td>windspeed</td>\n",
       "      <td>-1.351903e+03</td>\n",
       "      <td>-1213.545701</td>\n",
       "      <td>-1277.867098</td>\n",
       "    </tr>\n",
       "    <tr>\n",
       "      <th>31</th>\n",
       "      <td>holiday</td>\n",
       "      <td>-2.801653e+16</td>\n",
       "      <td>-516.389925</td>\n",
       "      <td>-733.192926</td>\n",
       "    </tr>\n",
       "    <tr>\n",
       "      <th>32</th>\n",
       "      <td>workingday</td>\n",
       "      <td>-2.801653e+16</td>\n",
       "      <td>251.020934</td>\n",
       "      <td>32.293462</td>\n",
       "    </tr>\n",
       "  </tbody>\n",
       "</table>\n",
       "</div>"
      ],
      "text/plain": [
       "          column       lr_coef      rc_coef      ls_coef\n",
       "0             yr  2.053785e+03  2058.645163  2056.973815\n",
       "1       season_1 -4.542393e+16  -958.614189 -1169.754693\n",
       "2       season_2 -4.542393e+16   138.323349     0.000000\n",
       "3       season_3 -4.542393e+16    86.315408   -54.961105\n",
       "4       season_4 -4.542393e+16   733.975432   542.294062\n",
       "5         mnth_1 -1.823947e+16  -319.821241  -166.992083\n",
       "6         mnth_2 -1.823947e+16  -137.420627    -0.000000\n",
       "7         mnth_3 -1.823947e+16   183.663785   226.256787\n",
       "8         mnth_4 -1.823947e+16    17.661463    -0.000000\n",
       "9         mnth_5 -1.823947e+16   289.506526   212.331202\n",
       "10        mnth_6 -1.823947e+16   178.245855    46.166155\n",
       "11        mnth_7 -1.823947e+16  -336.825142  -466.190690\n",
       "12        mnth_8 -1.823947e+16   125.718031     0.000000\n",
       "13        mnth_9 -1.823947e+16   697.464905   635.025890\n",
       "14       mnth_10 -1.823947e+16   149.385841   167.251377\n",
       "15       mnth_11 -1.823947e+16  -382.071224  -291.418262\n",
       "16       mnth_12 -1.823947e+16  -465.508171  -348.224929\n",
       "17  weathersit_1 -4.049715e+16   860.056963   518.176964\n",
       "18  weathersit_2 -4.049715e+16   313.180766    -0.000000\n",
       "19  weathersit_3 -4.049715e+16 -1173.237729 -1497.712180\n",
       "20     weekday_0  9.651054e+15   -99.444479  -283.955791\n",
       "21     weekday_1  3.766759e+16  -170.650754  -138.509538\n",
       "22     weekday_2  3.766759e+16   -87.185003   -56.300294\n",
       "23     weekday_3  3.766759e+16   -12.447451     0.000000\n",
       "24     weekday_4  3.766759e+16   -11.309801     0.000000\n",
       "25     weekday_5  3.766759e+16    16.224018    23.627144\n",
       "26     weekday_6  9.651054e+15   364.813470   164.554837\n",
       "27          temp  2.862395e+03  1805.193903  2710.168009\n",
       "28         atemp  7.862455e+02  1534.930045   932.436858\n",
       "29           hum -1.552559e+03 -1307.067839 -1438.506903\n",
       "30     windspeed -1.351903e+03 -1213.545701 -1277.867098\n",
       "31       holiday -2.801653e+16  -516.389925  -733.192926\n",
       "32    workingday -2.801653e+16   251.020934    32.293462"
      ]
     },
     "execution_count": 10,
     "metadata": {},
     "output_type": "execute_result"
    }
   ],
   "source": [
    "features_names = X.columns\n",
    "df_coef = pd.DataFrame(dict(column=features_names, lr_coef=lr.coef_, rc_coef=rc.coef_, ls_coef=ls.coef_))\n",
    "df_coef"
   ]
  },
  {
   "cell_type": "markdown",
   "metadata": {},
   "source": [
    "总结：从上面的结果可以看出岭回归算法在测试集上的表现最好，岭回归和lasso回归都对参数有正则，让参数的浮动范围变小，并且lasso还会起到筛选特征的作用，上面的特征系数很多都是0，但是负面的作用就是利用的特征少了，更适用于特征维数过多，需要过滤掉某些相关性弱的特征的情况。"
   ]
  }
 ],
 "metadata": {
  "kernelspec": {
   "display_name": "Python 3",
   "language": "python",
   "name": "python3"
  },
  "language_info": {
   "codemirror_mode": {
    "name": "ipython",
    "version": 3
   },
   "file_extension": ".py",
   "mimetype": "text/x-python",
   "name": "python",
   "nbconvert_exporter": "python",
   "pygments_lexer": "ipython3",
   "version": "3.7.9"
  },
  "toc": {
   "base_numbering": 1,
   "nav_menu": {},
   "number_sections": true,
   "sideBar": true,
   "skip_h1_title": false,
   "title_cell": "Table of Contents",
   "title_sidebar": "Contents",
   "toc_cell": false,
   "toc_position": {},
   "toc_section_display": true,
   "toc_window_display": true
  }
 },
 "nbformat": 4,
 "nbformat_minor": 2
}
