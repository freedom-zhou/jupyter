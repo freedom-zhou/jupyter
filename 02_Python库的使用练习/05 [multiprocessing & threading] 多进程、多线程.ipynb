{
 "cells": [
  {
   "cell_type": "markdown",
   "metadata": {},
   "source": [
    "# multiprocessing 多进程"
   ]
  },
  {
   "cell_type": "markdown",
   "metadata": {},
   "source": [
    "参考资料：https://blog.csdn.net/brucewong0516/article/details/85776194"
   ]
  },
  {
   "cell_type": "markdown",
   "metadata": {},
   "source": [
    "## Process 进程类"
   ]
  },
  {
   "cell_type": "markdown",
   "metadata": {},
   "source": [
    "### 简介"
   ]
  },
  {
   "cell_type": "markdown",
   "metadata": {},
   "source": [
    "#### Process的创建\n",
    "\n",
    "```\n",
    " Process(group=None, target=None, name=None, args=(), kwargs={}, *, daemon=None)\n",
    "```\n",
    "Process方法用来创建进程类的示例，Process类使用方式与Threading类似，可以实现多进程的创建，启动，关闭等操作。  \n",
    "一般需要传入target（目标函数），args（函数的参数）\n",
    "\n",
    "#### Process类的属性和方法\n",
    "1、run（）\n",
    "       表示进程运行的方法。可以在子类中重写此方法。标准run() 方法调用传递给对象构造函数的可调用对象作为目标参数（如果有），分别使用args和kwargs参数中的顺序和关键字参数。\n",
    "\n",
    "2、start（）\n",
    "       进程准备就绪，等待CPU调度。\n",
    "\n",
    "3、join（[timeout] ）\n",
    "       如果可选参数timeout是None，则该方法将阻塞，直到join()调用其方法的进程终止。如果timeout是一个正数，它最多会阻塞timeout秒。请注意，None如果方法的进程终止或方法超时，则返回该方法。检查进程exitcode以确定它是否终止。\n",
    "\n",
    "4、name\n",
    "       进程的名称。该名称是一个字符串，仅用于识别目的。\n",
    "\n",
    "5、is_alive（）\n",
    "       返回进程是否存活。从start() 方法返回到子进程终止的那一刻，进程对象仍处于活动状态。\n",
    "\n",
    "6、daemon\n",
    "       进程的守护进程标志，一个布尔值。必须在start()调用之前设置，当进程退出时，它会尝试终止其所有被设为守护进程的子进程，即设为守护进程的子进程会随主线程的结束而结束。\n",
    "\n",
    "7、pid\n",
    "       返回进程ID。在产生该过程之前，这将是 None。\n",
    "\n",
    "8、exitcode\n",
    "       子进程的退出代码。None 如果流程尚未终止，这将是负值, -N表示孩子被信号N终止。\n",
    "\n",
    "**需要注意的是start()，join()，is_alive()， terminate()和exitcode方法只能由创建进程对象的过程调用。**"
   ]
  },
  {
   "cell_type": "markdown",
   "metadata": {},
   "source": [
    "### 示例\n",
    "**注意：在jupyter notebook中，即使一个代码块执行完了，主进程依然没有结束，所以以下代码的守护进程运行结果不符合预期，要想看到守护进程的效果需要去创建py文件用python执行**"
   ]
  },
  {
   "cell_type": "code",
   "execution_count": 13,
   "metadata": {},
   "outputs": [
    {
     "name": "stdout",
     "output_type": "stream",
     "text": [
      "主进程开始\n",
      "\n",
      "--------------------\n",
      "Parent process\n",
      "module name: __main__\n",
      "parent process: 4042\n",
      "process id: 4459\n",
      "--------------------\n",
      "\n",
      "p.daemon = True\n",
      "name: Process-15\n",
      "is_alive: True\n",
      "exitcode: None\n",
      "主进程退出\n",
      "\n",
      "--------------------\n",
      "Child process\n",
      "module name: __main__\n",
      "parent process: 4459\n",
      "process id: 10473\n",
      "--------------------\n",
      "\n",
      "hello bob\n"
     ]
    }
   ],
   "source": [
    "from multiprocessing import Process\n",
    "import time\n",
    "import os\n",
    "\n",
    "def info(inf=None):\n",
    "    print('-'*20)\n",
    "    if inf: print(inf)\n",
    "    print('module name:', __name__)\n",
    "    print('parent process:', os.getppid())\n",
    "    print('process id:', os.getpid())\n",
    "    print('-'*20+'\\n')\n",
    "\n",
    "def f(name):\n",
    "    info('Child process')\n",
    "    time.sleep(3)\n",
    "    print('hello', name)\n",
    "\n",
    "if __name__ == '__main__':\n",
    "    print('主进程开始\\n')\n",
    "    info('Parent process')\n",
    "    p = Process(target=f, args=('bob',))\n",
    "    p.daemon = True\n",
    "    print(\"p.daemon =\", p.daemon)\n",
    "    p.start()\n",
    "#     p.join(1)\n",
    "    print('name:', p.name)\n",
    "    print('is_alive:', p.is_alive())\n",
    "    print('exitcode:', p.exitcode)\n",
    "    print('主进程退出\\n')"
   ]
  },
  {
   "cell_type": "markdown",
   "metadata": {},
   "source": [
    "在上述逻辑中，子进程会休息3s然后再打印一句话才结束，同时设定join(1)阻塞1s，阻塞在1s后结束，因为我们并没有守护主进程，所以主进程结束后，子进程依然alive；  \n",
    "如果想要守护主进程，设定p.daemon = True:\n"
   ]
  },
  {
   "cell_type": "code",
   "execution_count": 7,
   "metadata": {},
   "outputs": [
    {
     "name": "stdout",
     "output_type": "stream",
     "text": [
      "--------------------\n",
      "Parent process\n",
      "module name: __main__\n",
      "parent process: 4042\n",
      "process id: 4459\n",
      "--------------------\n",
      "\n",
      "daemon: True\n",
      "name: Process-9\n",
      "is_alive: True\n",
      "exitcode: None\n",
      "--------------------\n",
      "Child process\n",
      "module name: __main__\n",
      "parent process: 4459\n",
      "process id: 10121\n",
      "--------------------\n",
      "\n",
      "hello bob\n"
     ]
    }
   ],
   "source": [
    "if __name__ == '__main__':\n",
    "    info('Parent process')\n",
    "    p = Process(target=f, args=('bob',))\n",
    "    p.daemon = True\n",
    "    print(\"daemon:\", p.daemon)\n",
    "    p.start()\n",
    "    # p.join(1)\n",
    "    print('name:', p.name)\n",
    "    print('is_alive:', p.is_alive())\n",
    "    print('exitcode:', p.exitcode)\n"
   ]
  },
  {
   "cell_type": "markdown",
   "metadata": {},
   "source": [
    "在上述逻辑中，子进程会休息3s然后再打印一句话才结束，我们的设定守护主进程，然后主进程结束后，打印的is_alive: True这句话其实是在主进程里运行的，所以此时子进程确实是alive，但是主进程结束后子进程也结束了，不会运行info() 函数"
   ]
  },
  {
   "cell_type": "markdown",
   "metadata": {},
   "source": [
    "## Pool 进程池\n",
    "### Pool类的定义  \n",
    "```python\n",
    "class multiprocessing.pool.Pool([processes[, initializer[, initargs[, maxtasksperchild[, context]]]]])\n",
    "```\n",
    "### 创建Pool类的实例：Pool方法\n",
    "Pool方法(multiprocess.Pool)用来创建一个线程池类（multiprocess.pool.Pool）的实例，processes为可同时运行的进程数,默认值为os.cpu_count()，最大不超过os.cpu_count()\n",
    "\n",
    "### Pool类的方法\n",
    "四种实现并发的方法\n",
    "\n",
    "|             | Multi-args | Concurrence | Blocking | Ordered-results |\n",
    "| ----------- | ---------- | ----------- | -------- | --------------- |\n",
    "| map         | no         | yes         | yes      | yes             |\n",
    "| apply       | yes        | no          | yes      | no              |\n",
    "| map_async   | no         | yes         | no       | yes             |\n",
    "| apply_async | yes        | yes         | no       | no              |\n",
    "\n",
    "map 和 map_async 入参为迭代器类型，可以批量调用。而apply和apply_async只能一个个调用。"
   ]
  },
  {
   "cell_type": "code",
   "execution_count": 6,
   "metadata": {},
   "outputs": [],
   "source": [
    "import os\n",
    "import time\n",
    "import random\n",
    "from multiprocess import Pool\n",
    "\n",
    "def f(name):\n",
    "#     start = time.time()\n",
    "    print('task %s (%s) start...\\n' % (name, os.getpid()))\n",
    "    t = random.randint(1,6) * 0.5\n",
    "    time.sleep(0.5)\n",
    "#     end = time.time()\n",
    "#     print('Task %s runs %0.2f seconds.\\n' % (name, (end - start)))\n",
    "    print('Task %s (%s) end\\n' % (name, os.getpid()))\n",
    "    return t"
   ]
  },
  {
   "cell_type": "markdown",
   "metadata": {},
   "source": [
    "#### map（func，iterable [，chunksize ] ）\n",
    "入参：迭代器类型，可批量调用  \n",
    "同步：子进程和父进程之间的运行方式为同步"
   ]
  },
  {
   "cell_type": "code",
   "execution_count": 20,
   "metadata": {
    "collapsed": true
   },
   "outputs": [
    {
     "name": "stdout",
     "output_type": "stream",
     "text": [
      "start\n",
      "task 0 (12588) start...\n",
      "task 2 (12592) start...\n",
      "task 1 (12589) start...\n",
      "task 3 (12590) start...\n",
      "\n",
      "\n",
      "Task 2 (12592) end\n",
      "Task 0 (12588) end\n",
      "\n",
      "\n",
      "\n",
      "task 4 (12592) start...\n",
      "\n",
      "Task 3 (12590) end\n",
      "\n",
      "Task 4 (12592) end\n",
      "Task 1 (12589) end\n",
      "task 5 (12588) start...\n",
      "\n",
      "\n",
      "\n",
      "\n",
      "Task 5 (12588) end\n",
      "task 6 (12589) start...\n",
      "task 7 (12590) start...\n",
      "\n",
      "\n",
      "Task 6 (12589) end\n",
      "Task 7 (12590) end\n",
      "\n",
      "\n",
      "task 9 (12590) start...\n",
      "\n",
      "Task 9 (12590) end\n",
      "\n",
      "task 8 (12592) start...\n",
      "\n",
      "\n",
      "Task 8 (12592) end\n",
      "\n",
      "父进程会等待子进程全部执行完才执行这一句\n",
      "result: [2.5, 1.5, 2.0, 2.5, 0.5, 1.5, 1.0, 0.5, 2.0, 1.0]\n",
      "end\n"
     ]
    }
   ],
   "source": [
    "print('start')\n",
    "\n",
    "with Pool() as p: # Pool类属于上下文管理器，可以用with as 自动分配和释放资源，并处理异常，若不用with，则需要手动close\n",
    "    results = p.map(f,range(10))\n",
    "    \n",
    "print('父进程会等待子进程全部执行完才执行这一句')\n",
    "print(\"results:\", results)\n",
    "print('end')"
   ]
  },
  {
   "cell_type": "markdown",
   "metadata": {},
   "source": [
    "#### map_async（func，iterable [，chunksize [，callback [，error_callback ] ] ] ）\n",
    "入参：迭代器类型，可批量调用  \n",
    "异步：子进程和父进程之间的运行方式为异步"
   ]
  },
  {
   "cell_type": "code",
   "execution_count": 7,
   "metadata": {},
   "outputs": [
    {
     "name": "stdout",
     "output_type": "stream",
     "text": [
      "start\n",
      "父进程不会等待子进程，而是继续向下执行，除非遇到get或join\n",
      "results: []\n",
      "end\n"
     ]
    }
   ],
   "source": [
    "print('start')\n",
    "\n",
    "results = []\n",
    "with Pool() as p: # Pool类属于上下文管理器，可以用with as 自动分配和释放资源，并处理异常，若不用with，则需要手动close\n",
    "    p.map_async(f,range(6), callback=lambda result: results.append(result), error_callback=lambda e: print(e))\n",
    "\n",
    "print('父进程不会等待子进程，而是继续向下执行，除非遇到get或join')\n",
    "\n",
    "# p.close()\n",
    "p.join()\n",
    "print(\"results:\", results)\n",
    "print('end')"
   ]
  },
  {
   "cell_type": "markdown",
   "metadata": {},
   "source": [
    "不知道为什么results为空，即使等待3秒"
   ]
  },
  {
   "cell_type": "markdown",
   "metadata": {},
   "source": [
    "#### apply（func [，args [，kwds ] ] ）"
   ]
  },
  {
   "cell_type": "code",
   "execution_count": 30,
   "metadata": {},
   "outputs": [
    {
     "name": "stdout",
     "output_type": "stream",
     "text": [
      "start\n",
      "task 0 (13395) start...\n",
      "\n",
      "Task 0 (13395) end\n",
      "\n",
      "task 1 (13396) start...\n",
      "\n",
      "Task 1 (13396) end\n",
      "\n",
      "task 2 (13397) start...\n",
      "\n",
      "Task 2 (13397) end\n",
      "\n",
      "task 3 (13398) start...\n",
      "\n",
      "Task 3 (13398) end\n",
      "\n",
      "task 4 (13395) start...\n",
      "\n",
      "Task 4 (13395) end\n",
      "\n",
      "task 5 (13396) start...\n",
      "\n",
      "Task 5 (13396) end\n",
      "\n",
      "父进程会等待子进程执行完才执行这一句\n",
      "results: [2.5, 2.5, 0.5, 1.0, 1.0, 2.5]\n",
      "end\n"
     ]
    }
   ],
   "source": [
    "print('start')\n",
    "\n",
    "results = []\n",
    "with Pool() as p: # Pool类属于上下文管理器，可以用with as 自动分配和释放资源，并处理异常，若不用with，则需要手动close\n",
    "    for i in range(6):\n",
    "        results.append(p.apply(f, (i,)))\n",
    "\n",
    "print('父进程会等待子进程执行完才执行这一句')\n",
    "print(\"results:\", results)\n",
    "print('end')"
   ]
  },
  {
   "cell_type": "markdown",
   "metadata": {},
   "source": [
    "#### apply_async（func [，args [，kwds [，callback [，error_callback ] ] ] ] ）\n",
    "返回值类型：multiprocess.pool.ApplyResult  \n",
    "若调用ApplyResult的get方法，则主进程会等待该子进程结束，并获取返回值"
   ]
  },
  {
   "cell_type": "code",
   "execution_count": null,
   "metadata": {},
   "outputs": [],
   "source": [
    "print('start')\n",
    "\n",
    "results = []\n",
    "with Pool() as p: # Pool类属于上下文管理器，可以用with as 自动分配和释放资源，并处理异常，若不用with，则需要手动close\n",
    "    for i in range(6):\n",
    "        \n",
    "        results.append(p.apply_async(f, (i,)))\n",
    "\n",
    "print('父进程不会等待子进程执行完才执行这一句')\n",
    "results = [result.get() for result in results]\n",
    "print(\"results:\", results)\n",
    "print('end')"
   ]
  },
  {
   "cell_type": "markdown",
   "metadata": {},
   "source": [
    "#### 综合示例"
   ]
  },
  {
   "cell_type": "code",
   "execution_count": 4,
   "metadata": {},
   "outputs": [
    {
     "name": "stdout",
     "output_type": "stream",
     "text": [
      "map1: 0.6431123587353627\n",
      "map2: 0.4834283782311871\n",
      "map3: 0.6391021467659649\n",
      "apply1: 1.2966714396835157\n",
      "apply2: 2.7892942116956077\n",
      "apply_async1: 1.7203026065434737\n",
      "apply_async2: 2.6153693817539683\n",
      "['map_async1: 0.033018377194001136', 'map_async2: 0.5901408106371339', 'map_async3: 0.33463786924357386']\n"
     ]
    }
   ],
   "source": [
    "import random\n",
    "from multiprocess import Pool\n",
    "\n",
    "pool = Pool(2)\n",
    "\n",
    "def worker(name='', num=0):\n",
    "    return f\"{name}: {random.random()+num}\"\n",
    "\n",
    "# map\n",
    "results = pool.map(worker, [\"map1\",\"map2\",\"map3\"])\n",
    "\n",
    "# apply\n",
    "for x, y in [[\"apply1\", 1], [\"apply2\", 2]]:\n",
    "    results.append(pool.apply(worker, (x, y)))\n",
    "\n",
    "def collect_result(result):\n",
    "    results.append(result)\n",
    "\n",
    "# map_async\n",
    "pool.map_async(worker, [\"map_async1\",\"map_async2\",\"map_async3\"], callback=collect_result)\n",
    "\n",
    "# apply_async\n",
    "for x, y in [[\"apply_async1\", 1], [\"apply_async2\", 2]]:\n",
    "    pool.apply_async(worker, (x, y), callback=collect_result)\n",
    "    \n",
    "pool.close()\n",
    "pool.join()\n",
    "\n",
    "print('\\n'.join([str(i) for i in results]))"
   ]
  },
  {
   "cell_type": "markdown",
   "metadata": {},
   "source": [
    "## Queue、Pipe 进程间通信"
   ]
  },
  {
   "cell_type": "markdown",
   "metadata": {},
   "source": [
    "### Queue的创建\n",
    "```\n",
    "queue = Queue(maxsize=0)\n",
    "```\n",
    "### Queue类的两个方法\n",
    "#### put() 放数据\n",
    "```\n",
    "put(obj, block=True, timeout=None)\n",
    "```\n",
    "block：是否阻塞  \n",
    "timeout：等待时间\n",
    "\n",
    "当block=True时，写入是阻塞式的，阻塞时间由timeout确定。  \n",
    "当队列queue被（其他线程）写满后，这段代码就会阻塞，直至其他线程取走数据。Queue.put（）方法加上 block=False 的参数，即可解决这个隐蔽的问题。  \n",
    "注意，若以非阻塞方式写队列，当队列满时会抛出 exception Queue.Full 的异常\n",
    "#### get() 取数据\n",
    "```\n",
    "get(block=True, timeout=None)\n",
    "```\n",
    "block：是否阻塞  \n",
    "timeout：等待时间\n"
   ]
  },
  {
   "cell_type": "markdown",
   "metadata": {},
   "source": [
    "### Queue使用示例"
   ]
  },
  {
   "cell_type": "code",
   "execution_count": 2,
   "metadata": {},
   "outputs": [
    {
     "name": "stdout",
     "output_type": "stream",
     "text": [
      "Process(6487) is writing...\n",
      "Process(6490) is writing...\n",
      "Process(6493) is reading...Put url_1 to queue...\n",
      "\n",
      "Put url_4 to queue...Get url_1 from queue.\n",
      "\n",
      "Get url_4 from queue.\n",
      "Put url_5 to queue...Get url_5 from queue.\n",
      "\n",
      "Put url_6 to queue...Get url_6 from queue.\n",
      "\n",
      "Put url_2 to queue...Get url_2 from queue.\n",
      "\n",
      "Put url_3 to queue...Get url_3 from queue.\n",
      "\n"
     ]
    }
   ],
   "source": [
    "from multiprocessing import Process, Queue\n",
    "import os, time, random\n",
    "\n",
    "# 写数据进程执行的代码:\n",
    "def write(q,urls):\n",
    "    print('Process(%s) is writing...' % os.getpid())\n",
    "    for url in urls:\n",
    "        q.put(url)\n",
    "        print('Put %s to queue...' % url)\n",
    "        time.sleep(random.random())\n",
    "        \n",
    "# 读数据进程执行的代码:\n",
    "def read(q):\n",
    "    print('Process(%s) is reading...' % os.getpid())\n",
    "    while True:\n",
    "        url = q.get(True)\n",
    "        print('Get %s from queue.' % url)\n",
    "        \n",
    "        \n",
    "if __name__=='__main__':\n",
    "    # 父进程创建Queue，并传给各个子进程：\n",
    "    q = Queue()\n",
    "    writer1 = Process(target=write, args=(q,['url_1', 'url_2', 'url_3']))\n",
    "    writer2 = Process(target=write, args=(q,['url_4','url_5','url_6']))\n",
    "    reader = Process(target=read, args=(q,))\n",
    "    \n",
    "    # 启动子进程writer，写入:\n",
    "    writer1.start()\n",
    "    writer2.start()\n",
    "    \n",
    "    # 启动子进程reader，读取:\n",
    "    reader.start()\n",
    "    \n",
    "    # 等待writer结束:\n",
    "    writer1.join()\n",
    "    writer2.join()\n",
    "    \n",
    "    # reader进程里是死循环，无法等待其结束，只能强行终止:\n",
    "    reader.terminate()"
   ]
  },
  {
   "cell_type": "markdown",
   "metadata": {},
   "source": [
    "### Pipe的使用\n",
    "Pipe()方法用于创建管道的两端，类型为```multiprocessing.connection.Connection```\n",
    "```\n",
    "connection1, connection2 = Pipe(duplex=True)\n",
    "```"
   ]
  },
  {
   "cell_type": "markdown",
   "metadata": {},
   "source": [
    "### Connection类的方法\n",
    "#### send() 发数据\n",
    "```\n",
    "send(obj)：  Send a (picklable) object\n",
    "```\n",
    "#### recv() 收数据\n",
    "```\n",
    "recv()：  Receive a (picklable) object\n",
    "```\n",
    "#### send_bytes() 发比特数据\n",
    "```\n",
    "send_bytes(buf, offset=0, size=None)：  Send the bytes data from a bytes-like object\n",
    "```\n",
    "#### recv_bytes() 收比特数据\n",
    "```\n",
    "recv_bytes(maxlength=None)：    Receive bytes data as a bytes object.\n",
    "```\n",
    "#### close() 关闭连接"
   ]
  },
  {
   "cell_type": "markdown",
   "metadata": {},
   "source": [
    "### Pipe使用示例\n",
    "管道是可以同时发送和接受消息的"
   ]
  },
  {
   "cell_type": "code",
   "execution_count": 24,
   "metadata": {},
   "outputs": [
    {
     "name": "stdout",
     "output_type": "stream",
     "text": [
      "talker got: {'aa', 'ss', 'pp', 'mm'}\n",
      "parent got: {'name': 'Bob', 'spam': 42}\n",
      "parent exit\n"
     ]
    }
   ],
   "source": [
    "from multiprocessing import Process, Pipe\n",
    "\n",
    "def talk(pipe):\n",
    "    pipe.send(dict(name='Bob', spam=42))            # 传输一个字典\n",
    "    reply = pipe.recv()                             # 接收传输的数据\n",
    "    print('talker got:', reply)\n",
    "\n",
    "if __name__ == '__main__':\n",
    "    (parentEnd, childEnd) = Pipe()                  # 创建两个 Pipe() 实例，也可以改成 conf1， conf2\n",
    "    child = Process(target=talk, args=(childEnd,))  # 创建一个 Process 进程，名称为 child\n",
    "    child.start()                                   # 启动进程\n",
    "    print('parent got:', parentEnd.recv())          # parentEnd 是一个 Pip() 管道，可以接收 child Process 进程传输的数据\n",
    "    parentEnd.send({x * 2 for x in 'spam'})         # parentEnd 是一个 Pip() 管道，可以使用 send 方法来传输数据\n",
    "    child.join()                                    # 传输的数据被 talk 函数内的 pip 管道接收，并赋值给 reply\n",
    "    print('parent exit')"
   ]
  },
  {
   "attachments": {
    "%E5%9B%BE%E7%89%87.png": {
     "image/png": "[encoded data removed]"
    }
   },
   "cell_type": "markdown",
   "metadata": {},
   "source": [
    "## Value 进程之间的共享变量\n",
    "### 创建Value\n",
    "```\n",
    "Value(typecode_or_type, *args, lock=True)\n",
    "```\n",
    "返回值：\n",
    "    该方法返回从共享内存中分配的一个ctypes对象  \n",
    "参数：  \n",
    "    typecode_or_type： 定义了返回的类型。它要么是一个ctypes类型，要么是一个代表ctypes类型的code  \n",
    "    *args：传递给ctypes的构造参数\n",
    "    \n",
    "拓展：\n",
    "ctypes是Python的一个外部函数库，它提供了和C语言兼容的数据类型，可以调用DLLs或者共享库的函数，能被用作在python中包裹这些库。  \n",
    "typecode 查阅下表：  \n",
    "\n",
    "| Type Code | C Type         | Python Type       |\n",
    "| --------- | -------------- | ----------------- |\n",
    "| \"c\"       | char           | character         |\n",
    "| \"b\"       | signed char    | int               |\n",
    "| \"B\"       | unsigned char  | int               |\n",
    "| \"u\"       | Py_UNICODE     | unicode character |\n",
    "| \"h\"       | signed short   | int               |\n",
    "| \"H\"       | unsigned short | int               |\n",
    "| \"i\"       | signed int     | int               |\n",
    "| \"I\"       | unsigned int   | int               |\n",
    "| \"l\"       | signed long    | int               |\n",
    "| \"L\"       | unsigned long  | int               |\n",
    "| \"f\"       | float          | float             |\n",
    "| \"d\"       | double         | float             |\n",
    "\n",
    "如果共享的是字符串，则在上表是找不到映射关系的，所以没有typecode可用。所以我们需要使用原始的ctype类型\n",
    "```\n",
    "from ctypes import c_char_p\n",
    "ss = Value(c_char_p, 'ss')\n",
    "```\n",
    "ctype类型查阅下表：  \n",
    "![%E5%9B%BE%E7%89%87.png](attachment:%E5%9B%BE%E7%89%87.png)"
   ]
  },
  {
   "cell_type": "markdown",
   "metadata": {},
   "source": [
    "### Value使用示例"
   ]
  },
  {
   "cell_type": "code",
   "execution_count": 2,
   "metadata": {},
   "outputs": [],
   "source": [
    "import time \n",
    "from multiprocessing import Process, Value\n",
    "from ctypes import c_int\n",
    "\n",
    "def target(v, num):\n",
    "    for _ in range(5):\n",
    "        time.sleep(0.1)\n",
    "        v.value += num\n",
    "        print(v.value, end=', ')\n",
    "        \n",
    "# v = Value('i',0)  # 用typecode创建Value\n",
    "v = Value(c_int,0)  # 用ctype创建Value\n",
    "p1 = Process(target=target, args=(v,1))\n",
    "p2 = Process(target=target, args=(v,2))\n",
    "\n",
    "p1.start()\n",
    "p2.start()\n",
    "p1.join()\n",
    "p2.join()"
   ]
  },
  {
   "cell_type": "markdown",
   "metadata": {},
   "source": [
    "## Lock、Rlock 进程同步\n",
    "* 创建锁  \n",
    "```\n",
    "lock = Lock()\n",
    "```\n",
    "\n",
    "* 加锁  \n",
    "```\n",
    "lock.acquire()\n",
    "```\n",
    "\n",
    "* 释放锁  \n",
    "```\n",
    "lock.release()\n",
    "```"
   ]
  },
  {
   "cell_type": "code",
   "execution_count": 32,
   "metadata": {},
   "outputs": [
    {
     "name": "stdout",
     "output_type": "stream",
     "text": [
      "1 2 3 4 5 7 9 11 13 15 101 102 103 104 105 107 109 111 113 115 "
     ]
    }
   ],
   "source": [
    "import time \n",
    "from multiprocessing import Process, Value, Lock, RLock\n",
    "\n",
    "def target(v, num, lock):\n",
    "    lock.acquire() # 加锁后其他进程不可更改该共享变量\n",
    "    for _ in range(5):\n",
    "        time.sleep(0.1)\n",
    "        v.value += num\n",
    "        print(v.value, end=' ')\n",
    "    lock.release() # 释放锁\n",
    "\n",
    "# lock = Lock()\n",
    "lock1 = RLock()\n",
    "lock2 = RLock()\n",
    "v1 = Value('i',0)\n",
    "v2 = Value('i',100)\n",
    "\n",
    "ps = []\n",
    "ps.append(Process(target=target, args=(v1,1,lock)))\n",
    "ps.append(Process(target=target, args=(v1,2,lock)))\n",
    "ps.append(Process(target=target, args=(v2,1,lock)))\n",
    "ps.append(Process(target=target, args=(v2,2,lock2)))\n",
    "\n",
    "for p in ps:\n",
    "    p.start()\n",
    "    p.join()\n"
   ]
  },
  {
   "cell_type": "markdown",
   "metadata": {},
   "source": [
    "## 总结"
   ]
  },
  {
   "cell_type": "markdown",
   "metadata": {},
   "source": [
    "# multiprocessing.dummy 多线程\n",
    "## multiprocessing.dummy.Pool 创建线程池\n",
    "```\n",
    "pool = Pool(processes=None, initializer=None, initargs=())\n",
    "type(pool)\n",
    "<class 'multiprocessing.pool.ThreadPool'>\n",
    "```\n",
    "\n",
    "\n",
    "Multiprocessing.dummy.Pool() 与Multiprocessing.Pool() 的用法一样\n",
    "\n",
    "    非阻塞方法\n",
    "    multiprocessing.dummy.Pool.apply_async() 和 multiprocessing.dummy.Pool.map_async()\n",
    "    线程并发执行\n",
    "    \n",
    "    阻塞方法\n",
    "    multiprocessing.dummy.Pool.apply()和 multiprocessing.dummy.Pool.map()\n",
    "    线程顺序执行"
   ]
  },
  {
   "attachments": {
    "%E5%9B%BE%E7%89%87.png": {
     "image/png": "[encoded data removed]"
    }
   },
   "cell_type": "markdown",
   "metadata": {},
   "source": [
    "# threading 多线程\n",
    "## 线程的生命周期\n",
    "![%E5%9B%BE%E7%89%87.png](attachment:%E5%9B%BE%E7%89%87.png)\n",
    "    1. 新建:使用线程的第一步就是创建线程,创建后的线程只是进入可执行的状态,也就是Runnable\n",
    "    2. Runnable:进入此状态的线程还并未开始运行,一旦CPU分配时间片给这个线程后,该线程才正式的开始运行\n",
    "    3. Running:线程正式开始运行,在运行过程中线程可能会进入阻塞的状态,即Blocked\n",
    "    4. Blocked:在该状态下,线程暂停运行,解除阻塞后,线程会进入Runnable状态,等待CPU再次分配时间片给它\n",
    "    5. 结束:线程方法执行完毕或者因为异常终止返回\n",
    "\n",
    "其中最复杂的是线程从Running进入Blocked状态,通常有三种情况:  \n",
    "    睡眠:线程主动调用 **sleep()** 或 **join()** 方法后.  \n",
    "    等待:线程中调用 **wait()** 方法,此时需要有其他线程通过 **notify()** 方法来唤醒  \n",
    "    同步:线程中获取线程锁,但是因为资源已经被其他线程占用时."
   ]
  },
  {
   "cell_type": "markdown",
   "metadata": {},
   "source": [
    "## 常用方法"
   ]
  },
  {
   "cell_type": "markdown",
   "metadata": {},
   "source": [
    "### 创建线程  Thread(...)  \n",
    "原型：\n",
    "```\n",
    "Thread(group=None, target=None, name=None, args=(), kwargs=None, *, daemon=None)\n",
    "```\n",
    "举例：\n",
    "```\n",
    "thread = Thread(target=target,args = [])  \n",
    "```\n",
    "    \n",
    "### 设置线程为守护线程  Thread.setDaemon(True)  \n",
    "    Thread.setDaemon(True)  \n",
    "    \n",
    "### 启动线程  Thread.start()\n",
    "    Thread.start()\n",
    "    \n",
    "### 创建锁  Lock() & RLock()\n",
    "#### Lock 和 RLock 对比\n",
    "|       | 是否同一线程 | 是否可重复加锁 |\n",
    "| ----- | ------------ | -------------- |\n",
    "| Lock  | 否           | 否             |\n",
    "| RLock | 是           | 是             |\n",
    "\n",
    "#### Lock\n",
    "Lock锁是Python的原始锁，在锁定时不属于任何一个线程。在调用了 lock.acquire() 方法后，进入锁定状态，lock.release()方法可以解锁。底层是通过一个函数来实现的，会根据不同的操作系统选择一个最有效的版本实例\n",
    "```\n",
    "    lock = Lock()\n",
    "```\n",
    "\n",
    "#### RLock\n",
    "RLock锁是一个可以被同一个线程多次 acquire 的锁，但是最后必须由获取它的线程来释放它，不论同一个线程调用了多少次的acquire，最后它都必须调用相同次数的 release 才能完全释放锁，这个时候其他的线程才能获取这个锁。RLock内部的锁的实现和Lock用的是同一个函数\n",
    "```\n",
    "    rlock = RLock()\n",
    "```\n",
    "    \n",
    "### 加锁  lock.acquire() \n",
    "    lock.acquire()  \n",
    "    调用acquire([timeout])时，线程将一直阻塞，直到获得锁定或者直到timeout秒后（timeout参数可选）。  \n",
    "    返回是否获得锁。\n",
    "\n",
    "### 释放锁  lock.release()\n",
    "    lock.release()"
   ]
  },
  {
   "cell_type": "markdown",
   "metadata": {},
   "source": [
    "## 示例"
   ]
  },
  {
   "cell_type": "code",
   "execution_count": 22,
   "metadata": {},
   "outputs": [
    {
     "name": "stdout",
     "output_type": "stream",
     "text": [
      "线程 MainThread 正在运行\n",
      "线程 Thread-11 正在运行\n",
      "线程 MainThread 结束\n",
      "线程 Thread-11 结束\n"
     ]
    }
   ],
   "source": [
    "import threading\n",
    "import time\n",
    "\n",
    "#定义线程需要做的内容，写在函数里面\n",
    "def target():\n",
    "    print('线程 %s 正在运行' % threading.current_thread().name)\n",
    "    time.sleep(5)\n",
    "    print('线程 %s 结束' % threading.current_thread().name)\n",
    "\n",
    "print('线程 %s 正在运行' % threading.current_thread().name)\n",
    "\n",
    "# 创建线程\n",
    "thread = threading.Thread(target=target,args = [])\n",
    "# 设置该线程为守护线程 （即设置子线程随主线程的结束而结束：）\n",
    "thread.setDaemon(True)\n",
    "# 启动线程\n",
    "thread.start()\n",
    "# 阻塞主线程，使主线程等待该子线程结束方才继续运行，若传递参数timeout，则等待timeout秒\n",
    "# thread.join(2)\n",
    "\n",
    "print('线程 %s 结束' % threading.current_thread().name) #在jupyter中，此时主线程其实还没结束，所以看不到守护的效果"
   ]
  },
  {
   "cell_type": "code",
   "execution_count": 36,
   "metadata": {},
   "outputs": [
    {
     "name": "stdout",
     "output_type": "stream",
     "text": [
      "1\n",
      "2\n",
      "3\n",
      "4\n",
      "5\n",
      "6\n",
      "7\n",
      "8\n",
      "9\n",
      "10\n"
     ]
    }
   ],
   "source": [
    "import threading\n",
    "import time\n",
    "\n",
    "num = 0\n",
    "\n",
    "lock = threading.RLock()\n",
    "\n",
    "\n",
    "# 调用acquire([timeout])时，线程将一直阻塞，\n",
    "# 直到获得锁定或者直到timeout秒后（timeout参数可选）。\n",
    "# 返回是否获得锁。\n",
    "def Func():\n",
    "    lock.acquire()\n",
    "    \n",
    "    time.sleep(0.3)\n",
    "    global num\n",
    "    num += 1\n",
    "    print(num)\n",
    "    \n",
    "    lock.release()\n",
    "\n",
    "\n",
    "for i in range(10):\n",
    "    t = threading.Thread(target=Func)\n",
    "    t.start()"
   ]
  }
 ],
 "metadata": {
  "kernelspec": {
   "display_name": "Python 3",
   "language": "python",
   "name": "python3"
  },
  "language_info": {
   "codemirror_mode": {
    "name": "ipython",
    "version": 3
   },
   "file_extension": ".py",
   "mimetype": "text/x-python",
   "name": "python",
   "nbconvert_exporter": "python",
   "pygments_lexer": "ipython3",
   "version": "3.7.9"
  },
  "toc": {
   "base_numbering": 1,
   "nav_menu": {},
   "number_sections": true,
   "sideBar": true,
   "skip_h1_title": false,
   "title_cell": "Table of Contents",
   "title_sidebar": "Contents",
   "toc_cell": false,
   "toc_position": {
    "height": "calc(100% - 180px)",
    "left": "10px",
    "top": "150px",
    "width": "294.399px"
   },
   "toc_section_display": true,
   "toc_window_display": true
  }
 },
 "nbformat": 4,
 "nbformat_minor": 4
}
