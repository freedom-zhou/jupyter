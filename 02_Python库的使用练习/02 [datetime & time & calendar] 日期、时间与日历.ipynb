{
 "cells": [
  {
   "cell_type": "markdown",
   "metadata": {},
   "source": [
    "# datetime"
   ]
  },
  {
   "cell_type": "markdown",
   "metadata": {},
   "source": [
    "## datetime模块中包含的类"
   ]
  },
  {
   "cell_type": "markdown",
   "metadata": {},
   "source": [
    "|类名|功能说明|\n",
    "|----|----|\n",
    "|date|日期对象,常用的属性有year, month, day|\n",
    "|time|时间对象,常用的属性有hour, minute, second, microsecond|\n",
    "|datetime|日期时间对象,常用的属性为datee类和time类的结合|\n",
    "|datetime_CAPI|日期时间对象C语言接口|\n",
    "|timedelta|时间间隔，即两个时间点之间的长度|\n",
    "|tzinfo|时区信息对象|"
   ]
  },
  {
   "cell_type": "markdown",
   "metadata": {},
   "source": [
    "## 获取当天日期 datetime.date.today()"
   ]
  },
  {
   "cell_type": "code",
   "execution_count": 21,
   "metadata": {},
   "outputs": [
    {
     "name": "stdout",
     "output_type": "stream",
     "text": [
      "2020-10-15\n"
     ]
    }
   ],
   "source": [
    "import datetime\n",
    "\n",
    "today_date = datetime.date.today()\n",
    "print(str(today_date))"
   ]
  },
  {
   "cell_type": "markdown",
   "metadata": {},
   "source": [
    "### datetime.date 类"
   ]
  },
  {
   "cell_type": "code",
   "execution_count": 29,
   "metadata": {},
   "outputs": [
    {
     "name": "stdout",
     "output_type": "stream",
     "text": [
      "<class 'datetime.date'>\n"
     ]
    }
   ],
   "source": [
    "print(type(today_date))"
   ]
  },
  {
   "cell_type": "markdown",
   "metadata": {},
   "source": [
    "#### 获取年、月、日"
   ]
  },
  {
   "cell_type": "code",
   "execution_count": 31,
   "metadata": {},
   "outputs": [
    {
     "name": "stdout",
     "output_type": "stream",
     "text": [
      "2020\n",
      "10\n",
      "15\n"
     ]
    }
   ],
   "source": [
    "print(today_date.year)\n",
    "print(today_date.month)\n",
    "print(today_date.day)"
   ]
  },
  {
   "cell_type": "markdown",
   "metadata": {},
   "source": [
    "#### 获取iso标准化日期 （年份、周数、星期数）\n",
    "**isocalendar()**: 返回一个包含三个值的元组，三个值依次为：year年份，week number周数，weekday星期数（周一为1…周日为7)"
   ]
  },
  {
   "cell_type": "code",
   "execution_count": 36,
   "metadata": {},
   "outputs": [
    {
     "name": "stdout",
     "output_type": "stream",
     "text": [
      "(2020, 42, 4)\n"
     ]
    }
   ],
   "source": [
    "print(today_date.isocalendar())"
   ]
  },
  {
   "cell_type": "markdown",
   "metadata": {},
   "source": [
    "#### 获取星期数（iso标准：周一为1…周日为7）"
   ]
  },
  {
   "cell_type": "code",
   "execution_count": 37,
   "metadata": {},
   "outputs": [
    {
     "name": "stdout",
     "output_type": "stream",
     "text": [
      "4\n"
     ]
    }
   ],
   "source": [
    "print(today_date.isoweekday())"
   ]
  },
  {
   "cell_type": "markdown",
   "metadata": {},
   "source": [
    "#### 获取星期数（iso标准：周一为0…周日为6）"
   ]
  },
  {
   "cell_type": "code",
   "execution_count": 39,
   "metadata": {},
   "outputs": [
    {
     "name": "stdout",
     "output_type": "stream",
     "text": [
      "3\n"
     ]
    }
   ],
   "source": [
    "print(today_date.weekday())"
   ]
  },
  {
   "cell_type": "markdown",
   "metadata": {},
   "source": [
    "#### 兼容time.localtime(...)\n",
    "**timetuple(...):** 该方法为了兼容time.localtime(...)返回一个类型为time.struct_time的数组，但有关时间的部分元素值为0"
   ]
  },
  {
   "cell_type": "code",
   "execution_count": 41,
   "metadata": {},
   "outputs": [
    {
     "data": {
      "text/plain": [
       "time.struct_time(tm_year=2017, tm_mon=3, tm_mday=22, tm_hour=0, tm_min=0, tm_sec=0, tm_wday=2, tm_yday=81, tm_isdst=-1)"
      ]
     },
     "execution_count": 41,
     "metadata": {},
     "output_type": "execute_result"
    }
   ],
   "source": [
    "a = datetime.date(2017,3,22)\n",
    "a.timetuple()"
   ]
  },
  {
   "cell_type": "markdown",
   "metadata": {},
   "source": [
    "#### 根据给定的时间戮，返回一个date对象 fromtimestamp()"
   ]
  },
  {
   "cell_type": "code",
   "execution_count": 43,
   "metadata": {},
   "outputs": [
    {
     "data": {
      "text/plain": [
       "datetime.date(2020, 10, 15)"
      ]
     },
     "execution_count": 43,
     "metadata": {},
     "output_type": "execute_result"
    }
   ],
   "source": [
    "import time\n",
    "import datetime\n",
    "\n",
    "datetime.date.fromtimestamp(time.time())"
   ]
  },
  {
   "cell_type": "markdown",
   "metadata": {},
   "source": [
    "## 日期的比较"
   ]
  },
  {
   "cell_type": "code",
   "execution_count": 10,
   "metadata": {},
   "outputs": [
    {
     "name": "stdout",
     "output_type": "stream",
     "text": [
      "False\n",
      "True\n",
      "True\n",
      "True\n",
      "True\n"
     ]
    }
   ],
   "source": [
    "date1 = datetime.date(2020,10,1)\n",
    "date2 = datetime.date(2020,10,1)\n",
    "date3 = datetime.date(2020,10,15)\n",
    "\n",
    "print(date1 > date2)\n",
    "print(date1 == date2)\n",
    "print(date1 >= date2)\n",
    "print(date1 < date3)\n",
    "print(date1 != date3)"
   ]
  },
  {
   "cell_type": "markdown",
   "metadata": {},
   "source": [
    "## 日期的运算 （两个日期间相差多久）"
   ]
  },
  {
   "cell_type": "code",
   "execution_count": 19,
   "metadata": {},
   "outputs": [
    {
     "name": "stdout",
     "output_type": "stream",
     "text": [
      "1 day, 0:00:00\n",
      "<class 'datetime.timedelta'>\n",
      "['__abs__', '__add__', '__bool__', '__class__', '__delattr__', '__dir__', '__divmod__', '__doc__', '__eq__', '__floordiv__', '__format__', '__ge__', '__getattribute__', '__gt__', '__hash__', '__init__', '__init_subclass__', '__le__', '__lt__', '__mod__', '__mul__', '__ne__', '__neg__', '__new__', '__pos__', '__radd__', '__rdivmod__', '__reduce__', '__reduce_ex__', '__repr__', '__rfloordiv__', '__rmod__', '__rmul__', '__rsub__', '__rtruediv__', '__setattr__', '__sizeof__', '__str__', '__sub__', '__subclasshook__', '__truediv__', 'days', 'max', 'microseconds', 'min', 'resolution', 'seconds', 'total_seconds']\n"
     ]
    }
   ],
   "source": [
    "date1 = datetime.date(2020,10,14)\n",
    "date2 = datetime.date(2020,10,15)\n",
    "\n",
    "d = date2 - date1\n",
    "print(d)"
   ]
  },
  {
   "cell_type": "markdown",
   "metadata": {},
   "source": [
    "### datetime.timedelta 类"
   ]
  },
  {
   "cell_type": "code",
   "execution_count": 28,
   "metadata": {},
   "outputs": [
    {
     "name": "stdout",
     "output_type": "stream",
     "text": [
      "<class 'datetime.timedelta'>\n",
      "1\n",
      "0\n",
      "86400.0\n"
     ]
    }
   ],
   "source": [
    "print(type(d))\n",
    "# print(dir(d))\n",
    "\n",
    "print(d.days)\n",
    "print(d.seconds)\n",
    "print(d.total_seconds())"
   ]
  },
  {
   "cell_type": "markdown",
   "metadata": {},
   "source": [
    "## 日期的格式化 (strftime)"
   ]
  },
  {
   "cell_type": "code",
   "execution_count": 52,
   "metadata": {},
   "outputs": [
    {
     "name": "stdout",
     "output_type": "stream",
     "text": [
      "20201015\n",
      "20201015\n",
      "2020-10-15\n"
     ]
    }
   ],
   "source": [
    "d = datetime.date(2020,10,15)\n",
    "\n",
    "# 方法一 date类实现了专有方法__format__，所以可以用python内置函数format实现格式化\n",
    "print(format(d, \"%Y%m%d\"))\n",
    "\n",
    "# 方法二 和上面的方法等效\n",
    "print(d.strftime(\"%Y%m%d\"))\n",
    "\n",
    "# date类实现了__str__方法，默认格式化为 xxxx-xx-xx 的形式\n",
    "print(str(d))"
   ]
  },
  {
   "cell_type": "markdown",
   "metadata": {},
   "source": [
    "## 获取当前时间 datetime.datetime.now()\n",
    "time类和datetime类的属性和方法可参考date类，用法类似"
   ]
  },
  {
   "cell_type": "code",
   "execution_count": 53,
   "metadata": {},
   "outputs": [
    {
     "data": {
      "text/plain": [
       "datetime.datetime(2020, 10, 15, 19, 43, 52, 793425)"
      ]
     },
     "execution_count": 53,
     "metadata": {},
     "output_type": "execute_result"
    }
   ],
   "source": [
    "now = datetime.datetime.now()\n",
    "now"
   ]
  },
  {
   "cell_type": "code",
   "execution_count": 55,
   "metadata": {},
   "outputs": [
    {
     "name": "stdout",
     "output_type": "stream",
     "text": [
      "2020/10/15 19:43:52\n",
      "2020/10/15 19:43:52\n",
      "20/10/15 19:43:52\n"
     ]
    }
   ],
   "source": [
    "# 格式化\n",
    "print(now.strftime(\"%Y/%m/%d %H:%M:%S\"))\n",
    "print(format(now, \"%Y/%m/%d %H:%M:%S\"))\n",
    "\n",
    "print(format(now, \"%y/%m/%d %H:%M:%S\"))"
   ]
  },
  {
   "cell_type": "markdown",
   "metadata": {},
   "source": [
    "## datetime类特有的方法"
   ]
  },
  {
   "cell_type": "markdown",
   "metadata": {},
   "source": [
    "### date() 返回datetime对象的日期部分"
   ]
  },
  {
   "cell_type": "code",
   "execution_count": 56,
   "metadata": {},
   "outputs": [
    {
     "data": {
      "text/plain": [
       "datetime.date(2020, 10, 15)"
      ]
     },
     "execution_count": 56,
     "metadata": {},
     "output_type": "execute_result"
    }
   ],
   "source": [
    "now.date()"
   ]
  },
  {
   "cell_type": "markdown",
   "metadata": {},
   "source": [
    "### time() 返回datetime对象的时间部分"
   ]
  },
  {
   "cell_type": "code",
   "execution_count": 57,
   "metadata": {},
   "outputs": [
    {
     "data": {
      "text/plain": [
       "datetime.time(19, 43, 52, 793425)"
      ]
     },
     "execution_count": 57,
     "metadata": {},
     "output_type": "execute_result"
    }
   ],
   "source": [
    "now.time()"
   ]
  },
  {
   "cell_type": "markdown",
   "metadata": {},
   "source": [
    "### combine() 将date对象和time对象合并成datetime对象"
   ]
  },
  {
   "cell_type": "code",
   "execution_count": 61,
   "metadata": {},
   "outputs": [
    {
     "name": "stdout",
     "output_type": "stream",
     "text": [
      "2020-10-15 19:52:00\n"
     ]
    }
   ],
   "source": [
    "d = datetime.date(2020,10,15)\n",
    "t = datetime.time(19,52,0)\n",
    "dt = datetime.datetime.combine(d,t)\n",
    "print(dt)"
   ]
  },
  {
   "cell_type": "markdown",
   "metadata": {},
   "source": [
    "### strptime() str转换为datetime.datetime"
   ]
  },
  {
   "cell_type": "code",
   "execution_count": 50,
   "metadata": {},
   "outputs": [
    {
     "name": "stdout",
     "output_type": "stream",
     "text": [
      "2020-10-15 00:00:00\n"
     ]
    },
    {
     "data": {
      "text/plain": [
       "datetime.datetime"
      ]
     },
     "execution_count": 50,
     "metadata": {},
     "output_type": "execute_result"
    }
   ],
   "source": [
    "x = datetime.datetime.strptime('20201015', \"%Y%m%d\")\n",
    "print(x)\n",
    "type(x)"
   ]
  },
  {
   "cell_type": "markdown",
   "metadata": {},
   "source": [
    "## timedelta类的应用：获取上个月最后一天的日期"
   ]
  },
  {
   "cell_type": "code",
   "execution_count": 64,
   "metadata": {},
   "outputs": [
    {
     "name": "stdout",
     "output_type": "stream",
     "text": [
      "今天是： 2020-10-15\n",
      "上个月最后一天是： 2020-09-30\n"
     ]
    }
   ],
   "source": [
    "from datetime import date, timedelta\n",
    "\n",
    "day = date.today()\n",
    "lst_day = date(day.year, day.month, 1) - timedelta(1)\n",
    "\n",
    "print('今天是：', day)\n",
    "print('上个月最后一天是：', lst_day)"
   ]
  },
  {
   "cell_type": "markdown",
   "metadata": {},
   "source": [
    "# time"
   ]
  },
  {
   "cell_type": "markdown",
   "metadata": {},
   "source": [
    "## 时间元组类 struct_time"
   ]
  },
  {
   "cell_type": "markdown",
   "metadata": {},
   "source": [
    "|属性名|属性说明|值|\n",
    "|----|----|----|\n",
    "tm_year|4位数年|2008 \n",
    "tm_mon|月|1 到 12 \n",
    "tm_mday|日|1 到 31 \n",
    "tm_hour|小时|0 到 23 \n",
    "tm_min|分钟|0 到 59 \n",
    "tm_sec|秒|0 到 61 (60或61 是闰秒) \n",
    "tm_wday|一周的第几日|0到6 (0是周一) \n",
    "tm_yday|一年的第几日|1 到 366(儒略历) \n",
    "tm_isdst|夏令时|-1, 0, 1, -1是决定是否为夏令时的旗帜 "
   ]
  },
  {
   "cell_type": "markdown",
   "metadata": {},
   "source": [
    "## 获取当前时间的时间戳 time.time() -> float\n",
    "时间戳（1970纪元后经过的浮点秒数）"
   ]
  },
  {
   "cell_type": "code",
   "execution_count": 69,
   "metadata": {},
   "outputs": [
    {
     "name": "stdout",
     "output_type": "stream",
     "text": [
      "1602766005.0646255\n"
     ]
    },
    {
     "data": {
      "text/plain": [
       "float"
      ]
     },
     "execution_count": 69,
     "metadata": {},
     "output_type": "execute_result"
    }
   ],
   "source": [
    "t=time.time()\n",
    "print(t)\n",
    "type(t)"
   ]
  },
  {
   "cell_type": "markdown",
   "metadata": {},
   "source": [
    "## 时间戳 转 时间元组 time.localtime([secs])\n",
    "接收时间戳（1970纪元后经过的浮点秒数）并返回当地时间下的时间元组t（t.tm_isdst可取0或1，取决于当地当时是不是夏令时）"
   ]
  },
  {
   "cell_type": "code",
   "execution_count": 92,
   "metadata": {},
   "outputs": [
    {
     "name": "stdout",
     "output_type": "stream",
     "text": [
      "time.struct_time(tm_year=2020, tm_mon=10, tm_mday=15, tm_hour=21, tm_min=25, tm_sec=40, tm_wday=3, tm_yday=289, tm_isdst=0)\n",
      "time.struct_time(tm_year=2020, tm_mon=10, tm_mday=15, tm_hour=21, tm_min=25, tm_sec=40, tm_wday=3, tm_yday=289, tm_isdst=0)\n"
     ]
    }
   ],
   "source": [
    "# localtime参数为空时，默认转换当前时间的时间戳\n",
    "print(time.localtime())\n",
    "print(time.localtime(time.time()))"
   ]
  },
  {
   "cell_type": "markdown",
   "metadata": {},
   "source": [
    "## 时间元组 转 时间戳 time.mktime(tupletime)"
   ]
  },
  {
   "cell_type": "code",
   "execution_count": 95,
   "metadata": {},
   "outputs": [
    {
     "data": {
      "text/plain": [
       "1602768544.0"
      ]
     },
     "execution_count": 95,
     "metadata": {},
     "output_type": "execute_result"
    }
   ],
   "source": [
    "tupletime = time.localtime()\n",
    "time.mktime(tupletime)"
   ]
  },
  {
   "cell_type": "markdown",
   "metadata": {},
   "source": [
    "## 格式化时间元组 time.asctime, time.strftime"
   ]
  },
  {
   "cell_type": "code",
   "execution_count": 101,
   "metadata": {},
   "outputs": [
    {
     "name": "stdout",
     "output_type": "stream",
     "text": [
      "Thu Oct 15 21:58:04 2020\n",
      "2020/10/15 21:58:04\n"
     ]
    }
   ],
   "source": [
    "t = time.localtime()\n",
    "\n",
    "# time.asctime([t])) 格式化类型不可自定义\n",
    "print(time.asctime(t))\n",
    "\n",
    "# asctime(fmt, t) 格式化类型可自定义\n",
    "print(time.strftime(\"%Y/%m/%d %H:%M:%S\", t))\n"
   ]
  },
  {
   "cell_type": "code",
   "execution_count": 102,
   "metadata": {},
   "outputs": [
    {
     "data": {
      "text/plain": [
       "'Thu Oct 15 21:58:11 2020'"
      ]
     },
     "execution_count": 102,
     "metadata": {},
     "output_type": "execute_result"
    }
   ],
   "source": [
    " time.asctime()"
   ]
  },
  {
   "cell_type": "markdown",
   "metadata": {},
   "source": [
    "## 返回当前的CPU时间\n",
    "* time.clock() 方法从python 3.3开始被废弃，在python 3.8被删除\n",
    "* 方法从python3.8及以后的版本必须用time.perf_counter() 或 time.process_time() 方法替代"
   ]
  },
  {
   "cell_type": "code",
   "execution_count": 91,
   "metadata": {},
   "outputs": [
    {
     "name": "stdout",
     "output_type": "stream",
     "text": [
      "18576.9272905\n",
      "18576.9273403\n",
      "2.28125\n"
     ]
    },
    {
     "name": "stderr",
     "output_type": "stream",
     "text": [
      "C:\\ProgramFiles\\Anaconda3\\lib\\site-packages\\ipykernel_launcher.py:1: DeprecationWarning: time.clock has been deprecated in Python 3.3 and will be removed from Python 3.8: use time.perf_counter or time.process_time instead\n",
      "  \"\"\"Entry point for launching an IPython kernel.\n"
     ]
    }
   ],
   "source": [
    "print(time.clock())\n",
    "print(time.perf_counter())\n",
    "print(time.process_time())"
   ]
  },
  {
   "cell_type": "markdown",
   "metadata": {},
   "source": [
    "**注意，计算程序运行时间时：  \n",
    "若用time.time或time.perf_counter（time.clock()）计算，则会把sleep()的时间也算进去  \n",
    "若用time.process_time，则不包括sleep()休眠时间期间经过的时间**"
   ]
  },
  {
   "cell_type": "markdown",
   "metadata": {},
   "source": [
    "# calendar"
   ]
  },
  {
   "cell_type": "markdown",
   "metadata": {},
   "source": [
    "## 获取某年某月日历 calendar.month(year,month,w=2,l=1)\n",
    "返回一个多行字符串格式的year年month月日历，两行标题，一周一行。每日宽度间隔为w字符。每行的长度为7* w+6。l是每星期的行数。"
   ]
  },
  {
   "cell_type": "code",
   "execution_count": 98,
   "metadata": {},
   "outputs": [
    {
     "name": "stdout",
     "output_type": "stream",
     "text": [
      "    October 2020\n",
      "Mo Tu We Th Fr Sa Su\n",
      "          1  2  3  4\n",
      " 5  6  7  8  9 10 11\n",
      "12 13 14 15 16 17 18\n",
      "19 20 21 22 23 24 25\n",
      "26 27 28 29 30 31\n",
      "\n"
     ]
    }
   ],
   "source": [
    "import calendar\n",
    "\n",
    "c = calendar.month(2020,10)\n",
    "print(c)"
   ]
  },
  {
   "cell_type": "markdown",
   "metadata": {},
   "source": [
    "## 获取某年年历 calendar.calendar(year,w=2,l=1,c=6)\n",
    "返回一个多行字符串格式的year年年历，3个月一行，间隔距离为c。 每日宽度间隔为w字符。每行长度为21* W+18+2* C。l是每星期行数。"
   ]
  },
  {
   "cell_type": "code",
   "execution_count": 99,
   "metadata": {},
   "outputs": [
    {
     "name": "stdout",
     "output_type": "stream",
     "text": [
      "                                  2020\n",
      "\n",
      "      January                   February                   March\n",
      "Mo Tu We Th Fr Sa Su      Mo Tu We Th Fr Sa Su      Mo Tu We Th Fr Sa Su\n",
      "       1  2  3  4  5                      1  2                         1\n",
      " 6  7  8  9 10 11 12       3  4  5  6  7  8  9       2  3  4  5  6  7  8\n",
      "13 14 15 16 17 18 19      10 11 12 13 14 15 16       9 10 11 12 13 14 15\n",
      "20 21 22 23 24 25 26      17 18 19 20 21 22 23      16 17 18 19 20 21 22\n",
      "27 28 29 30 31            24 25 26 27 28 29         23 24 25 26 27 28 29\n",
      "                                                    30 31\n",
      "\n",
      "       April                      May                       June\n",
      "Mo Tu We Th Fr Sa Su      Mo Tu We Th Fr Sa Su      Mo Tu We Th Fr Sa Su\n",
      "       1  2  3  4  5                   1  2  3       1  2  3  4  5  6  7\n",
      " 6  7  8  9 10 11 12       4  5  6  7  8  9 10       8  9 10 11 12 13 14\n",
      "13 14 15 16 17 18 19      11 12 13 14 15 16 17      15 16 17 18 19 20 21\n",
      "20 21 22 23 24 25 26      18 19 20 21 22 23 24      22 23 24 25 26 27 28\n",
      "27 28 29 30               25 26 27 28 29 30 31      29 30\n",
      "\n",
      "        July                     August                  September\n",
      "Mo Tu We Th Fr Sa Su      Mo Tu We Th Fr Sa Su      Mo Tu We Th Fr Sa Su\n",
      "       1  2  3  4  5                      1  2          1  2  3  4  5  6\n",
      " 6  7  8  9 10 11 12       3  4  5  6  7  8  9       7  8  9 10 11 12 13\n",
      "13 14 15 16 17 18 19      10 11 12 13 14 15 16      14 15 16 17 18 19 20\n",
      "20 21 22 23 24 25 26      17 18 19 20 21 22 23      21 22 23 24 25 26 27\n",
      "27 28 29 30 31            24 25 26 27 28 29 30      28 29 30\n",
      "                          31\n",
      "\n",
      "      October                   November                  December\n",
      "Mo Tu We Th Fr Sa Su      Mo Tu We Th Fr Sa Su      Mo Tu We Th Fr Sa Su\n",
      "          1  2  3  4                         1          1  2  3  4  5  6\n",
      " 5  6  7  8  9 10 11       2  3  4  5  6  7  8       7  8  9 10 11 12 13\n",
      "12 13 14 15 16 17 18       9 10 11 12 13 14 15      14 15 16 17 18 19 20\n",
      "19 20 21 22 23 24 25      16 17 18 19 20 21 22      21 22 23 24 25 26 27\n",
      "26 27 28 29 30 31         23 24 25 26 27 28 29      28 29 30 31\n",
      "                          30\n",
      "\n"
     ]
    }
   ],
   "source": [
    "c = calendar.calendar(2020)\n",
    "print(c)"
   ]
  },
  {
   "cell_type": "markdown",
   "metadata": {},
   "source": [
    "## 判断闰年 calendar.isleap(year)"
   ]
  },
  {
   "cell_type": "code",
   "execution_count": 100,
   "metadata": {},
   "outputs": [
    {
     "name": "stdout",
     "output_type": "stream",
     "text": [
      "True\n"
     ]
    }
   ],
   "source": [
    "print(calendar.isleap(2020))"
   ]
  }
 ],
 "metadata": {
  "kernelspec": {
   "display_name": "Python 3",
   "language": "python",
   "name": "python3"
  },
  "language_info": {
   "codemirror_mode": {
    "name": "ipython",
    "version": 3
   },
   "file_extension": ".py",
   "mimetype": "text/x-python",
   "name": "python",
   "nbconvert_exporter": "python",
   "pygments_lexer": "ipython3",
   "version": "3.8.3"
  },
  "toc": {
   "base_numbering": 1,
   "nav_menu": {},
   "number_sections": true,
   "sideBar": true,
   "skip_h1_title": false,
   "title_cell": "Table of Contents",
   "title_sidebar": "Contents",
   "toc_cell": false,
   "toc_position": {
    "height": "calc(100% - 180px)",
    "left": "10px",
    "top": "150px",
    "width": "304.8px"
   },
   "toc_section_display": true,
   "toc_window_display": true
  }
 },
 "nbformat": 4,
 "nbformat_minor": 4
}
