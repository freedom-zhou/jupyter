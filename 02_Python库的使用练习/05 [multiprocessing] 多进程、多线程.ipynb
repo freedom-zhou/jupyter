{
 "cells": [
  {
   "cell_type": "markdown",
   "metadata": {},
   "source": [
    "# multiprocessing 多进程"
   ]
  },
  {
   "cell_type": "markdown",
   "metadata": {},
   "source": [
    "参考资料：https://blog.csdn.net/brucewong0516/article/details/85776194"
   ]
  },
  {
   "cell_type": "markdown",
   "metadata": {},
   "source": [
    "## Process 进程类"
   ]
  },
  {
   "cell_type": "markdown",
   "metadata": {},
   "source": [
    "### 简介"
   ]
  },
  {
   "cell_type": "markdown",
   "metadata": {},
   "source": [
    "#### Process类定义\n",
    "\n",
    "```\n",
    " class multiprocessing.Process(group=None, target=None, name=None, args=(), kwargs={}, *, daemon=None)\n",
    "```\n",
    "Process模块用来创建子进程，是Multiprocessing核心模块，使用方式与Threading类似，可以实现多进程的创建，启动，关闭等操作。  \n",
    "一般需要传入target（目标函数），args（函数的参数）\n",
    "\n",
    "#### Process类的属性和方法\n",
    "1、run（）\n",
    "       表示进程运行的方法。可以在子类中重写此方法。标准run() 方法调用传递给对象构造函数的可调用对象作为目标参数（如果有），分别使用args和kwargs参数中的顺序和关键字参数。\n",
    "\n",
    "2、start（）\n",
    "       进程准备就绪，等待CPU调度。\n",
    "\n",
    "3、join（[timeout] ）\n",
    "       如果可选参数timeout是None，则该方法将阻塞，直到join()调用其方法的进程终止。如果timeout是一个正数，它最多会阻塞timeout秒。请注意，None如果方法的进程终止或方法超时，则返回该方法。检查进程exitcode以确定它是否终止。\n",
    "\n",
    "4、name\n",
    "       进程的名称。该名称是一个字符串，仅用于识别目的。\n",
    "\n",
    "5、is_alive（）\n",
    "       返回进程是否存活。从start() 方法返回到子进程终止的那一刻，进程对象仍处于活动状态。\n",
    "\n",
    "6、daemon\n",
    "       进程的守护进程标志，一个布尔值。必须在start()调用之前设置，当进程退出时，它会尝试终止其所有守护进程子进程。\n",
    "\n",
    "7、pid\n",
    "       返回进程ID。在产生该过程之前，这将是 None。\n",
    "\n",
    "8、exitcode\n",
    "       子进程的退出代码。None 如果流程尚未终止，这将是负值, -N表示孩子被信号N终止。\n",
    "\n",
    "**需要注意的是start()，join()，is_alive()， terminate()和exitcode方法只能由创建进程对象的过程调用。**"
   ]
  },
  {
   "cell_type": "markdown",
   "metadata": {},
   "source": [
    "### 示例"
   ]
  },
  {
   "cell_type": "code",
   "execution_count": 6,
   "metadata": {},
   "outputs": [
    {
     "name": "stdout",
     "output_type": "stream",
     "text": [
      "module name: __main__\n",
      "parent process: 12080\n",
      "process id: 15536\n",
      "p.daemon = False\n",
      "name: Process-5\n",
      "is_alive: False\n",
      "exitcode: 1\n"
     ]
    },
    {
     "data": {
      "text/plain": [
       "'\\n结果\\n------------------------------------------------------------\\nmodule name: __main__\\nparent process: 1188\\nprocess id: 13060\\nFalse\\nmodule name: __mp_main__\\nparent process: 13060\\nprocess id: 13424\\nname: Process-1\\nis_alive: True\\nexitcode: None\\nhello bob\\n------------------------------------------------------------\\n'"
      ]
     },
     "execution_count": 6,
     "metadata": {},
     "output_type": "execute_result"
    }
   ],
   "source": [
    "from multiprocessing import Process\n",
    "import time\n",
    "import os\n",
    "\n",
    "def info():\n",
    "    print('module name:', __name__)\n",
    "    print('parent process:', os.getppid())\n",
    "    print('process id:', os.getpid())\n",
    "\n",
    "def f(name):\n",
    "    info()\n",
    "    time.sleep(3)\n",
    "    print('hello', name)\n",
    "\n",
    "if __name__ == '__main__':\n",
    "    info()\n",
    "    p = Process(target=f, args=('bob',))\n",
    "    # p.daemon = False\n",
    "    print(\"p.daemon =\", p.daemon)\n",
    "    p.start()\n",
    "    p.join(1)\n",
    "    print('name:', p.name)\n",
    "    print('is_alive:', p.is_alive())\n",
    "    print('exitcode:', p.exitcode)\n",
    "    \n",
    "'''\n",
    "结果\n",
    "------------------------------------------------------------\n",
    "module name: __main__\n",
    "parent process: 1188\n",
    "process id: 13060\n",
    "False\n",
    "module name: __mp_main__\n",
    "parent process: 13060\n",
    "process id: 13424\n",
    "name: Process-1\n",
    "is_alive: True\n",
    "exitcode: None\n",
    "hello bob\n",
    "------------------------------------------------------------\n",
    "'''"
   ]
  },
  {
   "cell_type": "markdown",
   "metadata": {},
   "source": [
    "在上述逻辑中，子进程会休息3s然后再打印一句话才结束，同时设定join(1)阻塞1s，阻塞在1s后结束，我们的并没有守护主进程，然后主进程结束后，子进程依然alive；  \n",
    "如果想要守护主进程，设定p.daemon = True:"
   ]
  },
  {
   "cell_type": "code",
   "execution_count": 7,
   "metadata": {},
   "outputs": [
    {
     "name": "stdout",
     "output_type": "stream",
     "text": [
      "module name: __main__\n",
      "parent process: 12080\n",
      "process id: 15536\n",
      "True\n",
      "name: Process-6\n",
      "is_alive: True\n",
      "exitcode: None\n"
     ]
    },
    {
     "data": {
      "text/plain": [
       "'\\n------------------------------------------------------------\\nmodule name: __main__\\nparent process: 1188\\nprocess id: 1668\\nTrue\\nname: Process-1\\nis_alive: True\\nexitcode: None\\n------------------------------------------------------------\\n'"
      ]
     },
     "execution_count": 7,
     "metadata": {},
     "output_type": "execute_result"
    }
   ],
   "source": [
    "if __name__ == '__main__':\n",
    "    info()\n",
    "    p = Process(target=f, args=('bob',))\n",
    "    p.daemon = True\n",
    "    print(p.daemon)\n",
    "    p.start()\n",
    "    # p.join(1)\n",
    "    print('name:', p.name)\n",
    "    print('is_alive:', p.is_alive())\n",
    "    print('exitcode:', p.exitcode)\n",
    "'''\n",
    "------------------------------------------------------------\n",
    "module name: __main__\n",
    "parent process: 1188\n",
    "process id: 1668\n",
    "True\n",
    "name: Process-1\n",
    "is_alive: True\n",
    "exitcode: None\n",
    "------------------------------------------------------------\n",
    "'''\n"
   ]
  },
  {
   "cell_type": "markdown",
   "metadata": {},
   "source": [
    "在上述逻辑中，子进程会休息3s然后再打印一句话才结束，我们的设定守护主进程，然后主进程结束后，打印的is_alive: True这句话其实是在主进程里运行的，所以此时子进程确实是alive，但是主进程结束后子进程也结束了，不会运行info() 函数"
   ]
  },
  {
   "cell_type": "markdown",
   "metadata": {},
   "source": [
    "## Pool 进程池\n",
    "Pool类定义  \n",
    "```python\n",
    "class multiprocessing.pool.Pool([processes[, initializer[, initargs[, maxtasksperchild[, context]]]]])\n",
    "```\n",
    "Pool方法用来创建一个线程池类（multiprocess.pool.Pool）的实例，processes为同时运行的进程,默认值为os.cpu_count()，最大不超过os.cpu_count()"
   ]
  },
  {
   "cell_type": "code",
   "execution_count": 8,
   "metadata": {},
   "outputs": [
    {
     "data": {
      "text/plain": [
       "12"
      ]
     },
     "execution_count": 8,
     "metadata": {},
     "output_type": "execute_result"
    }
   ],
   "source": [
    "import os\n",
    "import time\n",
    "import random\n",
    "from multiprocess import Pool\n",
    "\n",
    "def f(name):\n",
    "    print(name)\n",
    "#     time.sleep(random.random()*3)\n",
    "\n",
    "# os.cpu_count()\n",
    "with Pool(processes=5) as p: # Pool类属于上下文管理器，可以用with as 自动分配和释放资源，并处理异常，若不用with，则需要手动close\n",
    "    p.map(f,range(13))\n",
    "    \n",
    "\n",
    "    "
   ]
  },
  {
   "cell_type": "markdown",
   "metadata": {},
   "source": [
    "## Queue、Pipe 进程间通信"
   ]
  },
  {
   "cell_type": "markdown",
   "metadata": {},
   "source": [
    "## Lock、Rlock 进程同步"
   ]
  },
  {
   "cell_type": "markdown",
   "metadata": {},
   "source": [
    "## 总结"
   ]
  },
  {
   "cell_type": "markdown",
   "metadata": {},
   "source": [
    "# multiprocessing.dummy 多线程"
   ]
  }
 ],
 "metadata": {
  "kernelspec": {
   "display_name": "Python 3",
   "language": "python",
   "name": "python3"
  },
  "language_info": {
   "codemirror_mode": {
    "name": "ipython",
    "version": 3
   },
   "file_extension": ".py",
   "mimetype": "text/x-python",
   "name": "python",
   "nbconvert_exporter": "python",
   "pygments_lexer": "ipython3",
   "version": "3.7.9"
  },
  "toc": {
   "base_numbering": 1,
   "nav_menu": {},
   "number_sections": true,
   "sideBar": true,
   "skip_h1_title": false,
   "title_cell": "Table of Contents",
   "title_sidebar": "Contents",
   "toc_cell": false,
   "toc_position": {},
   "toc_section_display": true,
   "toc_window_display": true
  }
 },
 "nbformat": 4,
 "nbformat_minor": 4
}
