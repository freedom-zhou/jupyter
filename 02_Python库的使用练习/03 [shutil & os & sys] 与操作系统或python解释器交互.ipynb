{
 "cells": [
  {
   "cell_type": "code",
   "execution_count": 1,
   "metadata": {},
   "outputs": [],
   "source": [
    "basepath = '/home/zrd/Desktop/Workspace/01_JupyterNotebook/02_Python库的使用练习'"
   ]
  },
  {
   "cell_type": "markdown",
   "metadata": {},
   "source": [
    "# shutil\n",
    "弥补了os模块没有复制和移动功能的缺陷"
   ]
  },
  {
   "cell_type": "code",
   "execution_count": 2,
   "metadata": {},
   "outputs": [],
   "source": [
    "import shutil"
   ]
  },
  {
   "cell_type": "markdown",
   "metadata": {},
   "source": [
    "## 复制文件 copy(source, destination)\n",
    "### copy(source_file, dest_file or dest_dir)\n",
    "### copy2(source_file, dest_file or dest_dir)\n",
    "### copyfile(source_file, dest_file)"
   ]
  },
  {
   "cell_type": "code",
   "execution_count": 3,
   "metadata": {},
   "outputs": [
    {
     "data": {
      "text/plain": [
       "'/home/zrd/Desktop/Workspace/01_JupyterNotebook/02_Python库的使用练习/test/file2'"
      ]
     },
     "execution_count": 3,
     "metadata": {},
     "output_type": "execute_result"
    }
   ],
   "source": [
    "shutil.copy(basepath+'/test/file1', basepath+'/test/file2')"
   ]
  },
  {
   "cell_type": "markdown",
   "metadata": {},
   "source": [
    "## 复制文件夹 copytree(source, destination) "
   ]
  },
  {
   "cell_type": "code",
   "execution_count": 4,
   "metadata": {},
   "outputs": [
    {
     "data": {
      "text/plain": [
       "'/home/zrd/Desktop/Workspace/01_JupyterNotebook/02_Python库的使用练习/test/dir3'"
      ]
     },
     "execution_count": 4,
     "metadata": {},
     "output_type": "execute_result"
    }
   ],
   "source": [
    "shutil.copytree(basepath+'/test/dir1', basepath+'/test/dir3')"
   ]
  },
  {
   "cell_type": "markdown",
   "metadata": {},
   "source": [
    "## 移动文件或文件夹 move(source, destination)"
   ]
  },
  {
   "cell_type": "code",
   "execution_count": 5,
   "metadata": {},
   "outputs": [
    {
     "data": {
      "text/plain": [
       "'/home/zrd/Desktop/Workspace/01_JupyterNotebook/02_Python库的使用练习/test/dir4'"
      ]
     },
     "execution_count": 5,
     "metadata": {},
     "output_type": "execute_result"
    }
   ],
   "source": [
    "shutil.move(basepath+'/test/dir3', basepath+'/test/dir4')"
   ]
  },
  {
   "cell_type": "markdown",
   "metadata": {},
   "source": [
    "## 删除文件夹 rmtree(path) \n",
    "和os的rmdir不同，rmtree不仅可以删除空文件夹，也可以删除非空文件夹"
   ]
  },
  {
   "cell_type": "code",
   "execution_count": 6,
   "metadata": {},
   "outputs": [],
   "source": [
    "shutil.rmtree(basepath+'/test/dir4')"
   ]
  },
  {
   "cell_type": "markdown",
   "metadata": {},
   "source": [
    "# os\n",
    "os模块负责程序与操作系统的交互，提供了访问操作系统底层的接口"
   ]
  },
  {
   "cell_type": "code",
   "execution_count": 7,
   "metadata": {},
   "outputs": [],
   "source": [
    "import os"
   ]
  },
  {
   "cell_type": "markdown",
   "metadata": {},
   "source": [
    "## os.path"
   ]
  },
  {
   "cell_type": "markdown",
   "metadata": {},
   "source": [
    "### 是否存在某文件或目录 os.path.exists(path) "
   ]
  },
  {
   "cell_type": "code",
   "execution_count": 8,
   "metadata": {},
   "outputs": [
    {
     "data": {
      "text/plain": [
       "True"
      ]
     },
     "execution_count": 8,
     "metadata": {},
     "output_type": "execute_result"
    }
   ],
   "source": [
    "os.path.exists(basepath)"
   ]
  },
  {
   "cell_type": "code",
   "execution_count": 9,
   "metadata": {},
   "outputs": [
    {
     "data": {
      "text/plain": [
       "True"
      ]
     },
     "execution_count": 9,
     "metadata": {},
     "output_type": "execute_result"
    }
   ],
   "source": [
    "os.path.exists(basepath+'/04 [re] 正则表达式.ipynb')"
   ]
  },
  {
   "cell_type": "markdown",
   "metadata": {},
   "source": [
    "### 是否为目录 os.path.isdir(path)"
   ]
  },
  {
   "cell_type": "code",
   "execution_count": 10,
   "metadata": {},
   "outputs": [
    {
     "data": {
      "text/plain": [
       "True"
      ]
     },
     "execution_count": 10,
     "metadata": {},
     "output_type": "execute_result"
    }
   ],
   "source": [
    "os.path.isdir(basepath)"
   ]
  },
  {
   "cell_type": "markdown",
   "metadata": {},
   "source": [
    "### 是否为文件 os.path.isfile(path)"
   ]
  },
  {
   "cell_type": "code",
   "execution_count": 11,
   "metadata": {},
   "outputs": [
    {
     "data": {
      "text/plain": [
       "True"
      ]
     },
     "execution_count": 11,
     "metadata": {},
     "output_type": "execute_result"
    }
   ],
   "source": [
    "os.path.isfile(basepath+'/04 [re] 正则表达式.ipynb')"
   ]
  },
  {
   "cell_type": "markdown",
   "metadata": {},
   "source": [
    "### 是否为绝对路径 os.path.isabs(path)"
   ]
  },
  {
   "cell_type": "code",
   "execution_count": 12,
   "metadata": {},
   "outputs": [
    {
     "data": {
      "text/plain": [
       "True"
      ]
     },
     "execution_count": 12,
     "metadata": {},
     "output_type": "execute_result"
    }
   ],
   "source": [
    "os.path.isabs(basepath)"
   ]
  },
  {
   "cell_type": "code",
   "execution_count": 13,
   "metadata": {},
   "outputs": [
    {
     "data": {
      "text/plain": [
       "False"
      ]
     },
     "execution_count": 13,
     "metadata": {},
     "output_type": "execute_result"
    }
   ],
   "source": [
    "os.path.isabs('./')"
   ]
  },
  {
   "cell_type": "markdown",
   "metadata": {},
   "source": [
    "### 获取指定文件的大小 os.path.getsize(path)\n",
    "参数传目录也不会报错，但得到的结果和预期不一致"
   ]
  },
  {
   "cell_type": "code",
   "execution_count": 14,
   "metadata": {},
   "outputs": [
    {
     "name": "stdout",
     "output_type": "stream",
     "text": [
      "9243\n"
     ]
    }
   ],
   "source": [
    "p = basepath+'/04 [re] 正则表达式.ipynb'\n",
    "if os.path.isfile(p):\n",
    "    print(os.path.getsize(p))"
   ]
  },
  {
   "cell_type": "markdown",
   "metadata": {},
   "source": [
    "### 返回绝对路径 os.path.abspath(path)"
   ]
  },
  {
   "cell_type": "code",
   "execution_count": 15,
   "metadata": {},
   "outputs": [
    {
     "data": {
      "text/plain": [
       "'/home/zrd/Desktop/Workspace/01_JupyterNotebook/02_Python库的使用练习'"
      ]
     },
     "execution_count": 15,
     "metadata": {},
     "output_type": "execute_result"
    }
   ],
   "source": [
    "os.path.abspath('./')"
   ]
  },
  {
   "cell_type": "markdown",
   "metadata": {},
   "source": [
    "### 返回目录路径，去掉文件名 os.path.dirname(path)"
   ]
  },
  {
   "cell_type": "code",
   "execution_count": 16,
   "metadata": {},
   "outputs": [
    {
     "data": {
      "text/plain": [
       "'/home/zrd/Desktop/Workspace/01_JupyterNotebook/02_Python库的使用练习/test'"
      ]
     },
     "execution_count": 16,
     "metadata": {},
     "output_type": "execute_result"
    }
   ],
   "source": [
    "os.path.dirname(basepath+'/test/file1')"
   ]
  },
  {
   "cell_type": "markdown",
   "metadata": {},
   "source": [
    "### 返回文件名，去掉目录路径 os.path.basename(path)"
   ]
  },
  {
   "cell_type": "code",
   "execution_count": 17,
   "metadata": {},
   "outputs": [
    {
     "data": {
      "text/plain": [
       "'file1'"
      ]
     },
     "execution_count": 17,
     "metadata": {},
     "output_type": "execute_result"
    }
   ],
   "source": [
    "os.path.basename(basepath+'/test/file1')"
   ]
  },
  {
   "cell_type": "markdown",
   "metadata": {},
   "source": [
    "### 返回(dirname, basename)元组 os.path.split(path)"
   ]
  },
  {
   "cell_type": "code",
   "execution_count": 18,
   "metadata": {},
   "outputs": [
    {
     "data": {
      "text/plain": [
       "('/home/zrd/Desktop/Workspace/01_JupyterNotebook/02_Python库的使用练习/test',\n",
       " 'test.txt')"
      ]
     },
     "execution_count": 18,
     "metadata": {},
     "output_type": "execute_result"
    }
   ],
   "source": [
    "os.path.split(basepath+'/test/test.txt')"
   ]
  },
  {
   "cell_type": "markdown",
   "metadata": {},
   "source": [
    "### 返回(filename, extension)元组 os.path.splitext(path)"
   ]
  },
  {
   "cell_type": "code",
   "execution_count": 19,
   "metadata": {},
   "outputs": [
    {
     "data": {
      "text/plain": [
       "('/home/zrd/Desktop/Workspace/01_JupyterNotebook/02_Python库的使用练习/test/test',\n",
       " '.txt')"
      ]
     },
     "execution_count": 19,
     "metadata": {},
     "output_type": "execute_result"
    }
   ],
   "source": [
    "os.path.splitext(basepath+'/test/test.txt')"
   ]
  },
  {
   "cell_type": "markdown",
   "metadata": {},
   "source": [
    "### 获取指定文件的访问/创建/修改时间 (返回时间戳 float型)"
   ]
  },
  {
   "cell_type": "code",
   "execution_count": 20,
   "metadata": {},
   "outputs": [
    {
     "name": "stdout",
     "output_type": "stream",
     "text": [
      "2020/10/23 22:15:59\n",
      "2020/10/23 22:15:58\n",
      "2020/10/23 22:15:58\n"
     ]
    }
   ],
   "source": [
    "import time\n",
    "filepath = basepath+'/test/test1.txt'\n",
    "\n",
    "atime = os.path.getatime(filepath)\n",
    "ctime = os.path.getctime(filepath)\n",
    "mtime = os.path.getmtime(filepath)\n",
    "\n",
    "fmt = \"%Y/%m/%d %H:%M:%S\"\n",
    "print(time.strftime(fmt, time.localtime(atime)))\n",
    "print(time.strftime(fmt, time.localtime(ctime)))\n",
    "print(time.strftime(fmt, time.localtime(mtime)))"
   ]
  },
  {
   "cell_type": "markdown",
   "metadata": {},
   "source": [
    "### 将各个部分合成为一个路径 os.path.join(path1[, path2[, ...]]) "
   ]
  },
  {
   "cell_type": "code",
   "execution_count": 21,
   "metadata": {},
   "outputs": [
    {
     "data": {
      "text/plain": [
       "'/home/zrd/Desktop/Workspace/01_JupyterNotebook/02_Python库的使用练习/test/test.txt'"
      ]
     },
     "execution_count": 21,
     "metadata": {},
     "output_type": "execute_result"
    }
   ],
   "source": [
    "os.path.join(basepath,'test','test.txt')"
   ]
  },
  {
   "cell_type": "markdown",
   "metadata": {},
   "source": [
    "## 执行系统命令 os.system(cmd) \n",
    "每一条system函数执行时，会创建一个子进程在系统上执行命令行，子进程的执行结果无法影响主进程；"
   ]
  },
  {
   "cell_type": "code",
   "execution_count": 22,
   "metadata": {},
   "outputs": [
    {
     "data": {
      "text/plain": [
       "0"
      ]
     },
     "execution_count": 22,
     "metadata": {},
     "output_type": "execute_result"
    }
   ],
   "source": [
    "import os\n",
    "\n",
    "# 一次执行一条命令\n",
    "os.system('dir')\n",
    "\n",
    "# 同时执行多条命令\n"
   ]
  },
  {
   "cell_type": "markdown",
   "metadata": {},
   "source": [
    "## 获取当前工作目录 os.getcwd()"
   ]
  },
  {
   "cell_type": "code",
   "execution_count": 23,
   "metadata": {},
   "outputs": [
    {
     "data": {
      "text/plain": [
       "'/home/zrd/Desktop/Workspace/01_JupyterNotebook/02_Python库的使用练习'"
      ]
     },
     "execution_count": 23,
     "metadata": {},
     "output_type": "execute_result"
    }
   ],
   "source": [
    "os.getcwd()"
   ]
  },
  {
   "cell_type": "markdown",
   "metadata": {},
   "source": [
    "## 列出指定目录的内容os.listdir(path) "
   ]
  },
  {
   "cell_type": "code",
   "execution_count": 24,
   "metadata": {},
   "outputs": [
    {
     "data": {
      "text/plain": [
       "['10 [Seaborn] 数据可视化.ipynb',\n",
       " '04 [re] 正则表达式.ipynb',\n",
       " '14 [xlwt & xlrd & xlsxwriter & xlwings] Excel读写库.ipynb',\n",
       " '03 [shutil& os & sys] 与操作系统或python解释器交互.ipynb',\n",
       " '15 [sqlite3] 操作sqlite数据库.ipynb',\n",
       " 'test',\n",
       " '09 [matplotlib] 数据可视化_绘图库.ipynb',\n",
       " '01 [math & random & collections] 数学运算，随机数，集合.ipynb',\n",
       " '16 [socket] 网络编程.ipynb',\n",
       " '.ipynb_checkpoints',\n",
       " '11 [PIL] 图像处理库.ipynb',\n",
       " '02 [datetime & time & calendar] 日期、时间与日历.ipynb',\n",
       " 'data',\n",
       " '05 [multiprocessing & threading] 多进程、多线程.ipynb',\n",
       " '07 [Scipy] 基于Numpy的科学计算库.ipynb',\n",
       " '17 [itertools] 迭代器工具.ipynb',\n",
       " '06 [numpy] 线性代数_矩阵运算.ipynb',\n",
       " '13 [BeautifulSoup4] 将html、xml等文档转化成可操作的树形结构.ipynb',\n",
       " '08 [pandas] 数据处理_“瑞士军刀”.ipynb',\n",
       " '18 [mxnet] 深度学习库.ipynb',\n",
       " '12 [urllib & requests] 爬虫.ipynb',\n",
       " 'img']"
      ]
     },
     "execution_count": 24,
     "metadata": {},
     "output_type": "execute_result"
    }
   ],
   "source": [
    "os.listdir('.')"
   ]
  },
  {
   "cell_type": "markdown",
   "metadata": {},
   "source": [
    "## 改变(当前工作)目录 os.chdir(path)"
   ]
  },
  {
   "cell_type": "code",
   "execution_count": 25,
   "metadata": {},
   "outputs": [
    {
     "name": "stdout",
     "output_type": "stream",
     "text": [
      "/home/zrd/Desktop/Workspace/01_JupyterNotebook/02_Python库的使用练习\n",
      "/home/zrd/Desktop/Workspace/01_JupyterNotebook/02_Python库的使用练习/test\n"
     ]
    }
   ],
   "source": [
    "print(os.getcwd())\n",
    "os.chdir(basepath+'/test')\n",
    "print(os.getcwd())"
   ]
  },
  {
   "cell_type": "markdown",
   "metadata": {},
   "source": [
    "## 创建目录 os.mkdir(path)"
   ]
  },
  {
   "cell_type": "code",
   "execution_count": 26,
   "metadata": {},
   "outputs": [
    {
     "name": "stdout",
     "output_type": "stream",
     "text": [
      "['file2', 'dir', 'dir1', 'test1.txt', 'file1', 'dir2']\n",
      "['file2', 'dir', 'dir1', 'test1.txt', 'file1', 'dir2', 'xxx']\n"
     ]
    }
   ],
   "source": [
    "print(os.listdir())\n",
    "os.mkdir('./xxx')\n",
    "print(os.listdir())"
   ]
  },
  {
   "cell_type": "markdown",
   "metadata": {},
   "source": [
    "## 改变目录权限 os.chmod(path, flag)\n",
    "\n",
    "* path -- 文件名路径或目录路径。 \n",
    "\n",
    "* flags -- 可用以下选项按位或操作生成， 目录的读权限表示可以获取目录里文件名列表， ，执行权限表示可以把工作目录切换到此目录 ，删除添加目录里的文件必须同时有写和执行权限 ，文件权限以用户id->组id->其它顺序检验,最先匹配的允许或禁止权限被应用。 \n",
    "    * stat.S_IXOTH: 其他用户有执行权0o001\n",
    "    * stat.S_IWOTH: 其他用户有写权限0o002\n",
    "    * stat.S_IROTH: 其他用户有读权限0o004\n",
    "    * stat.S_IRWXO: 其他用户有全部权限(权限掩码)0o007\n",
    "    * stat.S_IXGRP: 组用户有执行权限0o010\n",
    "    * stat.S_IWGRP: 组用户有写权限0o020\n",
    "    * stat.S_IRGRP: 组用户有读权限0o040\n",
    "    * stat.S_IRWXG: 组用户有全部权限(权限掩码)0o070\n",
    "    * stat.S_IXUSR: 拥有者具有执行权限0o100\n",
    "    * stat.S_IWUSR: 拥有者具有写权限0o200\n",
    "    * stat.S_IRUSR: 拥有者具有读权限0o400\n",
    "    * stat.S_IRWXU: 拥有者有全部权限(权限掩码)0o700\n",
    "    * stat.S_ISVTX: 目录里文件目录只有拥有者才可删除更改0o1000\n",
    "    * stat.S_ISGID: 执行此文件其进程有效组为文件所在组0o2000\n",
    "    * stat.S_ISUID: 执行此文件其进程有效用户为文件所有者0o4000\n",
    "    * stat.S_IREAD: windows下设为只读\n",
    "    * stat.S_IWRITE: windows下取消只读\n",
    "\n"
   ]
  },
  {
   "cell_type": "code",
   "execution_count": 27,
   "metadata": {},
   "outputs": [],
   "source": [
    "import stat\n",
    "os.chmod(basepath+'/test/file1', stat.S_IREAD)"
   ]
  },
  {
   "cell_type": "markdown",
   "metadata": {},
   "source": [
    "## 删除空目录 os.rmdir(path)\n",
    "若path指定的目录非空则抛出异常"
   ]
  },
  {
   "cell_type": "code",
   "execution_count": 28,
   "metadata": {},
   "outputs": [
    {
     "name": "stdout",
     "output_type": "stream",
     "text": [
      "['file2', 'dir', 'dir1', 'test1.txt', 'file1', 'dir2', 'xxx']\n",
      "['file2', 'dir', 'dir1', 'test1.txt', 'file1', 'dir2']\n"
     ]
    }
   ],
   "source": [
    "print(os.listdir())\n",
    "os.rmdir('./xxx')\n",
    "print(os.listdir())"
   ]
  },
  {
   "cell_type": "markdown",
   "metadata": {},
   "source": [
    "## 重命名文件 os.rename(old, new)"
   ]
  },
  {
   "cell_type": "code",
   "execution_count": 29,
   "metadata": {},
   "outputs": [
    {
     "name": "stdout",
     "output_type": "stream",
     "text": [
      "['file2', 'dir', 'dir1', 'test1.txt', 'file1', 'dir2']\n",
      "['dir', 'dir1', 'test1.txt', 'file1', 'dir2', 'file3']\n"
     ]
    }
   ],
   "source": [
    "print(os.listdir())\n",
    "os.rename('file2', 'file3')\n",
    "print(os.listdir())"
   ]
  },
  {
   "cell_type": "markdown",
   "metadata": {},
   "source": [
    "## 删除文件 os.remove(path)"
   ]
  },
  {
   "cell_type": "code",
   "execution_count": 30,
   "metadata": {},
   "outputs": [
    {
     "name": "stdout",
     "output_type": "stream",
     "text": [
      "['dir', 'dir1', 'test1.txt', 'file1', 'dir2', 'file3']\n",
      "['dir', 'dir1', 'test1.txt', 'file1', 'dir2']\n"
     ]
    }
   ],
   "source": [
    "print(os.listdir())\n",
    "os.remove('./file3')\n",
    "print(os.listdir())"
   ]
  },
  {
   "cell_type": "markdown",
   "metadata": {},
   "source": [
    "## 遍历文件夹 os.walk(top[, topdown=True[, onerror=None[, followlinks=False]]])\n",
    "os.walk()可以得到一个三元tupple(dirpath, dirnames, filenames)，\n",
    "\n",
    "1. 第一个为起始路径，\n",
    "\n",
    "2. 第二个为起始路径下的文件夹，\n",
    "\n",
    "3. 第三个是起始路径下的文件。\n",
    "\n",
    "其中,  \n",
    "dirpath是一个string，代表目录的路径  \n",
    "dirnames是一个list，包含了dirpath下所有子目录的名字  \n",
    "filenames是一个list，包含了非目录文件的名字。这些名字不包含路径信息，如果需要得到全路径，需要使用os.path.join(dirpath, filename)"
   ]
  },
  {
   "cell_type": "code",
   "execution_count": 31,
   "metadata": {},
   "outputs": [
    {
     "name": "stdout",
     "output_type": "stream",
     "text": [
      "('/home/zrd/Desktop/Workspace/01_JupyterNotebook/02_Python库的使用练习/test', ['dir', 'dir1', 'dir2'], ['test1.txt', 'file1'])\n",
      "('/home/zrd/Desktop/Workspace/01_JupyterNotebook/02_Python库的使用练习/test/dir', [], ['file1'])\n",
      "('/home/zrd/Desktop/Workspace/01_JupyterNotebook/02_Python库的使用练习/test/dir1', [], ['file1'])\n",
      "('/home/zrd/Desktop/Workspace/01_JupyterNotebook/02_Python库的使用练习/test/dir2', [], ['file1'])\n"
     ]
    }
   ],
   "source": [
    "for i in os.walk(basepath+'/test'):\n",
    "    print(i)"
   ]
  },
  {
   "cell_type": "markdown",
   "metadata": {},
   "source": [
    "# sys\n",
    "sys模块负责程序与python解释器的交互，使用该模块可访问由解释器使用或维护的变量，使用与解释器进行交互的函数。"
   ]
  },
  {
   "cell_type": "markdown",
   "metadata": {},
   "source": [
    "## Python解释器的版本值，16进制格式 sys.hexversion"
   ]
  },
  {
   "cell_type": "code",
   "execution_count": 3,
   "metadata": {},
   "outputs": [
    {
     "data": {
      "text/plain": [
       "50856944"
      ]
     },
     "execution_count": 3,
     "metadata": {},
     "output_type": "execute_result"
    }
   ],
   "source": [
    "import sys\n",
    "sys.hexversion"
   ]
  },
  {
   "cell_type": "markdown",
   "metadata": {},
   "source": [
    "## Python解释器的版本信息 sys.version"
   ]
  },
  {
   "cell_type": "code",
   "execution_count": 33,
   "metadata": {},
   "outputs": [
    {
     "data": {
      "text/plain": [
       "'3.8.3 (default, Jul  2 2020, 16:21:59) \\n[GCC 7.3.0]'"
      ]
     },
     "execution_count": 33,
     "metadata": {},
     "output_type": "execute_result"
    }
   ],
   "source": [
    "sys.version"
   ]
  },
  {
   "cell_type": "markdown",
   "metadata": {},
   "source": [
    "## 命令行参数List sys.argv\n",
    "第一个元素是程序本身路径  \n",
    "后面的元素是运行当前程序时传的参数\n",
    "如python xx.py abc 123  \n",
    "则sys.argv的\n",
    "结果是 ['xx.py', 'abc', '123']"
   ]
  },
  {
   "cell_type": "code",
   "execution_count": 34,
   "metadata": {},
   "outputs": [
    {
     "data": {
      "text/plain": [
       "['/home/zrd/anaconda3/lib/python3.8/site-packages/ipykernel_launcher.py',\n",
       " '-f',\n",
       " '/home/zrd/.local/share/jupyter/runtime/kernel-1642132b-f2dd-4458-bbcd-971a088e0b6e.json']"
      ]
     },
     "execution_count": 34,
     "metadata": {},
     "output_type": "execute_result"
    }
   ],
   "source": [
    "sys.argv"
   ]
  },
  {
   "cell_type": "markdown",
   "metadata": {},
   "source": [
    "## 最大的Int值 sys.maxint"
   ]
  },
  {
   "cell_type": "code",
   "execution_count": 35,
   "metadata": {},
   "outputs": [],
   "source": [
    "# sys.maxint"
   ]
  },
  {
   "cell_type": "markdown",
   "metadata": {},
   "source": [
    "## 系统导入的所有模块的字典 sys.modules\n",
    "key是模块名，value是模块"
   ]
  },
  {
   "cell_type": "code",
   "execution_count": 36,
   "metadata": {},
   "outputs": [
    {
     "data": {
      "text/plain": [
       "{'sys': <module 'sys' (built-in)>,\n",
       " 'builtins': <module 'builtins' (built-in)>,\n",
       " '_frozen_importlib': <module 'importlib._bootstrap' (frozen)>,\n",
       " '_imp': <module '_imp' (built-in)>,\n",
       " '_warnings': <module '_warnings' (built-in)>,\n",
       " '_frozen_importlib_external': <module 'importlib._bootstrap_external' (frozen)>,\n",
       " '_io': <module 'io' (built-in)>,\n",
       " 'marshal': <module 'marshal' (built-in)>,\n",
       " 'posix': <module 'posix' (built-in)>,\n",
       " '_thread': <module '_thread' (built-in)>,\n",
       " '_weakref': <module '_weakref' (built-in)>,\n",
       " 'time': <module 'time' (built-in)>,\n",
       " 'zipimport': <module 'zipimport' (frozen)>,\n",
       " '_codecs': <module '_codecs' (built-in)>,\n",
       " 'codecs': <module 'codecs' from '/home/zrd/anaconda3/lib/python3.8/codecs.py'>,\n",
       " 'encodings.aliases': <module 'encodings.aliases' from '/home/zrd/anaconda3/lib/python3.8/encodings/aliases.py'>,\n",
       " 'encodings': <module 'encodings' from '/home/zrd/anaconda3/lib/python3.8/encodings/__init__.py'>,\n",
       " 'encodings.utf_8': <module 'encodings.utf_8' from '/home/zrd/anaconda3/lib/python3.8/encodings/utf_8.py'>,\n",
       " '_signal': <module '_signal' (built-in)>,\n",
       " '__main__': <module '__main__'>,\n",
       " 'encodings.latin_1': <module 'encodings.latin_1' from '/home/zrd/anaconda3/lib/python3.8/encodings/latin_1.py'>,\n",
       " '_abc': <module '_abc' (built-in)>,\n",
       " 'abc': <module 'abc' from '/home/zrd/anaconda3/lib/python3.8/abc.py'>,\n",
       " 'io': <module 'io' from '/home/zrd/anaconda3/lib/python3.8/io.py'>,\n",
       " '_stat': <module '_stat' (built-in)>,\n",
       " 'stat': <module 'stat' from '/home/zrd/anaconda3/lib/python3.8/stat.py'>,\n",
       " '_collections_abc': <module '_collections_abc' from '/home/zrd/anaconda3/lib/python3.8/_collections_abc.py'>,\n",
       " 'genericpath': <module 'genericpath' from '/home/zrd/anaconda3/lib/python3.8/genericpath.py'>,\n",
       " 'posixpath': <module 'posixpath' from '/home/zrd/anaconda3/lib/python3.8/posixpath.py'>,\n",
       " 'os.path': <module 'posixpath' from '/home/zrd/anaconda3/lib/python3.8/posixpath.py'>,\n",
       " 'os': <module 'os' from '/home/zrd/anaconda3/lib/python3.8/os.py'>,\n",
       " '_sitebuiltins': <module '_sitebuiltins' from '/home/zrd/anaconda3/lib/python3.8/_sitebuiltins.py'>,\n",
       " '_locale': <module '_locale' (built-in)>,\n",
       " '_bootlocale': <module '_bootlocale' from '/home/zrd/anaconda3/lib/python3.8/_bootlocale.py'>,\n",
       " 'types': <module 'types' from '/home/zrd/anaconda3/lib/python3.8/types.py'>,\n",
       " 'importlib._bootstrap': <module 'importlib._bootstrap' (frozen)>,\n",
       " 'importlib._bootstrap_external': <module 'importlib._bootstrap_external' (frozen)>,\n",
       " 'warnings': <module 'warnings' from '/home/zrd/anaconda3/lib/python3.8/warnings.py'>,\n",
       " 'importlib': <module 'importlib' from '/home/zrd/anaconda3/lib/python3.8/importlib/__init__.py'>,\n",
       " 'importlib.machinery': <module 'importlib.machinery' from '/home/zrd/anaconda3/lib/python3.8/importlib/machinery.py'>,\n",
       " 'importlib.abc': <module 'importlib.abc' from '/home/zrd/anaconda3/lib/python3.8/importlib/abc.py'>,\n",
       " '_operator': <module '_operator' (built-in)>,\n",
       " 'operator': <module 'operator' from '/home/zrd/anaconda3/lib/python3.8/operator.py'>,\n",
       " 'keyword': <module 'keyword' from '/home/zrd/anaconda3/lib/python3.8/keyword.py'>,\n",
       " '_heapq': <module '_heapq' from '/home/zrd/anaconda3/lib/python3.8/lib-dynload/_heapq.cpython-38-x86_64-linux-gnu.so'>,\n",
       " 'heapq': <module 'heapq' from '/home/zrd/anaconda3/lib/python3.8/heapq.py'>,\n",
       " 'itertools': <module 'itertools' (built-in)>,\n",
       " 'reprlib': <module 'reprlib' from '/home/zrd/anaconda3/lib/python3.8/reprlib.py'>,\n",
       " '_collections': <module '_collections' (built-in)>,\n",
       " 'collections': <module 'collections' from '/home/zrd/anaconda3/lib/python3.8/collections/__init__.py'>,\n",
       " '_functools': <module '_functools' (built-in)>,\n",
       " 'functools': <module 'functools' from '/home/zrd/anaconda3/lib/python3.8/functools.py'>,\n",
       " 'contextlib': <module 'contextlib' from '/home/zrd/anaconda3/lib/python3.8/contextlib.py'>,\n",
       " 'importlib.util': <module 'importlib.util' from '/home/zrd/anaconda3/lib/python3.8/importlib/util.py'>,\n",
       " 'mpl_toolkits': <module 'mpl_toolkits' (namespace)>,\n",
       " 'sphinxcontrib': <module 'sphinxcontrib' from '/home/zrd/anaconda3/lib/python3.8/site-packages/sphinxcontrib/__init__.py'>,\n",
       " 'zope': <module 'zope' from '/home/zrd/anaconda3/lib/python3.8/site-packages/zope/__init__.py'>,\n",
       " 'site': <module 'site' from '/home/zrd/anaconda3/lib/python3.8/site.py'>,\n",
       " '_weakrefset': <module '_weakrefset' from '/home/zrd/anaconda3/lib/python3.8/_weakrefset.py'>,\n",
       " 'weakref': <module 'weakref' from '/home/zrd/anaconda3/lib/python3.8/weakref.py'>,\n",
       " 'pkgutil': <module 'pkgutil' from '/home/zrd/anaconda3/lib/python3.8/pkgutil.py'>,\n",
       " 'runpy': <module 'runpy' from '/home/zrd/anaconda3/lib/python3.8/runpy.py'>,\n",
       " 'ipykernel._version': <module 'ipykernel._version' from '/home/zrd/anaconda3/lib/python3.8/site-packages/ipykernel/_version.py'>,\n",
       " '__future__': <module '__future__' from '/home/zrd/anaconda3/lib/python3.8/__future__.py'>,\n",
       " 'enum': <module 'enum' from '/home/zrd/anaconda3/lib/python3.8/enum.py'>,\n",
       " '_sre': <module '_sre' (built-in)>,\n",
       " 'sre_constants': <module 'sre_constants' from '/home/zrd/anaconda3/lib/python3.8/sre_constants.py'>,\n",
       " 'sre_parse': <module 'sre_parse' from '/home/zrd/anaconda3/lib/python3.8/sre_parse.py'>,\n",
       " 'sre_compile': <module 'sre_compile' from '/home/zrd/anaconda3/lib/python3.8/sre_compile.py'>,\n",
       " 'copyreg': <module 'copyreg' from '/home/zrd/anaconda3/lib/python3.8/copyreg.py'>,\n",
       " 're': <module 're' from '/home/zrd/anaconda3/lib/python3.8/re.py'>,\n",
       " '_json': <module '_json' from '/home/zrd/anaconda3/lib/python3.8/lib-dynload/_json.cpython-38-x86_64-linux-gnu.so'>,\n",
       " 'json.scanner': <module 'json.scanner' from '/home/zrd/anaconda3/lib/python3.8/json/scanner.py'>,\n",
       " 'json.decoder': <module 'json.decoder' from '/home/zrd/anaconda3/lib/python3.8/json/decoder.py'>,\n",
       " 'json.encoder': <module 'json.encoder' from '/home/zrd/anaconda3/lib/python3.8/json/encoder.py'>,\n",
       " 'json': <module 'json' from '/home/zrd/anaconda3/lib/python3.8/json/__init__.py'>,\n",
       " 'errno': <module 'errno' (built-in)>,\n",
       " 'signal': <module 'signal' from '/home/zrd/anaconda3/lib/python3.8/signal.py'>,\n",
       " 'threading': <module 'threading' from '/home/zrd/anaconda3/lib/python3.8/threading.py'>,\n",
       " '_posixsubprocess': <module '_posixsubprocess' from '/home/zrd/anaconda3/lib/python3.8/lib-dynload/_posixsubprocess.cpython-38-x86_64-linux-gnu.so'>,\n",
       " 'select': <module 'select' from '/home/zrd/anaconda3/lib/python3.8/lib-dynload/select.cpython-38-x86_64-linux-gnu.so'>,\n",
       " 'collections.abc': <module 'collections.abc' from '/home/zrd/anaconda3/lib/python3.8/collections/abc.py'>,\n",
       " 'math': <module 'math' from '/home/zrd/anaconda3/lib/python3.8/lib-dynload/math.cpython-38-x86_64-linux-gnu.so'>,\n",
       " 'selectors': <module 'selectors' from '/home/zrd/anaconda3/lib/python3.8/selectors.py'>,\n",
       " 'subprocess': <module 'subprocess' from '/home/zrd/anaconda3/lib/python3.8/subprocess.py'>,\n",
       " 'IPython.core': <module 'IPython.core' from '/home/zrd/anaconda3/lib/python3.8/site-packages/IPython/core/__init__.py'>,\n",
       " 'IPython.core.getipython': <module 'IPython.core.getipython' from '/home/zrd/anaconda3/lib/python3.8/site-packages/IPython/core/getipython.py'>,\n",
       " 'IPython.core.release': <module 'IPython.core.release' from '/home/zrd/anaconda3/lib/python3.8/site-packages/IPython/core/release.py'>,\n",
       " 'atexit': <module 'atexit' (built-in)>,\n",
       " 'copy': <module 'copy' from '/home/zrd/anaconda3/lib/python3.8/copy.py'>,\n",
       " 'fnmatch': <module 'fnmatch' from '/home/zrd/anaconda3/lib/python3.8/fnmatch.py'>,\n",
       " 'glob': <module 'glob' from '/home/zrd/anaconda3/lib/python3.8/glob.py'>,\n",
       " 'token': <module 'token' from '/home/zrd/anaconda3/lib/python3.8/token.py'>,\n",
       " 'tokenize': <module 'tokenize' from '/home/zrd/anaconda3/lib/python3.8/tokenize.py'>,\n",
       " 'linecache': <module 'linecache' from '/home/zrd/anaconda3/lib/python3.8/linecache.py'>,\n",
       " 'traceback': <module 'traceback' from '/home/zrd/anaconda3/lib/python3.8/traceback.py'>,\n",
       " '_string': <module '_string' (built-in)>,\n",
       " 'string': <module 'string' from '/home/zrd/anaconda3/lib/python3.8/string.py'>,\n",
       " 'logging': <module 'logging' from '/home/zrd/anaconda3/lib/python3.8/logging/__init__.py'>,\n",
       " 'zlib': <module 'zlib' from '/home/zrd/anaconda3/lib/python3.8/lib-dynload/zlib.cpython-38-x86_64-linux-gnu.so'>,\n",
       " '_compression': <module '_compression' from '/home/zrd/anaconda3/lib/python3.8/_compression.py'>,\n",
       " '_bz2': <module '_bz2' from '/home/zrd/anaconda3/lib/python3.8/lib-dynload/_bz2.cpython-38-x86_64-linux-gnu.so'>,\n",
       " 'bz2': <module 'bz2' from '/home/zrd/anaconda3/lib/python3.8/bz2.py'>,\n",
       " '_lzma': <module '_lzma' from '/home/zrd/anaconda3/lib/python3.8/lib-dynload/_lzma.cpython-38-x86_64-linux-gnu.so'>,\n",
       " 'lzma': <module 'lzma' from '/home/zrd/anaconda3/lib/python3.8/lzma.py'>,\n",
       " 'pwd': <module 'pwd' (built-in)>,\n",
       " 'grp': <module 'grp' from '/home/zrd/anaconda3/lib/python3.8/lib-dynload/grp.cpython-38-x86_64-linux-gnu.so'>,\n",
       " 'shutil': <module 'shutil' from '/home/zrd/anaconda3/lib/python3.8/shutil.py'>,\n",
       " '_opcode': <module '_opcode' from '/home/zrd/anaconda3/lib/python3.8/lib-dynload/_opcode.cpython-38-x86_64-linux-gnu.so'>,\n",
       " 'opcode': <module 'opcode' from '/home/zrd/anaconda3/lib/python3.8/opcode.py'>,\n",
       " 'dis': <module 'dis' from '/home/zrd/anaconda3/lib/python3.8/dis.py'>,\n",
       " 'inspect': <module 'inspect' from '/home/zrd/anaconda3/lib/python3.8/inspect.py'>,\n",
       " '_struct': <module '_struct' from '/home/zrd/anaconda3/lib/python3.8/lib-dynload/_struct.cpython-38-x86_64-linux-gnu.so'>,\n",
       " 'struct': <module 'struct' from '/home/zrd/anaconda3/lib/python3.8/struct.py'>,\n",
       " 'six': <module 'six' from '/home/zrd/anaconda3/lib/python3.8/site-packages/six.py'>,\n",
       " 'traitlets.utils': <module 'traitlets.utils' from '/home/zrd/anaconda3/lib/python3.8/site-packages/traitlets/utils/__init__.py'>,\n",
       " 'traitlets.utils.getargspec': <module 'traitlets.utils.getargspec' from '/home/zrd/anaconda3/lib/python3.8/site-packages/traitlets/utils/getargspec.py'>,\n",
       " 'ipython_genutils._version': <module 'ipython_genutils._version' from '/home/zrd/anaconda3/lib/python3.8/site-packages/ipython_genutils/_version.py'>,\n",
       " 'ipython_genutils': <module 'ipython_genutils' from '/home/zrd/anaconda3/lib/python3.8/site-packages/ipython_genutils/__init__.py'>,\n",
       " 'locale': <module 'locale' from '/home/zrd/anaconda3/lib/python3.8/locale.py'>,\n",
       " 'ipython_genutils.encoding': <module 'ipython_genutils.encoding' from '/home/zrd/anaconda3/lib/python3.8/site-packages/ipython_genutils/encoding.py'>,\n",
       " 'platform': <module 'platform' from '/home/zrd/anaconda3/lib/python3.8/platform.py'>,\n",
       " 'ipython_genutils.py3compat': <module 'ipython_genutils.py3compat' from '/home/zrd/anaconda3/lib/python3.8/site-packages/ipython_genutils/py3compat.py'>,\n",
       " 'traitlets.utils.importstring': <module 'traitlets.utils.importstring' from '/home/zrd/anaconda3/lib/python3.8/site-packages/traitlets/utils/importstring.py'>,\n",
       " 'traitlets.utils.sentinel': <module 'traitlets.utils.sentinel' from '/home/zrd/anaconda3/lib/python3.8/site-packages/traitlets/utils/sentinel.py'>,\n",
       " 'traitlets.utils.bunch': <module 'traitlets.utils.bunch' from '/home/zrd/anaconda3/lib/python3.8/site-packages/traitlets/utils/bunch.py'>,\n",
       " 'traitlets.traitlets': <module 'traitlets.traitlets' from '/home/zrd/anaconda3/lib/python3.8/site-packages/traitlets/traitlets.py'>,\n",
       " 'traitlets._version': <module 'traitlets._version' from '/home/zrd/anaconda3/lib/python3.8/site-packages/traitlets/_version.py'>,\n",
       " 'traitlets': <module 'traitlets' from '/home/zrd/anaconda3/lib/python3.8/site-packages/traitlets/__init__.py'>,\n",
       " 'decorator': <module 'decorator' from '/home/zrd/anaconda3/lib/python3.8/site-packages/decorator.py'>,\n",
       " 'gettext': <module 'gettext' from '/home/zrd/anaconda3/lib/python3.8/gettext.py'>,\n",
       " 'argparse': <module 'argparse' from '/home/zrd/anaconda3/lib/python3.8/argparse.py'>,\n",
       " '_ast': <module '_ast' (built-in)>,\n",
       " 'ast': <module 'ast' from '/home/zrd/anaconda3/lib/python3.8/ast.py'>,\n",
       " '_bisect': <module '_bisect' from '/home/zrd/anaconda3/lib/python3.8/lib-dynload/_bisect.cpython-38-x86_64-linux-gnu.so'>,\n",
       " 'bisect': <module 'bisect' from '/home/zrd/anaconda3/lib/python3.8/bisect.py'>,\n",
       " '_sha512': <module '_sha512' from '/home/zrd/anaconda3/lib/python3.8/lib-dynload/_sha512.cpython-38-x86_64-linux-gnu.so'>,\n",
       " '_random': <module '_random' from '/home/zrd/anaconda3/lib/python3.8/lib-dynload/_random.cpython-38-x86_64-linux-gnu.so'>,\n",
       " 'random': <module 'random' from '/home/zrd/anaconda3/lib/python3.8/random.py'>,\n",
       " 'ipython_genutils.path': <module 'ipython_genutils.path' from '/home/zrd/anaconda3/lib/python3.8/site-packages/ipython_genutils/path.py'>,\n",
       " 'traitlets.config.loader': <module 'traitlets.config.loader' from '/home/zrd/anaconda3/lib/python3.8/site-packages/traitlets/config/loader.py'>,\n",
       " 'textwrap': <module 'textwrap' from '/home/zrd/anaconda3/lib/python3.8/textwrap.py'>,\n",
       " 'ipython_genutils.text': <module 'ipython_genutils.text' from '/home/zrd/anaconda3/lib/python3.8/site-packages/ipython_genutils/text.py'>,\n",
       " 'traitlets.config.configurable': <module 'traitlets.config.configurable' from '/home/zrd/anaconda3/lib/python3.8/site-packages/traitlets/config/configurable.py'>,\n",
       " 'ipython_genutils.importstring': <module 'ipython_genutils.importstring' from '/home/zrd/anaconda3/lib/python3.8/site-packages/ipython_genutils/importstring.py'>,\n",
       " 'traitlets.config.application': <module 'traitlets.config.application' from '/home/zrd/anaconda3/lib/python3.8/site-packages/traitlets/config/application.py'>,\n",
       " 'traitlets.config': <module 'traitlets.config' from '/home/zrd/anaconda3/lib/python3.8/site-packages/traitlets/config/__init__.py'>,\n",
       " 'pprint': <module 'pprint' from '/home/zrd/anaconda3/lib/python3.8/pprint.py'>,\n",
       " 'sysconfig': <module 'sysconfig' from '/home/zrd/anaconda3/lib/python3.8/sysconfig.py'>,\n",
       " 'urllib': <module 'urllib' from '/home/zrd/anaconda3/lib/python3.8/urllib/__init__.py'>,\n",
       " 'urllib.parse': <module 'urllib.parse' from '/home/zrd/anaconda3/lib/python3.8/urllib/parse.py'>,\n",
       " '_sysconfigdata__linux_x86_64-linux-gnu': <module '_sysconfigdata__linux_x86_64-linux-gnu' from '/home/zrd/anaconda3/lib/python3.8/_sysconfigdata__linux_x86_64-linux-gnu.py'>,\n",
       " 'pydoc': <module 'pydoc' from '/home/zrd/anaconda3/lib/python3.8/pydoc.py'>,\n",
       " 'bdb': <module 'bdb' from '/home/zrd/anaconda3/lib/python3.8/bdb.py'>,\n",
       " 'IPython.utils': <module 'IPython.utils' from '/home/zrd/anaconda3/lib/python3.8/site-packages/IPython/utils/__init__.py'>,\n",
       " 'IPython.utils.ipstruct': <module 'IPython.utils.ipstruct' from '/home/zrd/anaconda3/lib/python3.8/site-packages/IPython/utils/ipstruct.py'>,\n",
       " 'IPython.utils.coloransi': <module 'IPython.utils.coloransi' from '/home/zrd/anaconda3/lib/python3.8/site-packages/IPython/utils/coloransi.py'>,\n",
       " 'pygments': <module 'pygments' from '/home/zrd/anaconda3/lib/python3.8/site-packages/pygments/__init__.py'>,\n",
       " 'IPython.utils.colorable': <module 'IPython.utils.colorable' from '/home/zrd/anaconda3/lib/python3.8/site-packages/IPython/utils/colorable.py'>,\n",
       " 'IPython.utils.PyColorize': <module 'IPython.utils.PyColorize' from '/home/zrd/anaconda3/lib/python3.8/site-packages/IPython/utils/PyColorize.py'>,\n",
       " 'IPython.utils.encoding': <module 'IPython.utils.encoding' from '/home/zrd/anaconda3/lib/python3.8/site-packages/IPython/utils/encoding.py'>,\n",
       " 'IPython.utils.py3compat': <module 'IPython.utils.py3compat' from '/home/zrd/anaconda3/lib/python3.8/site-packages/IPython/utils/py3compat.py'>,\n",
       " 'IPython.core.excolors': <module 'IPython.core.excolors' from '/home/zrd/anaconda3/lib/python3.8/site-packages/IPython/core/excolors.py'>,\n",
       " 'IPython.testing': <module 'IPython.testing' from '/home/zrd/anaconda3/lib/python3.8/site-packages/IPython/testing/__init__.py'>,\n",
       " 'IPython.testing.skipdoctest': <module 'IPython.testing.skipdoctest' from '/home/zrd/anaconda3/lib/python3.8/site-packages/IPython/testing/skipdoctest.py'>,\n",
       " 'cmd': <module 'cmd' from '/home/zrd/anaconda3/lib/python3.8/cmd.py'>,\n",
       " 'codeop': <module 'codeop' from '/home/zrd/anaconda3/lib/python3.8/codeop.py'>,\n",
       " 'code': <module 'code' from '/home/zrd/anaconda3/lib/python3.8/code.py'>,\n",
       " 'pdb': <module 'pdb' from '/home/zrd/anaconda3/lib/python3.8/pdb.py'>,\n",
       " 'IPython.core.debugger': <module 'IPython.core.debugger' from '/home/zrd/anaconda3/lib/python3.8/site-packages/IPython/core/debugger.py'>,\n",
       " 'IPython.core.display_trap': <module 'IPython.core.display_trap' from '/home/zrd/anaconda3/lib/python3.8/site-packages/IPython/core/display_trap.py'>,\n",
       " 'pexpect.exceptions': <module 'pexpect.exceptions' from '/home/zrd/anaconda3/lib/python3.8/site-packages/pexpect/exceptions.py'>,\n",
       " 'pexpect.utils': <module 'pexpect.utils' from '/home/zrd/anaconda3/lib/python3.8/site-packages/pexpect/utils.py'>,\n",
       " 'pexpect.expect': <module 'pexpect.expect' from '/home/zrd/anaconda3/lib/python3.8/site-packages/pexpect/expect.py'>,\n",
       " 'termios': <module 'termios' from '/home/zrd/anaconda3/lib/python3.8/lib-dynload/termios.cpython-38-x86_64-linux-gnu.so'>,\n",
       " 'tty': <module 'tty' from '/home/zrd/anaconda3/lib/python3.8/tty.py'>,\n",
       " 'pty': <module 'pty' from '/home/zrd/anaconda3/lib/python3.8/pty.py'>,\n",
       " 'fcntl': <module 'fcntl' from '/home/zrd/anaconda3/lib/python3.8/lib-dynload/fcntl.cpython-38-x86_64-linux-gnu.so'>,\n",
       " 'resource': <module 'resource' from '/home/zrd/anaconda3/lib/python3.8/lib-dynload/resource.cpython-38-x86_64-linux-gnu.so'>,\n",
       " 'ptyprocess.util': <module 'ptyprocess.util' from '/home/zrd/anaconda3/lib/python3.8/site-packages/ptyprocess/util.py'>,\n",
       " 'ptyprocess.ptyprocess': <module 'ptyprocess.ptyprocess' from '/home/zrd/anaconda3/lib/python3.8/site-packages/ptyprocess/ptyprocess.py'>,\n",
       " 'ptyprocess': <module 'ptyprocess' from '/home/zrd/anaconda3/lib/python3.8/site-packages/ptyprocess/__init__.py'>,\n",
       " 'pexpect.spawnbase': <module 'pexpect.spawnbase' from '/home/zrd/anaconda3/lib/python3.8/site-packages/pexpect/spawnbase.py'>,\n",
       " 'pexpect.pty_spawn': <module 'pexpect.pty_spawn' from '/home/zrd/anaconda3/lib/python3.8/site-packages/pexpect/pty_spawn.py'>,\n",
       " 'pexpect.run': <module 'pexpect.run' from '/home/zrd/anaconda3/lib/python3.8/site-packages/pexpect/run.py'>,\n",
       " 'pexpect': <module 'pexpect' from '/home/zrd/anaconda3/lib/python3.8/site-packages/pexpect/__init__.py'>,\n",
       " 'shlex': <module 'shlex' from '/home/zrd/anaconda3/lib/python3.8/shlex.py'>,\n",
       " 'IPython.utils._process_common': <module 'IPython.utils._process_common' from '/home/zrd/anaconda3/lib/python3.8/site-packages/IPython/utils/_process_common.py'>,\n",
       " 'IPython.utils._process_posix': <module 'IPython.utils._process_posix' from '/home/zrd/anaconda3/lib/python3.8/site-packages/IPython/utils/_process_posix.py'>,\n",
       " 'IPython.utils.process': <module 'IPython.utils.process' from '/home/zrd/anaconda3/lib/python3.8/site-packages/IPython/utils/process.py'>,\n",
       " 'IPython.utils.decorators': <module 'IPython.utils.decorators' from '/home/zrd/anaconda3/lib/python3.8/site-packages/IPython/utils/decorators.py'>,\n",
       " 'IPython.utils.path': <module 'IPython.utils.path' from '/home/zrd/anaconda3/lib/python3.8/site-packages/IPython/utils/path.py'>,\n",
       " 'IPython.utils.data': <module 'IPython.utils.data' from '/home/zrd/anaconda3/lib/python3.8/site-packages/IPython/utils/data.py'>,\n",
       " 'IPython.utils.terminal': <module 'IPython.utils.terminal' from '/home/zrd/anaconda3/lib/python3.8/site-packages/IPython/utils/terminal.py'>,\n",
       " 'IPython.core.ultratb': <module 'IPython.core.ultratb' from '/home/zrd/anaconda3/lib/python3.8/site-packages/IPython/core/ultratb.py'>,\n",
       " 'IPython.utils._sysinfo': <module 'IPython.utils._sysinfo' from '/home/zrd/anaconda3/lib/python3.8/site-packages/IPython/utils/_sysinfo.py'>,\n",
       " 'IPython.utils.sysinfo': <module 'IPython.utils.sysinfo' from '/home/zrd/anaconda3/lib/python3.8/site-packages/IPython/utils/sysinfo.py'>,\n",
       " 'IPython.core.crashhandler': <module 'IPython.core.crashhandler' from '/home/zrd/anaconda3/lib/python3.8/site-packages/IPython/core/crashhandler.py'>,\n",
       " 'tempfile': <module 'tempfile' from '/home/zrd/anaconda3/lib/python3.8/tempfile.py'>,\n",
       " 'IPython.utils.importstring': <module 'IPython.utils.importstring' from '/home/zrd/anaconda3/lib/python3.8/site-packages/IPython/utils/importstring.py'>,\n",
       " 'IPython.paths': <module 'IPython.paths' from '/home/zrd/anaconda3/lib/python3.8/site-packages/IPython/paths.py'>,\n",
       " 'IPython.core.profiledir': <module 'IPython.core.profiledir' from '/home/zrd/anaconda3/lib/python3.8/site-packages/IPython/core/profiledir.py'>,\n",
       " 'IPython.core.application': <module 'IPython.core.application' from '/home/zrd/anaconda3/lib/python3.8/site-packages/IPython/core/application.py'>,\n",
       " 'IPython.terminal': <module 'IPython.terminal' from '/home/zrd/anaconda3/lib/python3.8/site-packages/IPython/terminal/__init__.py'>,\n",
       " '_hashlib': <module '_hashlib' from '/home/zrd/anaconda3/lib/python3.8/lib-dynload/_hashlib.cpython-38-x86_64-linux-gnu.so'>,\n",
       " '_blake2': <module '_blake2' from '/home/zrd/anaconda3/lib/python3.8/lib-dynload/_blake2.cpython-38-x86_64-linux-gnu.so'>,\n",
       " '_sha3': <module '_sha3' from '/home/zrd/anaconda3/lib/python3.8/lib-dynload/_sha3.cpython-38-x86_64-linux-gnu.so'>,\n",
       " 'hashlib': <module 'hashlib' from '/home/zrd/anaconda3/lib/python3.8/hashlib.py'>,\n",
       " 'IPython.core.compilerop': <module 'IPython.core.compilerop' from '/home/zrd/anaconda3/lib/python3.8/site-packages/IPython/core/compilerop.py'>,\n",
       " 'IPython.core.error': <module 'IPython.core.error' from '/home/zrd/anaconda3/lib/python3.8/site-packages/IPython/core/error.py'>,\n",
       " 'ntpath': <module 'ntpath' from '/home/zrd/anaconda3/lib/python3.8/ntpath.py'>,\n",
       " 'pathlib': <module 'pathlib' from '/home/zrd/anaconda3/lib/python3.8/pathlib.py'>,\n",
       " 'IPython.utils.text': <module 'IPython.utils.text' from '/home/zrd/anaconda3/lib/python3.8/site-packages/IPython/utils/text.py'>,\n",
       " 'IPython.core.magic_arguments': <module 'IPython.core.magic_arguments' from '/home/zrd/anaconda3/lib/python3.8/site-packages/IPython/core/magic_arguments.py'>,\n",
       " 'getopt': <module 'getopt' from '/home/zrd/anaconda3/lib/python3.8/getopt.py'>,\n",
       " 'typing.io': typing.io,\n",
       " 'typing.re': typing.re,\n",
       " 'typing': <module 'typing' from '/home/zrd/anaconda3/lib/python3.8/typing.py'>,\n",
       " 'binascii': <module 'binascii' from '/home/zrd/anaconda3/lib/python3.8/lib-dynload/binascii.cpython-38-x86_64-linux-gnu.so'>,\n",
       " 'mimetypes': <module 'mimetypes' from '/home/zrd/anaconda3/lib/python3.8/mimetypes.py'>,\n",
       " 'IPython.core.display': <module 'IPython.core.display' from '/home/zrd/anaconda3/lib/python3.8/site-packages/IPython/core/display.py'>,\n",
       " 'IPython.core.page': <module 'IPython.core.page' from '/home/zrd/anaconda3/lib/python3.8/site-packages/IPython/core/page.py'>,\n",
       " 'getpass': <module 'getpass' from '/home/zrd/anaconda3/lib/python3.8/getpass.py'>,\n",
       " 'IPython.lib.security': <module 'IPython.lib.security' from '/home/zrd/anaconda3/lib/python3.8/site-packages/IPython/lib/security.py'>,\n",
       " 'IPython.lib': <module 'IPython.lib' from '/home/zrd/anaconda3/lib/python3.8/site-packages/IPython/lib/__init__.py'>,\n",
       " '_datetime': <module '_datetime' from '/home/zrd/anaconda3/lib/python3.8/lib-dynload/_datetime.cpython-38-x86_64-linux-gnu.so'>,\n",
       " 'datetime': <module 'datetime' from '/home/zrd/anaconda3/lib/python3.8/datetime.py'>,\n",
       " 'IPython.lib.pretty': <module 'IPython.lib.pretty' from '/home/zrd/anaconda3/lib/python3.8/site-packages/IPython/lib/pretty.py'>,\n",
       " 'IPython.utils.openpy': <module 'IPython.utils.openpy' from '/home/zrd/anaconda3/lib/python3.8/site-packages/IPython/utils/openpy.py'>,\n",
       " 'IPython.utils.dir2': <module 'IPython.utils.dir2' from '/home/zrd/anaconda3/lib/python3.8/site-packages/IPython/utils/dir2.py'>,\n",
       " 'IPython.utils.wildcard': <module 'IPython.utils.wildcard' from '/home/zrd/anaconda3/lib/python3.8/site-packages/IPython/utils/wildcard.py'>,\n",
       " 'pygments.lexers._mapping': <module 'pygments.lexers._mapping' from '/home/zrd/anaconda3/lib/python3.8/site-packages/pygments/lexers/_mapping.py'>,\n",
       " 'pygments.modeline': <module 'pygments.modeline' from '/home/zrd/anaconda3/lib/python3.8/site-packages/pygments/modeline.py'>,\n",
       " 'pygments.plugin': <module 'pygments.plugin' from '/home/zrd/anaconda3/lib/python3.8/site-packages/pygments/plugin.py'>,\n",
       " 'pygments.util': <module 'pygments.util' from '/home/zrd/anaconda3/lib/python3.8/site-packages/pygments/util.py'>,\n",
       " 'pygments.lexers': <module 'pygments.lexers' from '/home/zrd/anaconda3/lib/python3.8/site-packages/pygments/lexers/__init__.py'>,\n",
       " 'pygments.filter': <module 'pygments.filter' from '/home/zrd/anaconda3/lib/python3.8/site-packages/pygments/filter.py'>,\n",
       " 'pygments.token': <module 'pygments.token' from '/home/zrd/anaconda3/lib/python3.8/site-packages/pygments/token.py'>,\n",
       " 'pygments.filters': <module 'pygments.filters' from '/home/zrd/anaconda3/lib/python3.8/site-packages/pygments/filters/__init__.py'>,\n",
       " 'pygments.regexopt': <module 'pygments.regexopt' from '/home/zrd/anaconda3/lib/python3.8/site-packages/pygments/regexopt.py'>,\n",
       " 'pygments.lexer': <module 'pygments.lexer' from '/home/zrd/anaconda3/lib/python3.8/site-packages/pygments/lexer.py'>,\n",
       " 'pygments.unistring': <module 'pygments.unistring' from '/home/zrd/anaconda3/lib/python3.8/site-packages/pygments/unistring.py'>,\n",
       " 'pygments.lexers.python': <module 'pygments.lexers.python' from '/home/zrd/anaconda3/lib/python3.8/site-packages/pygments/lexers/python.py'>,\n",
       " 'pygments.formatters._mapping': <module 'pygments.formatters._mapping' from '/home/zrd/anaconda3/lib/python3.8/site-packages/pygments/formatters/_mapping.py'>,\n",
       " 'pygments.formatters': <module 'pygments.formatters' from '/home/zrd/anaconda3/lib/python3.8/site-packages/pygments/formatters/__init__.py'>,\n",
       " 'pygments.styles': <module 'pygments.styles' from '/home/zrd/anaconda3/lib/python3.8/site-packages/pygments/styles/__init__.py'>,\n",
       " 'pygments.formatter': <module 'pygments.formatter' from '/home/zrd/anaconda3/lib/python3.8/site-packages/pygments/formatter.py'>,\n",
       " 'pygments.formatters.html': <module 'pygments.formatters.html' from '/home/zrd/anaconda3/lib/python3.8/site-packages/pygments/formatters/html.py'>,\n",
       " 'IPython.core.oinspect': <module 'IPython.core.oinspect' from '/home/zrd/anaconda3/lib/python3.8/site-packages/IPython/core/oinspect.py'>,\n",
       " 'IPython.core.inputtransformer2': <module 'IPython.core.inputtransformer2' from '/home/zrd/anaconda3/lib/python3.8/site-packages/IPython/core/inputtransformer2.py'>,\n",
       " 'IPython.core.magic': <module 'IPython.core.magic' from '/home/zrd/anaconda3/lib/python3.8/site-packages/IPython/core/magic.py'>,\n",
       " '_compat_pickle': <module '_compat_pickle' from '/home/zrd/anaconda3/lib/python3.8/_compat_pickle.py'>,\n",
       " '_pickle': <module '_pickle' from '/home/zrd/anaconda3/lib/python3.8/lib-dynload/_pickle.cpython-38-x86_64-linux-gnu.so'>,\n",
       " 'pickle': <module 'pickle' from '/home/zrd/anaconda3/lib/python3.8/pickle.py'>,\n",
       " 'pickleshare': <module 'pickleshare' from '/home/zrd/anaconda3/lib/python3.8/site-packages/pickleshare.py'>,\n",
       " 'IPython.core.autocall': <module 'IPython.core.autocall' from '/home/zrd/anaconda3/lib/python3.8/site-packages/IPython/core/autocall.py'>,\n",
       " 'IPython.core.macro': <module 'IPython.core.macro' from '/home/zrd/anaconda3/lib/python3.8/site-packages/IPython/core/macro.py'>,\n",
       " 'IPython.core.splitinput': <module 'IPython.core.splitinput' from '/home/zrd/anaconda3/lib/python3.8/site-packages/IPython/core/splitinput.py'>,\n",
       " 'IPython.core.prefilter': <module 'IPython.core.prefilter' from '/home/zrd/anaconda3/lib/python3.8/site-packages/IPython/core/prefilter.py'>,\n",
       " 'IPython.core.alias': <module 'IPython.core.alias' from '/home/zrd/anaconda3/lib/python3.8/site-packages/IPython/core/alias.py'>,\n",
       " 'IPython.core.builtin_trap': <module 'IPython.core.builtin_trap' from '/home/zrd/anaconda3/lib/python3.8/site-packages/IPython/core/builtin_trap.py'>,\n",
       " 'backcall.backcall': <module 'backcall.backcall' from '/home/zrd/anaconda3/lib/python3.8/site-packages/backcall/backcall.py'>,\n",
       " 'backcall': <module 'backcall' from '/home/zrd/anaconda3/lib/python3.8/site-packages/backcall/__init__.py'>,\n",
       " 'IPython.core.events': <module 'IPython.core.events' from '/home/zrd/anaconda3/lib/python3.8/site-packages/IPython/core/events.py'>,\n",
       " 'IPython.core.displayhook': <module 'IPython.core.displayhook' from '/home/zrd/anaconda3/lib/python3.8/site-packages/IPython/core/displayhook.py'>,\n",
       " 'IPython.core.displaypub': <module 'IPython.core.displaypub' from '/home/zrd/anaconda3/lib/python3.8/site-packages/IPython/core/displaypub.py'>,\n",
       " 'IPython.core.extensions': <module 'IPython.core.extensions' from '/home/zrd/anaconda3/lib/python3.8/site-packages/IPython/core/extensions.py'>,\n",
       " 'IPython.utils.sentinel': <module 'IPython.utils.sentinel' from '/home/zrd/anaconda3/lib/python3.8/site-packages/IPython/utils/sentinel.py'>,\n",
       " 'IPython.core.formatters': <module 'IPython.core.formatters' from '/home/zrd/anaconda3/lib/python3.8/site-packages/IPython/core/formatters.py'>,\n",
       " '_sqlite3': <module '_sqlite3' from '/home/zrd/anaconda3/lib/python3.8/lib-dynload/_sqlite3.cpython-38-x86_64-linux-gnu.so'>,\n",
       " 'sqlite3.dbapi2': <module 'sqlite3.dbapi2' from '/home/zrd/anaconda3/lib/python3.8/sqlite3/dbapi2.py'>,\n",
       " 'sqlite3': <module 'sqlite3' from '/home/zrd/anaconda3/lib/python3.8/sqlite3/__init__.py'>,\n",
       " 'IPython.core.history': <module 'IPython.core.history' from '/home/zrd/anaconda3/lib/python3.8/site-packages/IPython/core/history.py'>,\n",
       " 'IPython.core.logger': <module 'IPython.core.logger' from '/home/zrd/anaconda3/lib/python3.8/site-packages/IPython/core/logger.py'>,\n",
       " 'IPython.core.payload': <module 'IPython.core.payload' from '/home/zrd/anaconda3/lib/python3.8/site-packages/IPython/core/payload.py'>,\n",
       " 'IPython.core.usage': <module 'IPython.core.usage' from '/home/zrd/anaconda3/lib/python3.8/site-packages/IPython/core/usage.py'>,\n",
       " 'html.entities': <module 'html.entities' from '/home/zrd/anaconda3/lib/python3.8/html/entities.py'>,\n",
       " 'html': <module 'html' from '/home/zrd/anaconda3/lib/python3.8/html/__init__.py'>,\n",
       " 'IPython.lib.display': <module 'IPython.lib.display' from '/home/zrd/anaconda3/lib/python3.8/site-packages/IPython/lib/display.py'>,\n",
       " 'IPython.display': <module 'IPython.display' from '/home/zrd/anaconda3/lib/python3.8/site-packages/IPython/display.py'>,\n",
       " 'IPython.utils.capture': <module 'IPython.utils.capture' from '/home/zrd/anaconda3/lib/python3.8/site-packages/IPython/utils/capture.py'>,\n",
       " 'IPython.utils.io': <module 'IPython.utils.io' from '/home/zrd/anaconda3/lib/python3.8/site-packages/IPython/utils/io.py'>,\n",
       " 'IPython.core.hooks': <module 'IPython.core.hooks' from '/home/zrd/anaconda3/lib/python3.8/site-packages/IPython/core/hooks.py'>,\n",
       " 'IPython.utils.strdispatch': <module 'IPython.utils.strdispatch' from '/home/zrd/anaconda3/lib/python3.8/site-packages/IPython/utils/strdispatch.py'>,\n",
       " 'IPython.utils.syspathcontext': <module 'IPython.utils.syspathcontext' from '/home/zrd/anaconda3/lib/python3.8/site-packages/IPython/utils/syspathcontext.py'>,\n",
       " 'IPython.utils.tempdir': <module 'IPython.utils.tempdir' from '/home/zrd/anaconda3/lib/python3.8/site-packages/IPython/utils/tempdir.py'>,\n",
       " 'IPython.utils.contexts': <module 'IPython.utils.contexts' from '/home/zrd/anaconda3/lib/python3.8/site-packages/IPython/utils/contexts.py'>,\n",
       " 'IPython.core.async_helpers': <module 'IPython.core.async_helpers' from '/home/zrd/anaconda3/lib/python3.8/site-packages/IPython/core/async_helpers.py'>,\n",
       " 'IPython.core.interactiveshell': <module 'IPython.core.interactiveshell' from '/home/zrd/anaconda3/lib/python3.8/site-packages/IPython/core/interactiveshell.py'>,\n",
       " 'concurrent': <module 'concurrent' from '/home/zrd/anaconda3/lib/python3.8/concurrent/__init__.py'>,\n",
       " 'concurrent.futures._base': <module 'concurrent.futures._base' from '/home/zrd/anaconda3/lib/python3.8/concurrent/futures/_base.py'>,\n",
       " 'concurrent.futures': <module 'concurrent.futures' from '/home/zrd/anaconda3/lib/python3.8/concurrent/futures/__init__.py'>,\n",
       " '_socket': <module '_socket' from '/home/zrd/anaconda3/lib/python3.8/lib-dynload/_socket.cpython-38-x86_64-linux-gnu.so'>,\n",
       " 'socket': <module 'socket' from '/home/zrd/anaconda3/lib/python3.8/socket.py'>,\n",
       " '_ssl': <module '_ssl' from '/home/zrd/anaconda3/lib/python3.8/lib-dynload/_ssl.cpython-38-x86_64-linux-gnu.so'>,\n",
       " 'base64': <module 'base64' from '/home/zrd/anaconda3/lib/python3.8/base64.py'>,\n",
       " 'ssl': <module 'ssl' from '/home/zrd/anaconda3/lib/python3.8/ssl.py'>,\n",
       " 'asyncio.constants': <module 'asyncio.constants' from '/home/zrd/anaconda3/lib/python3.8/asyncio/constants.py'>,\n",
       " 'asyncio.format_helpers': <module 'asyncio.format_helpers' from '/home/zrd/anaconda3/lib/python3.8/asyncio/format_helpers.py'>,\n",
       " 'asyncio.base_futures': <module 'asyncio.base_futures' from '/home/zrd/anaconda3/lib/python3.8/asyncio/base_futures.py'>,\n",
       " 'asyncio.log': <module 'asyncio.log' from '/home/zrd/anaconda3/lib/python3.8/asyncio/log.py'>,\n",
       " 'asyncio.coroutines': <module 'asyncio.coroutines' from '/home/zrd/anaconda3/lib/python3.8/asyncio/coroutines.py'>,\n",
       " '_contextvars': <module '_contextvars' from '/home/zrd/anaconda3/lib/python3.8/lib-dynload/_contextvars.cpython-38-x86_64-linux-gnu.so'>,\n",
       " 'contextvars': <module 'contextvars' from '/home/zrd/anaconda3/lib/python3.8/contextvars.py'>,\n",
       " 'asyncio.exceptions': <module 'asyncio.exceptions' from '/home/zrd/anaconda3/lib/python3.8/asyncio/exceptions.py'>,\n",
       " 'asyncio.base_tasks': <module 'asyncio.base_tasks' from '/home/zrd/anaconda3/lib/python3.8/asyncio/base_tasks.py'>,\n",
       " '_asyncio': <module '_asyncio' from '/home/zrd/anaconda3/lib/python3.8/lib-dynload/_asyncio.cpython-38-x86_64-linux-gnu.so'>,\n",
       " 'asyncio.events': <module 'asyncio.events' from '/home/zrd/anaconda3/lib/python3.8/asyncio/events.py'>,\n",
       " 'asyncio.futures': <module 'asyncio.futures' from '/home/zrd/anaconda3/lib/python3.8/asyncio/futures.py'>,\n",
       " 'asyncio.protocols': <module 'asyncio.protocols' from '/home/zrd/anaconda3/lib/python3.8/asyncio/protocols.py'>,\n",
       " 'asyncio.transports': <module 'asyncio.transports' from '/home/zrd/anaconda3/lib/python3.8/asyncio/transports.py'>,\n",
       " 'asyncio.sslproto': <module 'asyncio.sslproto' from '/home/zrd/anaconda3/lib/python3.8/asyncio/sslproto.py'>,\n",
       " 'asyncio.locks': <module 'asyncio.locks' from '/home/zrd/anaconda3/lib/python3.8/asyncio/locks.py'>,\n",
       " 'asyncio.tasks': <module 'asyncio.tasks' from '/home/zrd/anaconda3/lib/python3.8/asyncio/tasks.py'>,\n",
       " 'asyncio.staggered': <module 'asyncio.staggered' from '/home/zrd/anaconda3/lib/python3.8/asyncio/staggered.py'>,\n",
       " 'asyncio.trsock': <module 'asyncio.trsock' from '/home/zrd/anaconda3/lib/python3.8/asyncio/trsock.py'>,\n",
       " 'asyncio.base_events': <module 'asyncio.base_events' from '/home/zrd/anaconda3/lib/python3.8/asyncio/base_events.py'>,\n",
       " 'asyncio.runners': <module 'asyncio.runners' from '/home/zrd/anaconda3/lib/python3.8/asyncio/runners.py'>,\n",
       " 'asyncio.queues': <module 'asyncio.queues' from '/home/zrd/anaconda3/lib/python3.8/asyncio/queues.py'>,\n",
       " 'asyncio.streams': <module 'asyncio.streams' from '/home/zrd/anaconda3/lib/python3.8/asyncio/streams.py'>,\n",
       " 'asyncio.subprocess': <module 'asyncio.subprocess' from '/home/zrd/anaconda3/lib/python3.8/asyncio/subprocess.py'>,\n",
       " 'asyncio.base_subprocess': <module 'asyncio.base_subprocess' from '/home/zrd/anaconda3/lib/python3.8/asyncio/base_subprocess.py'>,\n",
       " 'asyncio.selector_events': <module 'asyncio.selector_events' from '/home/zrd/anaconda3/lib/python3.8/asyncio/selector_events.py'>,\n",
       " 'asyncio.unix_events': <module 'asyncio.unix_events' from '/home/zrd/anaconda3/lib/python3.8/asyncio/unix_events.py'>,\n",
       " 'asyncio': <module 'asyncio' from '/home/zrd/anaconda3/lib/python3.8/asyncio/__init__.py'>,\n",
       " 'prompt_toolkit.application.current': <module 'prompt_toolkit.application.current' from '/home/zrd/anaconda3/lib/python3.8/site-packages/prompt_toolkit/application/current.py'>,\n",
       " 'prompt_toolkit.eventloop.utils': <module 'prompt_toolkit.eventloop.utils' from '/home/zrd/anaconda3/lib/python3.8/site-packages/prompt_toolkit/eventloop/utils.py'>,\n",
       " 'prompt_toolkit.eventloop.async_generator': <module 'prompt_toolkit.eventloop.async_generator' from '/home/zrd/anaconda3/lib/python3.8/site-packages/prompt_toolkit/eventloop/async_generator.py'>,\n",
       " 'wcwidth.table_wide': <module 'wcwidth.table_wide' from '/home/zrd/anaconda3/lib/python3.8/site-packages/wcwidth/table_wide.py'>,\n",
       " 'wcwidth.table_zero': <module 'wcwidth.table_zero' from '/home/zrd/anaconda3/lib/python3.8/site-packages/wcwidth/table_zero.py'>,\n",
       " 'wcwidth.unicode_versions': <module 'wcwidth.unicode_versions' from '/home/zrd/anaconda3/lib/python3.8/site-packages/wcwidth/unicode_versions.py'>,\n",
       " 'wcwidth.wcwidth': <module 'wcwidth.wcwidth' from '/home/zrd/anaconda3/lib/python3.8/site-packages/wcwidth/wcwidth.py'>,\n",
       " 'wcwidth': <module 'wcwidth' from '/home/zrd/anaconda3/lib/python3.8/site-packages/wcwidth/__init__.py'>,\n",
       " 'prompt_toolkit.utils': <module 'prompt_toolkit.utils' from '/home/zrd/anaconda3/lib/python3.8/site-packages/prompt_toolkit/utils.py'>,\n",
       " 'prompt_toolkit.eventloop.inputhook': <module 'prompt_toolkit.eventloop.inputhook' from '/home/zrd/anaconda3/lib/python3.8/site-packages/prompt_toolkit/eventloop/inputhook.py'>,\n",
       " 'prompt_toolkit.eventloop': <module 'prompt_toolkit.eventloop' from '/home/zrd/anaconda3/lib/python3.8/site-packages/prompt_toolkit/eventloop/__init__.py'>,\n",
       " 'prompt_toolkit.application.run_in_terminal': <module 'prompt_toolkit.application.run_in_terminal' from '/home/zrd/anaconda3/lib/python3.8/site-packages/prompt_toolkit/application/run_in_terminal.py'>,\n",
       " 'prompt_toolkit.selection': <module 'prompt_toolkit.selection' from '/home/zrd/anaconda3/lib/python3.8/site-packages/prompt_toolkit/selection.py'>,\n",
       " 'prompt_toolkit.clipboard.base': <module 'prompt_toolkit.clipboard.base' from '/home/zrd/anaconda3/lib/python3.8/site-packages/prompt_toolkit/clipboard/base.py'>,\n",
       " 'prompt_toolkit.clipboard.in_memory': <module 'prompt_toolkit.clipboard.in_memory' from '/home/zrd/anaconda3/lib/python3.8/site-packages/prompt_toolkit/clipboard/in_memory.py'>,\n",
       " 'prompt_toolkit.clipboard': <module 'prompt_toolkit.clipboard' from '/home/zrd/anaconda3/lib/python3.8/site-packages/prompt_toolkit/clipboard/__init__.py'>,\n",
       " 'prompt_toolkit.cache': <module 'prompt_toolkit.cache' from '/home/zrd/anaconda3/lib/python3.8/site-packages/prompt_toolkit/cache.py'>,\n",
       " 'prompt_toolkit.enums': <module 'prompt_toolkit.enums' from '/home/zrd/anaconda3/lib/python3.8/site-packages/prompt_toolkit/enums.py'>,\n",
       " 'prompt_toolkit.filters.base': <module 'prompt_toolkit.filters.base' from '/home/zrd/anaconda3/lib/python3.8/site-packages/prompt_toolkit/filters/base.py'>,\n",
       " 'prompt_toolkit.filters.app': <module 'prompt_toolkit.filters.app' from '/home/zrd/anaconda3/lib/python3.8/site-packages/prompt_toolkit/filters/app.py'>,\n",
       " 'prompt_toolkit.filters.cli': <module 'prompt_toolkit.filters.cli' from '/home/zrd/anaconda3/lib/python3.8/site-packages/prompt_toolkit/filters/cli.py'>,\n",
       " 'prompt_toolkit.filters.utils': <module 'prompt_toolkit.filters.utils' from '/home/zrd/anaconda3/lib/python3.8/site-packages/prompt_toolkit/filters/utils.py'>,\n",
       " 'prompt_toolkit.filters': <module 'prompt_toolkit.filters' from '/home/zrd/anaconda3/lib/python3.8/site-packages/prompt_toolkit/filters/__init__.py'>,\n",
       " 'prompt_toolkit.document': <module 'prompt_toolkit.document' from '/home/zrd/anaconda3/lib/python3.8/site-packages/prompt_toolkit/document.py'>,\n",
       " 'prompt_toolkit.auto_suggest': <module 'prompt_toolkit.auto_suggest' from '/home/zrd/anaconda3/lib/python3.8/site-packages/prompt_toolkit/auto_suggest.py'>,\n",
       " 'prompt_toolkit.data_structures': <module 'prompt_toolkit.data_structures' from '/home/zrd/anaconda3/lib/python3.8/site-packages/prompt_toolkit/data_structures.py'>,\n",
       " 'prompt_toolkit.styles.base': <module 'prompt_toolkit.styles.base' from '/home/zrd/anaconda3/lib/python3.8/site-packages/prompt_toolkit/styles/base.py'>,\n",
       " 'prompt_toolkit.styles.named_colors': <module 'prompt_toolkit.styles.named_colors' from '/home/zrd/anaconda3/lib/python3.8/site-packages/prompt_toolkit/styles/named_colors.py'>,\n",
       " 'prompt_toolkit.styles.style': <module 'prompt_toolkit.styles.style' from '/home/zrd/anaconda3/lib/python3.8/site-packages/prompt_toolkit/styles/style.py'>,\n",
       " 'prompt_toolkit.styles.defaults': <module 'prompt_toolkit.styles.defaults' from '/home/zrd/anaconda3/lib/python3.8/site-packages/prompt_toolkit/styles/defaults.py'>,\n",
       " 'prompt_toolkit.styles.pygments': <module 'prompt_toolkit.styles.pygments' from '/home/zrd/anaconda3/lib/python3.8/site-packages/prompt_toolkit/styles/pygments.py'>,\n",
       " 'colorsys': <module 'colorsys' from '/home/zrd/anaconda3/lib/python3.8/colorsys.py'>,\n",
       " 'prompt_toolkit.styles.style_transformation': <module 'prompt_toolkit.styles.style_transformation' from '/home/zrd/anaconda3/lib/python3.8/site-packages/prompt_toolkit/styles/style_transformation.py'>,\n",
       " 'prompt_toolkit.styles': <module 'prompt_toolkit.styles' from '/home/zrd/anaconda3/lib/python3.8/site-packages/prompt_toolkit/styles/__init__.py'>,\n",
       " 'prompt_toolkit.output.color_depth': <module 'prompt_toolkit.output.color_depth' from '/home/zrd/anaconda3/lib/python3.8/site-packages/prompt_toolkit/output/color_depth.py'>,\n",
       " 'prompt_toolkit.output.base': <module 'prompt_toolkit.output.base' from '/home/zrd/anaconda3/lib/python3.8/site-packages/prompt_toolkit/output/base.py'>,\n",
       " 'prompt_toolkit.patch_stdout': <module 'prompt_toolkit.patch_stdout' from '/home/zrd/anaconda3/lib/python3.8/site-packages/prompt_toolkit/patch_stdout.py'>,\n",
       " 'prompt_toolkit.output.defaults': <module 'prompt_toolkit.output.defaults' from '/home/zrd/anaconda3/lib/python3.8/site-packages/prompt_toolkit/output/defaults.py'>,\n",
       " 'prompt_toolkit.output': <module 'prompt_toolkit.output' from '/home/zrd/anaconda3/lib/python3.8/site-packages/prompt_toolkit/output/__init__.py'>,\n",
       " 'array': <module 'array' from '/home/zrd/anaconda3/lib/python3.8/lib-dynload/array.cpython-38-x86_64-linux-gnu.so'>,\n",
       " 'prompt_toolkit.output.vt100': <module 'prompt_toolkit.output.vt100' from '/home/zrd/anaconda3/lib/python3.8/site-packages/prompt_toolkit/output/vt100.py'>,\n",
       " 'prompt_toolkit.mouse_events': <module 'prompt_toolkit.mouse_events' from '/home/zrd/anaconda3/lib/python3.8/site-packages/prompt_toolkit/mouse_events.py'>,\n",
       " 'prompt_toolkit.formatted_text.base': <module 'prompt_toolkit.formatted_text.base' from '/home/zrd/anaconda3/lib/python3.8/site-packages/prompt_toolkit/formatted_text/base.py'>,\n",
       " 'prompt_toolkit.formatted_text.ansi': <module 'prompt_toolkit.formatted_text.ansi' from '/home/zrd/anaconda3/lib/python3.8/site-packages/prompt_toolkit/formatted_text/ansi.py'>,\n",
       " 'xml': <module 'xml' from '/home/zrd/anaconda3/lib/python3.8/xml/__init__.py'>,\n",
       " 'xml.dom.domreg': <module 'xml.dom.domreg' from '/home/zrd/anaconda3/lib/python3.8/xml/dom/domreg.py'>,\n",
       " 'xml.dom': <module 'xml.dom' from '/home/zrd/anaconda3/lib/python3.8/xml/dom/__init__.py'>,\n",
       " 'xml.dom.minicompat': <module 'xml.dom.minicompat' from '/home/zrd/anaconda3/lib/python3.8/xml/dom/minicompat.py'>,\n",
       " 'xml.dom.NodeFilter': <module 'xml.dom.NodeFilter' from '/home/zrd/anaconda3/lib/python3.8/xml/dom/NodeFilter.py'>,\n",
       " 'xml.dom.xmlbuilder': <module 'xml.dom.xmlbuilder' from '/home/zrd/anaconda3/lib/python3.8/xml/dom/xmlbuilder.py'>,\n",
       " 'xml.dom.minidom': <module 'xml.dom.minidom' from '/home/zrd/anaconda3/lib/python3.8/xml/dom/minidom.py'>,\n",
       " 'prompt_toolkit.formatted_text.html': <module 'prompt_toolkit.formatted_text.html' from '/home/zrd/anaconda3/lib/python3.8/site-packages/prompt_toolkit/formatted_text/html.py'>,\n",
       " 'prompt_toolkit.formatted_text.pygments': <module 'prompt_toolkit.formatted_text.pygments' from '/home/zrd/anaconda3/lib/python3.8/site-packages/prompt_toolkit/formatted_text/pygments.py'>,\n",
       " 'prompt_toolkit.formatted_text.utils': <module 'prompt_toolkit.formatted_text.utils' from '/home/zrd/anaconda3/lib/python3.8/site-packages/prompt_toolkit/formatted_text/utils.py'>,\n",
       " 'prompt_toolkit.formatted_text': <module 'prompt_toolkit.formatted_text' from '/home/zrd/anaconda3/lib/python3.8/site-packages/prompt_toolkit/formatted_text/__init__.py'>,\n",
       " 'prompt_toolkit.completion.base': <module 'prompt_toolkit.completion.base' from '/home/zrd/anaconda3/lib/python3.8/site-packages/prompt_toolkit/completion/base.py'>,\n",
       " 'prompt_toolkit.completion.filesystem': <module 'prompt_toolkit.completion.filesystem' from '/home/zrd/anaconda3/lib/python3.8/site-packages/prompt_toolkit/completion/filesystem.py'>,\n",
       " 'prompt_toolkit.completion.word_completer': <module 'prompt_toolkit.completion.word_completer' from '/home/zrd/anaconda3/lib/python3.8/site-packages/prompt_toolkit/completion/word_completer.py'>,\n",
       " 'prompt_toolkit.completion.fuzzy_completer': <module 'prompt_toolkit.completion.fuzzy_completer' from '/home/zrd/anaconda3/lib/python3.8/site-packages/prompt_toolkit/completion/fuzzy_completer.py'>,\n",
       " 'prompt_toolkit.completion.nested': <module 'prompt_toolkit.completion.nested' from '/home/zrd/anaconda3/lib/python3.8/site-packages/prompt_toolkit/completion/nested.py'>,\n",
       " 'prompt_toolkit.completion': <module 'prompt_toolkit.completion' from '/home/zrd/anaconda3/lib/python3.8/site-packages/prompt_toolkit/completion/__init__.py'>,\n",
       " 'prompt_toolkit.history': <module 'prompt_toolkit.history' from '/home/zrd/anaconda3/lib/python3.8/site-packages/prompt_toolkit/history.py'>,\n",
       " 'prompt_toolkit.keys': <module 'prompt_toolkit.keys' from '/home/zrd/anaconda3/lib/python3.8/site-packages/prompt_toolkit/keys.py'>,\n",
       " 'prompt_toolkit.key_binding.key_bindings': <module 'prompt_toolkit.key_binding.key_bindings' from '/home/zrd/anaconda3/lib/python3.8/site-packages/prompt_toolkit/key_binding/key_bindings.py'>,\n",
       " 'prompt_toolkit.key_binding.key_processor': <module 'prompt_toolkit.key_binding.key_processor' from '/home/zrd/anaconda3/lib/python3.8/site-packages/prompt_toolkit/key_binding/key_processor.py'>,\n",
       " 'prompt_toolkit.key_binding': <module 'prompt_toolkit.key_binding' from '/home/zrd/anaconda3/lib/python3.8/site-packages/prompt_toolkit/key_binding/__init__.py'>,\n",
       " 'prompt_toolkit.key_binding.vi_state': <module 'prompt_toolkit.key_binding.vi_state' from '/home/zrd/anaconda3/lib/python3.8/site-packages/prompt_toolkit/key_binding/vi_state.py'>,\n",
       " 'prompt_toolkit.search': <module 'prompt_toolkit.search' from '/home/zrd/anaconda3/lib/python3.8/site-packages/prompt_toolkit/search.py'>,\n",
       " 'prompt_toolkit.validation': <module 'prompt_toolkit.validation' from '/home/zrd/anaconda3/lib/python3.8/site-packages/prompt_toolkit/validation.py'>,\n",
       " 'prompt_toolkit.buffer': <module 'prompt_toolkit.buffer' from '/home/zrd/anaconda3/lib/python3.8/site-packages/prompt_toolkit/buffer.py'>,\n",
       " 'prompt_toolkit.input.base': <module 'prompt_toolkit.input.base' from '/home/zrd/anaconda3/lib/python3.8/site-packages/prompt_toolkit/input/base.py'>,\n",
       " 'prompt_toolkit.input.defaults': <module 'prompt_toolkit.input.defaults' from '/home/zrd/anaconda3/lib/python3.8/site-packages/prompt_toolkit/input/defaults.py'>,\n",
       " 'prompt_toolkit.input': <module 'prompt_toolkit.input' from '/home/zrd/anaconda3/lib/python3.8/site-packages/prompt_toolkit/input/__init__.py'>,\n",
       " 'prompt_toolkit.input.typeahead': <module 'prompt_toolkit.input.typeahead' from '/home/zrd/anaconda3/lib/python3.8/site-packages/prompt_toolkit/input/typeahead.py'>,\n",
       " 'prompt_toolkit.key_binding.bindings': <module 'prompt_toolkit.key_binding.bindings' from '/home/zrd/anaconda3/lib/python3.8/site-packages/prompt_toolkit/key_binding/bindings/__init__.py'>,\n",
       " 'prompt_toolkit.key_binding.bindings.scroll': <module 'prompt_toolkit.key_binding.bindings.scroll' from '/home/zrd/anaconda3/lib/python3.8/site-packages/prompt_toolkit/key_binding/bindings/scroll.py'>,\n",
       " 'prompt_toolkit.key_binding.bindings.page_navigation': <module 'prompt_toolkit.key_binding.bindings.page_navigation' from '/home/zrd/anaconda3/lib/python3.8/site-packages/prompt_toolkit/key_binding/bindings/page_navigation.py'>,\n",
       " 'prompt_toolkit.lexers.base': <module 'prompt_toolkit.lexers.base' from '/home/zrd/anaconda3/lib/python3.8/site-packages/prompt_toolkit/lexers/base.py'>,\n",
       " 'prompt_toolkit.lexers.pygments': <module 'prompt_toolkit.lexers.pygments' from '/home/zrd/anaconda3/lib/python3.8/site-packages/prompt_toolkit/lexers/pygments.py'>,\n",
       " 'prompt_toolkit.lexers': <module 'prompt_toolkit.lexers' from '/home/zrd/anaconda3/lib/python3.8/site-packages/prompt_toolkit/lexers/__init__.py'>,\n",
       " 'prompt_toolkit.layout.utils': <module 'prompt_toolkit.layout.utils' from '/home/zrd/anaconda3/lib/python3.8/site-packages/prompt_toolkit/layout/utils.py'>,\n",
       " 'prompt_toolkit.layout.processors': <module 'prompt_toolkit.layout.processors' from '/home/zrd/anaconda3/lib/python3.8/site-packages/prompt_toolkit/layout/processors.py'>,\n",
       " 'prompt_toolkit.layout.controls': <module 'prompt_toolkit.layout.controls' from '/home/zrd/anaconda3/lib/python3.8/site-packages/prompt_toolkit/layout/controls.py'>,\n",
       " 'prompt_toolkit.layout.dimension': <module 'prompt_toolkit.layout.dimension' from '/home/zrd/anaconda3/lib/python3.8/site-packages/prompt_toolkit/layout/dimension.py'>,\n",
       " 'prompt_toolkit.layout.margins': <module 'prompt_toolkit.layout.margins' from '/home/zrd/anaconda3/lib/python3.8/site-packages/prompt_toolkit/layout/margins.py'>,\n",
       " 'prompt_toolkit.layout.mouse_handlers': <module 'prompt_toolkit.layout.mouse_handlers' from '/home/zrd/anaconda3/lib/python3.8/site-packages/prompt_toolkit/layout/mouse_handlers.py'>,\n",
       " 'prompt_toolkit.layout.screen': <module 'prompt_toolkit.layout.screen' from '/home/zrd/anaconda3/lib/python3.8/site-packages/prompt_toolkit/layout/screen.py'>,\n",
       " 'prompt_toolkit.layout.containers': <module 'prompt_toolkit.layout.containers' from '/home/zrd/anaconda3/lib/python3.8/site-packages/prompt_toolkit/layout/containers.py'>,\n",
       " 'prompt_toolkit.layout.layout': <module 'prompt_toolkit.layout.layout' from '/home/zrd/anaconda3/lib/python3.8/site-packages/prompt_toolkit/layout/layout.py'>,\n",
       " 'prompt_toolkit.layout.menus': <module 'prompt_toolkit.layout.menus' from '/home/zrd/anaconda3/lib/python3.8/site-packages/prompt_toolkit/layout/menus.py'>,\n",
       " 'prompt_toolkit.layout': <module 'prompt_toolkit.layout' from '/home/zrd/anaconda3/lib/python3.8/site-packages/prompt_toolkit/layout/__init__.py'>,\n",
       " 'prompt_toolkit.key_binding.bindings.completion': <module 'prompt_toolkit.key_binding.bindings.completion' from '/home/zrd/anaconda3/lib/python3.8/site-packages/prompt_toolkit/key_binding/bindings/completion.py'>,\n",
       " 'prompt_toolkit.key_binding.bindings.named_commands': <module 'prompt_toolkit.key_binding.bindings.named_commands' from '/home/zrd/anaconda3/lib/python3.8/site-packages/prompt_toolkit/key_binding/bindings/named_commands.py'>,\n",
       " 'prompt_toolkit.key_binding.bindings.basic': <module 'prompt_toolkit.key_binding.bindings.basic' from '/home/zrd/anaconda3/lib/python3.8/site-packages/prompt_toolkit/key_binding/bindings/basic.py'>,\n",
       " 'prompt_toolkit.key_binding.bindings.cpr': <module 'prompt_toolkit.key_binding.bindings.cpr' from '/home/zrd/anaconda3/lib/python3.8/site-packages/prompt_toolkit/key_binding/bindings/cpr.py'>,\n",
       " 'prompt_toolkit.key_binding.bindings.emacs': <module 'prompt_toolkit.key_binding.bindings.emacs' from '/home/zrd/anaconda3/lib/python3.8/site-packages/prompt_toolkit/key_binding/bindings/emacs.py'>,\n",
       " 'prompt_toolkit.key_binding.bindings.mouse': <module 'prompt_toolkit.key_binding.bindings.mouse' from '/home/zrd/anaconda3/lib/python3.8/site-packages/prompt_toolkit/key_binding/bindings/mouse.py'>,\n",
       " 'prompt_toolkit.input.ansi_escape_sequences': <module 'prompt_toolkit.input.ansi_escape_sequences' from '/home/zrd/anaconda3/lib/python3.8/site-packages/prompt_toolkit/input/ansi_escape_sequences.py'>,\n",
       " 'prompt_toolkit.input.vt100_parser': <module 'prompt_toolkit.input.vt100_parser' from '/home/zrd/anaconda3/lib/python3.8/site-packages/prompt_toolkit/input/vt100_parser.py'>,\n",
       " 'prompt_toolkit.key_binding.digraphs': <module 'prompt_toolkit.key_binding.digraphs' from '/home/zrd/anaconda3/lib/python3.8/site-packages/prompt_toolkit/key_binding/digraphs.py'>,\n",
       " 'prompt_toolkit.key_binding.bindings.vi': <module 'prompt_toolkit.key_binding.bindings.vi' from '/home/zrd/anaconda3/lib/python3.8/site-packages/prompt_toolkit/key_binding/bindings/vi.py'>,\n",
       " 'prompt_toolkit.key_binding.defaults': <module 'prompt_toolkit.key_binding.defaults' from '/home/zrd/anaconda3/lib/python3.8/site-packages/prompt_toolkit/key_binding/defaults.py'>,\n",
       " 'prompt_toolkit.key_binding.emacs_state': <module 'prompt_toolkit.key_binding.emacs_state' from '/home/zrd/anaconda3/lib/python3.8/site-packages/prompt_toolkit/key_binding/emacs_state.py'>,\n",
       " 'prompt_toolkit.layout.dummy': <module 'prompt_toolkit.layout.dummy' from '/home/zrd/anaconda3/lib/python3.8/site-packages/prompt_toolkit/layout/dummy.py'>,\n",
       " 'prompt_toolkit.renderer': <module 'prompt_toolkit.renderer' from '/home/zrd/anaconda3/lib/python3.8/site-packages/prompt_toolkit/renderer.py'>,\n",
       " 'prompt_toolkit.application.application': <module 'prompt_toolkit.application.application' from '/home/zrd/anaconda3/lib/python3.8/site-packages/prompt_toolkit/application/application.py'>,\n",
       " 'prompt_toolkit.application.dummy': <module 'prompt_toolkit.application.dummy' from '/home/zrd/anaconda3/lib/python3.8/site-packages/prompt_toolkit/application/dummy.py'>,\n",
       " 'prompt_toolkit.application': <module 'prompt_toolkit.application' from '/home/zrd/anaconda3/lib/python3.8/site-packages/prompt_toolkit/application/__init__.py'>,\n",
       " 'prompt_toolkit.key_binding.bindings.focus': <module 'prompt_toolkit.key_binding.bindings.focus' from '/home/zrd/anaconda3/lib/python3.8/site-packages/prompt_toolkit/key_binding/bindings/focus.py'>,\n",
       " 'prompt_toolkit.widgets.toolbars': <module 'prompt_toolkit.widgets.toolbars' from '/home/zrd/anaconda3/lib/python3.8/site-packages/prompt_toolkit/widgets/toolbars.py'>,\n",
       " 'prompt_toolkit.widgets.base': <module 'prompt_toolkit.widgets.base' from '/home/zrd/anaconda3/lib/python3.8/site-packages/prompt_toolkit/widgets/base.py'>,\n",
       " 'prompt_toolkit.widgets.dialogs': <module 'prompt_toolkit.widgets.dialogs' from '/home/zrd/anaconda3/lib/python3.8/site-packages/prompt_toolkit/widgets/dialogs.py'>,\n",
       " 'prompt_toolkit.widgets.menus': <module 'prompt_toolkit.widgets.menus' from '/home/zrd/anaconda3/lib/python3.8/site-packages/prompt_toolkit/widgets/menus.py'>,\n",
       " 'prompt_toolkit.widgets': <module 'prompt_toolkit.widgets' from '/home/zrd/anaconda3/lib/python3.8/site-packages/prompt_toolkit/widgets/__init__.py'>,\n",
       " 'prompt_toolkit.shortcuts.dialogs': <module 'prompt_toolkit.shortcuts.dialogs' from '/home/zrd/anaconda3/lib/python3.8/site-packages/prompt_toolkit/shortcuts/dialogs.py'>,\n",
       " 'prompt_toolkit.shortcuts.progress_bar.formatters': <module 'prompt_toolkit.shortcuts.progress_bar.formatters' from '/home/zrd/anaconda3/lib/python3.8/site-packages/prompt_toolkit/shortcuts/progress_bar/formatters.py'>,\n",
       " 'prompt_toolkit.shortcuts.progress_bar.base': <module 'prompt_toolkit.shortcuts.progress_bar.base' from '/home/zrd/anaconda3/lib/python3.8/site-packages/prompt_toolkit/shortcuts/progress_bar/base.py'>,\n",
       " 'prompt_toolkit.shortcuts.progress_bar': <module 'prompt_toolkit.shortcuts.progress_bar' from '/home/zrd/anaconda3/lib/python3.8/site-packages/prompt_toolkit/shortcuts/progress_bar/__init__.py'>,\n",
       " 'prompt_toolkit.key_binding.bindings.auto_suggest': <module 'prompt_toolkit.key_binding.bindings.auto_suggest' from '/home/zrd/anaconda3/lib/python3.8/site-packages/prompt_toolkit/key_binding/bindings/auto_suggest.py'>,\n",
       " 'prompt_toolkit.key_binding.bindings.open_in_editor': <module 'prompt_toolkit.key_binding.bindings.open_in_editor' from '/home/zrd/anaconda3/lib/python3.8/site-packages/prompt_toolkit/key_binding/bindings/open_in_editor.py'>,\n",
       " 'prompt_toolkit.shortcuts.prompt': <module 'prompt_toolkit.shortcuts.prompt' from '/home/zrd/anaconda3/lib/python3.8/site-packages/prompt_toolkit/shortcuts/prompt.py'>,\n",
       " 'prompt_toolkit.shortcuts.utils': <module 'prompt_toolkit.shortcuts.utils' from '/home/zrd/anaconda3/lib/python3.8/site-packages/prompt_toolkit/shortcuts/utils.py'>,\n",
       " 'prompt_toolkit.shortcuts': <module 'prompt_toolkit.shortcuts' from '/home/zrd/anaconda3/lib/python3.8/site-packages/prompt_toolkit/shortcuts/__init__.py'>,\n",
       " 'prompt_toolkit': <module 'prompt_toolkit' from '/home/zrd/anaconda3/lib/python3.8/site-packages/prompt_toolkit/__init__.py'>,\n",
       " 'pygments.style': <module 'pygments.style' from '/home/zrd/anaconda3/lib/python3.8/site-packages/pygments/style.py'>,\n",
       " 'unicodedata': <module 'unicodedata' from '/home/zrd/anaconda3/lib/python3.8/lib-dynload/unicodedata.cpython-38-x86_64-linux-gnu.so'>,\n",
       " 'IPython.core.latex_symbols': <module 'IPython.core.latex_symbols' from '/home/zrd/anaconda3/lib/python3.8/site-packages/IPython/core/latex_symbols.py'>,\n",
       " 'IPython.utils.generics': <module 'IPython.utils.generics' from '/home/zrd/anaconda3/lib/python3.8/site-packages/IPython/utils/generics.py'>,\n",
       " 'parso._compatibility': <module 'parso._compatibility' from '/home/zrd/anaconda3/lib/python3.8/site-packages/parso/_compatibility.py'>,\n",
       " 'parso.utils': <module 'parso.utils' from '/home/zrd/anaconda3/lib/python3.8/site-packages/parso/utils.py'>,\n",
       " 'parso.tree': <module 'parso.tree' from '/home/zrd/anaconda3/lib/python3.8/site-packages/parso/tree.py'>,\n",
       " 'parso.python': <module 'parso.python' from '/home/zrd/anaconda3/lib/python3.8/site-packages/parso/python/__init__.py'>,\n",
       " 'parso.python.token': <module 'parso.python.token' from '/home/zrd/anaconda3/lib/python3.8/site-packages/parso/python/token.py'>,\n",
       " 'parso.python.tokenize': <module 'parso.python.tokenize' from '/home/zrd/anaconda3/lib/python3.8/site-packages/parso/python/tokenize.py'>,\n",
       " 'parso.pgen2.grammar_parser': <module 'parso.pgen2.grammar_parser' from '/home/zrd/anaconda3/lib/python3.8/site-packages/parso/pgen2/grammar_parser.py'>,\n",
       " 'parso.pgen2.generator': <module 'parso.pgen2.generator' from '/home/zrd/anaconda3/lib/python3.8/site-packages/parso/pgen2/generator.py'>,\n",
       " 'parso.pgen2': <module 'parso.pgen2' from '/home/zrd/anaconda3/lib/python3.8/site-packages/parso/pgen2/__init__.py'>,\n",
       " 'parso.parser': <module 'parso.parser' from '/home/zrd/anaconda3/lib/python3.8/site-packages/parso/parser.py'>,\n",
       " 'difflib': <module 'difflib' from '/home/zrd/anaconda3/lib/python3.8/difflib.py'>,\n",
       " 'parso.python.prefix': <module 'parso.python.prefix' from '/home/zrd/anaconda3/lib/python3.8/site-packages/parso/python/prefix.py'>,\n",
       " 'parso.python.tree': <module 'parso.python.tree' from '/home/zrd/anaconda3/lib/python3.8/site-packages/parso/python/tree.py'>,\n",
       " 'parso.python.parser': <module 'parso.python.parser' from '/home/zrd/anaconda3/lib/python3.8/site-packages/parso/python/parser.py'>,\n",
       " 'parso.python.diff': <module 'parso.python.diff' from '/home/zrd/anaconda3/lib/python3.8/site-packages/parso/python/diff.py'>,\n",
       " 'gc': <module 'gc' (built-in)>,\n",
       " 'parso.cache': <module 'parso.cache' from '/home/zrd/anaconda3/lib/python3.8/site-packages/parso/cache.py'>,\n",
       " 'parso.normalizer': <module 'parso.normalizer' from '/home/zrd/anaconda3/lib/python3.8/site-packages/parso/normalizer.py'>,\n",
       " 'parso.python.errors': <module 'parso.python.errors' from '/home/zrd/anaconda3/lib/python3.8/site-packages/parso/python/errors.py'>,\n",
       " 'parso.python.pep8': <module 'parso.python.pep8' from '/home/zrd/anaconda3/lib/python3.8/site-packages/parso/python/pep8.py'>,\n",
       " 'parso.file_io': <module 'parso.file_io' from '/home/zrd/anaconda3/lib/python3.8/site-packages/parso/file_io.py'>,\n",
       " 'parso.grammar': <module 'parso.grammar' from '/home/zrd/anaconda3/lib/python3.8/site-packages/parso/grammar.py'>,\n",
       " 'parso': <module 'parso' from '/home/zrd/anaconda3/lib/python3.8/site-packages/parso/__init__.py'>,\n",
       " 'jedi.file_io': <module 'jedi.file_io' from '/home/zrd/anaconda3/lib/python3.8/site-packages/jedi/file_io.py'>,\n",
       " '_queue': <module '_queue' from '/home/zrd/anaconda3/lib/python3.8/lib-dynload/_queue.cpython-38-x86_64-linux-gnu.so'>,\n",
       " 'queue': <module 'queue' from '/home/zrd/anaconda3/lib/python3.8/queue.py'>,\n",
       " 'jedi._compatibility': <module 'jedi._compatibility' from '/home/zrd/anaconda3/lib/python3.8/site-packages/jedi/_compatibility.py'>,\n",
       " 'jedi.parser_utils': <module 'jedi.parser_utils' from '/home/zrd/anaconda3/lib/python3.8/site-packages/jedi/parser_utils.py'>,\n",
       " 'colorama.ansi': <module 'colorama.ansi' from '/home/zrd/anaconda3/lib/python3.8/site-packages/colorama/ansi.py'>,\n",
       " '_ctypes': <module '_ctypes' from '/home/zrd/anaconda3/lib/python3.8/lib-dynload/_ctypes.cpython-38-x86_64-linux-gnu.so'>,\n",
       " 'ctypes._endian': <module 'ctypes._endian' from '/home/zrd/anaconda3/lib/python3.8/ctypes/_endian.py'>,\n",
       " 'ctypes': <module 'ctypes' from '/home/zrd/anaconda3/lib/python3.8/ctypes/__init__.py'>,\n",
       " 'colorama.win32': <module 'colorama.win32' from '/home/zrd/anaconda3/lib/python3.8/site-packages/colorama/win32.py'>,\n",
       " 'colorama.winterm': <module 'colorama.winterm' from '/home/zrd/anaconda3/lib/python3.8/site-packages/colorama/winterm.py'>,\n",
       " 'colorama.ansitowin32': <module 'colorama.ansitowin32' from '/home/zrd/anaconda3/lib/python3.8/site-packages/colorama/ansitowin32.py'>,\n",
       " 'colorama.initialise': <module 'colorama.initialise' from '/home/zrd/anaconda3/lib/python3.8/site-packages/colorama/initialise.py'>,\n",
       " 'colorama': <module 'colorama' from '/home/zrd/anaconda3/lib/python3.8/site-packages/colorama/__init__.py'>,\n",
       " 'jedi.debug': <module 'jedi.debug' from '/home/zrd/anaconda3/lib/python3.8/site-packages/jedi/debug.py'>,\n",
       " 'jedi.settings': <module 'jedi.settings' from '/home/zrd/anaconda3/lib/python3.8/site-packages/jedi/settings.py'>,\n",
       " 'jedi.cache': <module 'jedi.cache' from '/home/zrd/anaconda3/lib/python3.8/site-packages/jedi/cache.py'>,\n",
       " 'jedi.inference.cache': <module 'jedi.inference.cache' from '/home/zrd/anaconda3/lib/python3.8/site-packages/jedi/inference/cache.py'>,\n",
       " 'jedi.inference.helpers': <module 'jedi.inference.helpers' from '/home/zrd/anaconda3/lib/python3.8/site-packages/jedi/inference/helpers.py'>,\n",
       " 'jedi.inference.utils': <module 'jedi.inference.utils' from '/home/zrd/anaconda3/lib/python3.8/site-packages/jedi/inference/utils.py'>,\n",
       " 'jedi.inference.base_value': <module 'jedi.inference.base_value' from '/home/zrd/anaconda3/lib/python3.8/site-packages/jedi/inference/base_value.py'>,\n",
       " 'jedi.common': <module 'jedi.common' from '/home/zrd/anaconda3/lib/python3.8/site-packages/jedi/common.py'>,\n",
       " 'jedi.inference.sys_path': <module 'jedi.inference.sys_path' from '/home/zrd/anaconda3/lib/python3.8/site-packages/jedi/inference/sys_path.py'>,\n",
       " 'jedi.inference.recursion': <module 'jedi.inference.recursion' from '/home/zrd/anaconda3/lib/python3.8/site-packages/jedi/inference/recursion.py'>,\n",
       " 'jedi.inference.flow_analysis': <module 'jedi.inference.flow_analysis' from '/home/zrd/anaconda3/lib/python3.8/site-packages/jedi/inference/flow_analysis.py'>,\n",
       " 'jedi.inference.lazy_value': <module 'jedi.inference.lazy_value' from '/home/zrd/anaconda3/lib/python3.8/site-packages/jedi/inference/lazy_value.py'>,\n",
       " 'jedi.inference.docstrings': <module 'jedi.inference.docstrings' from '/home/zrd/anaconda3/lib/python3.8/site-packages/jedi/inference/docstrings.py'>,\n",
       " 'jedi.plugins': <module 'jedi.plugins' from '/home/zrd/anaconda3/lib/python3.8/site-packages/jedi/plugins/__init__.py'>,\n",
       " 'jedi.inference.names': <module 'jedi.inference.names' from '/home/zrd/anaconda3/lib/python3.8/site-packages/jedi/inference/names.py'>,\n",
       " 'jedi.inference.filters': <module 'jedi.inference.filters' from '/home/zrd/anaconda3/lib/python3.8/site-packages/jedi/inference/filters.py'>,\n",
       " 'jedi.inference.compiled.getattr_static': <module 'jedi.inference.compiled.getattr_static' from '/home/zrd/anaconda3/lib/python3.8/site-packages/jedi/inference/compiled/getattr_static.py'>,\n",
       " 'jedi.inference.compiled.access': <module 'jedi.inference.compiled.access' from '/home/zrd/anaconda3/lib/python3.8/site-packages/jedi/inference/compiled/access.py'>,\n",
       " 'jedi.inference.signature': <module 'jedi.inference.signature' from '/home/zrd/anaconda3/lib/python3.8/site-packages/jedi/inference/signature.py'>,\n",
       " 'jedi.inference.context': <module 'jedi.inference.context' from '/home/zrd/anaconda3/lib/python3.8/site-packages/jedi/inference/context.py'>,\n",
       " 'jedi.inference.compiled.value': <module 'jedi.inference.compiled.value' from '/home/zrd/anaconda3/lib/python3.8/site-packages/jedi/inference/compiled/value.py'>,\n",
       " 'jedi.inference.compiled': <module 'jedi.inference.compiled' from '/home/zrd/anaconda3/lib/python3.8/site-packages/jedi/inference/compiled/__init__.py'>,\n",
       " 'jedi.inference.analysis': <module 'jedi.inference.analysis' from '/home/zrd/anaconda3/lib/python3.8/site-packages/jedi/inference/analysis.py'>,\n",
       " 'jedi.inference.gradual': <module 'jedi.inference.gradual' from '/home/zrd/anaconda3/lib/python3.8/site-packages/jedi/inference/gradual/__init__.py'>,\n",
       " 'jedi.inference.value.module': <module 'jedi.inference.value.module' from '/home/zrd/anaconda3/lib/python3.8/site-packages/jedi/inference/value/module.py'>,\n",
       " 'jedi.inference.value.dynamic_arrays': <module 'jedi.inference.value.dynamic_arrays' from '/home/zrd/anaconda3/lib/python3.8/site-packages/jedi/inference/value/dynamic_arrays.py'>,\n",
       " 'jedi.inference.value.iterable': <module 'jedi.inference.value.iterable' from '/home/zrd/anaconda3/lib/python3.8/site-packages/jedi/inference/value/iterable.py'>,\n",
       " 'jedi.inference.arguments': <module 'jedi.inference.arguments' from '/home/zrd/anaconda3/lib/python3.8/site-packages/jedi/inference/arguments.py'>,\n",
       " 'jedi.inference.parser_cache': <module 'jedi.inference.parser_cache' from '/home/zrd/anaconda3/lib/python3.8/site-packages/jedi/inference/parser_cache.py'>,\n",
       " 'jedi.inference.gradual.generics': <module 'jedi.inference.gradual.generics' from '/home/zrd/anaconda3/lib/python3.8/site-packages/jedi/inference/gradual/generics.py'>,\n",
       " 'jedi.inference.value.function': <module 'jedi.inference.value.function' from '/home/zrd/anaconda3/lib/python3.8/site-packages/jedi/inference/value/function.py'>,\n",
       " 'jedi.inference.value.klass': <module 'jedi.inference.value.klass' from '/home/zrd/anaconda3/lib/python3.8/site-packages/jedi/inference/value/klass.py'>,\n",
       " 'jedi.inference.value.instance': <module 'jedi.inference.value.instance' from '/home/zrd/anaconda3/lib/python3.8/site-packages/jedi/inference/value/instance.py'>,\n",
       " 'jedi.inference.value': <module 'jedi.inference.value' from '/home/zrd/anaconda3/lib/python3.8/site-packages/jedi/inference/value/__init__.py'>,\n",
       " 'jedi.inference.gradual.base': <module 'jedi.inference.gradual.base' from '/home/zrd/anaconda3/lib/python3.8/site-packages/jedi/inference/gradual/base.py'>,\n",
       " 'jedi.inference.gradual.type_var': <module 'jedi.inference.gradual.type_var' from '/home/zrd/anaconda3/lib/python3.8/site-packages/jedi/inference/gradual/type_var.py'>,\n",
       " 'jedi.inference.gradual.typing': <module 'jedi.inference.gradual.typing' from '/home/zrd/anaconda3/lib/python3.8/site-packages/jedi/inference/gradual/typing.py'>,\n",
       " 'jedi.inference.gradual.stub_value': <module 'jedi.inference.gradual.stub_value' from '/home/zrd/anaconda3/lib/python3.8/site-packages/jedi/inference/gradual/stub_value.py'>,\n",
       " 'jedi.inference.gradual.typeshed': <module 'jedi.inference.gradual.typeshed' from '/home/zrd/anaconda3/lib/python3.8/site-packages/jedi/inference/gradual/typeshed.py'>,\n",
       " 'jedi.inference.imports': <module 'jedi.inference.imports' from '/home/zrd/anaconda3/lib/python3.8/site-packages/jedi/inference/imports.py'>,\n",
       " 'jedi.inference.param': <module 'jedi.inference.param' from '/home/zrd/anaconda3/lib/python3.8/site-packages/jedi/inference/param.py'>,\n",
       " 'jedi.inference.gradual.annotation': <module 'jedi.inference.gradual.annotation' from '/home/zrd/anaconda3/lib/python3.8/site-packages/jedi/inference/gradual/annotation.py'>,\n",
       " 'jedi.inference.value.decorator': <module 'jedi.inference.value.decorator' from '/home/zrd/anaconda3/lib/python3.8/site-packages/jedi/inference/value/decorator.py'>,\n",
       " 'jedi.inference.syntax_tree': <module 'jedi.inference.syntax_tree' from '/home/zrd/anaconda3/lib/python3.8/site-packages/jedi/inference/syntax_tree.py'>,\n",
       " 'jedi.inference': <module 'jedi.inference' from '/home/zrd/anaconda3/lib/python3.8/site-packages/jedi/inference/__init__.py'>,\n",
       " 'jedi.inference.gradual.conversion': <module 'jedi.inference.gradual.conversion' from '/home/zrd/anaconda3/lib/python3.8/site-packages/jedi/inference/gradual/conversion.py'>,\n",
       " 'jedi.inference.compiled.mixed': <module 'jedi.inference.compiled.mixed' from '/home/zrd/anaconda3/lib/python3.8/site-packages/jedi/inference/compiled/mixed.py'>,\n",
       " 'pydoc_data': <module 'pydoc_data' from '/home/zrd/anaconda3/lib/python3.8/pydoc_data/__init__.py'>,\n",
       " 'pydoc_data.topics': <module 'pydoc_data.topics' from '/home/zrd/anaconda3/lib/python3.8/pydoc_data/topics.py'>,\n",
       " 'jedi.api.keywords': <module 'jedi.api.keywords' from '/home/zrd/anaconda3/lib/python3.8/site-packages/jedi/api/keywords.py'>,\n",
       " 'jedi.api.completion_cache': <module 'jedi.api.completion_cache' from '/home/zrd/anaconda3/lib/python3.8/site-packages/jedi/api/completion_cache.py'>,\n",
       " 'jedi.api.helpers': <module 'jedi.api.helpers' from '/home/zrd/anaconda3/lib/python3.8/site-packages/jedi/api/helpers.py'>,\n",
       " 'jedi.api.classes': <module 'jedi.api.classes' from '/home/zrd/anaconda3/lib/python3.8/site-packages/jedi/api/classes.py'>,\n",
       " 'jedi.api.interpreter': <module 'jedi.api.interpreter' from '/home/zrd/anaconda3/lib/python3.8/site-packages/jedi/api/interpreter.py'>,\n",
       " 'jedi.api.strings': <module 'jedi.api.strings' from '/home/zrd/anaconda3/lib/python3.8/site-packages/jedi/api/strings.py'>,\n",
       " 'jedi.api.file_name': <module 'jedi.api.file_name' from '/home/zrd/anaconda3/lib/python3.8/site-packages/jedi/api/file_name.py'>,\n",
       " 'jedi.api.completion': <module 'jedi.api.completion' from '/home/zrd/anaconda3/lib/python3.8/site-packages/jedi/api/completion.py'>,\n",
       " 'filecmp': <module 'filecmp' from '/home/zrd/anaconda3/lib/python3.8/filecmp.py'>,\n",
       " 'jedi.inference.compiled.subprocess.functions': <module 'jedi.inference.compiled.subprocess.functions' from '/home/zrd/anaconda3/lib/python3.8/site-packages/jedi/inference/compiled/subprocess/functions.py'>,\n",
       " 'jedi.api.exceptions': <module 'jedi.api.exceptions' from '/home/zrd/anaconda3/lib/python3.8/site-packages/jedi/api/exceptions.py'>,\n",
       " 'jedi.inference.compiled.subprocess': <module 'jedi.inference.compiled.subprocess' from '/home/zrd/anaconda3/lib/python3.8/site-packages/jedi/inference/compiled/subprocess/__init__.py'>,\n",
       " 'jedi.api.environment': <module 'jedi.api.environment' from '/home/zrd/anaconda3/lib/python3.8/site-packages/jedi/api/environment.py'>,\n",
       " 'jedi.inference.references': <module 'jedi.inference.references' from '/home/zrd/anaconda3/lib/python3.8/site-packages/jedi/inference/references.py'>,\n",
       " 'jedi.api.project': <module 'jedi.api.project' from '/home/zrd/anaconda3/lib/python3.8/site-packages/jedi/api/project.py'>,\n",
       " 'jedi.api.errors': <module 'jedi.api.errors' from '/home/zrd/anaconda3/lib/python3.8/site-packages/jedi/api/errors.py'>,\n",
       " 'jedi.api.refactoring': <module 'jedi.api.refactoring' from '/home/zrd/anaconda3/lib/python3.8/site-packages/jedi/api/refactoring/__init__.py'>,\n",
       " 'jedi.api.refactoring.extract': <module 'jedi.api.refactoring.extract' from '/home/zrd/anaconda3/lib/python3.8/site-packages/jedi/api/refactoring/extract.py'>,\n",
       " 'jedi.inference.gradual.utils': <module 'jedi.inference.gradual.utils' from '/home/zrd/anaconda3/lib/python3.8/site-packages/jedi/inference/gradual/utils.py'>,\n",
       " 'jedi.api': <module 'jedi.api' from '/home/zrd/anaconda3/lib/python3.8/site-packages/jedi/api/__init__.py'>,\n",
       " 'jedi.plugins.stdlib': <module 'jedi.plugins.stdlib' from '/home/zrd/anaconda3/lib/python3.8/site-packages/jedi/plugins/stdlib.py'>,\n",
       " 'jedi.plugins.flask': <module 'jedi.plugins.flask' from '/home/zrd/anaconda3/lib/python3.8/site-packages/jedi/plugins/flask.py'>,\n",
       " 'jedi.plugins.pytest': <module 'jedi.plugins.pytest' from '/home/zrd/anaconda3/lib/python3.8/site-packages/jedi/plugins/pytest.py'>,\n",
       " 'jedi.plugins.django': <module 'jedi.plugins.django' from '/home/zrd/anaconda3/lib/python3.8/site-packages/jedi/plugins/django.py'>,\n",
       " 'jedi.plugins.registry': <module 'jedi.plugins.registry' from '/home/zrd/anaconda3/lib/python3.8/site-packages/jedi/plugins/registry.py'>,\n",
       " 'jedi': <module 'jedi' from '/home/zrd/anaconda3/lib/python3.8/site-packages/jedi/__init__.py'>,\n",
       " 'IPython.core.completer': <module 'IPython.core.completer' from '/home/zrd/anaconda3/lib/python3.8/site-packages/IPython/core/completer.py'>,\n",
       " 'IPython.terminal.ptutils': <module 'IPython.terminal.ptutils' from '/home/zrd/anaconda3/lib/python3.8/site-packages/IPython/terminal/ptutils.py'>,\n",
       " 'IPython.terminal.shortcuts': <module 'IPython.terminal.shortcuts' from '/home/zrd/anaconda3/lib/python3.8/site-packages/IPython/terminal/shortcuts.py'>,\n",
       " 'IPython.terminal.debugger': <module 'IPython.terminal.debugger' from '/home/zrd/anaconda3/lib/python3.8/site-packages/IPython/terminal/debugger.py'>,\n",
       " 'IPython.lib.clipboard': <module 'IPython.lib.clipboard' from '/home/zrd/anaconda3/lib/python3.8/site-packages/IPython/lib/clipboard.py'>,\n",
       " 'IPython.terminal.magics': <module 'IPython.terminal.magics' from '/home/zrd/anaconda3/lib/python3.8/site-packages/IPython/terminal/magics.py'>,\n",
       " 'IPython.terminal.pt_inputhooks': <module 'IPython.terminal.pt_inputhooks' from '/home/zrd/anaconda3/lib/python3.8/site-packages/IPython/terminal/pt_inputhooks/__init__.py'>,\n",
       " 'IPython.terminal.prompts': <module 'IPython.terminal.prompts' from '/home/zrd/anaconda3/lib/python3.8/site-packages/IPython/terminal/prompts.py'>,\n",
       " 'IPython.terminal.interactiveshell': <module 'IPython.terminal.interactiveshell' from '/home/zrd/anaconda3/lib/python3.8/site-packages/IPython/terminal/interactiveshell.py'>,\n",
       " 'IPython.core.magics.auto': <module 'IPython.core.magics.auto' from '/home/zrd/anaconda3/lib/python3.8/site-packages/IPython/core/magics/auto.py'>,\n",
       " 'IPython.core.magics.basic': <module 'IPython.core.magics.basic' from '/home/zrd/anaconda3/lib/python3.8/site-packages/IPython/core/magics/basic.py'>,\n",
       " 'email': <module 'email' from '/home/zrd/anaconda3/lib/python3.8/email/__init__.py'>,\n",
       " 'http': <module 'http' from '/home/zrd/anaconda3/lib/python3.8/http/__init__.py'>,\n",
       " 'email.errors': <module 'email.errors' from '/home/zrd/anaconda3/lib/python3.8/email/errors.py'>,\n",
       " 'email.quoprimime': <module 'email.quoprimime' from '/home/zrd/anaconda3/lib/python3.8/email/quoprimime.py'>,\n",
       " 'email.base64mime': <module 'email.base64mime' from '/home/zrd/anaconda3/lib/python3.8/email/base64mime.py'>,\n",
       " 'quopri': <module 'quopri' from '/home/zrd/anaconda3/lib/python3.8/quopri.py'>,\n",
       " 'email.encoders': <module 'email.encoders' from '/home/zrd/anaconda3/lib/python3.8/email/encoders.py'>,\n",
       " 'email.charset': <module 'email.charset' from '/home/zrd/anaconda3/lib/python3.8/email/charset.py'>,\n",
       " 'email.header': <module 'email.header' from '/home/zrd/anaconda3/lib/python3.8/email/header.py'>,\n",
       " 'calendar': <module 'calendar' from '/home/zrd/anaconda3/lib/python3.8/calendar.py'>,\n",
       " 'email._parseaddr': <module 'email._parseaddr' from '/home/zrd/anaconda3/lib/python3.8/email/_parseaddr.py'>,\n",
       " 'email.utils': <module 'email.utils' from '/home/zrd/anaconda3/lib/python3.8/email/utils.py'>,\n",
       " 'email._policybase': <module 'email._policybase' from '/home/zrd/anaconda3/lib/python3.8/email/_policybase.py'>,\n",
       " 'email.feedparser': <module 'email.feedparser' from '/home/zrd/anaconda3/lib/python3.8/email/feedparser.py'>,\n",
       " 'email.parser': <module 'email.parser' from '/home/zrd/anaconda3/lib/python3.8/email/parser.py'>,\n",
       " 'uu': <module 'uu' from '/home/zrd/anaconda3/lib/python3.8/uu.py'>,\n",
       " 'email._encoded_words': <module 'email._encoded_words' from '/home/zrd/anaconda3/lib/python3.8/email/_encoded_words.py'>,\n",
       " 'email.iterators': <module 'email.iterators' from '/home/zrd/anaconda3/lib/python3.8/email/iterators.py'>,\n",
       " 'email.message': <module 'email.message' from '/home/zrd/anaconda3/lib/python3.8/email/message.py'>,\n",
       " 'http.client': <module 'http.client' from '/home/zrd/anaconda3/lib/python3.8/http/client.py'>,\n",
       " 'urllib.response': <module 'urllib.response' from '/home/zrd/anaconda3/lib/python3.8/urllib/response.py'>,\n",
       " 'urllib.error': <module 'urllib.error' from '/home/zrd/anaconda3/lib/python3.8/urllib/error.py'>,\n",
       " 'urllib.request': <module 'urllib.request' from '/home/zrd/anaconda3/lib/python3.8/urllib/request.py'>,\n",
       " 'IPython.core.magics.code': <module 'IPython.core.magics.code' from '/home/zrd/anaconda3/lib/python3.8/site-packages/IPython/core/magics/code.py'>,\n",
       " 'IPython.core.magics.config': <module 'IPython.core.magics.config' from '/home/zrd/anaconda3/lib/python3.8/site-packages/IPython/core/magics/config.py'>,\n",
       " 'IPython.core.magics.display': <module 'IPython.core.magics.display' from '/home/zrd/anaconda3/lib/python3.8/site-packages/IPython/core/magics/display.py'>,\n",
       " 'timeit': <module 'timeit' from '/home/zrd/anaconda3/lib/python3.8/timeit.py'>,\n",
       " '_lsprof': <module '_lsprof' from '/home/zrd/anaconda3/lib/python3.8/lib-dynload/_lsprof.cpython-38-x86_64-linux-gnu.so'>,\n",
       " 'profile': <module 'profile' from '/home/zrd/anaconda3/lib/python3.8/profile.py'>,\n",
       " 'cProfile': <module 'cProfile' from '/home/zrd/anaconda3/lib/python3.8/cProfile.py'>,\n",
       " 'pstats': <module 'pstats' from '/home/zrd/anaconda3/lib/python3.8/pstats.py'>,\n",
       " 'IPython.utils.module_paths': <module 'IPython.utils.module_paths' from '/home/zrd/anaconda3/lib/python3.8/site-packages/IPython/utils/module_paths.py'>,\n",
       " 'IPython.utils.timing': <module 'IPython.utils.timing' from '/home/zrd/anaconda3/lib/python3.8/site-packages/IPython/utils/timing.py'>,\n",
       " 'IPython.core.magics.execution': <module 'IPython.core.magics.execution' from '/home/zrd/anaconda3/lib/python3.8/site-packages/IPython/core/magics/execution.py'>,\n",
       " 'IPython.core.magics.extension': <module 'IPython.core.magics.extension' from '/home/zrd/anaconda3/lib/python3.8/site-packages/IPython/core/magics/extension.py'>,\n",
       " 'IPython.core.magics.history': <module 'IPython.core.magics.history' from '/home/zrd/anaconda3/lib/python3.8/site-packages/IPython/core/magics/history.py'>,\n",
       " 'IPython.core.magics.logging': <module 'IPython.core.magics.logging' from '/home/zrd/anaconda3/lib/python3.8/site-packages/IPython/core/magics/logging.py'>,\n",
       " 'IPython.core.magics.namespace': <module 'IPython.core.magics.namespace' from '/home/zrd/anaconda3/lib/python3.8/site-packages/IPython/core/magics/namespace.py'>,\n",
       " 'IPython.core.magics.osm': <module 'IPython.core.magics.osm' from '/home/zrd/anaconda3/lib/python3.8/site-packages/IPython/core/magics/osm.py'>,\n",
       " 'IPython.core.magics.packaging': <module 'IPython.core.magics.packaging' from '/home/zrd/anaconda3/lib/python3.8/site-packages/IPython/core/magics/packaging.py'>,\n",
       " 'IPython.core.pylabtools': <module 'IPython.core.pylabtools' from '/home/zrd/anaconda3/lib/python3.8/site-packages/IPython/core/pylabtools.py'>,\n",
       " 'IPython.core.magics.pylab': <module 'IPython.core.magics.pylab' from '/home/zrd/anaconda3/lib/python3.8/site-packages/IPython/core/magics/pylab.py'>,\n",
       " 'IPython.lib.backgroundjobs': <module 'IPython.lib.backgroundjobs' from '/home/zrd/anaconda3/lib/python3.8/site-packages/IPython/lib/backgroundjobs.py'>,\n",
       " 'IPython.core.magics.script': <module 'IPython.core.magics.script' from '/home/zrd/anaconda3/lib/python3.8/site-packages/IPython/core/magics/script.py'>,\n",
       " 'IPython.core.magics': <module 'IPython.core.magics' from '/home/zrd/anaconda3/lib/python3.8/site-packages/IPython/core/magics/__init__.py'>,\n",
       " 'IPython.core.shellapp': <module 'IPython.core.shellapp' from '/home/zrd/anaconda3/lib/python3.8/site-packages/IPython/core/shellapp.py'>,\n",
       " 'IPython.extensions': <module 'IPython.extensions' from '/home/zrd/anaconda3/lib/python3.8/site-packages/IPython/extensions/__init__.py'>,\n",
       " 'IPython.extensions.storemagic': <module 'IPython.extensions.storemagic' from '/home/zrd/anaconda3/lib/python3.8/site-packages/IPython/extensions/storemagic.py'>,\n",
       " 'IPython.terminal.ipapp': <module 'IPython.terminal.ipapp' from '/home/zrd/anaconda3/lib/python3.8/site-packages/IPython/terminal/ipapp.py'>,\n",
       " 'IPython.terminal.embed': <module 'IPython.terminal.embed' from '/home/zrd/anaconda3/lib/python3.8/site-packages/IPython/terminal/embed.py'>,\n",
       " 'IPython.utils.frame': <module 'IPython.utils.frame' from '/home/zrd/anaconda3/lib/python3.8/site-packages/IPython/utils/frame.py'>,\n",
       " 'IPython': <module 'IPython' from '/home/zrd/anaconda3/lib/python3.8/site-packages/IPython/__init__.py'>,\n",
       " 'jupyter_client._version': <module 'jupyter_client._version' from '/home/zrd/anaconda3/lib/python3.8/site-packages/jupyter_client/_version.py'>,\n",
       " 'zmq.backend.select': <module 'zmq.backend.select' from '/home/zrd/anaconda3/lib/python3.8/site-packages/zmq/backend/select.py'>,\n",
       " 'cython_runtime': <module 'cython_runtime'>,\n",
       " 'zmq.backend.cython.constants': <module 'zmq.backend.cython.constants' from '/home/zrd/anaconda3/lib/python3.8/site-packages/zmq/backend/cython/constants.cpython-38-x86_64-linux-gnu.so'>,\n",
       " '_cython_0_29_17': <module '_cython_0_29_17'>,\n",
       " 'zmq.backend.cython.error': <module 'zmq.backend.cython.error' from '/home/zrd/anaconda3/lib/python3.8/site-packages/zmq/backend/cython/error.cpython-38-x86_64-linux-gnu.so'>,\n",
       " 'zmq.error': <module 'zmq.error' from '/home/zrd/anaconda3/lib/python3.8/site-packages/zmq/error.py'>,\n",
       " 'zmq.backend.cython.message': <module 'zmq.backend.cython.message' from '/home/zrd/anaconda3/lib/python3.8/site-packages/zmq/backend/cython/message.cpython-38-x86_64-linux-gnu.so'>,\n",
       " 'zmq.backend.cython.context': <module 'zmq.backend.cython.context' from '/home/zrd/anaconda3/lib/python3.8/site-packages/zmq/backend/cython/context.cpython-38-x86_64-linux-gnu.so'>,\n",
       " 'zmq.backend.cython.socket': <module 'zmq.backend.cython.socket' from '/home/zrd/anaconda3/lib/python3.8/site-packages/zmq/backend/cython/socket.cpython-38-x86_64-linux-gnu.so'>,\n",
       " 'zmq.backend.cython.utils': <module 'zmq.backend.cython.utils' from '/home/zrd/anaconda3/lib/python3.8/site-packages/zmq/backend/cython/utils.cpython-38-x86_64-linux-gnu.so'>,\n",
       " 'zmq.backend.cython._poll': <module 'zmq.backend.cython._poll' from '/home/zrd/anaconda3/lib/python3.8/site-packages/zmq/backend/cython/_poll.cpython-38-x86_64-linux-gnu.so'>,\n",
       " 'zmq.backend.cython._version': <module 'zmq.backend.cython._version' from '/home/zrd/anaconda3/lib/python3.8/site-packages/zmq/backend/cython/_version.cpython-38-x86_64-linux-gnu.so'>,\n",
       " 'zmq.backend.cython._device': <module 'zmq.backend.cython._device' from '/home/zrd/anaconda3/lib/python3.8/site-packages/zmq/backend/cython/_device.cpython-38-x86_64-linux-gnu.so'>,\n",
       " 'zmq.backend.cython._proxy_steerable': <module 'zmq.backend.cython._proxy_steerable' from '/home/zrd/anaconda3/lib/python3.8/site-packages/zmq/backend/cython/_proxy_steerable.cpython-38-x86_64-linux-gnu.so'>,\n",
       " 'zmq.backend.cython': <module 'zmq.backend.cython' from '/home/zrd/anaconda3/lib/python3.8/site-packages/zmq/backend/cython/__init__.py'>,\n",
       " 'zmq.backend': <module 'zmq.backend' from '/home/zrd/anaconda3/lib/python3.8/site-packages/zmq/backend/__init__.py'>,\n",
       " 'zmq.utils': <module 'zmq.utils' from '/home/zrd/anaconda3/lib/python3.8/site-packages/zmq/utils/__init__.py'>,\n",
       " 'zmq.utils.constant_names': <module 'zmq.utils.constant_names' from '/home/zrd/anaconda3/lib/python3.8/site-packages/zmq/utils/constant_names.py'>,\n",
       " 'zmq.sugar.constants': <module 'zmq.sugar.constants' from '/home/zrd/anaconda3/lib/python3.8/site-packages/zmq/sugar/constants.py'>,\n",
       " 'zmq.sugar.attrsettr': <module 'zmq.sugar.attrsettr' from '/home/zrd/anaconda3/lib/python3.8/site-packages/zmq/sugar/attrsettr.py'>,\n",
       " 'zmq.sugar.poll': <module 'zmq.sugar.poll' from '/home/zrd/anaconda3/lib/python3.8/site-packages/zmq/sugar/poll.py'>,\n",
       " 'zmq.utils.strtypes': <module 'zmq.utils.strtypes' from '/home/zrd/anaconda3/lib/python3.8/site-packages/zmq/utils/strtypes.py'>,\n",
       " 'zmq.utils.jsonapi': <module 'zmq.utils.jsonapi' from '/home/zrd/anaconda3/lib/python3.8/site-packages/zmq/utils/jsonapi.py'>,\n",
       " 'zmq.sugar.socket': <module 'zmq.sugar.socket' from '/home/zrd/anaconda3/lib/python3.8/site-packages/zmq/sugar/socket.py'>,\n",
       " 'zmq.sugar.context': <module 'zmq.sugar.context' from '/home/zrd/anaconda3/lib/python3.8/site-packages/zmq/sugar/context.py'>,\n",
       " 'zmq.sugar.frame': <module 'zmq.sugar.frame' from '/home/zrd/anaconda3/lib/python3.8/site-packages/zmq/sugar/frame.py'>,\n",
       " 'zmq.sugar.tracker': <module 'zmq.sugar.tracker' from '/home/zrd/anaconda3/lib/python3.8/site-packages/zmq/sugar/tracker.py'>,\n",
       " 'zmq.sugar.version': <module 'zmq.sugar.version' from '/home/zrd/anaconda3/lib/python3.8/site-packages/zmq/sugar/version.py'>,\n",
       " 'zmq.sugar.stopwatch': <module 'zmq.sugar.stopwatch' from '/home/zrd/anaconda3/lib/python3.8/site-packages/zmq/sugar/stopwatch.py'>,\n",
       " 'zmq.sugar': <module 'zmq.sugar' from '/home/zrd/anaconda3/lib/python3.8/site-packages/zmq/sugar/__init__.py'>,\n",
       " 'zmq': <module 'zmq' from '/home/zrd/anaconda3/lib/python3.8/site-packages/zmq/__init__.py'>,\n",
       " 'jupyter_client.localinterfaces': <module 'jupyter_client.localinterfaces' from '/home/zrd/anaconda3/lib/python3.8/site-packages/jupyter_client/localinterfaces.py'>,\n",
       " 'jupyter_core.version': <module 'jupyter_core.version' from '/home/zrd/anaconda3/lib/python3.8/site-packages/jupyter_core/version.py'>,\n",
       " 'jupyter_core': <module 'jupyter_core' from '/home/zrd/anaconda3/lib/python3.8/site-packages/jupyter_core/__init__.py'>,\n",
       " 'distutils': <module 'distutils' from '/home/zrd/anaconda3/lib/python3.8/distutils/__init__.py'>,\n",
       " 'distutils.errors': <module 'distutils.errors' from '/home/zrd/anaconda3/lib/python3.8/distutils/errors.py'>,\n",
       " 'distutils.dep_util': <module 'distutils.dep_util' from '/home/zrd/anaconda3/lib/python3.8/distutils/dep_util.py'>,\n",
       " 'distutils.debug': <module 'distutils.debug' from '/home/zrd/anaconda3/lib/python3.8/distutils/debug.py'>,\n",
       " 'distutils.log': <module 'distutils.log' from '/home/zrd/anaconda3/lib/python3.8/distutils/log.py'>,\n",
       " 'distutils.spawn': <module 'distutils.spawn' from '/home/zrd/anaconda3/lib/python3.8/distutils/spawn.py'>,\n",
       " 'distutils.util': <module 'distutils.util' from '/home/zrd/anaconda3/lib/python3.8/distutils/util.py'>,\n",
       " 'jupyter_core.paths': <module 'jupyter_core.paths' from '/home/zrd/anaconda3/lib/python3.8/site-packages/jupyter_core/paths.py'>,\n",
       " 'jupyter_client.connect': <module 'jupyter_client.connect' from '/home/zrd/anaconda3/lib/python3.8/site-packages/jupyter_client/connect.py'>,\n",
       " 'traitlets.log': <module 'traitlets.log' from '/home/zrd/anaconda3/lib/python3.8/site-packages/traitlets/log.py'>,\n",
       " 'jupyter_client.launcher': <module 'jupyter_client.launcher' from '/home/zrd/anaconda3/lib/python3.8/site-packages/jupyter_client/launcher.py'>,\n",
       " 'jupyter_client.channelsabc': <module 'jupyter_client.channelsabc' from '/home/zrd/anaconda3/lib/python3.8/site-packages/jupyter_client/channelsabc.py'>,\n",
       " 'jupyter_client.channels': <module 'jupyter_client.channels' from '/home/zrd/anaconda3/lib/python3.8/site-packages/jupyter_client/channels.py'>,\n",
       " 'jupyter_client.clientabc': <module 'jupyter_client.clientabc' from '/home/zrd/anaconda3/lib/python3.8/site-packages/jupyter_client/clientabc.py'>,\n",
       " 'jupyter_client.client': <module 'jupyter_client.client' from '/home/zrd/anaconda3/lib/python3.8/site-packages/jupyter_client/client.py'>,\n",
       " 'jupyter_client.kernelspec': <module 'jupyter_client.kernelspec' from '/home/zrd/anaconda3/lib/python3.8/site-packages/jupyter_client/kernelspec.py'>,\n",
       " 'jupyter_client.managerabc': <module 'jupyter_client.managerabc' from '/home/zrd/anaconda3/lib/python3.8/site-packages/jupyter_client/managerabc.py'>,\n",
       " 'jupyter_client.manager': <module 'jupyter_client.manager' from '/home/zrd/anaconda3/lib/python3.8/site-packages/jupyter_client/manager.py'>,\n",
       " 'jupyter_client.blocking.channels': <module 'jupyter_client.blocking.channels' from '/home/zrd/anaconda3/lib/python3.8/site-packages/jupyter_client/blocking/channels.py'>,\n",
       " 'jupyter_client.blocking.client': <module 'jupyter_client.blocking.client' from '/home/zrd/anaconda3/lib/python3.8/site-packages/jupyter_client/blocking/client.py'>,\n",
       " 'jupyter_client.blocking': <module 'jupyter_client.blocking' from '/home/zrd/anaconda3/lib/python3.8/site-packages/jupyter_client/blocking/__init__.py'>,\n",
       " 'zmq._future': <module 'zmq._future' from '/home/zrd/anaconda3/lib/python3.8/site-packages/zmq/_future.py'>,\n",
       " 'zmq.asyncio': <module 'zmq.asyncio' from '/home/zrd/anaconda3/lib/python3.8/site-packages/zmq/asyncio/__init__.py'>,\n",
       " 'jupyter_client.asynchronous.channels': <module 'jupyter_client.asynchronous.channels' from '/home/zrd/anaconda3/lib/python3.8/site-packages/jupyter_client/asynchronous/channels.py'>,\n",
       " 'jupyter_client.asynchronous.client': <module 'jupyter_client.asynchronous.client' from '/home/zrd/anaconda3/lib/python3.8/site-packages/jupyter_client/asynchronous/client.py'>,\n",
       " 'jupyter_client.asynchronous': <module 'jupyter_client.asynchronous' from '/home/zrd/anaconda3/lib/python3.8/site-packages/jupyter_client/asynchronous/__init__.py'>,\n",
       " 'uuid': <module 'uuid' from '/home/zrd/anaconda3/lib/python3.8/uuid.py'>,\n",
       " 'jupyter_client.multikernelmanager': <module 'jupyter_client.multikernelmanager' from '/home/zrd/anaconda3/lib/python3.8/site-packages/jupyter_client/multikernelmanager.py'>,\n",
       " 'jupyter_client': <module 'jupyter_client' from '/home/zrd/anaconda3/lib/python3.8/site-packages/jupyter_client/__init__.py'>,\n",
       " 'ipykernel.connect': <module 'ipykernel.connect' from '/home/zrd/anaconda3/lib/python3.8/site-packages/ipykernel/connect.py'>,\n",
       " 'ipykernel': <module 'ipykernel' from '/home/zrd/anaconda3/lib/python3.8/site-packages/ipykernel/__init__.py'>,\n",
       " 'tornado': <module 'tornado' from '/home/zrd/anaconda3/lib/python3.8/site-packages/tornado/__init__.py'>,\n",
       " 'numbers': <module 'numbers' from '/home/zrd/anaconda3/lib/python3.8/numbers.py'>,\n",
       " 'logging.handlers': <module 'logging.handlers' from '/home/zrd/anaconda3/lib/python3.8/logging/handlers.py'>,\n",
       " 'tornado.speedups': <module 'tornado.speedups' from '/home/zrd/anaconda3/lib/python3.8/site-packages/tornado/speedups.cpython-38-x86_64-linux-gnu.so'>,\n",
       " 'tornado.util': <module 'tornado.util' from '/home/zrd/anaconda3/lib/python3.8/site-packages/tornado/util.py'>,\n",
       " 'tornado.escape': <module 'tornado.escape' from '/home/zrd/anaconda3/lib/python3.8/site-packages/tornado/escape.py'>,\n",
       " '_curses': <module '_curses' from '/home/zrd/anaconda3/lib/python3.8/lib-dynload/_curses.cpython-38-x86_64-linux-gnu.so'>,\n",
       " 'curses': <module 'curses' from '/home/zrd/anaconda3/lib/python3.8/curses/__init__.py'>,\n",
       " 'tornado.log': <module 'tornado.log' from '/home/zrd/anaconda3/lib/python3.8/site-packages/tornado/log.py'>,\n",
       " 'tornado.concurrent': <module 'tornado.concurrent' from '/home/zrd/anaconda3/lib/python3.8/site-packages/tornado/concurrent.py'>,\n",
       " 'tornado.ioloop': <module 'tornado.ioloop' from '/home/zrd/anaconda3/lib/python3.8/site-packages/tornado/ioloop.py'>,\n",
       " 'tornado.platform': <module 'tornado.platform' from '/home/zrd/anaconda3/lib/python3.8/site-packages/tornado/platform/__init__.py'>,\n",
       " 'tornado.gen': <module 'tornado.gen' from '/home/zrd/anaconda3/lib/python3.8/site-packages/tornado/gen.py'>,\n",
       " 'tornado.platform.asyncio': <module 'tornado.platform.asyncio' from '/home/zrd/anaconda3/lib/python3.8/site-packages/tornado/platform/asyncio.py'>,\n",
       " 'zmq.eventloop.ioloop': <module 'zmq.eventloop.ioloop' from '/home/zrd/anaconda3/lib/python3.8/site-packages/zmq/eventloop/ioloop.py'>,\n",
       " 'zmq.eventloop': <module 'zmq.eventloop' from '/home/zrd/anaconda3/lib/python3.8/site-packages/zmq/eventloop/__init__.py'>,\n",
       " 'zmq.eventloop.zmqstream': <module 'zmq.eventloop.zmqstream' from '/home/zrd/anaconda3/lib/python3.8/site-packages/zmq/eventloop/zmqstream.py'>,\n",
       " 'imp': <module 'imp' from '/home/zrd/anaconda3/lib/python3.8/imp.py'>,\n",
       " 'hmac': <module 'hmac' from '/home/zrd/anaconda3/lib/python3.8/hmac.py'>,\n",
       " 'dateutil._version': <module 'dateutil._version' from '/home/zrd/anaconda3/lib/python3.8/site-packages/dateutil/_version.py'>,\n",
       " 'dateutil': <module 'dateutil' from '/home/zrd/anaconda3/lib/python3.8/site-packages/dateutil/__init__.py'>,\n",
       " '_decimal': <module '_decimal' from '/home/zrd/anaconda3/lib/python3.8/lib-dynload/_decimal.cpython-38-x86_64-linux-gnu.so'>,\n",
       " 'decimal': <module 'decimal' from '/home/zrd/anaconda3/lib/python3.8/decimal.py'>,\n",
       " 'dateutil._common': <module 'dateutil._common' from '/home/zrd/anaconda3/lib/python3.8/site-packages/dateutil/_common.py'>,\n",
       " 'dateutil.relativedelta': <module 'dateutil.relativedelta' from '/home/zrd/anaconda3/lib/python3.8/site-packages/dateutil/relativedelta.py'>,\n",
       " 'six.moves': <module 'six.moves' (<six._SixMetaPathImporter object at 0x7f5d28c789a0>)>,\n",
       " 'dateutil.tz._common': <module 'dateutil.tz._common' from '/home/zrd/anaconda3/lib/python3.8/site-packages/dateutil/tz/_common.py'>,\n",
       " 'dateutil.tz._factories': <module 'dateutil.tz._factories' from '/home/zrd/anaconda3/lib/python3.8/site-packages/dateutil/tz/_factories.py'>,\n",
       " 'dateutil.tz.tz': <module 'dateutil.tz.tz' from '/home/zrd/anaconda3/lib/python3.8/site-packages/dateutil/tz/tz.py'>,\n",
       " 'dateutil.tz': <module 'dateutil.tz' from '/home/zrd/anaconda3/lib/python3.8/site-packages/dateutil/tz/__init__.py'>,\n",
       " 'dateutil.parser._parser': <module 'dateutil.parser._parser' from '/home/zrd/anaconda3/lib/python3.8/site-packages/dateutil/parser/_parser.py'>,\n",
       " 'dateutil.parser.isoparser': <module 'dateutil.parser.isoparser' from '/home/zrd/anaconda3/lib/python3.8/site-packages/dateutil/parser/isoparser.py'>,\n",
       " 'dateutil.parser': <module 'dateutil.parser' from '/home/zrd/anaconda3/lib/python3.8/site-packages/dateutil/parser/__init__.py'>,\n",
       " '_strptime': <module '_strptime' from '/home/zrd/anaconda3/lib/python3.8/_strptime.py'>,\n",
       " 'jupyter_client.jsonutil': <module 'jupyter_client.jsonutil' from '/home/zrd/anaconda3/lib/python3.8/site-packages/jupyter_client/jsonutil.py'>,\n",
       " 'jupyter_client.adapter': <module 'jupyter_client.adapter' from '/home/zrd/anaconda3/lib/python3.8/site-packages/jupyter_client/adapter.py'>,\n",
       " 'jupyter_client.session': <module 'jupyter_client.session' from '/home/zrd/anaconda3/lib/python3.8/site-packages/jupyter_client/session.py'>,\n",
       " 'ipykernel.iostream': <module 'ipykernel.iostream' from '/home/zrd/anaconda3/lib/python3.8/site-packages/ipykernel/iostream.py'>,\n",
       " 'ipykernel.heartbeat': <module 'ipykernel.heartbeat' from '/home/zrd/anaconda3/lib/python3.8/site-packages/ipykernel/heartbeat.py'>,\n",
       " 'IPython.utils.tokenutil': <module 'IPython.utils.tokenutil' from '/home/zrd/anaconda3/lib/python3.8/site-packages/IPython/utils/tokenutil.py'>,\n",
       " 'tornado.locks': <module 'tornado.locks' from '/home/zrd/anaconda3/lib/python3.8/site-packages/tornado/locks.py'>,\n",
       " 'tornado.queues': <module 'tornado.queues' from '/home/zrd/anaconda3/lib/python3.8/site-packages/tornado/queues.py'>,\n",
       " 'ipykernel.jsonutil': <module 'ipykernel.jsonutil' from '/home/zrd/anaconda3/lib/python3.8/site-packages/ipykernel/jsonutil.py'>,\n",
       " 'ipykernel.kernelbase': <module 'ipykernel.kernelbase' from '/home/zrd/anaconda3/lib/python3.8/site-packages/ipykernel/kernelbase.py'>,\n",
       " 'ipykernel.comm.comm': <module 'ipykernel.comm.comm' from '/home/zrd/anaconda3/lib/python3.8/site-packages/ipykernel/comm/comm.py'>,\n",
       " 'ipykernel.comm.manager': <module 'ipykernel.comm.manager' from '/home/zrd/anaconda3/lib/python3.8/site-packages/ipykernel/comm/manager.py'>,\n",
       " 'ipykernel.comm': <module 'ipykernel.comm' from '/home/zrd/anaconda3/lib/python3.8/site-packages/ipykernel/comm/__init__.py'>,\n",
       " 'IPython.core.payloadpage': <module 'IPython.core.payloadpage' from '/home/zrd/anaconda3/lib/python3.8/site-packages/IPython/core/payloadpage.py'>,\n",
       " 'ipykernel.displayhook': <module 'ipykernel.displayhook' from '/home/zrd/anaconda3/lib/python3.8/site-packages/ipykernel/displayhook.py'>,\n",
       " 'ipykernel.zmqshell': <module 'ipykernel.zmqshell' from '/home/zrd/anaconda3/lib/python3.8/site-packages/ipykernel/zmqshell.py'>,\n",
       " 'distutils.version': <module 'distutils.version' from '/home/zrd/anaconda3/lib/python3.8/distutils/version.py'>,\n",
       " 'ipykernel.eventloops': <module 'ipykernel.eventloops' from '/home/zrd/anaconda3/lib/python3.8/site-packages/ipykernel/eventloops.py'>,\n",
       " 'ipykernel.ipkernel': <module 'ipykernel.ipkernel' from '/home/zrd/anaconda3/lib/python3.8/site-packages/ipykernel/ipkernel.py'>,\n",
       " 'ipykernel.parentpoller': <module 'ipykernel.parentpoller' from '/home/zrd/anaconda3/lib/python3.8/site-packages/ipykernel/parentpoller.py'>,\n",
       " 'ipykernel.kernelapp': <module 'ipykernel.kernelapp' from '/home/zrd/anaconda3/lib/python3.8/site-packages/ipykernel/kernelapp.py'>,\n",
       " 'faulthandler': <module 'faulthandler' (built-in)>,\n",
       " 'ipykernel.codeutil': <module 'ipykernel.codeutil' from '/home/zrd/anaconda3/lib/python3.8/site-packages/ipykernel/codeutil.py'>,\n",
       " 'ipykernel.pickleutil': <module 'ipykernel.pickleutil' from '/home/zrd/anaconda3/lib/python3.8/site-packages/ipykernel/pickleutil.py'>,\n",
       " 'ipykernel.serialize': <module 'ipykernel.serialize' from '/home/zrd/anaconda3/lib/python3.8/site-packages/ipykernel/serialize.py'>,\n",
       " 'ipykernel.datapub': <module 'ipykernel.datapub' from '/home/zrd/anaconda3/lib/python3.8/site-packages/ipykernel/datapub.py'>,\n",
       " 'IPython.core.completerlib': <module 'IPython.core.completerlib' from '/home/zrd/anaconda3/lib/python3.8/site-packages/IPython/core/completerlib.py'>,\n",
       " 'storemagic': <module 'storemagic' from '/home/zrd/anaconda3/lib/python3.8/site-packages/IPython/extensions/storemagic.py'>}"
      ]
     },
     "execution_count": 36,
     "metadata": {},
     "output_type": "execute_result"
    }
   ],
   "source": [
    "sys.modules"
   ]
  },
  {
   "cell_type": "code",
   "execution_count": 37,
   "metadata": {},
   "outputs": [
    {
     "data": {
      "text/plain": [
       "dict_keys(['sys', 'builtins', '_frozen_importlib', '_imp', '_warnings', '_frozen_importlib_external', '_io', 'marshal', 'posix', '_thread', '_weakref', 'time', 'zipimport', '_codecs', 'codecs', 'encodings.aliases', 'encodings', 'encodings.utf_8', '_signal', '__main__', 'encodings.latin_1', '_abc', 'abc', 'io', '_stat', 'stat', '_collections_abc', 'genericpath', 'posixpath', 'os.path', 'os', '_sitebuiltins', '_locale', '_bootlocale', 'types', 'importlib._bootstrap', 'importlib._bootstrap_external', 'warnings', 'importlib', 'importlib.machinery', 'importlib.abc', '_operator', 'operator', 'keyword', '_heapq', 'heapq', 'itertools', 'reprlib', '_collections', 'collections', '_functools', 'functools', 'contextlib', 'importlib.util', 'mpl_toolkits', 'sphinxcontrib', 'zope', 'site', '_weakrefset', 'weakref', 'pkgutil', 'runpy', 'ipykernel._version', '__future__', 'enum', '_sre', 'sre_constants', 'sre_parse', 'sre_compile', 'copyreg', 're', '_json', 'json.scanner', 'json.decoder', 'json.encoder', 'json', 'errno', 'signal', 'threading', '_posixsubprocess', 'select', 'collections.abc', 'math', 'selectors', 'subprocess', 'IPython.core', 'IPython.core.getipython', 'IPython.core.release', 'atexit', 'copy', 'fnmatch', 'glob', 'token', 'tokenize', 'linecache', 'traceback', '_string', 'string', 'logging', 'zlib', '_compression', '_bz2', 'bz2', '_lzma', 'lzma', 'pwd', 'grp', 'shutil', '_opcode', 'opcode', 'dis', 'inspect', '_struct', 'struct', 'six', 'traitlets.utils', 'traitlets.utils.getargspec', 'ipython_genutils._version', 'ipython_genutils', 'locale', 'ipython_genutils.encoding', 'platform', 'ipython_genutils.py3compat', 'traitlets.utils.importstring', 'traitlets.utils.sentinel', 'traitlets.utils.bunch', 'traitlets.traitlets', 'traitlets._version', 'traitlets', 'decorator', 'gettext', 'argparse', '_ast', 'ast', '_bisect', 'bisect', '_sha512', '_random', 'random', 'ipython_genutils.path', 'traitlets.config.loader', 'textwrap', 'ipython_genutils.text', 'traitlets.config.configurable', 'ipython_genutils.importstring', 'traitlets.config.application', 'traitlets.config', 'pprint', 'sysconfig', 'urllib', 'urllib.parse', '_sysconfigdata__linux_x86_64-linux-gnu', 'pydoc', 'bdb', 'IPython.utils', 'IPython.utils.ipstruct', 'IPython.utils.coloransi', 'pygments', 'IPython.utils.colorable', 'IPython.utils.PyColorize', 'IPython.utils.encoding', 'IPython.utils.py3compat', 'IPython.core.excolors', 'IPython.testing', 'IPython.testing.skipdoctest', 'cmd', 'codeop', 'code', 'pdb', 'IPython.core.debugger', 'IPython.core.display_trap', 'pexpect.exceptions', 'pexpect.utils', 'pexpect.expect', 'termios', 'tty', 'pty', 'fcntl', 'resource', 'ptyprocess.util', 'ptyprocess.ptyprocess', 'ptyprocess', 'pexpect.spawnbase', 'pexpect.pty_spawn', 'pexpect.run', 'pexpect', 'shlex', 'IPython.utils._process_common', 'IPython.utils._process_posix', 'IPython.utils.process', 'IPython.utils.decorators', 'IPython.utils.path', 'IPython.utils.data', 'IPython.utils.terminal', 'IPython.core.ultratb', 'IPython.utils._sysinfo', 'IPython.utils.sysinfo', 'IPython.core.crashhandler', 'tempfile', 'IPython.utils.importstring', 'IPython.paths', 'IPython.core.profiledir', 'IPython.core.application', 'IPython.terminal', '_hashlib', '_blake2', '_sha3', 'hashlib', 'IPython.core.compilerop', 'IPython.core.error', 'ntpath', 'pathlib', 'IPython.utils.text', 'IPython.core.magic_arguments', 'getopt', 'typing.io', 'typing.re', 'typing', 'binascii', 'mimetypes', 'IPython.core.display', 'IPython.core.page', 'getpass', 'IPython.lib.security', 'IPython.lib', '_datetime', 'datetime', 'IPython.lib.pretty', 'IPython.utils.openpy', 'IPython.utils.dir2', 'IPython.utils.wildcard', 'pygments.lexers._mapping', 'pygments.modeline', 'pygments.plugin', 'pygments.util', 'pygments.lexers', 'pygments.filter', 'pygments.token', 'pygments.filters', 'pygments.regexopt', 'pygments.lexer', 'pygments.unistring', 'pygments.lexers.python', 'pygments.formatters._mapping', 'pygments.formatters', 'pygments.styles', 'pygments.formatter', 'pygments.formatters.html', 'IPython.core.oinspect', 'IPython.core.inputtransformer2', 'IPython.core.magic', '_compat_pickle', '_pickle', 'pickle', 'pickleshare', 'IPython.core.autocall', 'IPython.core.macro', 'IPython.core.splitinput', 'IPython.core.prefilter', 'IPython.core.alias', 'IPython.core.builtin_trap', 'backcall.backcall', 'backcall', 'IPython.core.events', 'IPython.core.displayhook', 'IPython.core.displaypub', 'IPython.core.extensions', 'IPython.utils.sentinel', 'IPython.core.formatters', '_sqlite3', 'sqlite3.dbapi2', 'sqlite3', 'IPython.core.history', 'IPython.core.logger', 'IPython.core.payload', 'IPython.core.usage', 'html.entities', 'html', 'IPython.lib.display', 'IPython.display', 'IPython.utils.capture', 'IPython.utils.io', 'IPython.core.hooks', 'IPython.utils.strdispatch', 'IPython.utils.syspathcontext', 'IPython.utils.tempdir', 'IPython.utils.contexts', 'IPython.core.async_helpers', 'IPython.core.interactiveshell', 'concurrent', 'concurrent.futures._base', 'concurrent.futures', '_socket', 'socket', '_ssl', 'base64', 'ssl', 'asyncio.constants', 'asyncio.format_helpers', 'asyncio.base_futures', 'asyncio.log', 'asyncio.coroutines', '_contextvars', 'contextvars', 'asyncio.exceptions', 'asyncio.base_tasks', '_asyncio', 'asyncio.events', 'asyncio.futures', 'asyncio.protocols', 'asyncio.transports', 'asyncio.sslproto', 'asyncio.locks', 'asyncio.tasks', 'asyncio.staggered', 'asyncio.trsock', 'asyncio.base_events', 'asyncio.runners', 'asyncio.queues', 'asyncio.streams', 'asyncio.subprocess', 'asyncio.base_subprocess', 'asyncio.selector_events', 'asyncio.unix_events', 'asyncio', 'prompt_toolkit.application.current', 'prompt_toolkit.eventloop.utils', 'prompt_toolkit.eventloop.async_generator', 'wcwidth.table_wide', 'wcwidth.table_zero', 'wcwidth.unicode_versions', 'wcwidth.wcwidth', 'wcwidth', 'prompt_toolkit.utils', 'prompt_toolkit.eventloop.inputhook', 'prompt_toolkit.eventloop', 'prompt_toolkit.application.run_in_terminal', 'prompt_toolkit.selection', 'prompt_toolkit.clipboard.base', 'prompt_toolkit.clipboard.in_memory', 'prompt_toolkit.clipboard', 'prompt_toolkit.cache', 'prompt_toolkit.enums', 'prompt_toolkit.filters.base', 'prompt_toolkit.filters.app', 'prompt_toolkit.filters.cli', 'prompt_toolkit.filters.utils', 'prompt_toolkit.filters', 'prompt_toolkit.document', 'prompt_toolkit.auto_suggest', 'prompt_toolkit.data_structures', 'prompt_toolkit.styles.base', 'prompt_toolkit.styles.named_colors', 'prompt_toolkit.styles.style', 'prompt_toolkit.styles.defaults', 'prompt_toolkit.styles.pygments', 'colorsys', 'prompt_toolkit.styles.style_transformation', 'prompt_toolkit.styles', 'prompt_toolkit.output.color_depth', 'prompt_toolkit.output.base', 'prompt_toolkit.patch_stdout', 'prompt_toolkit.output.defaults', 'prompt_toolkit.output', 'array', 'prompt_toolkit.output.vt100', 'prompt_toolkit.mouse_events', 'prompt_toolkit.formatted_text.base', 'prompt_toolkit.formatted_text.ansi', 'xml', 'xml.dom.domreg', 'xml.dom', 'xml.dom.minicompat', 'xml.dom.NodeFilter', 'xml.dom.xmlbuilder', 'xml.dom.minidom', 'prompt_toolkit.formatted_text.html', 'prompt_toolkit.formatted_text.pygments', 'prompt_toolkit.formatted_text.utils', 'prompt_toolkit.formatted_text', 'prompt_toolkit.completion.base', 'prompt_toolkit.completion.filesystem', 'prompt_toolkit.completion.word_completer', 'prompt_toolkit.completion.fuzzy_completer', 'prompt_toolkit.completion.nested', 'prompt_toolkit.completion', 'prompt_toolkit.history', 'prompt_toolkit.keys', 'prompt_toolkit.key_binding.key_bindings', 'prompt_toolkit.key_binding.key_processor', 'prompt_toolkit.key_binding', 'prompt_toolkit.key_binding.vi_state', 'prompt_toolkit.search', 'prompt_toolkit.validation', 'prompt_toolkit.buffer', 'prompt_toolkit.input.base', 'prompt_toolkit.input.defaults', 'prompt_toolkit.input', 'prompt_toolkit.input.typeahead', 'prompt_toolkit.key_binding.bindings', 'prompt_toolkit.key_binding.bindings.scroll', 'prompt_toolkit.key_binding.bindings.page_navigation', 'prompt_toolkit.lexers.base', 'prompt_toolkit.lexers.pygments', 'prompt_toolkit.lexers', 'prompt_toolkit.layout.utils', 'prompt_toolkit.layout.processors', 'prompt_toolkit.layout.controls', 'prompt_toolkit.layout.dimension', 'prompt_toolkit.layout.margins', 'prompt_toolkit.layout.mouse_handlers', 'prompt_toolkit.layout.screen', 'prompt_toolkit.layout.containers', 'prompt_toolkit.layout.layout', 'prompt_toolkit.layout.menus', 'prompt_toolkit.layout', 'prompt_toolkit.key_binding.bindings.completion', 'prompt_toolkit.key_binding.bindings.named_commands', 'prompt_toolkit.key_binding.bindings.basic', 'prompt_toolkit.key_binding.bindings.cpr', 'prompt_toolkit.key_binding.bindings.emacs', 'prompt_toolkit.key_binding.bindings.mouse', 'prompt_toolkit.input.ansi_escape_sequences', 'prompt_toolkit.input.vt100_parser', 'prompt_toolkit.key_binding.digraphs', 'prompt_toolkit.key_binding.bindings.vi', 'prompt_toolkit.key_binding.defaults', 'prompt_toolkit.key_binding.emacs_state', 'prompt_toolkit.layout.dummy', 'prompt_toolkit.renderer', 'prompt_toolkit.application.application', 'prompt_toolkit.application.dummy', 'prompt_toolkit.application', 'prompt_toolkit.key_binding.bindings.focus', 'prompt_toolkit.widgets.toolbars', 'prompt_toolkit.widgets.base', 'prompt_toolkit.widgets.dialogs', 'prompt_toolkit.widgets.menus', 'prompt_toolkit.widgets', 'prompt_toolkit.shortcuts.dialogs', 'prompt_toolkit.shortcuts.progress_bar.formatters', 'prompt_toolkit.shortcuts.progress_bar.base', 'prompt_toolkit.shortcuts.progress_bar', 'prompt_toolkit.key_binding.bindings.auto_suggest', 'prompt_toolkit.key_binding.bindings.open_in_editor', 'prompt_toolkit.shortcuts.prompt', 'prompt_toolkit.shortcuts.utils', 'prompt_toolkit.shortcuts', 'prompt_toolkit', 'pygments.style', 'unicodedata', 'IPython.core.latex_symbols', 'IPython.utils.generics', 'parso._compatibility', 'parso.utils', 'parso.tree', 'parso.python', 'parso.python.token', 'parso.python.tokenize', 'parso.pgen2.grammar_parser', 'parso.pgen2.generator', 'parso.pgen2', 'parso.parser', 'difflib', 'parso.python.prefix', 'parso.python.tree', 'parso.python.parser', 'parso.python.diff', 'gc', 'parso.cache', 'parso.normalizer', 'parso.python.errors', 'parso.python.pep8', 'parso.file_io', 'parso.grammar', 'parso', 'jedi.file_io', '_queue', 'queue', 'jedi._compatibility', 'jedi.parser_utils', 'colorama.ansi', '_ctypes', 'ctypes._endian', 'ctypes', 'colorama.win32', 'colorama.winterm', 'colorama.ansitowin32', 'colorama.initialise', 'colorama', 'jedi.debug', 'jedi.settings', 'jedi.cache', 'jedi.inference.cache', 'jedi.inference.helpers', 'jedi.inference.utils', 'jedi.inference.base_value', 'jedi.common', 'jedi.inference.sys_path', 'jedi.inference.recursion', 'jedi.inference.flow_analysis', 'jedi.inference.lazy_value', 'jedi.inference.docstrings', 'jedi.plugins', 'jedi.inference.names', 'jedi.inference.filters', 'jedi.inference.compiled.getattr_static', 'jedi.inference.compiled.access', 'jedi.inference.signature', 'jedi.inference.context', 'jedi.inference.compiled.value', 'jedi.inference.compiled', 'jedi.inference.analysis', 'jedi.inference.gradual', 'jedi.inference.value.module', 'jedi.inference.value.dynamic_arrays', 'jedi.inference.value.iterable', 'jedi.inference.arguments', 'jedi.inference.parser_cache', 'jedi.inference.gradual.generics', 'jedi.inference.value.function', 'jedi.inference.value.klass', 'jedi.inference.value.instance', 'jedi.inference.value', 'jedi.inference.gradual.base', 'jedi.inference.gradual.type_var', 'jedi.inference.gradual.typing', 'jedi.inference.gradual.stub_value', 'jedi.inference.gradual.typeshed', 'jedi.inference.imports', 'jedi.inference.param', 'jedi.inference.gradual.annotation', 'jedi.inference.value.decorator', 'jedi.inference.syntax_tree', 'jedi.inference', 'jedi.inference.gradual.conversion', 'jedi.inference.compiled.mixed', 'pydoc_data', 'pydoc_data.topics', 'jedi.api.keywords', 'jedi.api.completion_cache', 'jedi.api.helpers', 'jedi.api.classes', 'jedi.api.interpreter', 'jedi.api.strings', 'jedi.api.file_name', 'jedi.api.completion', 'filecmp', 'jedi.inference.compiled.subprocess.functions', 'jedi.api.exceptions', 'jedi.inference.compiled.subprocess', 'jedi.api.environment', 'jedi.inference.references', 'jedi.api.project', 'jedi.api.errors', 'jedi.api.refactoring', 'jedi.api.refactoring.extract', 'jedi.inference.gradual.utils', 'jedi.api', 'jedi.plugins.stdlib', 'jedi.plugins.flask', 'jedi.plugins.pytest', 'jedi.plugins.django', 'jedi.plugins.registry', 'jedi', 'IPython.core.completer', 'IPython.terminal.ptutils', 'IPython.terminal.shortcuts', 'IPython.terminal.debugger', 'IPython.lib.clipboard', 'IPython.terminal.magics', 'IPython.terminal.pt_inputhooks', 'IPython.terminal.prompts', 'IPython.terminal.interactiveshell', 'IPython.core.magics.auto', 'IPython.core.magics.basic', 'email', 'http', 'email.errors', 'email.quoprimime', 'email.base64mime', 'quopri', 'email.encoders', 'email.charset', 'email.header', 'calendar', 'email._parseaddr', 'email.utils', 'email._policybase', 'email.feedparser', 'email.parser', 'uu', 'email._encoded_words', 'email.iterators', 'email.message', 'http.client', 'urllib.response', 'urllib.error', 'urllib.request', 'IPython.core.magics.code', 'IPython.core.magics.config', 'IPython.core.magics.display', 'timeit', '_lsprof', 'profile', 'cProfile', 'pstats', 'IPython.utils.module_paths', 'IPython.utils.timing', 'IPython.core.magics.execution', 'IPython.core.magics.extension', 'IPython.core.magics.history', 'IPython.core.magics.logging', 'IPython.core.magics.namespace', 'IPython.core.magics.osm', 'IPython.core.magics.packaging', 'IPython.core.pylabtools', 'IPython.core.magics.pylab', 'IPython.lib.backgroundjobs', 'IPython.core.magics.script', 'IPython.core.magics', 'IPython.core.shellapp', 'IPython.extensions', 'IPython.extensions.storemagic', 'IPython.terminal.ipapp', 'IPython.terminal.embed', 'IPython.utils.frame', 'IPython', 'jupyter_client._version', 'zmq.backend.select', 'cython_runtime', 'zmq.backend.cython.constants', '_cython_0_29_17', 'zmq.backend.cython.error', 'zmq.error', 'zmq.backend.cython.message', 'zmq.backend.cython.context', 'zmq.backend.cython.socket', 'zmq.backend.cython.utils', 'zmq.backend.cython._poll', 'zmq.backend.cython._version', 'zmq.backend.cython._device', 'zmq.backend.cython._proxy_steerable', 'zmq.backend.cython', 'zmq.backend', 'zmq.utils', 'zmq.utils.constant_names', 'zmq.sugar.constants', 'zmq.sugar.attrsettr', 'zmq.sugar.poll', 'zmq.utils.strtypes', 'zmq.utils.jsonapi', 'zmq.sugar.socket', 'zmq.sugar.context', 'zmq.sugar.frame', 'zmq.sugar.tracker', 'zmq.sugar.version', 'zmq.sugar.stopwatch', 'zmq.sugar', 'zmq', 'jupyter_client.localinterfaces', 'jupyter_core.version', 'jupyter_core', 'distutils', 'distutils.errors', 'distutils.dep_util', 'distutils.debug', 'distutils.log', 'distutils.spawn', 'distutils.util', 'jupyter_core.paths', 'jupyter_client.connect', 'traitlets.log', 'jupyter_client.launcher', 'jupyter_client.channelsabc', 'jupyter_client.channels', 'jupyter_client.clientabc', 'jupyter_client.client', 'jupyter_client.kernelspec', 'jupyter_client.managerabc', 'jupyter_client.manager', 'jupyter_client.blocking.channels', 'jupyter_client.blocking.client', 'jupyter_client.blocking', 'zmq._future', 'zmq.asyncio', 'jupyter_client.asynchronous.channels', 'jupyter_client.asynchronous.client', 'jupyter_client.asynchronous', 'uuid', 'jupyter_client.multikernelmanager', 'jupyter_client', 'ipykernel.connect', 'ipykernel', 'tornado', 'numbers', 'logging.handlers', 'tornado.speedups', 'tornado.util', 'tornado.escape', '_curses', 'curses', 'tornado.log', 'tornado.concurrent', 'tornado.ioloop', 'tornado.platform', 'tornado.gen', 'tornado.platform.asyncio', 'zmq.eventloop.ioloop', 'zmq.eventloop', 'zmq.eventloop.zmqstream', 'imp', 'hmac', 'dateutil._version', 'dateutil', '_decimal', 'decimal', 'dateutil._common', 'dateutil.relativedelta', 'six.moves', 'dateutil.tz._common', 'dateutil.tz._factories', 'dateutil.tz.tz', 'dateutil.tz', 'dateutil.parser._parser', 'dateutil.parser.isoparser', 'dateutil.parser', '_strptime', 'jupyter_client.jsonutil', 'jupyter_client.adapter', 'jupyter_client.session', 'ipykernel.iostream', 'ipykernel.heartbeat', 'IPython.utils.tokenutil', 'tornado.locks', 'tornado.queues', 'ipykernel.jsonutil', 'ipykernel.kernelbase', 'ipykernel.comm.comm', 'ipykernel.comm.manager', 'ipykernel.comm', 'IPython.core.payloadpage', 'ipykernel.displayhook', 'ipykernel.zmqshell', 'distutils.version', 'ipykernel.eventloops', 'ipykernel.ipkernel', 'ipykernel.parentpoller', 'ipykernel.kernelapp', 'faulthandler', 'ipykernel.codeutil', 'ipykernel.pickleutil', 'ipykernel.serialize', 'ipykernel.datapub', 'IPython.core.completerlib', 'storemagic', 'zmq.utils.garbage'])"
      ]
     },
     "execution_count": 37,
     "metadata": {},
     "output_type": "execute_result"
    }
   ],
   "source": [
    "sys.modules.keys()"
   ]
  },
  {
   "cell_type": "markdown",
   "metadata": {},
   "source": [
    "## 操作系统平台名称 sys.platform"
   ]
  },
  {
   "cell_type": "code",
   "execution_count": 38,
   "metadata": {},
   "outputs": [
    {
     "data": {
      "text/plain": [
       "'linux'"
      ]
     },
     "execution_count": 38,
     "metadata": {},
     "output_type": "execute_result"
    }
   ],
   "source": [
    "sys.platform"
   ]
  },
  {
   "cell_type": "markdown",
   "metadata": {},
   "source": [
    "## 模块搜索路径 sys.path"
   ]
  },
  {
   "cell_type": "code",
   "execution_count": 6,
   "metadata": {},
   "outputs": [
    {
     "data": {
      "text/plain": [
       "['/home/zrd/Desktop/Workspace/01_JupyterNotebook/02_Python库的使用练习',\n",
       " '/home/zrd/anaconda3/lib/python38.zip',\n",
       " '/home/zrd/anaconda3/lib/python3.8',\n",
       " '/home/zrd/anaconda3/lib/python3.8/lib-dynload',\n",
       " '',\n",
       " '/home/zrd/anaconda3/lib/python3.8/site-packages',\n",
       " '/home/zrd/anaconda3/lib/python3.8/site-packages/IPython/extensions',\n",
       " '/home/zrd/.ipython']"
      ]
     },
     "execution_count": 6,
     "metadata": {},
     "output_type": "execute_result"
    }
   ],
   "source": [
    "sys.path"
   ]
  },
  {
   "cell_type": "markdown",
   "metadata": {},
   "source": [
    "## 获取当前栈帧对象 sys._getframe()\n",
    "通过栈帧对象可以获得\n",
    "* 当前行号\n",
    "* 当前函数名\n",
    "* 当前文件名\n",
    "* 调用者的栈帧 （进而可以获得调用者的行号，函数名，以此类推）"
   ]
  },
  {
   "cell_type": "code",
   "execution_count": 8,
   "metadata": {},
   "outputs": [
    {
     "data": {
      "text/plain": [
       "frame"
      ]
     },
     "execution_count": 8,
     "metadata": {},
     "output_type": "execute_result"
    }
   ],
   "source": [
    "frm = sys._getframe()\n",
    "type(frm)"
   ]
  },
  {
   "cell_type": "markdown",
   "metadata": {},
   "source": [
    "### 获取帧对象的信息"
   ]
  },
  {
   "cell_type": "code",
   "execution_count": 11,
   "metadata": {},
   "outputs": [
    {
     "name": "stdout",
     "output_type": "stream",
     "text": [
      "<ipython-input-11-3eb5d4cc34ea>\n",
      "test_frame\n",
      "8\n",
      "<frame at 0x559cc88c3470, file '<ipython-input-11-3eb5d4cc34ea>', line 10, code <module>>\n"
     ]
    }
   ],
   "source": [
    "def get_frame_info(frm): \n",
    "    print(frm.f_code.co_filename) # 当前文件名 \n",
    "    print(frm.f_code.co_name) # 当前函数名 \n",
    "    print(frm.f_lineno) # 当前行号 \n",
    "    print(frm.f_back) # 调用者的帧\n",
    "    \n",
    "def test_frame():\n",
    "    get_frame_info(sys._getframe())\n",
    "\n",
    "test_frame()"
   ]
  },
  {
   "cell_type": "markdown",
   "metadata": {},
   "source": [
    "# 应用实例"
   ]
  },
  {
   "cell_type": "markdown",
   "metadata": {},
   "source": [
    "## 某文件夹内有图片若干，统计图片名包含某特定字符串的图片占所有图片的比例"
   ]
  },
  {
   "cell_type": "code",
   "execution_count": 39,
   "metadata": {},
   "outputs": [
    {
     "name": "stdout",
     "output_type": "stream",
     "text": [
      "37.21%\n"
     ]
    }
   ],
   "source": [
    "import os\n",
    "import sys \n",
    "\n",
    "args = sys.argv\n",
    "path = \"./img/heatmap\" # 图片所在路径\n",
    "\n",
    "# strings = [\"a\"] if len(args)<2 else args[1:] # 要包含的字符串\n",
    "strings = [\"a\"]\n",
    "types = ['png', 'jpg', 'jpeg']\n",
    "names = os.listdir(path)\n",
    "img_names = list(filter(lambda name: any(t in name for t in types), names))\n",
    "need_names = list(filter(lambda name: all(s in name for s in strings), img_names))\n",
    "rate = len(need_names) / len(img_names)\n",
    "print(f\"{rate:.2%}\")"
   ]
  }
 ],
 "metadata": {
  "kernelspec": {
   "display_name": "Python 3",
   "language": "python",
   "name": "python3"
  },
  "language_info": {
   "codemirror_mode": {
    "name": "ipython",
    "version": 3
   },
   "file_extension": ".py",
   "mimetype": "text/x-python",
   "name": "python",
   "nbconvert_exporter": "python",
   "pygments_lexer": "ipython3",
   "version": "3.7.9"
  },
  "toc": {
   "base_numbering": 1,
   "nav_menu": {},
   "number_sections": true,
   "sideBar": true,
   "skip_h1_title": false,
   "title_cell": "Table of Contents",
   "title_sidebar": "Contents",
   "toc_cell": false,
   "toc_position": {
    "height": "calc(100% - 180px)",
    "left": "10px",
    "top": "150px",
    "width": "357.801px"
   },
   "toc_section_display": true,
   "toc_window_display": true
  }
 },
 "nbformat": 4,
 "nbformat_minor": 4
}
