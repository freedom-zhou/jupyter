{
 "cells": [
  {
   "cell_type": "markdown",
   "metadata": {},
   "source": [
    "# 四种对象"
   ]
  },
  {
   "cell_type": "markdown",
   "metadata": {},
   "source": [
    "BeautifulSoup4将html文档其转化成可操作的树形结构，每个节点都是python对象，一共有这四种对象：\n",
    "+ Tag (HTML中的标签)\n",
    "+ NavigableString (标签内部的文字)\n",
    "+ BeautifulSoup\n",
    "+ Comment"
   ]
  },
  {
   "cell_type": "code",
   "execution_count": 26,
   "metadata": {},
   "outputs": [],
   "source": [
    "from bs4 import BeautifulSoup\n",
    "\n",
    "file = open(r'./data/baidu_urllib.html', 'rb') # 二进制读取\n",
    "html = file.read()\n",
    "bs = BeautifulSoup(html,'html')"
   ]
  },
  {
   "cell_type": "markdown",
   "metadata": {},
   "source": [
    "## Tag"
   ]
  },
  {
   "cell_type": "code",
   "execution_count": 19,
   "metadata": {},
   "outputs": [
    {
     "name": "stdout",
     "output_type": "stream",
     "text": [
      "<class 'bs4.element.Tag'>\n",
      "<title>百度一下，你就知道</title>\n",
      "title\n",
      "{}\n"
     ]
    }
   ],
   "source": [
    "print(type(bs.title))\n",
    "print(bs.title)\n",
    "print(bs.title.name)\n",
    "print(bs.title.attrs)"
   ]
  },
  {
   "cell_type": "markdown",
   "metadata": {},
   "source": [
    "## NavigableString"
   ]
  },
  {
   "cell_type": "code",
   "execution_count": 18,
   "metadata": {},
   "outputs": [
    {
     "name": "stdout",
     "output_type": "stream",
     "text": [
      "<class 'bs4.element.NavigableString'>\n",
      "百度一下，你就知道\n"
     ]
    }
   ],
   "source": [
    "print(type(bs.title.string))\n",
    "print(bs.title.string)"
   ]
  },
  {
   "cell_type": "markdown",
   "metadata": {},
   "source": [
    "## BeautifulSoup"
   ]
  },
  {
   "cell_type": "markdown",
   "metadata": {},
   "source": [
    "BeautifulSoup对象表示的是整个文档的内容。大部分时候，可以把它当作 Tag 对象，它是一个特殊的 Tag"
   ]
  },
  {
   "cell_type": "code",
   "execution_count": 23,
   "metadata": {},
   "outputs": [
    {
     "name": "stdout",
     "output_type": "stream",
     "text": [
      "<class 'bs4.BeautifulSoup'>\n",
      "[document]\n",
      "{}\n"
     ]
    }
   ],
   "source": [
    "print(type(bs))\n",
    "print(bs.name)\n",
    "print(bs.attrs)"
   ]
  },
  {
   "cell_type": "markdown",
   "metadata": {},
   "source": [
    "## Comment"
   ]
  },
  {
   "cell_type": "markdown",
   "metadata": {},
   "source": [
    "Comment 对象是一个特殊类型的 NavigableString 对象，其输出的内容不包括注释符号。"
   ]
  },
  {
   "cell_type": "code",
   "execution_count": 37,
   "metadata": {},
   "outputs": [
    {
     "name": "stdout",
     "output_type": "stream",
     "text": [
      "<class 'bs4.element.Tag'>\n",
      "<a class=\"toindex\" href=\"/\">\n",
      " <!--我是注释，包含在第一个a标签中-->\n",
      "</a>\n",
      "\n",
      "<class 'bs4.element.Comment'>\n",
      "我是注释，包含在第一个a标签中\n",
      "\n",
      "{'class': ['toindex'], 'href': '/'}\n"
     ]
    }
   ],
   "source": [
    "print(type(bs.a))\n",
    "print(bs.a.prettify())\n",
    "\n",
    "print(type(bs.a.string))\n",
    "print(bs.a.string,end='\\n\\n')\n",
    "\n",
    "print(bs.a.attrs)"
   ]
  },
  {
   "cell_type": "markdown",
   "metadata": {},
   "source": [
    "# 使用官网测试文本"
   ]
  },
  {
   "cell_type": "code",
   "execution_count": 56,
   "metadata": {},
   "outputs": [],
   "source": [
    "from bs4 import BeautifulSoup\n",
    "\n",
    "html_doc = \"\"\"\n",
    "<html><head><title>The Dormouse's story</title></head>\n",
    "<body>\n",
    "<p class=\"title\"><b>The Dormouse's story</b></p>\n",
    "\n",
    "<p class=\"story\">Once upon a time there were three little sisters; and their names were\n",
    "<a href=\"http://example.com/elsie\" class=\"sister\" id=\"link1\">Elsie</a>,\n",
    "<a href=\"http://example.com/lacie\" class=\"sister\" id=\"link2\">Lacie</a> and\n",
    "<a href=\"http://example.com/tillie\" class=\"sister\" id=\"link3\">Tillie</a>;\n",
    "and they lived at the bottom of a well.</p>\n",
    "\n",
    "<p class='my' id='zrd'>668</p>\n",
    "<p class=\"story\">...</p>\n",
    "\"\"\"\n",
    "soup = BeautifulSoup(html_doc,'html')"
   ]
  },
  {
   "cell_type": "markdown",
   "metadata": {},
   "source": [
    "# 美化输出"
   ]
  },
  {
   "cell_type": "code",
   "execution_count": 57,
   "metadata": {},
   "outputs": [
    {
     "name": "stdout",
     "output_type": "stream",
     "text": [
      "<html>\n",
      " <head>\n",
      "  <title>\n",
      "   The Dormouse's story\n",
      "  </title>\n",
      " </head>\n",
      " <body>\n",
      "  <p class=\"title\">\n",
      "   <b>\n",
      "    The Dormouse's story\n",
      "   </b>\n",
      "  </p>\n",
      "  <p class=\"story\">\n",
      "   Once upon a time there were three little sisters; and their names were\n",
      "   <a class=\"sister\" href=\"http://example.com/elsie\" id=\"link1\">\n",
      "    Elsie\n",
      "   </a>\n",
      "   ,\n",
      "   <a class=\"sister\" href=\"http://example.com/lacie\" id=\"link2\">\n",
      "    Lacie\n",
      "   </a>\n",
      "   and\n",
      "   <a class=\"sister\" href=\"http://example.com/tillie\" id=\"link3\">\n",
      "    Tillie\n",
      "   </a>\n",
      "   ;\n",
      "and they lived at the bottom of a well.\n",
      "  </p>\n",
      "  <p class=\"my\" id=\"zrd\">\n",
      "   668\n",
      "  </p>\n",
      "  <p class=\"story\">\n",
      "   ...\n",
      "  </p>\n",
      " </body>\n",
      "</html>\n"
     ]
    }
   ],
   "source": [
    "# 按照标准的缩进格式美化html\n",
    "print(soup.prettify())"
   ]
  },
  {
   "cell_type": "markdown",
   "metadata": {},
   "source": [
    "# 遍历"
   ]
  },
  {
   "cell_type": "code",
   "execution_count": null,
   "metadata": {},
   "outputs": [],
   "source": [
    "# .contents 和 .children\n",
    "\n",
    "# .descendants\n",
    "\n",
    "# .parent 和 .parents\n",
    "\n",
    "# .next_sibling 和 .previous_sibling\n",
    "\n",
    "# .next_siblings 和 .previous_siblings"
   ]
  },
  {
   "cell_type": "markdown",
   "metadata": {},
   "source": [
    "# 搜索"
   ]
  },
  {
   "cell_type": "markdown",
   "metadata": {},
   "source": [
    "## find_all() 搜索"
   ]
  },
  {
   "cell_type": "code",
   "execution_count": 63,
   "metadata": {
    "scrolled": true
   },
   "outputs": [
    {
     "name": "stdout",
     "output_type": "stream",
     "text": [
      "find_all('a')\n",
      "<a class=\"sister\" href=\"http://example.com/elsie\" id=\"link1\">Elsie</a>\n",
      "<a class=\"sister\" href=\"http://example.com/lacie\" id=\"link2\">Lacie</a>\n",
      "<a class=\"sister\" href=\"http://example.com/tillie\" id=\"link3\">Tillie</a>\n",
      "\n",
      "find_all(['a','b'])\n",
      "<b>The Dormouse's story</b>\n",
      "<a class=\"sister\" href=\"http://example.com/elsie\" id=\"link1\">Elsie</a>\n",
      "<a class=\"sister\" href=\"http://example.com/lacie\" id=\"link2\">Lacie</a>\n",
      "<a class=\"sister\" href=\"http://example.com/tillie\" id=\"link3\">Tillie</a>\n",
      "\n",
      "find_all(re.compile('a'))\n",
      "<head><title>The Dormouse's story</title></head>\n",
      "<a class=\"sister\" href=\"http://example.com/elsie\" id=\"link1\">Elsie</a>\n",
      "<a class=\"sister\" href=\"http://example.com/lacie\" id=\"link2\">Lacie</a>\n",
      "<a class=\"sister\" href=\"http://example.com/tillie\" id=\"link3\">Tillie</a>\n",
      "\n",
      "find_all(lambda tag: ...)\n",
      "<p class=\"title\"><b>The Dormouse's story</b></p>\n",
      "<p class=\"story\">Once upon a time there were three little sisters; and their names were\n",
      "<a class=\"sister\" href=\"http://example.com/elsie\" id=\"link1\">Elsie</a>,\n",
      "<a class=\"sister\" href=\"http://example.com/lacie\" id=\"link2\">Lacie</a> and\n",
      "<a class=\"sister\" href=\"http://example.com/tillie\" id=\"link3\">Tillie</a>;\n",
      "and they lived at the bottom of a well.</p>\n",
      "<p class=\"my\" id=\"zrd\">668</p>\n",
      "<p class=\"story\">...</p>\n",
      "\n",
      "find_all(id='link1')\n",
      "<a class=\"sister\" href=\"http://example.com/elsie\" id=\"link1\">Elsie</a>\n",
      "\n",
      "find_all(href=re.compile('lacie'))\n",
      "<a class=\"sister\" href=\"http://example.com/lacie\" id=\"link2\">Lacie</a>\n",
      "\n",
      "find_all('p', class_='story')\n",
      "<p class=\"story\">Once upon a time there were three little sisters; and their names were\n",
      "<a class=\"sister\" href=\"http://example.com/elsie\" id=\"link1\">Elsie</a>,\n",
      "<a class=\"sister\" href=\"http://example.com/lacie\" id=\"link2\">Lacie</a> and\n",
      "<a class=\"sister\" href=\"http://example.com/tillie\" id=\"link3\">Tillie</a>;\n",
      "and they lived at the bottom of a well.</p>\n",
      "<p class=\"story\">...</p>\n",
      "\n",
      "find_all(string=re.compile('\\d'))\n",
      "668\n",
      "\n",
      "find_all(text=re.compile('\\d'))\n",
      "668\n",
      "\n",
      "find_all('a', limit=2)\n",
      "<a class=\"sister\" href=\"http://example.com/elsie\" id=\"link1\">Elsie</a>\n",
      "<a class=\"sister\" href=\"http://example.com/lacie\" id=\"link2\">Lacie</a>\n",
      "\n"
     ]
    }
   ],
   "source": [
    "import re\n",
    "\n",
    "# 字符串搜索\n",
    "print(r\"find_all('a')\")\n",
    "tag_list = soup.find_all('a')\n",
    "for tag in tag_list: print(tag)\n",
    "print()\n",
    "\n",
    "# 列表搜索\n",
    "print(r\"find_all(['a','b'])\")\n",
    "tag_list = soup.find_all(['a','b'])\n",
    "for tag in tag_list: print(tag)\n",
    "print()\n",
    "\n",
    "# 正则表达式搜索\n",
    "print(r\"find_all(re.compile('a'))\")\n",
    "tag_list = soup.find_all(re.compile('a'))\n",
    "for tag in tag_list: print(tag)\n",
    "print()\n",
    "\n",
    "# 方法搜索（过滤）\n",
    "print(r\"find_all(lambda tag: ...)\")\n",
    "tag_list = soup.find_all(lambda tag: tag.has_attr('class') and not tag.has_attr('href'))\n",
    "for tag in tag_list: print(tag)\n",
    "print()\n",
    "\n",
    "# keyword \n",
    "print(r\"find_all(id='link1')\")\n",
    "tag_list = soup.find_all(id='link1')\n",
    "for tag in tag_list: print(tag)\n",
    "print()\n",
    "    \n",
    "print(r\"find_all(href=re.compile('lacie'))\")\n",
    "tag_list = soup.find_all(href=re.compile('lacie'))\n",
    "for tag in tag_list: print(tag)\n",
    "print()\n",
    "\n",
    "# css  \n",
    "print(r\"find_all('p', class_='story')\")\n",
    "tag_list = soup.find_all('p', class_='story')\n",
    "for tag in tag_list: print(tag)\n",
    "print()\n",
    "\n",
    "# string  \n",
    "print(r\"find_all(string=re.compile('\\d'))\")\n",
    "tag_list = soup.find_all(string=re.compile('\\d'))\n",
    "for tag in tag_list: print(tag)\n",
    "print()\n",
    "\n",
    "# text  \n",
    "print(r\"find_all(text=re.compile('\\d'))\")\n",
    "tag_list = soup.find_all(text=re.compile('\\d'))\n",
    "for tag in tag_list: print(tag)\n",
    "print()\n",
    "\n",
    "# limit 参数  \n",
    "print(r\"find_all('a', limit=2)\")\n",
    "tag_list = soup.find_all('a', limit=2)\n",
    "for tag in tag_list: print(tag)\n",
    "print()"
   ]
  },
  {
   "cell_type": "markdown",
   "metadata": {},
   "source": [
    "## find()"
   ]
  },
  {
   "cell_type": "markdown",
   "metadata": {},
   "source": [
    "相当于find_all()的参数limit=1，但find找不到时返回None，find_all找不到时返回[]"
   ]
  },
  {
   "cell_type": "markdown",
   "metadata": {},
   "source": [
    "## select() 选择器 （语法类似jquery）"
   ]
  },
  {
   "cell_type": "code",
   "execution_count": 65,
   "metadata": {},
   "outputs": [
    {
     "name": "stdout",
     "output_type": "stream",
     "text": [
      "select('a')\n",
      "<a class=\"sister\" href=\"http://example.com/elsie\" id=\"link1\">Elsie</a>\n",
      "<a class=\"sister\" href=\"http://example.com/lacie\" id=\"link2\">Lacie</a>\n",
      "<a class=\"sister\" href=\"http://example.com/tillie\" id=\"link3\">Tillie</a>\n",
      "\n",
      "select('#zrd')\n",
      "<p class=\"my\" id=\"zrd\">668</p>\n",
      "\n",
      "select('.story')\n",
      "<p class=\"story\">Once upon a time there were three little sisters; and their names were\n",
      "<a class=\"sister\" href=\"http://example.com/elsie\" id=\"link1\">Elsie</a>,\n",
      "<a class=\"sister\" href=\"http://example.com/lacie\" id=\"link2\">Lacie</a> and\n",
      "<a class=\"sister\" href=\"http://example.com/tillie\" id=\"link3\">Tillie</a>;\n",
      "and they lived at the bottom of a well.</p>\n",
      "<p class=\"story\">...</p>\n",
      "\n",
      "select('head > title')\n",
      "<title>The Dormouse's story</title>\n",
      "\n",
      "select('.my ~ .story')\n",
      "<p class=\"story\">...</p>\n",
      "\n",
      "select(\"p[class='my']\")\n",
      "<p class=\"my\" id=\"zrd\">668</p>\n",
      "\n"
     ]
    }
   ],
   "source": [
    "# 标签 \n",
    "print(r\"select('a')\")\n",
    "tag_list = soup.select('a')\n",
    "for tag in tag_list: print(tag)\n",
    "print()\n",
    "\n",
    "# id #\n",
    "print(r\"select('#zrd')\")\n",
    "tag_list = soup.select('#zrd')\n",
    "for tag in tag_list: print(tag)\n",
    "print()\n",
    "\n",
    "# 类名 .\n",
    "print(r\"select('.story')\")\n",
    "tag_list = soup.select('.story')\n",
    "for tag in tag_list: print(tag)\n",
    "print()\n",
    "\n",
    "# 直接子标签 >\n",
    "print(r\"select('head > title')\")\n",
    "tag_list = soup.select('head > title')\n",
    "for tag in tag_list: print(tag)\n",
    "print()\n",
    "\n",
    "# 兄弟 ~\n",
    "print(r\"select('.my ~ .story')\")\n",
    "tag_list = soup.select('.my ~ .story')\n",
    "for tag in tag_list: print(tag)\n",
    "print()\n",
    "\n",
    "# 属性 []\n",
    "print(\"select(\\\"p[class='my']\\\")\")\n",
    "tag_list = soup.select(\"p[class='my']\")\n",
    "for tag in tag_list: print(tag)\n",
    "print()"
   ]
  }
 ],
 "metadata": {
  "kernelspec": {
   "display_name": "Python 3",
   "language": "python",
   "name": "python3"
  },
  "language_info": {
   "codemirror_mode": {
    "name": "ipython",
    "version": 3
   },
   "file_extension": ".py",
   "mimetype": "text/x-python",
   "name": "python",
   "nbconvert_exporter": "python",
   "pygments_lexer": "ipython3",
   "version": "3.7.9"
  },
  "toc": {
   "base_numbering": 1,
   "nav_menu": {},
   "number_sections": true,
   "sideBar": true,
   "skip_h1_title": false,
   "title_cell": "Table of Contents",
   "title_sidebar": "Contents",
   "toc_cell": false,
   "toc_position": {},
   "toc_section_display": true,
   "toc_window_display": true
  }
 },
 "nbformat": 4,
 "nbformat_minor": 4
}
