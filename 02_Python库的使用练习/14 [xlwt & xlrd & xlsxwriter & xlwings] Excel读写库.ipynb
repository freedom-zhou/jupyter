{
 "cells": [
  {
   "cell_type": "markdown",
   "metadata": {},
   "source": [
    "# [xlwt] .xls write"
   ]
  },
  {
   "cell_type": "markdown",
   "metadata": {},
   "source": [
    "**https://xlwt.readthedocs.io/en/latest/**"
   ]
  },
  {
   "cell_type": "markdown",
   "metadata": {},
   "source": [
    "## 简单示例"
   ]
  },
  {
   "cell_type": "code",
   "execution_count": 2,
   "metadata": {},
   "outputs": [],
   "source": [
    "import xlwt\n",
    "\n",
    "# 创建workbook\n",
    "workbook = xlwt.Workbook(encoding='utf-8')\n",
    "# 添加sheet\n",
    "worksheet1 = workbook.add_sheet('hello')\n",
    "worksheet2 = workbook.add_sheet('sheet2')\n",
    "# 向sheet写入数据 参数 （行，列，内容）\n",
    "worksheet1.write(0, 0, 'Hello xlwt')\n",
    "worksheet2.write(0, 0, 'sheet2')\n",
    "# 保存\n",
    "workbook.save('./data/xlwt_test.xls')"
   ]
  },
  {
   "cell_type": "code",
   "execution_count": 5,
   "metadata": {},
   "outputs": [
    {
     "name": "stdout",
     "output_type": "stream",
     "text": [
      "<class 'xlwt.Workbook.Workbook'>\n",
      "<class 'xlwt.Worksheet.Worksheet'>\n",
      "['Column', 'Row', 'col', 'cols', 'delta', 'merge', 'name', 'parent', 'password', 'portrait', 'protect', 'row', 'rows', 'selected', 'visibility', 'write']\n"
     ]
    }
   ],
   "source": [
    "print(type(workbook))\n",
    "print(type(worksheet1))\n",
    "print(list(filter(lambda x: '_'not in x, dir(worksheet1))))"
   ]
  },
  {
   "cell_type": "code",
   "execution_count": 7,
   "metadata": {
    "collapsed": true
   },
   "outputs": [
    {
     "name": "stdout",
     "output_type": "stream",
     "text": [
      "Help on method write in module xlwt.Worksheet:\n",
      "\n",
      "write(r, c, label='', style=<xlwt.Style.XFStyle object at 0x0000023305CCD240>) method of xlwt.Worksheet.Worksheet instance\n",
      "    This method is used to write a cell to a :class:`Worksheet`.\n",
      "    \n",
      "    :param r:\n",
      "    \n",
      "       The zero-relative number of the row in the worksheet to which\n",
      "       the cell should be written.\n",
      "    \n",
      "    :param c:\n",
      "    \n",
      "       The zero-relative number of the column in the worksheet to which\n",
      "       the cell should be written.\n",
      "    \n",
      "    :param label:\n",
      "    \n",
      "       The data value to be written.\n",
      "    \n",
      "       An :class:`int`, :class:`long`, or\n",
      "       :class:`~decimal.Decimal` instance is converted to :class:`float`.\n",
      "    \n",
      "       A :class:`unicode` instance is written as is. A :class:`bytes`\n",
      "       instance is converted to :class:`unicode` using the\n",
      "       encoding, which defaults to ``ascii``, specified when the\n",
      "       :class:`Workbook` instance was created.\n",
      "    \n",
      "       A :class:`~datetime.datetime`, :class:`~datetime.date` or\n",
      "       :class:`~datetime.time` instance is converted into Excel date format\n",
      "       (a float representing the number of days since (typically)\n",
      "       ``1899-12-31T00:00:00``, under the pretence that\n",
      "       1900 was a leap year).\n",
      "    \n",
      "       A :class:`bool` instance will show up as ``TRUE`` or ``FALSE`` in\n",
      "       Excel.\n",
      "    \n",
      "       ``None`` causes the cell to be blank: no data, only formatting.\n",
      "    \n",
      "       An :class:`xlwt.Formula` instance causes an Excel formula to be\n",
      "       written.\n",
      "    \n",
      "    :param style:\n",
      "    \n",
      "       A style, also known as an XF (extended format), is an\n",
      "       :class:`~xlwt.Style.XFStyle` object, which encapsulates the\n",
      "       formatting applied to the cell and its contents.\n",
      "    \n",
      "       :class:`~xlwt.Style.XFStyle` objects are best set up using the\n",
      "       :func:`~xlwt.Style.easyxf` function. They may also be set up by\n",
      "       setting attributes in :class:`Alignment`, :class:`Borders`,\n",
      "       :class:`Pattern`, :class:`Font` and :class:`Protection` objects then\n",
      "       setting those objects and a format string as attributes of an\n",
      "       :class:`~xlwt.Style.XFStyle` object.\n",
      "\n"
     ]
    }
   ],
   "source": [
    "help(worksheet1.write)"
   ]
  },
  {
   "cell_type": "markdown",
   "metadata": {},
   "source": [
    "## 写入9x9乘法表"
   ]
  },
  {
   "cell_type": "code",
   "execution_count": 24,
   "metadata": {
    "collapsed": true
   },
   "outputs": [],
   "source": [
    "import xlwt\n",
    "\n",
    "workbook = xlwt.Workbook(encoding='utf-8')\n",
    "worksheet = workbook.add_sheet('99乘法表')\n",
    "for i in range(9):\n",
    "    for j in range(i+1):\n",
    "        worksheet.write(i, j, f'{j+1} x {i+1} = {(i+1)*(j+1)}')\n",
    "try:\n",
    "    workbook.save('./data/xlwt_test.xls')\n",
    "except PermissionError as e:\n",
    "    print(e)"
   ]
  },
  {
   "cell_type": "markdown",
   "metadata": {},
   "source": [
    "# [xlsxwriter] .xlsx write"
   ]
  },
  {
   "cell_type": "markdown",
   "metadata": {},
   "source": [
    "**https://xlsxwriter.readthedocs.io/**"
   ]
  },
  {
   "cell_type": "markdown",
   "metadata": {},
   "source": [
    "## 示例"
   ]
  },
  {
   "cell_type": "code",
   "execution_count": 11,
   "metadata": {},
   "outputs": [],
   "source": [
    "import xlsxwriter as xxwt\n",
    "import random as rd\n",
    "\n",
    "# 创建workbook\n",
    "workbook = xxwt.Workbook('./data/xlsxwriter_test.xlsx')\n",
    "\n",
    "# 添加sheet\n",
    "worksheet1 = workbook.add_worksheet('hello')\n",
    "worksheet2 = workbook.add_worksheet('sheet2')\n",
    "\n",
    "\n",
    "# 按单元格写入数据 write(行，列，内容)\n",
    "worksheet1.write(0, 0, 'Hello xlsxwriter')\n",
    "\n",
    "# 按行、列写入数据 write_row(起始单元格, 内容列表)\n",
    "head = ['姓名', '学号', '分数']\n",
    "name = ['小明', '小红', '张三']\n",
    "num = [1,2,3]\n",
    "score = [rd.randint(50,100) for _ in range(3)]\n",
    "\n",
    "worksheet2.write_row('A1', head)\n",
    "worksheet2.write_column('A2', name)\n",
    "worksheet2.write_column('B2', num)\n",
    "worksheet2.write_column('C2', score)\n",
    "\n",
    "# 关闭\n",
    "workbook.close()"
   ]
  },
  {
   "cell_type": "markdown",
   "metadata": {},
   "source": [
    "## 将保存在txt文本中的学生信息填入Excel"
   ]
  },
  {
   "cell_type": "code",
   "execution_count": 46,
   "metadata": {},
   "outputs": [],
   "source": [
    "import xlsxwriter as xxwt\n",
    "\n",
    "# 已存在的excel的路径\n",
    "\n",
    "path = r'./data/1901班2020年学生缴费模板.xlsx'\n",
    "\n",
    "# 读取txt中的内容\n",
    "txt = ''\n",
    "head = '专业\t年级\t班级\t学号\t姓名\t类别\t身份证号码\t银行卡号'.split()\n",
    "with open('./data/学生缴费信息.txt', encoding='utf-8') as f:\n",
    "    txt = f.read()\n",
    "    \n",
    "# 转存入列表中\n",
    "data = [row.split() for row in txt.split('\\n')]\n",
    "data = list(zip(*data))\n",
    "\n",
    "# 创建Workbook实例\n",
    "book = xxwt.Workbook(path)\n",
    "sheet = book.add_worksheet('new')\n",
    "# sheet = book.get_worksheet_by_name('Sheet1')\n",
    "sheet.write_column('E3', data[0])\n",
    "sheet.write_column('F3', data[1])\n",
    "sheet.write_column('G3', data[2])\n",
    "\n",
    "book.close()"
   ]
  },
  {
   "cell_type": "code",
   "execution_count": 9,
   "metadata": {},
   "outputs": [
    {
     "data": {
      "text/plain": [
       "['add_chartsheet',\n",
       " 'add_worksheet',\n",
       " 'chartsheet_class',\n",
       " 'get_worksheet_by_name',\n",
       " 'sheet_name',\n",
       " 'sheetname_count',\n",
       " 'sheetnames',\n",
       " 'worksheet_class',\n",
       " 'worksheet_meta',\n",
       " 'worksheets',\n",
       " 'worksheets_objs']"
      ]
     },
     "execution_count": 9,
     "metadata": {},
     "output_type": "execute_result"
    }
   ],
   "source": [
    "[i for i in dir(book) if not i.startswith('_') and 'sheet' in i]"
   ]
  },
  {
   "cell_type": "code",
   "execution_count": 43,
   "metadata": {},
   "outputs": [
    {
     "name": "stdout",
     "output_type": "stream",
     "text": [
      "Sheet\n"
     ]
    }
   ],
   "source": [
    "print(book.sheet_name)"
   ]
  },
  {
   "cell_type": "markdown",
   "metadata": {},
   "source": [
    "# [xlrd] .xls or .xlsx read"
   ]
  },
  {
   "cell_type": "markdown",
   "metadata": {},
   "source": [
    "**http://xlrd.readthedocs.io/en/latest/**"
   ]
  },
  {
   "cell_type": "markdown",
   "metadata": {},
   "source": [
    "# [xlwings] excel wings 支持两种excel格式的读写"
   ]
  },
  {
   "cell_type": "markdown",
   "metadata": {},
   "source": [
    "**[官方文档](http://docs.xlwings.org/en/stable/index.html)**  \n",
    "**[中文文档](https://www.kancloud.cn/gnefnuy/xlwings-docs)**"
   ]
  },
  {
   "cell_type": "code",
   "execution_count": 24,
   "metadata": {
    "collapsed": true
   },
   "outputs": [
    {
     "ename": "com_error",
     "evalue": "(-2147023174, 'RPC 服务器不可用。', None, None)",
     "output_type": "error",
     "traceback": [
      "\u001b[1;31m---------------------------------------------------------------------------\u001b[0m",
      "\u001b[1;31mAttributeError\u001b[0m                            Traceback (most recent call last)",
      "\u001b[1;32mC:\\ProgramFiles\\Anaconda3\\lib\\site-packages\\xlwings\\_xlwindows.py\u001b[0m in \u001b[0;36m__getattr__\u001b[1;34m(self, item)\u001b[0m\n\u001b[0;32m    119\u001b[0m             \u001b[1;32mtry\u001b[0m\u001b[1;33m:\u001b[0m\u001b[1;33m\u001b[0m\u001b[1;33m\u001b[0m\u001b[0m\n\u001b[1;32m--> 120\u001b[1;33m                 \u001b[0mv\u001b[0m \u001b[1;33m=\u001b[0m \u001b[0mgetattr\u001b[0m\u001b[1;33m(\u001b[0m\u001b[0mself\u001b[0m\u001b[1;33m.\u001b[0m\u001b[0m_inner\u001b[0m\u001b[1;33m,\u001b[0m \u001b[0mitem\u001b[0m\u001b[1;33m)\u001b[0m\u001b[1;33m\u001b[0m\u001b[1;33m\u001b[0m\u001b[0m\n\u001b[0m\u001b[0;32m    121\u001b[0m                 \u001b[0mt\u001b[0m \u001b[1;33m=\u001b[0m \u001b[0mtype\u001b[0m\u001b[1;33m(\u001b[0m\u001b[0mv\u001b[0m\u001b[1;33m)\u001b[0m\u001b[1;33m\u001b[0m\u001b[1;33m\u001b[0m\u001b[0m\n",
      "\u001b[1;32mC:\\ProgramFiles\\Anaconda3\\lib\\site-packages\\win32com\\client\\dynamic.py\u001b[0m in \u001b[0;36m__getattr__\u001b[1;34m(self, attr)\u001b[0m\n\u001b[0;32m    526\u001b[0m                 \u001b[1;31m# no where else to look.\u001b[0m\u001b[1;33m\u001b[0m\u001b[1;33m\u001b[0m\u001b[1;33m\u001b[0m\u001b[0m\n\u001b[1;32m--> 527\u001b[1;33m                 \u001b[1;32mraise\u001b[0m \u001b[0mAttributeError\u001b[0m\u001b[1;33m(\u001b[0m\u001b[1;34m\"%s.%s\"\u001b[0m \u001b[1;33m%\u001b[0m \u001b[1;33m(\u001b[0m\u001b[0mself\u001b[0m\u001b[1;33m.\u001b[0m\u001b[0m_username_\u001b[0m\u001b[1;33m,\u001b[0m \u001b[0mattr\u001b[0m\u001b[1;33m)\u001b[0m\u001b[1;33m)\u001b[0m\u001b[1;33m\u001b[0m\u001b[1;33m\u001b[0m\u001b[0m\n\u001b[0m\u001b[0;32m    528\u001b[0m \u001b[1;33m\u001b[0m\u001b[0m\n",
      "\u001b[1;31mAttributeError\u001b[0m: <unknown>.Worksheets",
      "\nDuring handling of the above exception, another exception occurred:\n",
      "\u001b[1;31mcom_error\u001b[0m                                 Traceback (most recent call last)",
      "\u001b[1;32m<ipython-input-24-cc685a048a5a>\u001b[0m in \u001b[0;36m<module>\u001b[1;34m\u001b[0m\n\u001b[0;32m      4\u001b[0m \u001b[0mapp\u001b[0m \u001b[1;33m=\u001b[0m \u001b[0mxw\u001b[0m\u001b[1;33m.\u001b[0m\u001b[0mApp\u001b[0m\u001b[1;33m(\u001b[0m\u001b[0mvisible\u001b[0m\u001b[1;33m=\u001b[0m\u001b[1;32mFalse\u001b[0m\u001b[1;33m,\u001b[0m \u001b[0madd_book\u001b[0m\u001b[1;33m=\u001b[0m\u001b[1;32mFalse\u001b[0m\u001b[1;33m)\u001b[0m\u001b[1;33m\u001b[0m\u001b[1;33m\u001b[0m\u001b[0m\n\u001b[0;32m      5\u001b[0m \u001b[0mbook\u001b[0m \u001b[1;33m=\u001b[0m \u001b[0mapp\u001b[0m\u001b[1;33m.\u001b[0m\u001b[0mbooks\u001b[0m\u001b[1;33m.\u001b[0m\u001b[0mopen\u001b[0m\u001b[1;33m(\u001b[0m\u001b[1;34mr'./data/xlwings_test.xlsx'\u001b[0m\u001b[1;33m)\u001b[0m \u001b[1;31m# 打开Excel文件\u001b[0m\u001b[1;33m\u001b[0m\u001b[1;33m\u001b[0m\u001b[0m\n\u001b[1;32m----> 6\u001b[1;33m \u001b[0msheet\u001b[0m \u001b[1;33m=\u001b[0m \u001b[0mwb\u001b[0m\u001b[1;33m.\u001b[0m\u001b[0msheets\u001b[0m\u001b[1;33m[\u001b[0m\u001b[1;36m0\u001b[0m\u001b[1;33m]\u001b[0m  \u001b[1;31m# 选择第0个表单\u001b[0m\u001b[1;33m\u001b[0m\u001b[1;33m\u001b[0m\u001b[0m\n\u001b[0m\u001b[0;32m      7\u001b[0m \u001b[1;33m\u001b[0m\u001b[0m\n\u001b[0;32m      8\u001b[0m \u001b[0mtxt\u001b[0m \u001b[1;33m=\u001b[0m \u001b[1;34m''\u001b[0m\u001b[1;33m\u001b[0m\u001b[1;33m\u001b[0m\u001b[0m\n",
      "\u001b[1;32mC:\\ProgramFiles\\Anaconda3\\lib\\site-packages\\xlwings\\main.py\u001b[0m in \u001b[0;36msheets\u001b[1;34m(self)\u001b[0m\n\u001b[0;32m    670\u001b[0m         \u001b[1;33m.\u001b[0m\u001b[1;33m.\u001b[0m \u001b[0mversionadded\u001b[0m\u001b[1;33m:\u001b[0m\u001b[1;33m:\u001b[0m \u001b[1;36m0.9\u001b[0m\u001b[1;36m.0\u001b[0m\u001b[1;33m\u001b[0m\u001b[1;33m\u001b[0m\u001b[0m\n\u001b[0;32m    671\u001b[0m         \"\"\"\n\u001b[1;32m--> 672\u001b[1;33m         \u001b[1;32mreturn\u001b[0m \u001b[0mSheets\u001b[0m\u001b[1;33m(\u001b[0m\u001b[0mimpl\u001b[0m\u001b[1;33m=\u001b[0m\u001b[0mself\u001b[0m\u001b[1;33m.\u001b[0m\u001b[0mimpl\u001b[0m\u001b[1;33m.\u001b[0m\u001b[0msheets\u001b[0m\u001b[1;33m)\u001b[0m\u001b[1;33m\u001b[0m\u001b[1;33m\u001b[0m\u001b[0m\n\u001b[0m\u001b[0;32m    673\u001b[0m \u001b[1;33m\u001b[0m\u001b[0m\n\u001b[0;32m    674\u001b[0m     \u001b[1;33m@\u001b[0m\u001b[0mproperty\u001b[0m\u001b[1;33m\u001b[0m\u001b[1;33m\u001b[0m\u001b[0m\n",
      "\u001b[1;32mC:\\ProgramFiles\\Anaconda3\\lib\\site-packages\\xlwings\\_xlwindows.py\u001b[0m in \u001b[0;36msheets\u001b[1;34m(self)\u001b[0m\n\u001b[0;32m    479\u001b[0m     \u001b[1;33m@\u001b[0m\u001b[0mproperty\u001b[0m\u001b[1;33m\u001b[0m\u001b[1;33m\u001b[0m\u001b[0m\n\u001b[0;32m    480\u001b[0m     \u001b[1;32mdef\u001b[0m \u001b[0msheets\u001b[0m\u001b[1;33m(\u001b[0m\u001b[0mself\u001b[0m\u001b[1;33m)\u001b[0m\u001b[1;33m:\u001b[0m\u001b[1;33m\u001b[0m\u001b[1;33m\u001b[0m\u001b[0m\n\u001b[1;32m--> 481\u001b[1;33m         \u001b[1;32mreturn\u001b[0m \u001b[0mSheets\u001b[0m\u001b[1;33m(\u001b[0m\u001b[0mxl\u001b[0m\u001b[1;33m=\u001b[0m\u001b[0mself\u001b[0m\u001b[1;33m.\u001b[0m\u001b[0mxl\u001b[0m\u001b[1;33m.\u001b[0m\u001b[0mWorksheets\u001b[0m\u001b[1;33m)\u001b[0m\u001b[1;33m\u001b[0m\u001b[1;33m\u001b[0m\u001b[0m\n\u001b[0m\u001b[0;32m    482\u001b[0m \u001b[1;33m\u001b[0m\u001b[0m\n\u001b[0;32m    483\u001b[0m     \u001b[1;33m@\u001b[0m\u001b[0mproperty\u001b[0m\u001b[1;33m\u001b[0m\u001b[1;33m\u001b[0m\u001b[0m\n",
      "\u001b[1;32mC:\\ProgramFiles\\Anaconda3\\lib\\site-packages\\xlwings\\_xlwindows.py\u001b[0m in \u001b[0;36m__getattr__\u001b[1;34m(self, item)\u001b[0m\n\u001b[0;32m    138\u001b[0m                 \u001b[1;31m# we try to test to see what's going on really\u001b[0m\u001b[1;33m\u001b[0m\u001b[1;33m\u001b[0m\u001b[1;33m\u001b[0m\u001b[0m\n\u001b[0;32m    139\u001b[0m                 \u001b[1;32mtry\u001b[0m\u001b[1;33m:\u001b[0m\u001b[1;33m\u001b[0m\u001b[1;33m\u001b[0m\u001b[0m\n\u001b[1;32m--> 140\u001b[1;33m                     \u001b[0mself\u001b[0m\u001b[1;33m.\u001b[0m\u001b[0m_oleobj_\u001b[0m\u001b[1;33m.\u001b[0m\u001b[0mGetIDsOfNames\u001b[0m\u001b[1;33m(\u001b[0m\u001b[1;36m0\u001b[0m\u001b[1;33m,\u001b[0m \u001b[0mitem\u001b[0m\u001b[1;33m)\u001b[0m\u001b[1;33m\u001b[0m\u001b[1;33m\u001b[0m\u001b[0m\n\u001b[0m\u001b[0;32m    141\u001b[0m                 \u001b[1;32mexcept\u001b[0m \u001b[0mpythoncom\u001b[0m\u001b[1;33m.\u001b[0m\u001b[0mole_error\u001b[0m \u001b[1;32mas\u001b[0m \u001b[0me\u001b[0m\u001b[1;33m:\u001b[0m\u001b[1;33m\u001b[0m\u001b[1;33m\u001b[0m\u001b[0m\n\u001b[0;32m    142\u001b[0m                     \u001b[1;32mif\u001b[0m \u001b[0me\u001b[0m\u001b[1;33m.\u001b[0m\u001b[0mhresult\u001b[0m \u001b[1;33m!=\u001b[0m \u001b[1;33m-\u001b[0m\u001b[1;36m2147418111\u001b[0m\u001b[1;33m:\u001b[0m   \u001b[1;31m# RPC_E_CALL_REJECTED\u001b[0m\u001b[1;33m\u001b[0m\u001b[1;33m\u001b[0m\u001b[0m\n",
      "\u001b[1;31mcom_error\u001b[0m: (-2147023174, 'RPC 服务器不可用。', None, None)"
     ]
    }
   ],
   "source": [
    "import xlwings as xw\n",
    "\n",
    "#指定不显示地打开Excel，读取Excel文件\n",
    "app = xw.App(visible=False, add_book=False)\n",
    "book = app.books.open(r'./data/xlwings_test.xlsx') # 打开Excel文件\n",
    "sheet = wb.sheets[0]  # 选择第0个表单\n",
    "\n",
    "txt = ''\n",
    "head = '专业\t年级\t班级\t学号\t姓名\t类别\t身份证号码\t银行卡号'.split()\n",
    "with open('./data/学生缴费信息.txt', encoding='utf-8') as f:\n",
    "    txt = f.read()"
   ]
  },
  {
   "cell_type": "code",
   "execution_count": 20,
   "metadata": {},
   "outputs": [
    {
     "name": "stdout",
     "output_type": "stream",
     "text": [
      "<class 'xlwings.main.Book'>\n",
      "<class 'xlwings.main.Sheet'>\n"
     ]
    }
   ],
   "source": [
    "print(type(book))\n",
    "print(type(sheet1))"
   ]
  },
  {
   "cell_type": "code",
   "execution_count": 21,
   "metadata": {
    "collapsed": true
   },
   "outputs": [
    {
     "name": "stdout",
     "output_type": "stream",
     "text": [
      "Help on class Book in module xlwings.main:\n",
      "\n",
      "class Book(builtins.object)\n",
      " |  Book(fullname=None, update_links=None, read_only=None, format=None, password=None, write_res_password=None, ignore_read_only_recommended=None, origin=None, delimiter=None, editable=None, notify=None, converter=None, add_to_mru=None, local=None, corrupt_load=None, impl=None)\n",
      " |  \n",
      " |  A book object is a member of the :meth:`books <xlwings.main.Books>` collection:\n",
      " |  \n",
      " |  >>> import xlwings as xw\n",
      " |  >>> xw.books[0]\n",
      " |  <Book [Book1]>\n",
      " |  \n",
      " |  \n",
      " |  The easiest way to connect to a book is offered by ``xw.Book``: it looks for the book in all app instances and\n",
      " |  returns an error, should the same book be open in multiple instances.\n",
      " |  To connect to a book in the active app instance, use ``xw.books`` and to refer to a specific app, use:\n",
      " |  \n",
      " |  >>> app = xw.App()  # or something like xw.apps[10559] for existing apps, get the PIDs via xw.apps.keys()\n",
      " |  >>> app.books['Book1']\n",
      " |  \n",
      " |  +--------------------+--------------------------------------+--------------------------------------------+\n",
      " |  |                    | xw.Book                              | xw.books                                   |\n",
      " |  +====================+======================================+============================================+\n",
      " |  | New book           | ``xw.Book()``                        | ``xw.books.add()``                         |\n",
      " |  +--------------------+--------------------------------------+--------------------------------------------+\n",
      " |  | Unsaved book       | ``xw.Book('Book1')``                 | ``xw.books['Book1']``                      |\n",
      " |  +--------------------+--------------------------------------+--------------------------------------------+\n",
      " |  | Book by (full)name | ``xw.Book(r'C:/path/to/file.xlsx')`` | ``xw.books.open(r'C:/path/to/file.xlsx')`` |\n",
      " |  +--------------------+--------------------------------------+--------------------------------------------+\n",
      " |  \n",
      " |  Parameters\n",
      " |  ----------\n",
      " |  fullname : str or path-like object, default None\n",
      " |      Full path or name (incl. xlsx, xlsm etc.) of existing workbook or name of an unsaved workbook. Without a full\n",
      " |      path, it looks for the file in the current working directory.\n",
      " |  update_links : bool, default None\n",
      " |      If this argument is omitted, the user is prompted to specify how links will be updated\n",
      " |  read_only : bool, default False\n",
      " |      True to open workbook in read-only mode\n",
      " |  format : str\n",
      " |      If opening a text file, this specifies the delimiter character\n",
      " |  password : str\n",
      " |      Password to open a protected workbook\n",
      " |  write_res_password : str\n",
      " |      Password to write to a write-reserved workbook\n",
      " |  ignore_read_only_recommended : bool, default False\n",
      " |      Set to ``True`` to mute the read-only recommended message\n",
      " |  origin : int\n",
      " |      For text files only. Specifies where it originated. Use XlPlatform constants.\n",
      " |  delimiter : str\n",
      " |      If format argument is 6, this specifies the delimiter.\n",
      " |  editable : bool, default False\n",
      " |      This option is only for legacy Microsoft Excel 4.0 addins.\n",
      " |  notify : bool, default False\n",
      " |      Notify the user when a file becomes available If the file cannot be opened in read/write mode.\n",
      " |  converter : int\n",
      " |      The index of the first file converter to try when opening the file.\n",
      " |  add_to_mru : bool, default False\n",
      " |      Add this workbook to the list of recently added workbooks.\n",
      " |  local : bool, default False\n",
      " |      If ``True``, saves files against the language of Excel, otherwise against the language of VBA.\n",
      " |      Not supported on macOS.\n",
      " |  corrupt_load : int, default xlNormalLoad\n",
      " |      Can be one of xlNormalLoad, xlRepairFile or xlExtractData. Not supported on macOS.\n",
      " |  \n",
      " |  Methods defined here:\n",
      " |  \n",
      " |  __eq__(self, other)\n",
      " |      Return self==value.\n",
      " |  \n",
      " |  __hash__(self)\n",
      " |      Return hash(self).\n",
      " |  \n",
      " |  __init__(self, fullname=None, update_links=None, read_only=None, format=None, password=None, write_res_password=None, ignore_read_only_recommended=None, origin=None, delimiter=None, editable=None, notify=None, converter=None, add_to_mru=None, local=None, corrupt_load=None, impl=None)\n",
      " |      Initialize self.  See help(type(self)) for accurate signature.\n",
      " |  \n",
      " |  __ne__(self, other)\n",
      " |      Return self!=value.\n",
      " |  \n",
      " |  __repr__(self)\n",
      " |      Return repr(self).\n",
      " |  \n",
      " |  activate(self, steal_focus=False)\n",
      " |      Activates the book.\n",
      " |      \n",
      " |      Parameters\n",
      " |      ----------\n",
      " |      steal_focus : bool, default False\n",
      " |          If True, make frontmost window and hand over focus from Python to Excel.\n",
      " |  \n",
      " |  close(self)\n",
      " |      Closes the book without saving it.\n",
      " |      \n",
      " |      .. versionadded:: 0.1.1\n",
      " |  \n",
      " |  macro(self, name)\n",
      " |      Runs a Sub or Function in Excel VBA.\n",
      " |      \n",
      " |      Arguments\n",
      " |      ---------\n",
      " |      name : Name of Sub or Function with or without module name, e.g. ``'Module1.MyMacro'`` or ``'MyMacro'``\n",
      " |      \n",
      " |      Examples\n",
      " |      --------\n",
      " |      This VBA function:\n",
      " |      \n",
      " |      .. code-block:: vb.net\n",
      " |      \n",
      " |          Function MySum(x, y)\n",
      " |              MySum = x + y\n",
      " |          End Function\n",
      " |      \n",
      " |      can be accessed like this:\n",
      " |      \n",
      " |      >>> import xlwings as xw\n",
      " |      >>> wb = xw.books.active\n",
      " |      >>> my_sum = wb.macro('MySum')\n",
      " |      >>> my_sum(1, 2)\n",
      " |      3\n",
      " |      \n",
      " |      See also: :meth:`App.macro`\n",
      " |      \n",
      " |      .. versionadded:: 0.7.1\n",
      " |  \n",
      " |  save(self, path=None)\n",
      " |      Saves the Workbook. If a path is being provided, this works like SaveAs() in Excel. If no path is specified and\n",
      " |      if the file hasn't been saved previously, it's being saved in the current working directory with the current\n",
      " |      filename. Existing files are overwritten without prompting.\n",
      " |      \n",
      " |      Arguments\n",
      " |      ---------\n",
      " |      path : str or path-like object, default None\n",
      " |          Full path to the workbook\n",
      " |      Example\n",
      " |      -------\n",
      " |      >>> import xlwings as xw\n",
      " |      >>> wb = xw.Book()\n",
      " |      >>> wb.save()\n",
      " |      >>> wb.save(r'C:\\path\\to\\new_file_name.xlsx')\n",
      " |      \n",
      " |      \n",
      " |      .. versionadded:: 0.3.1\n",
      " |  \n",
      " |  set_mock_caller(self)\n",
      " |      Sets the Excel file which is used to mock ``xw.Book.caller()`` when the code is called from Python and not from\n",
      " |      Excel via ``RunPython``.\n",
      " |      \n",
      " |      Examples\n",
      " |      --------\n",
      " |      ::\n",
      " |      \n",
      " |          # This code runs unchanged from Excel via RunPython and from Python directly\n",
      " |          import os\n",
      " |          import xlwings as xw\n",
      " |      \n",
      " |          def my_macro():\n",
      " |              sht = xw.Book.caller().sheets[0]\n",
      " |              sht.range('A1').value = 'Hello xlwings!'\n",
      " |      \n",
      " |          if __name__ == '__main__':\n",
      " |              xw.Book('file.xlsm').set_mock_caller()\n",
      " |              my_macro()\n",
      " |      \n",
      " |      .. versionadded:: 0.3.1\n",
      " |  \n",
      " |  ----------------------------------------------------------------------\n",
      " |  Class methods defined here:\n",
      " |  \n",
      " |  caller() from builtins.type\n",
      " |      References the calling book when the Python function is called from Excel via ``RunPython``.\n",
      " |      Pack it into the function being called from Excel, e.g.::\n",
      " |      \n",
      " |          import xlwings as xw\n",
      " |      \n",
      " |           def my_macro():\n",
      " |              wb = xw.Book.caller()\n",
      " |              wb.sheets[0].range('A1').value = 1\n",
      " |      \n",
      " |      To be able to easily invoke such code from Python for debugging, use ``xw.Book.set_mock_caller()``.\n",
      " |      \n",
      " |      .. versionadded:: 0.3.0\n",
      " |  \n",
      " |  ----------------------------------------------------------------------\n",
      " |  Data descriptors defined here:\n",
      " |  \n",
      " |  __dict__\n",
      " |      dictionary for instance variables (if defined)\n",
      " |  \n",
      " |  __weakref__\n",
      " |      list of weak references to the object (if defined)\n",
      " |  \n",
      " |  api\n",
      " |      Returns the native object (``pywin32`` or ``appscript`` obj) of the engine being used.\n",
      " |      \n",
      " |      .. versionadded:: 0.9.0\n",
      " |  \n",
      " |  app\n",
      " |      Returns an app object that represents the creator of the book.\n",
      " |      \n",
      " |      .. versionadded:: 0.9.0\n",
      " |  \n",
      " |  fullname\n",
      " |      Returns the name of the object, including its path on disk, as a string. Read-only String.\n",
      " |  \n",
      " |  name\n",
      " |      Returns the name of the book as str.\n",
      " |  \n",
      " |  names\n",
      " |      Returns a names collection that represents all the names in the specified book (including all sheet-specific names).\n",
      " |      \n",
      " |      .. versionchanged:: 0.9.0\n",
      " |  \n",
      " |  selection\n",
      " |      Returns the selected cells as Range.\n",
      " |      \n",
      " |      .. versionadded:: 0.9.0\n",
      " |  \n",
      " |  sheets\n",
      " |      Returns a sheets collection that represents all the sheets in the book.\n",
      " |      \n",
      " |      .. versionadded:: 0.9.0\n",
      "\n"
     ]
    }
   ],
   "source": [
    "help(xw.Book)"
   ]
  }
 ],
 "metadata": {
  "kernelspec": {
   "display_name": "Python 3",
   "language": "python",
   "name": "python3"
  },
  "language_info": {
   "codemirror_mode": {
    "name": "ipython",
    "version": 3
   },
   "file_extension": ".py",
   "mimetype": "text/x-python",
   "name": "python",
   "nbconvert_exporter": "python",
   "pygments_lexer": "ipython3",
   "version": "3.7.9"
  },
  "toc": {
   "base_numbering": 1,
   "nav_menu": {},
   "number_sections": true,
   "sideBar": true,
   "skip_h1_title": false,
   "title_cell": "Table of Contents",
   "title_sidebar": "Contents",
   "toc_cell": false,
   "toc_position": {
    "height": "calc(100% - 180px)",
    "left": "10px",
    "top": "150px",
    "width": "187.139px"
   },
   "toc_section_display": true,
   "toc_window_display": true
  }
 },
 "nbformat": 4,
 "nbformat_minor": 4
}
