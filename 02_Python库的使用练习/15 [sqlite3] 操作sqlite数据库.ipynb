{
 "cells": [
  {
   "cell_type": "code",
   "execution_count": 23,
   "metadata": {},
   "outputs": [
    {
     "name": "stdout",
     "output_type": "stream",
     "text": [
      "连接数据库成功\n",
      "(1, '李逵', 36, '武汉', 8600.0)\n",
      "(2, '鲁智深', 46, '长沙', 5600.0)\n",
      "sql执行成功\n",
      "数据库断开连接\n"
     ]
    }
   ],
   "source": [
    "import sqlite3\n",
    "\n",
    "# 创建数据库连接, 若不存在则自动创建db文件\n",
    "conn = sqlite3.connect('./data/test.db')\n",
    "print('连接数据库成功')\n",
    "\n",
    "# 获取游标\n",
    "cursor = conn.cursor()\n",
    "\n",
    "# sql语句\n",
    "# 建表 （只有integer类型并且是 primary key 的字段能够 autoincrement）\n",
    "sql = '''\n",
    "    create table company(\n",
    "        id integer not null primary key autoincrement,\n",
    "        name text not null,\n",
    "        age int not null,\n",
    "        address char(50),\n",
    "        salary real\n",
    "    );\n",
    "'''   \n",
    "# 插入数据\n",
    "sql1 = '''\n",
    "    insert into company (name, age, address, salary)\n",
    "    values ('李逵', 36, '武汉', 8600)\n",
    "'''\n",
    "sql2 = '''\n",
    "    insert into company (name, age, address, salary)\n",
    "    values ('鲁智深', 46, '长沙', 5600)\n",
    "'''\n",
    "# 查询数据\n",
    "sql3 = '''\n",
    "    select id, name, age, address, salary\n",
    "    from company;\n",
    "'''\n",
    "\n",
    "# 执行sql\n",
    "# cs.execute(sql1)\n",
    "# cs.execute(sql2)\n",
    "# 提交\n",
    "# conn.commit()\n",
    "\n",
    "cursor1 = cursor.execute(sql3)\n",
    "print(*cursor1, sep='\\n')\n",
    "\n",
    "print('sql执行成功')\n",
    "\n",
    "# 关闭连接\n",
    "conn.close()\n",
    "print('数据库断开连接')"
   ]
  },
  {
   "cell_type": "code",
   "execution_count": 28,
   "metadata": {},
   "outputs": [
    {
     "name": "stdout",
     "output_type": "stream",
     "text": [
      "arraysize\n",
      "close\n",
      "connection\n",
      "description\n",
      "execute\n",
      "executemany\n",
      "executescript\n",
      "fetchall\n",
      "fetchmany\n",
      "fetchone\n",
      "lastrowid\n",
      "row_factory\n",
      "rowcount\n",
      "setinputsizes\n",
      "setoutputsize\n"
     ]
    }
   ],
   "source": [
    "print(*[i for i in dir(cursor) if not i.startswith('_')], sep='\\n')"
   ]
  },
  {
   "cell_type": "code",
   "execution_count": null,
   "metadata": {},
   "outputs": [],
   "source": []
  }
 ],
 "metadata": {
  "kernelspec": {
   "display_name": "Python 3",
   "language": "python",
   "name": "python3"
  },
  "language_info": {
   "codemirror_mode": {
    "name": "ipython",
    "version": 3
   },
   "file_extension": ".py",
   "mimetype": "text/x-python",
   "name": "python",
   "nbconvert_exporter": "python",
   "pygments_lexer": "ipython3",
   "version": "3.7.9"
  },
  "toc": {
   "base_numbering": 1,
   "nav_menu": {},
   "number_sections": true,
   "sideBar": true,
   "skip_h1_title": false,
   "title_cell": "Table of Contents",
   "title_sidebar": "Contents",
   "toc_cell": false,
   "toc_position": {},
   "toc_section_display": true,
   "toc_window_display": false
  }
 },
 "nbformat": 4,
 "nbformat_minor": 4
}
