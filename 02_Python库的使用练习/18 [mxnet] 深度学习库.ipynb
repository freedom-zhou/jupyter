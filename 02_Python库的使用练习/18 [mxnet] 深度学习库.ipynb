{
 "cells": [
  {
   "cell_type": "markdown",
   "metadata": {},
   "source": [
    "# 导入工具包"
   ]
  },
  {
   "cell_type": "code",
   "execution_count": 29,
   "metadata": {},
   "outputs": [],
   "source": [
    "from mxnet import nd\n",
    "import numpy as np"
   ]
  },
  {
   "cell_type": "markdown",
   "metadata": {},
   "source": [
    "# 数据类型NDArray"
   ]
  },
  {
   "cell_type": "markdown",
   "metadata": {},
   "source": [
    "## 创建NDArray"
   ]
  },
  {
   "cell_type": "code",
   "execution_count": 26,
   "metadata": {},
   "outputs": [
    {
     "name": "stdout",
     "output_type": "stream",
     "text": [
      "\n",
      "[[[ 0.  1.  2.  3.]\n",
      "  [ 4.  5.  6.  7.]\n",
      "  [ 8.  9. 10. 11.]]\n",
      "\n",
      " [[12. 13. 14. 15.]\n",
      "  [16. 17. 18. 19.]\n",
      "  [20. 21. 22. 23.]]]\n",
      "<NDArray 2x3x4 @cpu(0)>\n",
      "-----------------\n",
      "\n",
      "[[[1. 1.]\n",
      "  [1. 1.]]\n",
      "\n",
      " [[1. 1.]\n",
      "  [1. 1.]]]\n",
      "<NDArray 2x2x2 @cpu(0)>\n",
      "-----------------\n",
      "\n",
      "[[[0. 0. 0.]\n",
      "  [0. 0. 0.]\n",
      "  [0. 0. 0.]]\n",
      "\n",
      " [[0. 0. 0.]\n",
      "  [0. 0. 0.]\n",
      "  [0. 0. 0.]]]\n",
      "<NDArray 2x3x3 @cpu(0)>\n",
      "-----------------\n",
      "\n",
      "[[1. 1.]\n",
      " [0. 0.]]\n",
      "<NDArray 2x2 @cpu(0)>\n"
     ]
    }
   ],
   "source": [
    "x = nd.arange(24)\n",
    "a = x.reshape((2,3,4))\n",
    "b = nd.ones((2,2,2))\n",
    "c = nd.zeros((2,3,3))\n",
    "d = nd.array([[1,1],[0,0]])\n",
    "print(a,b,c,d, sep='\\n-----------------\\n')"
   ]
  },
  {
   "cell_type": "markdown",
   "metadata": {},
   "source": [
    "## NDArray的运算符"
   ]
  },
  {
   "cell_type": "markdown",
   "metadata": {},
   "source": [
    "### 加减乘除 （略）"
   ]
  },
  {
   "cell_type": "markdown",
   "metadata": {},
   "source": [
    "#### 广播机制"
   ]
  },
  {
   "cell_type": "code",
   "execution_count": 28,
   "metadata": {
    "collapsed": true
   },
   "outputs": [
    {
     "name": "stdout",
     "output_type": "stream",
     "text": [
      "\n",
      "[[0.]\n",
      " [1.]\n",
      " [2.]]\n",
      "<NDArray 3x1 @cpu(0)>\n",
      "-----------------\n",
      "\n",
      "[1. 2.]\n",
      "<NDArray 2 @cpu(0)>\n",
      "-----------------\n",
      "\n",
      "[[1. 2.]\n",
      " [2. 3.]\n",
      " [3. 4.]]\n",
      "<NDArray 3x2 @cpu(0)>\n",
      "-----------------\n",
      "\n",
      "[[-1. -2.]\n",
      " [ 0. -1.]\n",
      " [ 1.  0.]]\n",
      "<NDArray 3x2 @cpu(0)>\n",
      "-----------------\n",
      "\n",
      "[[0. 0.]\n",
      " [1. 2.]\n",
      " [2. 4.]]\n",
      "<NDArray 3x2 @cpu(0)>\n",
      "-----------------\n",
      "\n",
      "[[0.  0. ]\n",
      " [1.  0.5]\n",
      " [2.  1. ]]\n",
      "<NDArray 3x2 @cpu(0)>\n"
     ]
    }
   ],
   "source": [
    "a = nd.arange(3).reshape(3,1)\n",
    "b = nd.array([1,2])\n",
    "c = a + b\n",
    "d = a - b\n",
    "e = a * b\n",
    "f = a / b\n",
    "print(a,b,c,d,e,f, sep='\\n-----------------\\n')"
   ]
  },
  {
   "cell_type": "markdown",
   "metadata": {},
   "source": [
    "### 矩阵乘、转置"
   ]
  },
  {
   "cell_type": "code",
   "execution_count": 21,
   "metadata": {
    "collapsed": true
   },
   "outputs": [
    {
     "name": "stdout",
     "output_type": "stream",
     "text": [
      "\n",
      "[[ 0.  1.  2.  3.]\n",
      " [ 4.  5.  6.  7.]\n",
      " [ 8.  9. 10. 11.]]\n",
      "<NDArray 3x4 @cpu(0)>\n",
      "-----------------\n",
      "\n",
      "[[1. 1. 1. 1.]\n",
      " [1. 1. 1. 1.]\n",
      " [1. 1. 1. 1.]]\n",
      "<NDArray 3x4 @cpu(0)>\n",
      "-----------------\n",
      "\n",
      "[[ 6.  6.  6.]\n",
      " [22. 22. 22.]\n",
      " [38. 38. 38.]]\n",
      "<NDArray 3x3 @cpu(0)>\n"
     ]
    }
   ],
   "source": [
    "X = nd.arange(12).reshape(3,4)\n",
    "Y = nd.ones((3,4))\n",
    "Z = nd.dot(X, Y.T)\n",
    "print(X,Y,Z, sep='\\n-----------------\\n')"
   ]
  },
  {
   "cell_type": "markdown",
   "metadata": {},
   "source": [
    "### 连结（concatenate）"
   ]
  },
  {
   "cell_type": "code",
   "execution_count": 44,
   "metadata": {
    "collapsed": true
   },
   "outputs": [
    {
     "name": "stdout",
     "output_type": "stream",
     "text": [
      "\n",
      "[[ 0.  1.  2.  3.]\n",
      " [ 4.  5.  6.  7.]\n",
      " [ 8.  9. 10. 11.]]\n",
      "<NDArray 3x4 @cpu(0)>\n",
      "-----------------\n",
      "\n",
      "[[1. 1. 1. 1.]\n",
      " [1. 1. 1. 1.]\n",
      " [1. 1. 1. 1.]]\n",
      "<NDArray 3x4 @cpu(0)>\n",
      "-----------------\n",
      "\n",
      "[[ 0.  1.  2.  3.]\n",
      " [ 4.  5.  6.  7.]\n",
      " [ 8.  9. 10. 11.]\n",
      " [ 1.  1.  1.  1.]\n",
      " [ 1.  1.  1.  1.]\n",
      " [ 1.  1.  1.  1.]]\n",
      "<NDArray 6x4 @cpu(0)>\n",
      "-----------------\n",
      "\n",
      "[[ 0.  1.  2.  3.  1.  1.  1.  1.]\n",
      " [ 4.  5.  6.  7.  1.  1.  1.  1.]\n",
      " [ 8.  9. 10. 11.  1.  1.  1.  1.]]\n",
      "<NDArray 3x8 @cpu(0)>\n"
     ]
    }
   ],
   "source": [
    "X = nd.arange(12).reshape(3,4)\n",
    "Y = nd.ones((3,4))\n",
    "Z1 = nd.concat(X, Y, dim=0)\n",
    "Z2 = nd.concat(X, Y, dim=1)\n",
    "print(X,Y,Z1,Z2, sep='\\n-----------------\\n')"
   ]
  },
  {
   "cell_type": "markdown",
   "metadata": {},
   "source": [
    "### 条件判断 (== > <)"
   ]
  },
  {
   "cell_type": "code",
   "execution_count": 47,
   "metadata": {},
   "outputs": [
    {
     "name": "stdout",
     "output_type": "stream",
     "text": [
      "\n",
      "[[0. 1.]\n",
      " [2. 3.]]\n",
      "<NDArray 2x2 @cpu(0)> \n",
      "[[1. 1.]\n",
      " [1. 1.]]\n",
      "<NDArray 2x2 @cpu(0)>\n",
      "\n",
      "[[0. 1.]\n",
      " [0. 0.]]\n",
      "<NDArray 2x2 @cpu(0)>\n",
      "\n",
      "[[0. 0.]\n",
      " [1. 1.]]\n",
      "<NDArray 2x2 @cpu(0)>\n",
      "\n",
      "[[1. 0.]\n",
      " [0. 0.]]\n",
      "<NDArray 2x2 @cpu(0)>\n"
     ]
    }
   ],
   "source": [
    "X = nd.arange(4).reshape(2,2)\n",
    "Y = nd.ones((2,2))\n",
    "print(X,Y)\n",
    "print(X == Y)\n",
    "print(X > Y)\n",
    "print(X < Y)"
   ]
  },
  {
   "cell_type": "markdown",
   "metadata": {},
   "source": [
    "## NDArray 和 Numpy 的相互转换"
   ]
  },
  {
   "cell_type": "code",
   "execution_count": 43,
   "metadata": {},
   "outputs": [
    {
     "name": "stdout",
     "output_type": "stream",
     "text": [
      "[[1. 1.]\n",
      " [1. 1.]]\n",
      "-----------------\n",
      "\n",
      "[[1. 1.]\n",
      " [1. 1.]]\n",
      "<NDArray 2x2 @cpu(0)>\n",
      "-----------------\n",
      "[[1. 1.]\n",
      " [1. 1.]]\n",
      "\n",
      "-----------------\n",
      "\n",
      "<class 'numpy.ndarray'>\n",
      "<class 'mxnet.ndarray.ndarray.NDArray'>\n",
      "<class 'numpy.ndarray'>\n"
     ]
    }
   ],
   "source": [
    "X = np.ones((2,2))\n",
    "# Numpy 转为 NDArray\n",
    "Y = nd.array(X)\n",
    "# NDArray 转为 Numpy\n",
    "Z = Y.asnumpy()\n",
    "print(X,Y,Z, sep='\\n-----------------\\n')\n",
    "print('\\n-----------------\\n')\n",
    "print(type(X),type(Y),type(Z), sep='\\n')"
   ]
  }
 ],
 "metadata": {
  "kernelspec": {
   "display_name": "Python 3",
   "language": "python",
   "name": "python3"
  },
  "language_info": {
   "codemirror_mode": {
    "name": "ipython",
    "version": 3
   },
   "file_extension": ".py",
   "mimetype": "text/x-python",
   "name": "python",
   "nbconvert_exporter": "python",
   "pygments_lexer": "ipython3",
   "version": "3.8.3"
  },
  "toc": {
   "base_numbering": 1,
   "nav_menu": {},
   "number_sections": true,
   "sideBar": true,
   "skip_h1_title": false,
   "title_cell": "Table of Contents",
   "title_sidebar": "Contents",
   "toc_cell": false,
   "toc_position": {
    "height": "calc(100% - 180px)",
    "left": "10px",
    "top": "150px",
    "width": "295.685px"
   },
   "toc_section_display": true,
   "toc_window_display": true
  }
 },
 "nbformat": 4,
 "nbformat_minor": 4
}
