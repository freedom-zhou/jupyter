{
 "cells": [
  {
   "cell_type": "markdown",
   "metadata": {},
   "source": [
    "# os\n",
    "os模块负责程序与操作系统的交互，提供了访问操作系统底层的接口"
   ]
  },
  {
   "cell_type": "code",
   "execution_count": 1,
   "metadata": {},
   "outputs": [],
   "source": [
    "import os\n",
    "basepath = '/home/zrd/Desktop/Workspace/01_JupyterNotebook/02_Python库的使用练习'"
   ]
  },
  {
   "cell_type": "markdown",
   "metadata": {},
   "source": [
    "## os.path"
   ]
  },
  {
   "cell_type": "markdown",
   "metadata": {},
   "source": [
    "### 是否存在某文件或目录 os.path.exists(path) "
   ]
  },
  {
   "cell_type": "code",
   "execution_count": 2,
   "metadata": {},
   "outputs": [
    {
     "data": {
      "text/plain": [
       "True"
      ]
     },
     "execution_count": 2,
     "metadata": {},
     "output_type": "execute_result"
    }
   ],
   "source": [
    "os.path.exists(basepath)"
   ]
  },
  {
   "cell_type": "code",
   "execution_count": 3,
   "metadata": {},
   "outputs": [
    {
     "data": {
      "text/plain": [
       "True"
      ]
     },
     "execution_count": 3,
     "metadata": {},
     "output_type": "execute_result"
    }
   ],
   "source": [
    "os.path.exists(basepath+'/04 [re] 正则表达式.ipynb')"
   ]
  },
  {
   "cell_type": "markdown",
   "metadata": {},
   "source": [
    "### 是否为目录 os.path.isdir(path)"
   ]
  },
  {
   "cell_type": "code",
   "execution_count": 4,
   "metadata": {},
   "outputs": [
    {
     "data": {
      "text/plain": [
       "True"
      ]
     },
     "execution_count": 4,
     "metadata": {},
     "output_type": "execute_result"
    }
   ],
   "source": [
    "os.path.isdir(basepath)"
   ]
  },
  {
   "cell_type": "markdown",
   "metadata": {},
   "source": [
    "### 是否为文件 os.path.isfile(path)"
   ]
  },
  {
   "cell_type": "code",
   "execution_count": 5,
   "metadata": {},
   "outputs": [
    {
     "data": {
      "text/plain": [
       "True"
      ]
     },
     "execution_count": 5,
     "metadata": {},
     "output_type": "execute_result"
    }
   ],
   "source": [
    "os.path.isfile(basepath+'/04 [re] 正则表达式.ipynb')"
   ]
  },
  {
   "cell_type": "markdown",
   "metadata": {},
   "source": [
    "### 是否为绝对路径 os.path.isabs(path)"
   ]
  },
  {
   "cell_type": "code",
   "execution_count": 6,
   "metadata": {},
   "outputs": [
    {
     "data": {
      "text/plain": [
       "True"
      ]
     },
     "execution_count": 6,
     "metadata": {},
     "output_type": "execute_result"
    }
   ],
   "source": [
    "os.path.isabs(basepath)"
   ]
  },
  {
   "cell_type": "code",
   "execution_count": 7,
   "metadata": {},
   "outputs": [
    {
     "data": {
      "text/plain": [
       "False"
      ]
     },
     "execution_count": 7,
     "metadata": {},
     "output_type": "execute_result"
    }
   ],
   "source": [
    "os.path.isabs('./')"
   ]
  },
  {
   "cell_type": "markdown",
   "metadata": {},
   "source": [
    "### 获取指定文件的大小 os.path.getsize(path)\n",
    "参数传目录也不会报错，但得到的结果和预期不一致"
   ]
  },
  {
   "cell_type": "code",
   "execution_count": 8,
   "metadata": {},
   "outputs": [
    {
     "name": "stdout",
     "output_type": "stream",
     "text": [
      "9243\n"
     ]
    }
   ],
   "source": [
    "p = basepath+'/04 [re] 正则表达式.ipynb'\n",
    "if os.path.isfile(p):\n",
    "    print(os.path.getsize(p))"
   ]
  },
  {
   "cell_type": "markdown",
   "metadata": {},
   "source": [
    "### 返回绝对路径 os.path.abspath(path)"
   ]
  },
  {
   "cell_type": "code",
   "execution_count": 9,
   "metadata": {},
   "outputs": [
    {
     "data": {
      "text/plain": [
       "'/home/zrd/Desktop/Workspace/01_JupyterNotebook/02_Python库的使用练习'"
      ]
     },
     "execution_count": 9,
     "metadata": {},
     "output_type": "execute_result"
    }
   ],
   "source": [
    "os.path.abspath('./')"
   ]
  },
  {
   "cell_type": "markdown",
   "metadata": {},
   "source": [
    "### 返回目录路径，去掉文件名 os.path.dirname(path)"
   ]
  },
  {
   "cell_type": "code",
   "execution_count": 10,
   "metadata": {},
   "outputs": [
    {
     "data": {
      "text/plain": [
       "'/home/zrd/Desktop/Workspace/01_JupyterNotebook/02_Python库的使用练习/test'"
      ]
     },
     "execution_count": 10,
     "metadata": {},
     "output_type": "execute_result"
    }
   ],
   "source": [
    "os.path.dirname(basepath+'/test/file1')"
   ]
  },
  {
   "cell_type": "markdown",
   "metadata": {},
   "source": [
    "### 返回文件名，去掉目录路径 os.path.basename(path)"
   ]
  },
  {
   "cell_type": "code",
   "execution_count": 11,
   "metadata": {},
   "outputs": [
    {
     "data": {
      "text/plain": [
       "'file1'"
      ]
     },
     "execution_count": 11,
     "metadata": {},
     "output_type": "execute_result"
    }
   ],
   "source": [
    "os.path.basename(basepath+'/test/file1')"
   ]
  },
  {
   "cell_type": "markdown",
   "metadata": {},
   "source": [
    "### 返回(dirname, basename)元组 os.path.split(path)"
   ]
  },
  {
   "cell_type": "code",
   "execution_count": 12,
   "metadata": {},
   "outputs": [
    {
     "data": {
      "text/plain": [
       "('/home/zrd/Desktop/Workspace/01_JupyterNotebook/02_Python库的使用练习/test',\n",
       " 'test.txt')"
      ]
     },
     "execution_count": 12,
     "metadata": {},
     "output_type": "execute_result"
    }
   ],
   "source": [
    "os.path.split(basepath+'/test/test.txt')"
   ]
  },
  {
   "cell_type": "markdown",
   "metadata": {},
   "source": [
    "### 返回(filename, extension)元组 os.path.splitext(path)"
   ]
  },
  {
   "cell_type": "code",
   "execution_count": 13,
   "metadata": {},
   "outputs": [
    {
     "data": {
      "text/plain": [
       "('/home/zrd/Desktop/Workspace/01_JupyterNotebook/02_Python库的使用练习/test/test',\n",
       " '.txt')"
      ]
     },
     "execution_count": 13,
     "metadata": {},
     "output_type": "execute_result"
    }
   ],
   "source": [
    "os.path.splitext(basepath+'/test/test.txt')"
   ]
  },
  {
   "cell_type": "markdown",
   "metadata": {},
   "source": [
    "### 获取指定文件的访问/创建/修改时间 (返回时间戳 float型)"
   ]
  },
  {
   "cell_type": "code",
   "execution_count": 14,
   "metadata": {},
   "outputs": [
    {
     "name": "stdout",
     "output_type": "stream",
     "text": [
      "2020/10/23 22:15:59\n",
      "2020/10/23 22:15:58\n",
      "2020/10/23 22:15:58\n"
     ]
    }
   ],
   "source": [
    "import time\n",
    "filepath = basepath+'/test/test1.txt'\n",
    "\n",
    "atime = os.path.getatime(filepath)\n",
    "ctime = os.path.getctime(filepath)\n",
    "mtime = os.path.getmtime(filepath)\n",
    "\n",
    "fmt = \"%Y/%m/%d %H:%M:%S\"\n",
    "print(time.strftime(fmt, time.localtime(atime)))\n",
    "print(time.strftime(fmt, time.localtime(ctime)))\n",
    "print(time.strftime(fmt, time.localtime(mtime)))"
   ]
  },
  {
   "cell_type": "markdown",
   "metadata": {},
   "source": [
    "### 将各个部分合成为一个路径 os.path.join(path1[, path2[, ...]]) "
   ]
  },
  {
   "cell_type": "code",
   "execution_count": 15,
   "metadata": {},
   "outputs": [
    {
     "data": {
      "text/plain": [
       "'/home/zrd/Desktop/Workspace/01_JupyterNotebook/02_Python库的使用练习/test/test.txt'"
      ]
     },
     "execution_count": 15,
     "metadata": {},
     "output_type": "execute_result"
    }
   ],
   "source": [
    "os.path.join(basepath,'test','test.txt')"
   ]
  },
  {
   "cell_type": "markdown",
   "metadata": {},
   "source": [
    "## 执行系统命令 os.system(cmd) \n",
    "每一条system函数执行时，会创建一个子进程在系统上执行命令行，子进程的执行结果无法影响主进程；"
   ]
  },
  {
   "cell_type": "code",
   "execution_count": 16,
   "metadata": {},
   "outputs": [
    {
     "data": {
      "text/plain": [
       "0"
      ]
     },
     "execution_count": 16,
     "metadata": {},
     "output_type": "execute_result"
    }
   ],
   "source": [
    "import os\n",
    "\n",
    "# 一次执行一条命令\n",
    "os.system('dir')\n",
    "\n",
    "# 同时执行多条命令\n"
   ]
  },
  {
   "cell_type": "markdown",
   "metadata": {},
   "source": [
    "## 获取当前工作目录 os.getcwd()"
   ]
  },
  {
   "cell_type": "code",
   "execution_count": 17,
   "metadata": {},
   "outputs": [
    {
     "data": {
      "text/plain": [
       "'/home/zrd/Desktop/Workspace/01_JupyterNotebook/02_Python库的使用练习'"
      ]
     },
     "execution_count": 17,
     "metadata": {},
     "output_type": "execute_result"
    }
   ],
   "source": [
    "os.getcwd()"
   ]
  },
  {
   "cell_type": "markdown",
   "metadata": {},
   "source": [
    "## 列出指定目录的内容os.listdir(path) "
   ]
  },
  {
   "cell_type": "code",
   "execution_count": 18,
   "metadata": {},
   "outputs": [
    {
     "data": {
      "text/plain": [
       "['10 [Seaborn] 数据可视化.ipynb',\n",
       " '04 [re] 正则表达式.ipynb',\n",
       " '14 [xlwt & xlrd & xlsxwriter & xlwings] Excel读写库.ipynb',\n",
       " '05 [multiprocessing] 多进程、多线程.ipynb',\n",
       " '15 [sqlite3] 操作sqlite数据库.ipynb',\n",
       " 'test',\n",
       " '09 [matplotlib] 数据可视化_绘图库.ipynb',\n",
       " '16 [socket] 网络编程.ipynb',\n",
       " '17 [mxnet] 深度学习库.ipynb',\n",
       " '.ipynb_checkpoints',\n",
       " '11 [PIL] 图像处理库.ipynb',\n",
       " '02 [datetime & time & calendar] 日期、时间与日历.ipynb',\n",
       " 'data',\n",
       " '03 [os & sys] 与操作系统或python解释器交互.ipynb',\n",
       " '07 [Scipy] 基于Numpy的科学计算库.ipynb',\n",
       " '06 [numpy] 线性代数_矩阵运算.ipynb',\n",
       " '13 [BeautifulSoup4] 将html、xml等文档转化成可操作的树形结构.ipynb',\n",
       " '01 [math & random] 数学运算 随机数.ipynb',\n",
       " '08 [pandas] 数据处理_“瑞士军刀”.ipynb',\n",
       " '12 [urllib & requests] 爬虫.ipynb',\n",
       " 'img']"
      ]
     },
     "execution_count": 18,
     "metadata": {},
     "output_type": "execute_result"
    }
   ],
   "source": [
    "os.listdir('.')"
   ]
  },
  {
   "cell_type": "markdown",
   "metadata": {},
   "source": [
    "## 改变(当前工作)目录 os.chdir(path)"
   ]
  },
  {
   "cell_type": "code",
   "execution_count": 19,
   "metadata": {},
   "outputs": [
    {
     "name": "stdout",
     "output_type": "stream",
     "text": [
      "/home/zrd/Desktop/Workspace/01_JupyterNotebook/02_Python库的使用练习\n",
      "/home/zrd/Desktop/Workspace/01_JupyterNotebook/02_Python库的使用练习/test\n"
     ]
    }
   ],
   "source": [
    "print(os.getcwd())\n",
    "os.chdir(basepath+'/test')\n",
    "print(os.getcwd())"
   ]
  },
  {
   "cell_type": "markdown",
   "metadata": {},
   "source": [
    "## 创建目录/多层目录 os.mkdir(path)"
   ]
  },
  {
   "cell_type": "code",
   "execution_count": 20,
   "metadata": {},
   "outputs": [
    {
     "name": "stdout",
     "output_type": "stream",
     "text": [
      "['dir1', 'test1.txt', 'file1', 'dir2']\n"
     ]
    },
    {
     "ename": "FileNotFoundError",
     "evalue": "[Errno 2] No such file or directory: './xxx/a/c/d'",
     "output_type": "error",
     "traceback": [
      "\u001b[0;31m---------------------------------------------------------------------------\u001b[0m",
      "\u001b[0;31mFileNotFoundError\u001b[0m                         Traceback (most recent call last)",
      "\u001b[0;32m<ipython-input-20-743ef331fa36>\u001b[0m in \u001b[0;36m<module>\u001b[0;34m\u001b[0m\n\u001b[1;32m      1\u001b[0m \u001b[0mprint\u001b[0m\u001b[0;34m(\u001b[0m\u001b[0mos\u001b[0m\u001b[0;34m.\u001b[0m\u001b[0mlistdir\u001b[0m\u001b[0;34m(\u001b[0m\u001b[0;34m)\u001b[0m\u001b[0;34m)\u001b[0m\u001b[0;34m\u001b[0m\u001b[0;34m\u001b[0m\u001b[0m\n\u001b[0;32m----> 2\u001b[0;31m \u001b[0mos\u001b[0m\u001b[0;34m.\u001b[0m\u001b[0mmkdir\u001b[0m\u001b[0;34m(\u001b[0m\u001b[0;34m'./xxx/a/c/d'\u001b[0m\u001b[0;34m)\u001b[0m\u001b[0;34m\u001b[0m\u001b[0;34m\u001b[0m\u001b[0m\n\u001b[0m\u001b[1;32m      3\u001b[0m \u001b[0mprint\u001b[0m\u001b[0;34m(\u001b[0m\u001b[0mos\u001b[0m\u001b[0;34m.\u001b[0m\u001b[0mlistdir\u001b[0m\u001b[0;34m(\u001b[0m\u001b[0;34m)\u001b[0m\u001b[0;34m)\u001b[0m\u001b[0;34m\u001b[0m\u001b[0;34m\u001b[0m\u001b[0m\n",
      "\u001b[0;31mFileNotFoundError\u001b[0m: [Errno 2] No such file or directory: './xxx/a/c/d'"
     ]
    }
   ],
   "source": [
    "print(os.listdir())\n",
    "os.mkdir('./xxx/a/c/d')\n",
    "print(os.listdir())"
   ]
  },
  {
   "cell_type": "markdown",
   "metadata": {},
   "source": [
    "## 改变目录权限 os.chmod(path, flag)\n",
    "\n",
    "* path -- 文件名路径或目录路径。 \n",
    "\n",
    "* flags -- 可用以下选项按位或操作生成， 目录的读权限表示可以获取目录里文件名列表， ，执行权限表示可以把工作目录切换到此目录 ，删除添加目录里的文件必须同时有写和执行权限 ，文件权限以用户id->组id->其它顺序检验,最先匹配的允许或禁止权限被应用。 \n",
    "    * stat.S_IXOTH: 其他用户有执行权0o001\n",
    "    * stat.S_IWOTH: 其他用户有写权限0o002\n",
    "    * stat.S_IROTH: 其他用户有读权限0o004\n",
    "    * stat.S_IRWXO: 其他用户有全部权限(权限掩码)0o007\n",
    "    * stat.S_IXGRP: 组用户有执行权限0o010\n",
    "    * stat.S_IWGRP: 组用户有写权限0o020\n",
    "    * stat.S_IRGRP: 组用户有读权限0o040\n",
    "    * stat.S_IRWXG: 组用户有全部权限(权限掩码)0o070\n",
    "    * stat.S_IXUSR: 拥有者具有执行权限0o100\n",
    "    * stat.S_IWUSR: 拥有者具有写权限0o200\n",
    "    * stat.S_IRUSR: 拥有者具有读权限0o400\n",
    "    * stat.S_IRWXU: 拥有者有全部权限(权限掩码)0o700\n",
    "    * stat.S_ISVTX: 目录里文件目录只有拥有者才可删除更改0o1000\n",
    "    * stat.S_ISGID: 执行此文件其进程有效组为文件所在组0o2000\n",
    "    * stat.S_ISUID: 执行此文件其进程有效用户为文件所有者0o4000\n",
    "    * stat.S_IREAD: windows下设为只读\n",
    "    * stat.S_IWRITE: windows下取消只读\n",
    "\n"
   ]
  },
  {
   "cell_type": "code",
   "execution_count": null,
   "metadata": {},
   "outputs": [],
   "source": [
    "import stat\n",
    "os.chmod(basepath+'/test/file1', stat.S_IREAD)"
   ]
  },
  {
   "cell_type": "markdown",
   "metadata": {},
   "source": [
    "## 删除空目录 os.rmdir(path)\n",
    "若path指定的目录非空则抛出异常"
   ]
  },
  {
   "cell_type": "code",
   "execution_count": null,
   "metadata": {},
   "outputs": [],
   "source": [
    "print(os.listdir())\n",
    "os.rmdir('./xxx')\n",
    "print(os.listdir())"
   ]
  },
  {
   "cell_type": "markdown",
   "metadata": {},
   "source": [
    "## 删除文件 os.remove(path)"
   ]
  },
  {
   "cell_type": "code",
   "execution_count": null,
   "metadata": {},
   "outputs": [],
   "source": [
    "print(os.listdir())\n",
    "os.remove('./file2')\n",
    "print(os.listdir())"
   ]
  },
  {
   "cell_type": "markdown",
   "metadata": {},
   "source": [
    "## 重命名文件 os.rename(old, new)"
   ]
  },
  {
   "cell_type": "code",
   "execution_count": null,
   "metadata": {},
   "outputs": [],
   "source": [
    "print(os.listdir())\n",
    "os.rename('test.txt', 'test1.txt')\n",
    "print(os.listdir())"
   ]
  },
  {
   "cell_type": "markdown",
   "metadata": {},
   "source": [
    "## 遍历文件夹 os.walk(top[, topdown=True[, onerror=None[, followlinks=False]]])\n",
    "os.walk()可以得到一个三元tupple(dirpath, dirnames, filenames)，\n",
    "\n",
    "1. 第一个为起始路径，\n",
    "\n",
    "2. 第二个为起始路径下的文件夹，\n",
    "\n",
    "3. 第三个是起始路径下的文件。\n",
    "\n",
    "其中,  \n",
    "dirpath是一个string，代表目录的路径  \n",
    "dirnames是一个list，包含了dirpath下所有子目录的名字  \n",
    "filenames是一个list，包含了非目录文件的名字。这些名字不包含路径信息，如果需要得到全路径，需要使用os.path.join(dirpath, filename)"
   ]
  },
  {
   "cell_type": "code",
   "execution_count": null,
   "metadata": {},
   "outputs": [],
   "source": [
    "for i in os.walk(basepath+'/test'):\n",
    "    print(i)"
   ]
  },
  {
   "cell_type": "markdown",
   "metadata": {},
   "source": [
    "# sys\n",
    "sys模块负责程序与python解释器的交互，使用该模块可访问由解释器使用或维护的变量，使用与解释器进行交互的函数。"
   ]
  },
  {
   "cell_type": "markdown",
   "metadata": {},
   "source": [
    "## Python解释程序的版本值，16进制格式 sys.hexversion"
   ]
  },
  {
   "cell_type": "code",
   "execution_count": null,
   "metadata": {},
   "outputs": [],
   "source": [
    "import sys\n",
    "sys.hexversion"
   ]
  },
  {
   "cell_type": "markdown",
   "metadata": {},
   "source": [
    "## Python解释程序的版本信息 sys.version"
   ]
  },
  {
   "cell_type": "code",
   "execution_count": null,
   "metadata": {},
   "outputs": [],
   "source": [
    "sys.version"
   ]
  },
  {
   "cell_type": "markdown",
   "metadata": {},
   "source": [
    "## 命令行参数List sys.argv\n",
    "第一个元素是程序本身路径"
   ]
  },
  {
   "cell_type": "code",
   "execution_count": null,
   "metadata": {},
   "outputs": [],
   "source": [
    "sys.argv"
   ]
  },
  {
   "cell_type": "markdown",
   "metadata": {},
   "source": [
    "## 最大的Int值 sys.maxint"
   ]
  },
  {
   "cell_type": "code",
   "execution_count": null,
   "metadata": {},
   "outputs": [],
   "source": [
    "# sys.maxint"
   ]
  },
  {
   "cell_type": "markdown",
   "metadata": {},
   "source": [
    "## 系统导入的所有模块的字典 sys.modules\n",
    "key是模块名，value是模块"
   ]
  },
  {
   "cell_type": "code",
   "execution_count": null,
   "metadata": {},
   "outputs": [],
   "source": [
    "sys.modules"
   ]
  },
  {
   "cell_type": "code",
   "execution_count": null,
   "metadata": {},
   "outputs": [],
   "source": [
    "sys.modules.keys()"
   ]
  },
  {
   "cell_type": "markdown",
   "metadata": {},
   "source": [
    "## 操作系统平台名称 sys.platform"
   ]
  },
  {
   "cell_type": "code",
   "execution_count": null,
   "metadata": {},
   "outputs": [],
   "source": [
    "sys.platform"
   ]
  },
  {
   "cell_type": "markdown",
   "metadata": {},
   "source": [
    "## 模块搜索路径 sys.path"
   ]
  },
  {
   "cell_type": "code",
   "execution_count": null,
   "metadata": {},
   "outputs": [],
   "source": [
    "sys.path"
   ]
  }
 ],
 "metadata": {
  "kernelspec": {
   "display_name": "Python 3",
   "language": "python",
   "name": "python3"
  },
  "language_info": {
   "codemirror_mode": {
    "name": "ipython",
    "version": 3
   },
   "file_extension": ".py",
   "mimetype": "text/x-python",
   "name": "python",
   "nbconvert_exporter": "python",
   "pygments_lexer": "ipython3",
   "version": "3.8.3"
  },
  "toc": {
   "base_numbering": 1,
   "nav_menu": {},
   "number_sections": true,
   "sideBar": true,
   "skip_h1_title": false,
   "title_cell": "Table of Contents",
   "title_sidebar": "Contents",
   "toc_cell": false,
   "toc_position": {
    "height": "calc(100% - 180px)",
    "left": "10px",
    "top": "150px",
    "width": "283.35px"
   },
   "toc_section_display": true,
   "toc_window_display": true
  }
 },
 "nbformat": 4,
 "nbformat_minor": 4
}
