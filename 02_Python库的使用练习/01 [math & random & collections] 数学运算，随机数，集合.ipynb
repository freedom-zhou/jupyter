{
 "cells": [
  {
   "cell_type": "markdown",
   "metadata": {},
   "source": [
    "# math\n",
    "math 模块提供了许多对浮点数的数学运算函数"
   ]
  },
  {
   "cell_type": "markdown",
   "metadata": {},
   "source": [
    "## 数学常数"
   ]
  },
  {
   "cell_type": "code",
   "execution_count": 35,
   "metadata": {},
   "outputs": [
    {
     "name": "stdout",
     "output_type": "stream",
     "text": [
      "3.141592653589793\n",
      "2.718281828459045\n"
     ]
    }
   ],
   "source": [
    "import math\n",
    "\n",
    "'''数学常数'''\n",
    "\n",
    "# 圆周率 pi\n",
    "print(math.pi)\n",
    "\n",
    "# 自然常数 e\n",
    "print(math.e)"
   ]
  },
  {
   "cell_type": "markdown",
   "metadata": {},
   "source": [
    "## 取整、取绝对值、求平方根、幂运算"
   ]
  },
  {
   "cell_type": "code",
   "execution_count": 30,
   "metadata": {},
   "outputs": [
    {
     "name": "stdout",
     "output_type": "stream",
     "text": [
      "\n",
      "5\n",
      "4\n",
      "\n",
      "10\n",
      "10.1\n",
      "10.0\n",
      "10.1\n",
      "\n",
      "3.0\n",
      "\n",
      "8.0\n",
      "\n",
      "5\n",
      "6\n"
     ]
    }
   ],
   "source": [
    "'''取整'''\n",
    "print()\n",
    "\n",
    "# 向上取整 ceil\n",
    "print(math.ceil(4.1))\n",
    "\n",
    "# 向下取整 floor\n",
    "print(math.floor(4.9))\n",
    "\n",
    "'''取绝对值'''\n",
    "print()\n",
    "\n",
    "# 返回整数 abs （此函数python3开始作为内置函数，math中不再包含）\n",
    "# print(math.abs(-10))\n",
    "print(abs(-10))\n",
    "print(abs(-10.1))\n",
    "\n",
    "# 返回浮点数 fabs\n",
    "print(math.fabs(-10))\n",
    "print(math.fabs(-10.1))\n",
    "\n",
    "'''求平方根'''\n",
    "print()\n",
    "print(math.sqrt(9))\n",
    "\n",
    "'''幂运算'''\n",
    "print()\n",
    "print(math.pow(2,3))\n",
    "\n",
    "\n",
    "'''四舍五入'''\n",
    "print()\n",
    "\n",
    "# round （此函数python3开始作为内置函数，math中不再包含）\n",
    "# print(math.round(5.3))\n",
    "print(round(5.3))\n",
    "print(round(5.5))"
   ]
  },
  {
   "cell_type": "markdown",
   "metadata": {},
   "source": [
    "## 三角函数"
   ]
  },
  {
   "cell_type": "code",
   "execution_count": 33,
   "metadata": {},
   "outputs": [
    {
     "name": "stdout",
     "output_type": "stream",
     "text": [
      "1.0\n",
      "6.123233995736766e-17\n",
      "0.9999999999999999\n",
      "0.0\n",
      "90.0\n",
      "3.141592653589793\n",
      "5.0\n"
     ]
    }
   ],
   "source": [
    "'''三角函数'''\n",
    "\n",
    "# 正弦 sin\n",
    "print(math.sin(math.pi/2))\n",
    "\n",
    "# 余弦 cos\n",
    "print(math.cos(math.pi/2))\n",
    "\n",
    "# 正切 tan\n",
    "print(math.tan(math.pi/4))\n",
    "\n",
    "# 反正弦 asin\n",
    "print(math.asin(0))\n",
    "\n",
    "# 弧度 转 角度 degrees\n",
    "print(math.degrees(math.pi/2))\n",
    "\n",
    "# 角度 转 弧度 radians\n",
    "print(math.radians(180))\n",
    "\n",
    "# 欧几里得范数 hypot: sqrt(x*x + y*y), 可记为求直角三角形斜边\n",
    "print(math.hypot(3,4))\n"
   ]
  },
  {
   "cell_type": "markdown",
   "metadata": {},
   "source": [
    "## 对数"
   ]
  },
  {
   "cell_type": "code",
   "execution_count": 37,
   "metadata": {},
   "outputs": [
    {
     "name": "stdout",
     "output_type": "stream",
     "text": [
      "1.0\n",
      "2.0\n",
      "2.0\n"
     ]
    }
   ],
   "source": [
    "'''对数'''\n",
    "\n",
    "# ln e\n",
    "print(math.log(math.e))\n",
    "\n",
    "# lg 100\n",
    "print(math.log(100, 10))\n",
    "\n",
    "# lg 100\n",
    "print(math.log10(100))"
   ]
  },
  {
   "cell_type": "markdown",
   "metadata": {},
   "source": [
    "# cmath\n",
    "cmath 模块包含了一些用于复数运算的函数。"
   ]
  },
  {
   "cell_type": "code",
   "execution_count": 28,
   "metadata": {},
   "outputs": [
    {
     "name": "stdout",
     "output_type": "stream",
     "text": [
      "1j\n",
      "(2+0j)\n"
     ]
    }
   ],
   "source": [
    "import cmath\n",
    "\n",
    "'''求平方根'''\n",
    "# sqrt cmath.sqrt支持对复数求平方根\n",
    "print(cmath.sqrt(-1))\n",
    "\n",
    "'''对数'''\n",
    "print(cmath.log10(100))"
   ]
  },
  {
   "cell_type": "markdown",
   "metadata": {},
   "source": [
    "# random"
   ]
  },
  {
   "cell_type": "markdown",
   "metadata": {},
   "source": [
    "## 随机生成[0,1)范围内的实数 random()"
   ]
  },
  {
   "cell_type": "code",
   "execution_count": 50,
   "metadata": {},
   "outputs": [
    {
     "name": "stdout",
     "output_type": "stream",
     "text": [
      "0.19707746549034943\n"
     ]
    }
   ],
   "source": [
    "import random\n",
    "print(random.random())"
   ]
  },
  {
   "cell_type": "markdown",
   "metadata": {},
   "source": [
    "## 随机生成指定范围[x,y]内的实数 uniform(x, y)"
   ]
  },
  {
   "cell_type": "code",
   "execution_count": 105,
   "metadata": {},
   "outputs": [
    {
     "name": "stdout",
     "output_type": "stream",
     "text": [
      "1.9619333945629314\n"
     ]
    }
   ],
   "source": [
    "print(random.uniform(1,2))"
   ]
  },
  {
   "cell_type": "markdown",
   "metadata": {},
   "source": [
    "## 随机生成指定范围[x,y]内的整数 randint(x, y)"
   ]
  },
  {
   "cell_type": "code",
   "execution_count": 107,
   "metadata": {},
   "outputs": [
    {
     "name": "stdout",
     "output_type": "stream",
     "text": [
      "1\n"
     ]
    }
   ],
   "source": [
    "print(random.randint(1,2))"
   ]
  },
  {
   "cell_type": "markdown",
   "metadata": {},
   "source": [
    "## 从序列中随机挑选一个元素 choice(seq)"
   ]
  },
  {
   "cell_type": "code",
   "execution_count": 121,
   "metadata": {},
   "outputs": [
    {
     "name": "stdout",
     "output_type": "stream",
     "text": [
      "2\n"
     ]
    }
   ],
   "source": [
    "print(random.choice(range(5)))"
   ]
  },
  {
   "cell_type": "markdown",
   "metadata": {},
   "source": [
    "## 打乱序列 shuffle(lst)"
   ]
  },
  {
   "cell_type": "code",
   "execution_count": 127,
   "metadata": {},
   "outputs": [
    {
     "name": "stdout",
     "output_type": "stream",
     "text": [
      "[3, 1, 0, 2]\n"
     ]
    }
   ],
   "source": [
    "lst = [0,1,2,3]\n",
    "random.shuffle(lst)\n",
    "print(lst)"
   ]
  },
  {
   "cell_type": "markdown",
   "metadata": {},
   "source": [
    "## 改变随机数生成器的种子 seed([x])\n",
    "如果你不了解其原理，你不必特别去设定seed，Python会帮你选择seed"
   ]
  },
  {
   "cell_type": "markdown",
   "metadata": {},
   "source": [
    "# collections"
   ]
  },
  {
   "cell_type": "markdown",
   "metadata": {},
   "source": [
    "## 默认字典 defaultdict(default_factory)\n",
    "defaultdict和dict几乎一致，区别是defaultdict不会在索引一个不存在的Key时抛出KeyError。  \n",
    "因为defaultdict会为你参数中不存在的Key，初始化一个元素，该元素的数据类型是default_factory"
   ]
  },
  {
   "cell_type": "code",
   "execution_count": 10,
   "metadata": {},
   "outputs": [
    {
     "name": "stdout",
     "output_type": "stream",
     "text": [
      "0 0\n",
      " \n",
      "[] []\n",
      "defaultdict(<class 'int'>, {1: 0, 'x': 0})\n",
      "defaultdict(<class 'str'>, {1: '', 'x': ''})\n",
      "defaultdict(<class 'list'>, {1: [], 'x': []})\n"
     ]
    }
   ],
   "source": [
    "from collections import defaultdict\n",
    "d_int = defaultdict(int)\n",
    "d_str = defaultdict(str)\n",
    "d_list = defaultdict(list)\n",
    "\n",
    "print(d_int[1], d_int['x'])\n",
    "print(d_str[1], d_str['x'])\n",
    "print(d_list[1], d_list['x'])\n",
    "\n",
    "print(d_int, d_str, d_list, sep='\\n')"
   ]
  },
  {
   "cell_type": "markdown",
   "metadata": {},
   "source": [
    "## 计数器 Counter()\n",
    "统计元素出现的次数"
   ]
  },
  {
   "cell_type": "code",
   "execution_count": 1,
   "metadata": {},
   "outputs": [
    {
     "name": "stdout",
     "output_type": "stream",
     "text": [
      "<class 'collections.Counter'>\n",
      "Counter({2: 3, 1: 2, 3: 2})\n",
      "dict_keys([1, 2, 3])\n",
      "dict_values([2, 3, 2])\n"
     ]
    }
   ],
   "source": [
    "from collections import Counter\n",
    "\n",
    "li = [1,2,3,3,2,2,1]\n",
    "x = Counter(li)\n",
    "print(type(x))\n",
    "print(x)\n",
    "print(x.keys())\n",
    "print(x.values())"
   ]
  },
  {
   "cell_type": "markdown",
   "metadata": {},
   "source": [
    "## 双端队列 deque()\n",
    "\n",
    "### 双端队列(deque) vs 列表(list)\n",
    "双端队列(deque)的用法和列表(list)大致相同，不过多了从左边添加或删除元素的方法 xxxleft()  \n",
    "他们最明显的区别在于：当数据量大时（数据小时不明显），插入或删除元素在deque中效率更高，访问元素在list中效率更高\n",
    "\n",
    "优缺点：  \n",
    "双端队列(deque):\n",
    "* 优点：\n",
    "    1. 线程安全\n",
    "    2. 在任何一端执行添加和删除操作，它们的内存效率几乎相同（时间复杂度为O(1)）\n",
    "* 缺点：\n",
    "    1. 不支持切片\n",
    "    2. 访问中间元素时效率较低（时间复杂度为O(n)）\n",
    "    \n",
    "列表(list):  \n",
    "* 优点：\n",
    "    1. 支持切片\n",
    "    2. 访问元素效率高（时间复杂度为O(1)）\n",
    "* 缺点：\n",
    "    1. 线程不安全\n",
    "    2. 执行添加和删除操作效率较低，当遇到pop(0)和insert(0, v)这样既改变了列表的长度又改变其元素位置的操作时，其时间复杂度为O(n)\n",
    "    "
   ]
  },
  {
   "cell_type": "markdown",
   "metadata": {},
   "source": [
    " ### 拓展\n",
    " queue 模块其实也是用deque, 比如\n",
    "```\n",
    " from queue import Queue\n",
    " q = Queue()\n",
    " queue = q.queue \n",
    "```\n",
    "queue 就是 deque类型的对象"
   ]
  },
  {
   "cell_type": "code",
   "execution_count": 8,
   "metadata": {},
   "outputs": [
    {
     "name": "stdout",
     "output_type": "stream",
     "text": [
      "deque([])\n"
     ]
    }
   ],
   "source": [
    "from queue import Queue\n",
    "q = Queue()\n",
    "queue = q.queue \n",
    "print(queue)"
   ]
  },
  {
   "cell_type": "markdown",
   "metadata": {},
   "source": [
    "### 代码示例"
   ]
  },
  {
   "cell_type": "code",
   "execution_count": 5,
   "metadata": {},
   "outputs": [
    {
     "name": "stdout",
     "output_type": "stream",
     "text": [
      "deque([1, 2, 3])\n",
      "deque([0, 1, 2, 3, 4])\n",
      "deque([1, 2, 3])\n",
      "deque(['b', 'a', 1, 2, 3, 'c', 'd'])\n"
     ]
    }
   ],
   "source": [
    "from collections import deque\n",
    "\n",
    "# 创建双端队列\n",
    "queue = deque([1,2,3])\n",
    "print(queue)\n",
    "\n",
    "# 添加元素 append, appendleft\n",
    "queue.append(4)\n",
    "queue.appendleft(0)\n",
    "print(queue)\n",
    "\n",
    "# 删除元素 pop, popleft \n",
    "queue.pop()\n",
    "queue.popleft()\n",
    "print(queue)\n",
    "\n",
    "# 拓展元素 extend, extendleft\n",
    "queue.extend(['c','d'])\n",
    "queue.extendleft(['a','b'])\n",
    "print(queue)\n"
   ]
  }
 ],
 "metadata": {
  "kernelspec": {
   "display_name": "Python 3",
   "language": "python",
   "name": "python3"
  },
  "language_info": {
   "codemirror_mode": {
    "name": "ipython",
    "version": 3
   },
   "file_extension": ".py",
   "mimetype": "text/x-python",
   "name": "python",
   "nbconvert_exporter": "python",
   "pygments_lexer": "ipython3",
   "version": "3.7.9"
  },
  "toc": {
   "base_numbering": 1,
   "nav_menu": {},
   "number_sections": true,
   "sideBar": true,
   "skip_h1_title": false,
   "title_cell": "Table of Contents",
   "title_sidebar": "Contents",
   "toc_cell": false,
   "toc_position": {},
   "toc_section_display": true,
   "toc_window_display": true
  }
 },
 "nbformat": 4,
 "nbformat_minor": 4
}
