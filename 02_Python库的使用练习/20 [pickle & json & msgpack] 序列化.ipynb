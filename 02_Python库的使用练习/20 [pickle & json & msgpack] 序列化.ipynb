{
 "cells": [
  {
   "cell_type": "markdown",
   "metadata": {},
   "source": [
    "# pickle\n",
    "pickle模块是**python专用**的持久化模块，可以持久化包括自定义类在内的各种数据；\n",
    "\n",
    "**只能在python程序之间进行数据交换**"
   ]
  },
  {
   "cell_type": "markdown",
   "metadata": {},
   "source": [
    "## dump(obj, file)\n",
    "**原型**\n",
    "```python\n",
    "dump(obj, file, protocol=None, *, fix_imports=True)\n",
    "```\n",
    "**作用**  \n",
    "将对象序列化到文件对象，就是存入文件；\n",
    "\n",
    "\n",
    "## dumps(obj)\n",
    "**原型**\n",
    "```python\n",
    "dumps(obj, protocol=None, *, fix_imports=True)\n",
    "```\n",
    "**作用**  \n",
    "将对象序列化成bytes对象\n",
    "\n",
    "## load(file)\n",
    "**原型**\n",
    "```python\n",
    "load(file, *, fix_imports=True, encoding='ASCII', errors='strict')\n",
    "```\n",
    "**作用**  \n",
    "对象反序列化，从文件读取数据；\n",
    "\n",
    "## loads(data)\n",
    "**原型**\n",
    "```python\n",
    "loads(data, *, fix_imports=True, encoding='ASCII', errors='strict')\n",
    "```\n",
    "**作用**   \n",
    "将bytes对象反序列化为python对象；"
   ]
  },
  {
   "cell_type": "code",
   "execution_count": 15,
   "metadata": {},
   "outputs": [
    {
     "name": "stdout",
     "output_type": "stream",
     "text": [
      "[{'a': 1, 'b': 2, 'c': 3}, 'abc', 688, ('中文', 'english')]\n"
     ]
    }
   ],
   "source": [
    "import pickle\n",
    "import os\n",
    "\n",
    "base_dir = \"data\"\n",
    "\n",
    "d = dict(a=1,b=2,c=3)\n",
    "s = \"abc\"\n",
    "i = 688\n",
    "t = (\"中文\",\"english\")\n",
    "\n",
    "# 序列化\n",
    "obj = [d,s,i,t]\n",
    "with open(os.path.join(base_dir, \"test_pickle\"), \"wb\") as file:\n",
    "    pickle.dump(obj, file)\n",
    "\n",
    "# 反序列化\n",
    "with open(os.path.join(base_dir, \"test_pickle\"), \"rb\") as file:\n",
    "    o = pickle.load(file)\n",
    "print(o)"
   ]
  },
  {
   "cell_type": "markdown",
   "metadata": {},
   "source": [
    "# json\n",
    "* JSON：JavaScript Object Notation，JS对象标记，是一种轻量级的数据交换格式；\n",
    "* Json是跨平台语言，所以只能对python的基本数据类型进行操作，无法识别python的类；"
   ]
  },
  {
   "cell_type": "markdown",
   "metadata": {},
   "source": [
    "## dump(obj，fp)\n",
    "将 python数据类型转换并保存到json格式的文件内\n",
    "## dumps(obj)\n",
    "将 python数据类型转换为json字符串\n",
    "## load(fp)\n",
    "从json格式的文件中读取数据并转换为 python的数据类型\n",
    "## loads(s)\n",
    "将json格式的字符串转换为 python的类型"
   ]
  },
  {
   "cell_type": "code",
   "execution_count": 11,
   "metadata": {},
   "outputs": [
    {
     "name": "stdout",
     "output_type": "stream",
     "text": [
      "[{'a': 1, 'b': 2, 'c': 3}, 'abc', 688, ['中文', 'english']]\n"
     ]
    }
   ],
   "source": [
    "import json\n",
    "import os\n",
    "\n",
    "base_dir = \"data\"\n",
    "\n",
    "d = dict(a=1,b=2,c=3)\n",
    "s = \"abc\"\n",
    "i = 688\n",
    "t = (\"中文\",\"english\")\n",
    "\n",
    "# 序列化\n",
    "obj = [d,s,i,t]\n",
    "with open(os.path.join(base_dir, \"test.json\"), \"w\") as file:\n",
    "    json.dump(obj, file)\n",
    "\n",
    "# 反序列化\n",
    "with open(os.path.join(base_dir, \"test.json\"), \"r\") as file:\n",
    "    o = json.load(file)\n",
    "print(o)"
   ]
  },
  {
   "cell_type": "markdown",
   "metadata": {},
   "source": [
    "# msgpack\n",
    "* MessagePack是一个基于二进制高效的对象序列化类库，可以用于跨语言通讯；\n",
    "* 它可以像JSON一样，在多种语言之间交互结构对象；但是它比JSON更快也更轻巧；兼容json和pickle；"
   ]
  },
  {
   "cell_type": "markdown",
   "metadata": {},
   "source": [
    "## dump(obj, stream) -> pack\n",
    "**原型**\n",
    "```python\n",
    "pack(o, stream, **kwargs)\n",
    "```\n",
    "**作用**  \n",
    "将对象序列化到文件对象，就是存入文件；\n",
    "\n",
    "\n",
    "## dumps(obj) -> packb\n",
    "**原型**\n",
    "```python\n",
    "packb(o, **kwargs)\n",
    "```\n",
    "**作用**  \n",
    "将对象序列化成bytes对象\n",
    "\n",
    "## load(file) -> unpack\n",
    "**原型**\n",
    "```python\n",
    "unpack(stream, **kwargs)\n",
    "```\n",
    "**作用**  \n",
    "对象反序列化，从文件读取数据；\n",
    "\n",
    "## loads(data) -> unpackb\n",
    "**原型**\n",
    "```python\n",
    "unpackb(packed, *, object_hook=None, list_hook=None, bool use_list=True, bool raw=False, int timestamp=0, bool strict_map_key=True, unicode_errors=None, object_pairs_hook=None, ext_hook=ExtType, Py_ssize_t max_str_len=-1, Py_ssize_t max_bin_len=-1, Py_ssize_t max_array_len=-1, Py_ssize_t max_map_len=-1, Py_ssize_t max_ext_len=-1)\n",
    "```\n",
    "**作用**   \n",
    "将bytes对象反序列化为python对象；"
   ]
  }
 ],
 "metadata": {
  "kernelspec": {
   "display_name": "Python 3",
   "language": "python",
   "name": "python3"
  },
  "language_info": {
   "codemirror_mode": {
    "name": "ipython",
    "version": 3
   },
   "file_extension": ".py",
   "mimetype": "text/x-python",
   "name": "python",
   "nbconvert_exporter": "python",
   "pygments_lexer": "ipython3",
   "version": "3.7.9"
  },
  "toc": {
   "base_numbering": 1,
   "nav_menu": {},
   "number_sections": true,
   "sideBar": true,
   "skip_h1_title": false,
   "title_cell": "Table of Contents",
   "title_sidebar": "Contents",
   "toc_cell": false,
   "toc_position": {},
   "toc_section_display": true,
   "toc_window_display": true
  }
 },
 "nbformat": 4,
 "nbformat_minor": 4
}
