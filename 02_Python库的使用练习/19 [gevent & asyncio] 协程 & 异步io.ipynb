{
 "cells": [
  {
   "cell_type": "markdown",
   "metadata": {},
   "source": [
    "**jupyter中的事件循环EventLoop无法运行，所有调asyncio库的代码都无法运行  \n",
    "根据报错推测，原因可能是jupyter本身就运行在一个asyncio的事件循环Eventloop中，在事件循环中无法再开启新的循环**\n",
    "\n",
    "# 简介\n",
    "asyncio是python3.4版本开始引入的，用于实现异步IO的内置标准库\n",
    "\n",
    "python3.5开始，python增加了async/await关键字来替换原来定义协程的@asyncio.coroutine和yield from\n",
    "\n",
    "python3.7开始，新增了asyncio.run()方法简化了原来的三步： \n",
    "1. 创建Eventloop\n",
    "2. 往Eventloop中注册协程\n",
    "3. 关闭Eventloop  \n",
    "\n",
    "比如，原来的代码为：\n",
    "``` python\n",
    "loop = asyncio.get_event_loop()\n",
    "loop.run_until_complete(main())\n",
    "loop.close()\n",
    "```\n",
    "python3.7以后\n",
    "``` python\n",
    "asyncio.run(main())\n",
    "```\n",
    "\n",
    "由于不用创建Eventloop实例了，原本loop下的一些方法现在可以用asyncio调用  \n",
    "比如python3.6: ```loop.create_task ``` -> python3.7: ```asyncio.create_task ```\n",
    "\n",
    "\n",
    "## 异步IO\n",
    "就是发起一个IO操作（如：网络请求，文件读写等），这些操作一般是比较耗时的，不用等待它结束，可以继续做其他事情，结束时会发来通知。\n",
    "\n",
    "## 协程\n",
    "又称为微线程，在一个线程中执行，执行函数时可以随时中断，由程序（用户）自身控制，执行效率极高，与多线程比较，没有切换线程的开销和多线程锁机制。 \n",
    "\n",
    "## 协程与异步IO的关系\n",
    "协程是异步io的一种实现手段\n"
   ]
  },
  {
   "cell_type": "markdown",
   "metadata": {},
   "source": [
    "# gevent\n",
    "gevent是第三方库，通过greenlet实现协程"
   ]
  },
  {
   "cell_type": "code",
   "execution_count": 2,
   "metadata": {},
   "outputs": [
    {
     "name": "stdout",
     "output_type": "stream",
     "text": [
      "1\n",
      "2\n",
      "3\n",
      "4\n"
     ]
    },
    {
     "data": {
      "text/plain": [
       "[<Greenlet at 0x15fa676c9d8: _run>, <Greenlet at 0x15fa676cbf8: _run>]"
      ]
     },
     "execution_count": 2,
     "metadata": {},
     "output_type": "execute_result"
    }
   ],
   "source": [
    "import gevent\n",
    "\n",
    "def funcA(t):\n",
    "    print(1)\n",
    "    gevent.sleep(t)\n",
    "    print(3)\n",
    "\n",
    "def funcB(t):\n",
    "    print(2)\n",
    "    gevent.sleep(t)\n",
    "    print(4)\n",
    "    \n",
    "gevent.joinall([\n",
    "    gevent.spawn(funcA, 1),\n",
    "    gevent.spawn(funcB, 3)\n",
    "])"
   ]
  },
  {
   "cell_type": "markdown",
   "metadata": {},
   "source": [
    "# asyncio\n",
    "asyncio是Python 3.4版本引入的标准库，直接内置了对异步IO的支持"
   ]
  },
  {
   "cell_type": "markdown",
   "metadata": {},
   "source": [
    "## 基本概念\n",
    "### Eventloop\n",
    "Eventloop可以说是asyncio的核心，是中央总控。Eventloop实例提供了注册、取消和执行任务、回调等方法。\n",
    "\n",
    "把一些异步函数(Coroutine，Future 或 Task)注册到这个事件循环上，事件循环会循环执行这些函数(但同时只能执行一个)，当执行到某个函数时，如果它正在等待I/O返回，事件循环会暂停它的执行去执行其他的函数；当某个函数完成I/O后会恢复，下次循环到它的时候继续执行。因此，这些异步函数可以协同(Cooperative)运行：这就是事件循环的目标\n",
    "\n",
    "### Coroutine\n",
    "协程(Coroutine)本质上是一个函数，特点是在代码块中可以将执行权交给其他协程\n"
   ]
  },
  {
   "cell_type": "code",
   "execution_count": 8,
   "metadata": {
    "collapsed": true
   },
   "outputs": [
    {
     "ename": "RuntimeError",
     "evalue": "asyncio.run() cannot be called from a running event loop",
     "output_type": "error",
     "traceback": [
      "\u001b[0;31m---------------------------------------------------------------------------\u001b[0m",
      "\u001b[0;31mRuntimeError\u001b[0m                              Traceback (most recent call last)",
      "\u001b[0;32m<ipython-input-8-e393182a91bf>\u001b[0m in \u001b[0;36m<module>\u001b[0;34m\u001b[0m\n\u001b[1;32m     17\u001b[0m \u001b[0;34m\u001b[0m\u001b[0m\n\u001b[1;32m     18\u001b[0m \u001b[0;32mif\u001b[0m \u001b[0m__name__\u001b[0m \u001b[0;34m==\u001b[0m \u001b[0;34m'__main__'\u001b[0m\u001b[0;34m:\u001b[0m\u001b[0;34m\u001b[0m\u001b[0;34m\u001b[0m\u001b[0m\n\u001b[0;32m---> 19\u001b[0;31m     \u001b[0masyncio\u001b[0m\u001b[0;34m.\u001b[0m\u001b[0mrun\u001b[0m\u001b[0;34m(\u001b[0m\u001b[0mmain\u001b[0m\u001b[0;34m(\u001b[0m\u001b[0;34m)\u001b[0m\u001b[0;34m)\u001b[0m\u001b[0;34m\u001b[0m\u001b[0;34m\u001b[0m\u001b[0m\n\u001b[0m",
      "\u001b[0;32m~/anaconda3/lib/python3.8/asyncio/runners.py\u001b[0m in \u001b[0;36mrun\u001b[0;34m(main, debug)\u001b[0m\n\u001b[1;32m     31\u001b[0m     \"\"\"\n\u001b[1;32m     32\u001b[0m     \u001b[0;32mif\u001b[0m \u001b[0mevents\u001b[0m\u001b[0;34m.\u001b[0m\u001b[0m_get_running_loop\u001b[0m\u001b[0;34m(\u001b[0m\u001b[0;34m)\u001b[0m \u001b[0;32mis\u001b[0m \u001b[0;32mnot\u001b[0m \u001b[0;32mNone\u001b[0m\u001b[0;34m:\u001b[0m\u001b[0;34m\u001b[0m\u001b[0;34m\u001b[0m\u001b[0m\n\u001b[0;32m---> 33\u001b[0;31m         raise RuntimeError(\n\u001b[0m\u001b[1;32m     34\u001b[0m             \"asyncio.run() cannot be called from a running event loop\")\n\u001b[1;32m     35\u001b[0m \u001b[0;34m\u001b[0m\u001b[0m\n",
      "\u001b[0;31mRuntimeError\u001b[0m: asyncio.run() cannot be called from a running event loop"
     ]
    }
   ],
   "source": [
    "import asyncio\n",
    "\n",
    "\n",
    "async def a():\n",
    "    print('Suspending a')\n",
    "    await asyncio.sleep(0)\n",
    "    print('Resuming a')\n",
    "\n",
    "\n",
    "async def b():\n",
    "    print('In b')\n",
    "\n",
    "\n",
    "async def main():\n",
    "    await asyncio.gather(a(), b())\n",
    "\n",
    "\n",
    "if __name__ == '__main__':\n",
    "    asyncio.run(main())"
   ]
  },
  {
   "cell_type": "markdown",
   "metadata": {},
   "source": [
    "* asyncio.gather用来并发运行任务，在这里表示协同的执行a和b2个协程\n",
    "* 在协程a中，有一句await asyncio.sleep(0)，await表示调用协程，sleep 0并不会真的sleep（因为时间为0），但是却可以把控制权交出去了。"
   ]
  },
  {
   "cell_type": "markdown",
   "metadata": {},
   "source": [
    "### Future\n",
    "Future代表了一个「未来」对象，异步操作结束后会把最终结果设置到这个Future对象上。  \n",
    "Future是对协程的封装，不过日常开发基本不需要直接用这个底层Future类\n",
    "\n",
    "可以对Future实例添加完成后的回调(add_done_callback)、取消任务(cancel)、设置最终结果(set_result)、设置异常(如果有的话，set_exception)等\n"
   ]
  },
  {
   "cell_type": "code",
   "execution_count": 6,
   "metadata": {
    "collapsed": true
   },
   "outputs": [
    {
     "name": "stdout",
     "output_type": "stream",
     "text": [
      "<class '_asyncio.Future'>\n",
      "future.done(): False\n",
      "\n",
      ">> dir(future)\n",
      "add_done_callback\n",
      "cancel\n",
      "cancelled\n",
      "done\n",
      "exception\n",
      "get_loop\n",
      "remove_done_callback\n",
      "result\n",
      "set_exception\n",
      "set_result\n",
      "Inner C\n"
     ]
    }
   ],
   "source": [
    "import asyncio\n",
    "\n",
    "def c():\n",
    "    print('Inner C')\n",
    "    return 12\n",
    "\n",
    "loop = asyncio.get_event_loop()\n",
    "future = loop.run_in_executor(None, c) \n",
    "\n",
    "print(type(future))\n",
    "print(\"future.done():\", future.done())\n",
    "\n",
    "print(\"\\n>> dir(future)\")\n",
    "for a in dir(future):\n",
    "    if not a.startswith('_'):\n",
    "        print(a)"
   ]
  },
  {
   "cell_type": "markdown",
   "metadata": {},
   "source": [
    "### Task\n",
    "Eventloop除了支持注册协程Coroutine，还支持注册 Future 和 Task 2种类型的对象\n",
    "\n",
    "* Future是协程的封装，Future对象提供了很多任务方法(如完成后的**回调**、**取消**、**设置任务结果**等等)\n",
    "* Task是Future的子类，开发者并不需要直接操作Future这种底层对象，而是用Future的子类Task协同的调度协程以实现并发。"
   ]
  },
  {
   "cell_type": "markdown",
   "metadata": {},
   "source": [
    "## 常用方法"
   ]
  },
  {
   "cell_type": "markdown",
   "metadata": {},
   "source": [
    "### gather() vs wait()"
   ]
  },
  {
   "cell_type": "markdown",
   "metadata": {},
   "source": [
    "比较gather和wait方法\n",
    "\n",
    "```python\n",
    "import time\n",
    "import asyncio\n",
    "\n",
    "async def a():\n",
    "    print('Suspending a')\n",
    "    await asyncio.sleep(3)\n",
    "    print('Resuming a')\n",
    "\n",
    "\n",
    "async def b():\n",
    "    print('Suspending b')\n",
    "    await asyncio.sleep(1)\n",
    "    print('Resuming b')\n",
    "\n",
    "\n",
    "async def f1():\n",
    "    await a()\n",
    "    await b()\n",
    "    \n",
    "async def f2():\n",
    "    await asyncio.gather(a(), b())\n",
    "\n",
    "s1 = f1()\n",
    "s2 = f2()\n",
    "s3 = asyncio.wait([a(), b()])\n",
    "\n",
    "def main(s):\n",
    "    st = time.time()\n",
    "    asyncio.run(s)\n",
    "    print(f'{s} Cost: {time.time() - st}\\n')\n",
    "\n",
    "for s in (s1,s2,s3):\n",
    "    main(s)\n",
    "```\n",
    "执行结果\n",
    "```\n",
    "Suspending a\n",
    "Resuming a\n",
    "Suspending b\n",
    "Resuming b\n",
    "<coroutine object f1 at 0x7f4e724a5140> Cost: 4.0057666301727295\n",
    "\n",
    "Suspending a\n",
    "Suspending b\n",
    "Resuming b\n",
    "Resuming a\n",
    "<coroutine object f2 at 0x7f4e71e10c40> Cost: 3.003472089767456\n",
    "\n",
    "Suspending b\n",
    "Suspending a\n",
    "Resuming b\n",
    "Resuming a\n",
    "<coroutine object wait at 0x7f4e71db5740> Cost: 3.004014253616333\n",
    "```"
   ]
  },
  {
   "cell_type": "code",
   "execution_count": 3,
   "metadata": {
    "collapsed": true
   },
   "outputs": [
    {
     "name": "stdout",
     "output_type": "stream",
     "text": [
      "Help on function gather in module asyncio.tasks:\n",
      "\n",
      "gather(*coros_or_futures, loop=None, return_exceptions=False)\n",
      "    Return a future aggregating results from the given coroutines/futures.\n",
      "    \n",
      "    Coroutines will be wrapped in a future and scheduled in the event\n",
      "    loop. They will not necessarily be scheduled in the same order as\n",
      "    passed in.\n",
      "    \n",
      "    All futures must share the same event loop.  If all the tasks are\n",
      "    done successfully, the returned future's result is the list of\n",
      "    results (in the order of the original sequence, not necessarily\n",
      "    the order of results arrival).  If *return_exceptions* is True,\n",
      "    exceptions in the tasks are treated the same as successful\n",
      "    results, and gathered in the result list; otherwise, the first\n",
      "    raised exception will be immediately propagated to the returned\n",
      "    future.\n",
      "    \n",
      "    Cancellation: if the outer Future is cancelled, all children (that\n",
      "    have not completed yet) are also cancelled.  If any child is\n",
      "    cancelled, this is treated as if it raised CancelledError --\n",
      "    the outer Future is *not* cancelled in this case.  (This is to\n",
      "    prevent the cancellation of one child to cause other children to\n",
      "    be cancelled.)\n",
      "\n"
     ]
    }
   ],
   "source": [
    "help(asyncio.gather)"
   ]
  },
  {
   "cell_type": "code",
   "execution_count": 8,
   "metadata": {
    "collapsed": true
   },
   "outputs": [
    {
     "name": "stdout",
     "output_type": "stream",
     "text": [
      "Help on function wait in module asyncio.tasks:\n",
      "\n",
      "wait(fs, *, loop=None, timeout=None, return_when='ALL_COMPLETED')\n",
      "    Wait for the Futures and coroutines given by fs to complete.\n",
      "    \n",
      "    The sequence futures must not be empty.\n",
      "    \n",
      "    Coroutines will be wrapped in Tasks.\n",
      "    \n",
      "    Returns two sets of Future: (done, pending).\n",
      "    \n",
      "    Usage:\n",
      "    \n",
      "        done, pending = await asyncio.wait(fs)\n",
      "    \n",
      "    Note: This does not raise TimeoutError! Futures that aren't done\n",
      "    when the timeout occurs are returned in the second set.\n",
      "\n"
     ]
    }
   ],
   "source": [
    "help(asyncio.wait)"
   ]
  }
 ],
 "metadata": {
  "kernelspec": {
   "display_name": "Python 3",
   "language": "python",
   "name": "python3"
  },
  "language_info": {
   "codemirror_mode": {
    "name": "ipython",
    "version": 3
   },
   "file_extension": ".py",
   "mimetype": "text/x-python",
   "name": "python",
   "nbconvert_exporter": "python",
   "pygments_lexer": "ipython3",
   "version": "3.7.9"
  },
  "toc": {
   "base_numbering": 1,
   "nav_menu": {},
   "number_sections": true,
   "sideBar": true,
   "skip_h1_title": false,
   "title_cell": "Table of Contents",
   "title_sidebar": "Contents",
   "toc_cell": false,
   "toc_position": {
    "height": "calc(100% - 180px)",
    "left": "10px",
    "top": "150px",
    "width": "294.399px"
   },
   "toc_section_display": true,
   "toc_window_display": true
  }
 },
 "nbformat": 4,
 "nbformat_minor": 4
}
